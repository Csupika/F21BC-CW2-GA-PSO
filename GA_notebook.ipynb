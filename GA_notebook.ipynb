{
 "cells": [
  {
   "cell_type": "code",
   "execution_count": 1,
   "metadata": {
    "collapsed": true,
    "pycharm": {
     "name": "#%%\n"
    }
   },
   "outputs": [],
   "source": [
    "import pandas\n",
    "import pandas as pd\n",
    "\n",
    "from GA import GA\n",
    "import optproblems.cec2005 as optproblems"
   ]
  },
  {
   "cell_type": "markdown",
   "source": [],
   "metadata": {
    "collapsed": false,
    "pycharm": {
     "name": "#%% md\n"
    }
   }
  },
  {
   "cell_type": "markdown",
   "source": [
    "# Test Functions\n",
    "- F2: Shifted Schwefel’s Problem 1.2\n",
    "    - Uni-modal without noise\n",
    "- F4: Shifted Schwefel’s Problem 1.2 with Noise in Fitness\n",
    "    - Uni-modal with noise\n",
    "- F8: Shifted Rotated Ackley’s Function with Global Optimum on Bounds\n",
    "    - Single function\n",
    "    - Global optimum on bounds\n",
    "    - Multi-modal\n",
    "- F13: Shifted Expanded Griewank’s plus Rosenbrock’s Function (F8F2)\n",
    "    - Expanded Function\n",
    "    - Multi-modal\n",
    "- F17: Rotated Version of Hybrid Composition Function with Noise in Fitness\n",
    "    - Gaussian noise in fitness\n",
    "    - Multi-modal\n",
    "    - Huge number of local optima\n",
    "    - In-deterministic\n",
    "- F24: Rotated Hybrid Composition Function\n",
    "    - Composite function\n",
    "    - Huge number of local optima\n",
    "    - Multi-modal"
   ],
   "metadata": {
    "collapsed": false,
    "pycharm": {
     "name": "#%% md\n"
    }
   }
  },
  {
   "cell_type": "markdown",
   "source": [
    "# 1st Iteration of Configurations - Experiment with GA with Different Hyper Parameters\n",
    "First we explore how GA evaluates with a set of configurations using only lower numbers of generations"
   ],
   "metadata": {
    "collapsed": false,
    "pycharm": {
     "name": "#%% md\n"
    }
   }
  },
  {
   "cell_type": "markdown",
   "source": [
    "Hyper parameters"
   ],
   "metadata": {
    "collapsed": false,
    "pycharm": {
     "name": "#%% md\n"
    }
   }
  },
  {
   "cell_type": "code",
   "execution_count": 2,
   "outputs": [],
   "source": [
    "# F2 :   Unimodal without noise\n",
    "# F4 :   Unimodal with noise\n",
    "# F8 :   Single Function, Global Optimum on Bounds, Multi-modal\n",
    "# F13:   Expanded Function, Multi-modal\n",
    "# F17:   Gaussian noise in Fitness, Multi-modal, Huge number of local optima, indeterministic\n",
    "# F24:   Composite Function, Huge number of local optima, Multi-modal\n",
    "\n",
    "benchmarks_and_bounds = [optproblems.F2, [-100,100], \"F2\", optproblems.F4, [-100,100], \"F4\", optproblems.F8, [-32,32], \"F8\", optproblems.F13, [-3,1], \"F13\", optproblems.F17, [-5,5], \"F17\", optproblems.F24, [-5,5], \"F24\"]\n",
    "no_dimensions = [10, 30, 50]\n",
    "pop_sizes = [5, 10, 15]\n",
    "num_generations = [50, 150]\n",
    "tournament_t = [2, 4]\n",
    "crossover_percentage = [0.5, 0.95, 1]\n",
    "mutation_rates = [0.2, 0.8, 1]\n",
    "decreasing_mutation_rate = [True, False]\n",
    "elites = [0, 1]\n",
    "\n",
    "average_over_range = 5"
   ],
   "metadata": {
    "collapsed": false,
    "pycharm": {
     "name": "#%%\n"
    }
   }
  },
  {
   "cell_type": "markdown",
   "source": [
    "Run configuration suite over each configuration combination."
   ],
   "metadata": {
    "collapsed": false,
    "pycharm": {
     "name": "#%% md\n"
    }
   }
  },
  {
   "cell_type": "code",
   "execution_count": 3,
   "outputs": [],
   "source": [
    "run_configuration_suite = False\n",
    "if run_configuration_suite:\n",
    "\n",
    "    list_for_df = []\n",
    "    for i in range(0, len(benchmarks_and_bounds), 3):\n",
    "        number_of_functions = (len(benchmarks_and_bounds)/3)\n",
    "        print(f\"Progress: {i/3} / {number_of_functions}\")\n",
    "        bound = benchmarks_and_bounds[i+1]\n",
    "        benchmark_name = benchmarks_and_bounds[i+2]\n",
    "        for no_dimension in no_dimensions:\n",
    "            print(f\"\\tDimension: {no_dimension}\")\n",
    "            benchmark = benchmarks_and_bounds[i](no_dimension)\n",
    "            optimal_solution = benchmark.get_optimal_solutions()\n",
    "            benchmark.evaluate(optimal_solution[0])\n",
    "            optimal_minimum = optimal_solution[0].objective_values\n",
    "            for pop_size in pop_sizes:\n",
    "                print(f\"\\t\\tPopulation: {pop_size}\")\n",
    "                for t in tournament_t:\n",
    "                    for crossover in crossover_percentage:\n",
    "                        for mutation in mutation_rates:\n",
    "                            for dmr in decreasing_mutation_rate:\n",
    "                                for elite in elites:\n",
    "                                    for generations in num_generations:\n",
    "                                        average_fitness = 0\n",
    "                                        average_difference_from_optimal = 0\n",
    "\n",
    "                                        best_fitness = 0\n",
    "                                        best_time = 0\n",
    "                                        best_difference_from_optimal = 0\n",
    "\n",
    "                                        for j in range(average_over_range):\n",
    "                                            algorithm = GA(benchmark, no_dimension, bound, pop_size, num_generations=generations, t=t, crossover_percentage=crossover, mutation_rate=mutation, decreasing_mutation_rate=dmr, elite=elite)\n",
    "                                            result, time = algorithm.run()\n",
    "                                            fitness = result.fitness\n",
    "                                            diff_from_optimal = fitness - optimal_minimum\n",
    "\n",
    "                                            average_fitness += 1/average_over_range * fitness\n",
    "                                            average_difference_from_optimal += 1/average_over_range * diff_from_optimal\n",
    "\n",
    "                                            if j == 0:\n",
    "                                                best_fitness = fitness\n",
    "                                                best_difference_from_optimal = diff_from_optimal\n",
    "                                                best_time = time\n",
    "                                                continue\n",
    "\n",
    "                                            if fitness < best_fitness:\n",
    "                                                best_fitness = fitness\n",
    "\n",
    "                                            if diff_from_optimal < best_difference_from_optimal:\n",
    "                                                best_difference_from_optimal = diff_from_optimal\n",
    "\n",
    "                                            if time < best_time:\n",
    "                                                best_time = time\n",
    "\n",
    "                                        result_and_configuration = [benchmark_name, optimal_minimum, best_fitness, best_difference_from_optimal, average_fitness, average_difference_from_optimal, best_time, generations, no_dimension, pop_size, t, crossover, mutation, dmr, elite, bound, average_over_range]\n",
    "                                        list_for_df.append(result_and_configuration)\n",
    "\n",
    "    labels = [\"TestFunction\", \"OptimalMinimum\", \"BestFitness\", \"BestDiffFromOpt\", \"AverageFitness\", \"AverageDiffFromOpt\", \"TimePerRun\", \"Generations\", \"NoDimension\", \"PopSize\", \"TForTournament\", \"CrossoverPerc\", \"MutationRate\", \"DecreasingMutationRate\", \"Elite\", \"Bounds\", \"AverageOverRange\"]\n",
    "    df = pandas.DataFrame(data=list_for_df, columns=labels)\n",
    "    df.to_pickle(\"GA_df.pkl\")\n",
    "else:\n",
    "    df = pd.read_pickle(\"GA_df.pkl\")"
   ],
   "metadata": {
    "collapsed": false,
    "pycharm": {
     "name": "#%%\n"
    }
   }
  },
  {
   "cell_type": "markdown",
   "source": [
    "## Results of the 1st Iteration"
   ],
   "metadata": {
    "collapsed": false,
    "pycharm": {
     "name": "#%% md\n"
    }
   }
  },
  {
   "cell_type": "markdown",
   "source": [
    "# F2:\n",
    "\n",
    "- Best Diff: 312.11 -> 150 Generation / 10 Dimension / 15 Pop Size / 2 T / 100% CR / 20% MR / DMR True / 1 Elite\n",
    "    -  Error: 312.11 / 450 -> 69.36%\n",
    "- Avr. Diff: 913.20 -> 150 Generation / 10 Dimension / 15 Pop Size / 4 T / 95%  CR / 20% MR / DMR True / 1 Elite\n",
    "    - Error: 913.20 / 450 -> 202.93%"
   ],
   "metadata": {
    "collapsed": false,
    "pycharm": {
     "name": "#%% md\n"
    }
   }
  },
  {
   "cell_type": "code",
   "execution_count": 4,
   "outputs": [
    {
     "data": {
      "text/plain": "    TestFunction  OptimalMinimum  BestFitness  BestDiffFromOpt  \\\n339           F2          -450.0   -137.88671        312.11329   \n\n     AverageFitness  AverageDiffFromOpt  TimePerRun  Generations  NoDimension  \\\n339     1386.667757         1836.667757     0.07543          150           10   \n\n     PopSize  TForTournament  CrossoverPerc  MutationRate  \\\n339       15               2            1.0           0.2   \n\n     DecreasingMutationRate  Elite       Bounds  AverageOverRange  \n339                    True      1  [-100, 100]                 5  ",
      "text/html": "<div>\n<style scoped>\n    .dataframe tbody tr th:only-of-type {\n        vertical-align: middle;\n    }\n\n    .dataframe tbody tr th {\n        vertical-align: top;\n    }\n\n    .dataframe thead th {\n        text-align: right;\n    }\n</style>\n<table border=\"1\" class=\"dataframe\">\n  <thead>\n    <tr style=\"text-align: right;\">\n      <th></th>\n      <th>TestFunction</th>\n      <th>OptimalMinimum</th>\n      <th>BestFitness</th>\n      <th>BestDiffFromOpt</th>\n      <th>AverageFitness</th>\n      <th>AverageDiffFromOpt</th>\n      <th>TimePerRun</th>\n      <th>Generations</th>\n      <th>NoDimension</th>\n      <th>PopSize</th>\n      <th>TForTournament</th>\n      <th>CrossoverPerc</th>\n      <th>MutationRate</th>\n      <th>DecreasingMutationRate</th>\n      <th>Elite</th>\n      <th>Bounds</th>\n      <th>AverageOverRange</th>\n    </tr>\n  </thead>\n  <tbody>\n    <tr>\n      <th>339</th>\n      <td>F2</td>\n      <td>-450.0</td>\n      <td>-137.88671</td>\n      <td>312.11329</td>\n      <td>1386.667757</td>\n      <td>1836.667757</td>\n      <td>0.07543</td>\n      <td>150</td>\n      <td>10</td>\n      <td>15</td>\n      <td>2</td>\n      <td>1.0</td>\n      <td>0.2</td>\n      <td>True</td>\n      <td>1</td>\n      <td>[-100, 100]</td>\n      <td>5</td>\n    </tr>\n  </tbody>\n</table>\n</div>"
     },
     "execution_count": 4,
     "metadata": {},
     "output_type": "execute_result"
    }
   ],
   "source": [
    "# Best Fitness\n",
    "df_F2_1st = df.query(\"TestFunction == 'F2'\")\n",
    "df_F2_1st[df_F2_1st.BestDiffFromOpt == df_F2_1st.BestDiffFromOpt.min()]"
   ],
   "metadata": {
    "collapsed": false,
    "pycharm": {
     "name": "#%%\n"
    }
   }
  },
  {
   "cell_type": "code",
   "execution_count": 5,
   "outputs": [
    {
     "data": {
      "text/plain": "    TestFunction  OptimalMinimum  BestFitness  BestDiffFromOpt  \\\n387           F2          -450.0   136.349155       586.349155   \n\n     AverageFitness  AverageDiffFromOpt  TimePerRun  Generations  NoDimension  \\\n387      463.202679          913.202679     0.07794          150           10   \n\n     PopSize  TForTournament  CrossoverPerc  MutationRate  \\\n387       15               4           0.95           0.2   \n\n     DecreasingMutationRate  Elite       Bounds  AverageOverRange  \n387                    True      1  [-100, 100]                 5  ",
      "text/html": "<div>\n<style scoped>\n    .dataframe tbody tr th:only-of-type {\n        vertical-align: middle;\n    }\n\n    .dataframe tbody tr th {\n        vertical-align: top;\n    }\n\n    .dataframe thead th {\n        text-align: right;\n    }\n</style>\n<table border=\"1\" class=\"dataframe\">\n  <thead>\n    <tr style=\"text-align: right;\">\n      <th></th>\n      <th>TestFunction</th>\n      <th>OptimalMinimum</th>\n      <th>BestFitness</th>\n      <th>BestDiffFromOpt</th>\n      <th>AverageFitness</th>\n      <th>AverageDiffFromOpt</th>\n      <th>TimePerRun</th>\n      <th>Generations</th>\n      <th>NoDimension</th>\n      <th>PopSize</th>\n      <th>TForTournament</th>\n      <th>CrossoverPerc</th>\n      <th>MutationRate</th>\n      <th>DecreasingMutationRate</th>\n      <th>Elite</th>\n      <th>Bounds</th>\n      <th>AverageOverRange</th>\n    </tr>\n  </thead>\n  <tbody>\n    <tr>\n      <th>387</th>\n      <td>F2</td>\n      <td>-450.0</td>\n      <td>136.349155</td>\n      <td>586.349155</td>\n      <td>463.202679</td>\n      <td>913.202679</td>\n      <td>0.07794</td>\n      <td>150</td>\n      <td>10</td>\n      <td>15</td>\n      <td>4</td>\n      <td>0.95</td>\n      <td>0.2</td>\n      <td>True</td>\n      <td>1</td>\n      <td>[-100, 100]</td>\n      <td>5</td>\n    </tr>\n  </tbody>\n</table>\n</div>"
     },
     "execution_count": 5,
     "metadata": {},
     "output_type": "execute_result"
    }
   ],
   "source": [
    "# Best Average Fitness\n",
    "df_F2_1st[df_F2_1st.AverageDiffFromOpt == df_F2_1st.AverageDiffFromOpt.min()]"
   ],
   "metadata": {
    "collapsed": false,
    "pycharm": {
     "name": "#%%\n"
    }
   }
  },
  {
   "cell_type": "code",
   "execution_count": 6,
   "outputs": [
    {
     "data": {
      "text/plain": "     TestFunction  OptimalMinimum    BestFitness  BestDiffFromOpt  \\\n0              F2          -450.0   17690.525955     18140.525955   \n1              F2          -450.0   14235.020676     14685.020676   \n2              F2          -450.0    6013.072511      6463.072511   \n3              F2          -450.0    1868.742268      2318.742268   \n4              F2          -450.0   21611.965380     22061.965380   \n...           ...             ...            ...              ...   \n1291           F2          -450.0  112341.304928    112791.304928   \n1292           F2          -450.0  590805.599163    591255.599163   \n1293           F2          -450.0  575018.988130    575468.988130   \n1294           F2          -450.0  232243.327721    232693.327721   \n1295           F2          -450.0  260139.410316    260589.410316   \n\n      AverageFitness  AverageDiffFromOpt  TimePerRun  Generations  \\\n0       3.213329e+04        3.258329e+04    0.011128           50   \n1       2.238459e+04        2.283459e+04    0.027806          150   \n2       1.487255e+04        1.532255e+04    0.010348           50   \n3       5.054819e+03        5.504819e+03    0.031108          150   \n4       5.134586e+04        5.179586e+04    0.009959           50   \n...              ...                 ...         ...          ...   \n1291    1.461942e+05        1.466442e+05    0.321514          150   \n1292    9.641332e+05        9.645832e+05    0.171331           50   \n1293    1.290336e+06        1.290786e+06    0.513789          150   \n1294    3.293918e+05        3.298418e+05    0.154155           50   \n1295    2.829519e+05        2.834019e+05    0.470305          150   \n\n      NoDimension  PopSize  TForTournament  CrossoverPerc  MutationRate  \\\n0              10        5               2            0.5           0.2   \n1              10        5               2            0.5           0.2   \n2              10        5               2            0.5           0.2   \n3              10        5               2            0.5           0.2   \n4              10        5               2            0.5           0.2   \n...           ...      ...             ...            ...           ...   \n1291           50       15               4            1.0           1.0   \n1292           50       15               4            1.0           1.0   \n1293           50       15               4            1.0           1.0   \n1294           50       15               4            1.0           1.0   \n1295           50       15               4            1.0           1.0   \n\n      DecreasingMutationRate  Elite       Bounds  AverageOverRange  \n0                       True      0  [-100, 100]                 5  \n1                       True      0  [-100, 100]                 5  \n2                       True      1  [-100, 100]                 5  \n3                       True      1  [-100, 100]                 5  \n4                      False      0  [-100, 100]                 5  \n...                      ...    ...          ...               ...  \n1291                    True      1  [-100, 100]                 5  \n1292                   False      0  [-100, 100]                 5  \n1293                   False      0  [-100, 100]                 5  \n1294                   False      1  [-100, 100]                 5  \n1295                   False      1  [-100, 100]                 5  \n\n[1296 rows x 17 columns]",
      "text/html": "<div>\n<style scoped>\n    .dataframe tbody tr th:only-of-type {\n        vertical-align: middle;\n    }\n\n    .dataframe tbody tr th {\n        vertical-align: top;\n    }\n\n    .dataframe thead th {\n        text-align: right;\n    }\n</style>\n<table border=\"1\" class=\"dataframe\">\n  <thead>\n    <tr style=\"text-align: right;\">\n      <th></th>\n      <th>TestFunction</th>\n      <th>OptimalMinimum</th>\n      <th>BestFitness</th>\n      <th>BestDiffFromOpt</th>\n      <th>AverageFitness</th>\n      <th>AverageDiffFromOpt</th>\n      <th>TimePerRun</th>\n      <th>Generations</th>\n      <th>NoDimension</th>\n      <th>PopSize</th>\n      <th>TForTournament</th>\n      <th>CrossoverPerc</th>\n      <th>MutationRate</th>\n      <th>DecreasingMutationRate</th>\n      <th>Elite</th>\n      <th>Bounds</th>\n      <th>AverageOverRange</th>\n    </tr>\n  </thead>\n  <tbody>\n    <tr>\n      <th>0</th>\n      <td>F2</td>\n      <td>-450.0</td>\n      <td>17690.525955</td>\n      <td>18140.525955</td>\n      <td>3.213329e+04</td>\n      <td>3.258329e+04</td>\n      <td>0.011128</td>\n      <td>50</td>\n      <td>10</td>\n      <td>5</td>\n      <td>2</td>\n      <td>0.5</td>\n      <td>0.2</td>\n      <td>True</td>\n      <td>0</td>\n      <td>[-100, 100]</td>\n      <td>5</td>\n    </tr>\n    <tr>\n      <th>1</th>\n      <td>F2</td>\n      <td>-450.0</td>\n      <td>14235.020676</td>\n      <td>14685.020676</td>\n      <td>2.238459e+04</td>\n      <td>2.283459e+04</td>\n      <td>0.027806</td>\n      <td>150</td>\n      <td>10</td>\n      <td>5</td>\n      <td>2</td>\n      <td>0.5</td>\n      <td>0.2</td>\n      <td>True</td>\n      <td>0</td>\n      <td>[-100, 100]</td>\n      <td>5</td>\n    </tr>\n    <tr>\n      <th>2</th>\n      <td>F2</td>\n      <td>-450.0</td>\n      <td>6013.072511</td>\n      <td>6463.072511</td>\n      <td>1.487255e+04</td>\n      <td>1.532255e+04</td>\n      <td>0.010348</td>\n      <td>50</td>\n      <td>10</td>\n      <td>5</td>\n      <td>2</td>\n      <td>0.5</td>\n      <td>0.2</td>\n      <td>True</td>\n      <td>1</td>\n      <td>[-100, 100]</td>\n      <td>5</td>\n    </tr>\n    <tr>\n      <th>3</th>\n      <td>F2</td>\n      <td>-450.0</td>\n      <td>1868.742268</td>\n      <td>2318.742268</td>\n      <td>5.054819e+03</td>\n      <td>5.504819e+03</td>\n      <td>0.031108</td>\n      <td>150</td>\n      <td>10</td>\n      <td>5</td>\n      <td>2</td>\n      <td>0.5</td>\n      <td>0.2</td>\n      <td>True</td>\n      <td>1</td>\n      <td>[-100, 100]</td>\n      <td>5</td>\n    </tr>\n    <tr>\n      <th>4</th>\n      <td>F2</td>\n      <td>-450.0</td>\n      <td>21611.965380</td>\n      <td>22061.965380</td>\n      <td>5.134586e+04</td>\n      <td>5.179586e+04</td>\n      <td>0.009959</td>\n      <td>50</td>\n      <td>10</td>\n      <td>5</td>\n      <td>2</td>\n      <td>0.5</td>\n      <td>0.2</td>\n      <td>False</td>\n      <td>0</td>\n      <td>[-100, 100]</td>\n      <td>5</td>\n    </tr>\n    <tr>\n      <th>...</th>\n      <td>...</td>\n      <td>...</td>\n      <td>...</td>\n      <td>...</td>\n      <td>...</td>\n      <td>...</td>\n      <td>...</td>\n      <td>...</td>\n      <td>...</td>\n      <td>...</td>\n      <td>...</td>\n      <td>...</td>\n      <td>...</td>\n      <td>...</td>\n      <td>...</td>\n      <td>...</td>\n      <td>...</td>\n    </tr>\n    <tr>\n      <th>1291</th>\n      <td>F2</td>\n      <td>-450.0</td>\n      <td>112341.304928</td>\n      <td>112791.304928</td>\n      <td>1.461942e+05</td>\n      <td>1.466442e+05</td>\n      <td>0.321514</td>\n      <td>150</td>\n      <td>50</td>\n      <td>15</td>\n      <td>4</td>\n      <td>1.0</td>\n      <td>1.0</td>\n      <td>True</td>\n      <td>1</td>\n      <td>[-100, 100]</td>\n      <td>5</td>\n    </tr>\n    <tr>\n      <th>1292</th>\n      <td>F2</td>\n      <td>-450.0</td>\n      <td>590805.599163</td>\n      <td>591255.599163</td>\n      <td>9.641332e+05</td>\n      <td>9.645832e+05</td>\n      <td>0.171331</td>\n      <td>50</td>\n      <td>50</td>\n      <td>15</td>\n      <td>4</td>\n      <td>1.0</td>\n      <td>1.0</td>\n      <td>False</td>\n      <td>0</td>\n      <td>[-100, 100]</td>\n      <td>5</td>\n    </tr>\n    <tr>\n      <th>1293</th>\n      <td>F2</td>\n      <td>-450.0</td>\n      <td>575018.988130</td>\n      <td>575468.988130</td>\n      <td>1.290336e+06</td>\n      <td>1.290786e+06</td>\n      <td>0.513789</td>\n      <td>150</td>\n      <td>50</td>\n      <td>15</td>\n      <td>4</td>\n      <td>1.0</td>\n      <td>1.0</td>\n      <td>False</td>\n      <td>0</td>\n      <td>[-100, 100]</td>\n      <td>5</td>\n    </tr>\n    <tr>\n      <th>1294</th>\n      <td>F2</td>\n      <td>-450.0</td>\n      <td>232243.327721</td>\n      <td>232693.327721</td>\n      <td>3.293918e+05</td>\n      <td>3.298418e+05</td>\n      <td>0.154155</td>\n      <td>50</td>\n      <td>50</td>\n      <td>15</td>\n      <td>4</td>\n      <td>1.0</td>\n      <td>1.0</td>\n      <td>False</td>\n      <td>1</td>\n      <td>[-100, 100]</td>\n      <td>5</td>\n    </tr>\n    <tr>\n      <th>1295</th>\n      <td>F2</td>\n      <td>-450.0</td>\n      <td>260139.410316</td>\n      <td>260589.410316</td>\n      <td>2.829519e+05</td>\n      <td>2.834019e+05</td>\n      <td>0.470305</td>\n      <td>150</td>\n      <td>50</td>\n      <td>15</td>\n      <td>4</td>\n      <td>1.0</td>\n      <td>1.0</td>\n      <td>False</td>\n      <td>1</td>\n      <td>[-100, 100]</td>\n      <td>5</td>\n    </tr>\n  </tbody>\n</table>\n<p>1296 rows × 17 columns</p>\n</div>"
     },
     "execution_count": 6,
     "metadata": {},
     "output_type": "execute_result"
    }
   ],
   "source": [
    "df_F2_1st"
   ],
   "metadata": {
    "collapsed": false,
    "pycharm": {
     "name": "#%%\n"
    }
   }
  },
  {
   "cell_type": "markdown",
   "source": [
    "# F4\n",
    "- Best Diff: 459.44 -> 150 Generation / 10 Dimension / 15 Pop Size / 4 T / 95% CR / 20% MR / DMR False / 1 Elite\n",
    "    - Error: 459.44 / 450 ->  102.09%\n",
    "- Avr. Diff: 1841.4 -> 150 Generation / 10 Dimension / 15 Pop Size / 2 T / 95%  CR / 20% MR / DMR True / 1 Elite\n",
    "    - Error: 1841.4 / 450 ->  409.2%"
   ],
   "metadata": {
    "collapsed": false,
    "pycharm": {
     "name": "#%% md\n"
    }
   }
  },
  {
   "cell_type": "code",
   "execution_count": 7,
   "outputs": [
    {
     "data": {
      "text/plain": "     TestFunction  OptimalMinimum  BestFitness  BestDiffFromOpt  \\\n1687           F4          -450.0     9.440808       459.440808   \n\n      AverageFitness  AverageDiffFromOpt  TimePerRun  Generations  \\\n1687     2122.914216         2572.914216    0.089259          150   \n\n      NoDimension  PopSize  TForTournament  CrossoverPerc  MutationRate  \\\n1687           10       15               4           0.95           0.2   \n\n      DecreasingMutationRate  Elite       Bounds  AverageOverRange  \n1687                   False      1  [-100, 100]                 5  ",
      "text/html": "<div>\n<style scoped>\n    .dataframe tbody tr th:only-of-type {\n        vertical-align: middle;\n    }\n\n    .dataframe tbody tr th {\n        vertical-align: top;\n    }\n\n    .dataframe thead th {\n        text-align: right;\n    }\n</style>\n<table border=\"1\" class=\"dataframe\">\n  <thead>\n    <tr style=\"text-align: right;\">\n      <th></th>\n      <th>TestFunction</th>\n      <th>OptimalMinimum</th>\n      <th>BestFitness</th>\n      <th>BestDiffFromOpt</th>\n      <th>AverageFitness</th>\n      <th>AverageDiffFromOpt</th>\n      <th>TimePerRun</th>\n      <th>Generations</th>\n      <th>NoDimension</th>\n      <th>PopSize</th>\n      <th>TForTournament</th>\n      <th>CrossoverPerc</th>\n      <th>MutationRate</th>\n      <th>DecreasingMutationRate</th>\n      <th>Elite</th>\n      <th>Bounds</th>\n      <th>AverageOverRange</th>\n    </tr>\n  </thead>\n  <tbody>\n    <tr>\n      <th>1687</th>\n      <td>F4</td>\n      <td>-450.0</td>\n      <td>9.440808</td>\n      <td>459.440808</td>\n      <td>2122.914216</td>\n      <td>2572.914216</td>\n      <td>0.089259</td>\n      <td>150</td>\n      <td>10</td>\n      <td>15</td>\n      <td>4</td>\n      <td>0.95</td>\n      <td>0.2</td>\n      <td>False</td>\n      <td>1</td>\n      <td>[-100, 100]</td>\n      <td>5</td>\n    </tr>\n  </tbody>\n</table>\n</div>"
     },
     "execution_count": 7,
     "metadata": {},
     "output_type": "execute_result"
    }
   ],
   "source": [
    "# Best Fitness\n",
    "df_F4_1st = df.query(\"TestFunction == 'F4'\")\n",
    "df_F4_1st[df_F4_1st.BestDiffFromOpt == df_F4_1st.BestDiffFromOpt.min()]"
   ],
   "metadata": {
    "collapsed": false,
    "pycharm": {
     "name": "#%%\n"
    }
   }
  },
  {
   "cell_type": "code",
   "execution_count": 8,
   "outputs": [
    {
     "data": {
      "text/plain": "     TestFunction  OptimalMinimum  BestFitness  BestDiffFromOpt  \\\n1611           F4          -450.0   553.466922      1003.466922   \n\n      AverageFitness  AverageDiffFromOpt  TimePerRun  Generations  \\\n1611     1391.481705         1841.481705    0.079499          150   \n\n      NoDimension  PopSize  TForTournament  CrossoverPerc  MutationRate  \\\n1611           10       15               2           0.95           0.2   \n\n      DecreasingMutationRate  Elite       Bounds  AverageOverRange  \n1611                    True      1  [-100, 100]                 5  ",
      "text/html": "<div>\n<style scoped>\n    .dataframe tbody tr th:only-of-type {\n        vertical-align: middle;\n    }\n\n    .dataframe tbody tr th {\n        vertical-align: top;\n    }\n\n    .dataframe thead th {\n        text-align: right;\n    }\n</style>\n<table border=\"1\" class=\"dataframe\">\n  <thead>\n    <tr style=\"text-align: right;\">\n      <th></th>\n      <th>TestFunction</th>\n      <th>OptimalMinimum</th>\n      <th>BestFitness</th>\n      <th>BestDiffFromOpt</th>\n      <th>AverageFitness</th>\n      <th>AverageDiffFromOpt</th>\n      <th>TimePerRun</th>\n      <th>Generations</th>\n      <th>NoDimension</th>\n      <th>PopSize</th>\n      <th>TForTournament</th>\n      <th>CrossoverPerc</th>\n      <th>MutationRate</th>\n      <th>DecreasingMutationRate</th>\n      <th>Elite</th>\n      <th>Bounds</th>\n      <th>AverageOverRange</th>\n    </tr>\n  </thead>\n  <tbody>\n    <tr>\n      <th>1611</th>\n      <td>F4</td>\n      <td>-450.0</td>\n      <td>553.466922</td>\n      <td>1003.466922</td>\n      <td>1391.481705</td>\n      <td>1841.481705</td>\n      <td>0.079499</td>\n      <td>150</td>\n      <td>10</td>\n      <td>15</td>\n      <td>2</td>\n      <td>0.95</td>\n      <td>0.2</td>\n      <td>True</td>\n      <td>1</td>\n      <td>[-100, 100]</td>\n      <td>5</td>\n    </tr>\n  </tbody>\n</table>\n</div>"
     },
     "execution_count": 8,
     "metadata": {},
     "output_type": "execute_result"
    }
   ],
   "source": [
    "# Best Average Fitness\n",
    "df_F4_1st[df_F4_1st.AverageDiffFromOpt == df_F4_1st.AverageDiffFromOpt.min()]"
   ],
   "metadata": {
    "collapsed": false,
    "pycharm": {
     "name": "#%%\n"
    }
   }
  },
  {
   "cell_type": "code",
   "execution_count": 9,
   "outputs": [
    {
     "data": {
      "text/plain": "     TestFunction  OptimalMinimum    BestFitness  BestDiffFromOpt  \\\n1296           F4          -450.0   19648.328195     20098.328195   \n1297           F4          -450.0   43889.355029     44339.355029   \n1298           F4          -450.0    3226.647401      3676.647401   \n1299           F4          -450.0    1952.865879      2402.865879   \n1300           F4          -450.0   53798.825239     54248.825239   \n...           ...             ...            ...              ...   \n2587           F4          -450.0  161980.060540    162430.060540   \n2588           F4          -450.0  404325.050245    404775.050245   \n2589           F4          -450.0  474857.028769    475307.028769   \n2590           F4          -450.0  367568.143286    368018.143286   \n2591           F4          -450.0  318431.871318    318881.871318   \n\n      AverageFitness  AverageDiffFromOpt  TimePerRun  Generations  \\\n1296    4.668801e+04        4.713801e+04    0.009338           50   \n1297    5.329062e+04        5.374062e+04    0.028457          150   \n1298    1.438899e+04        1.483899e+04    0.009620           50   \n1299    6.795449e+03        7.245449e+03    0.032871          150   \n1300    1.240192e+05        1.244692e+05    0.011265           50   \n...              ...                 ...         ...          ...   \n2587    2.346768e+05        2.351268e+05    0.328651          150   \n2588    1.207540e+06        1.207990e+06    0.172086           50   \n2589    1.385936e+06        1.386386e+06    0.524369          150   \n2590    5.447924e+05        5.452424e+05    0.155512           50   \n2591    4.299755e+05        4.304255e+05    0.470834          150   \n\n      NoDimension  PopSize  TForTournament  CrossoverPerc  MutationRate  \\\n1296           10        5               2            0.5           0.2   \n1297           10        5               2            0.5           0.2   \n1298           10        5               2            0.5           0.2   \n1299           10        5               2            0.5           0.2   \n1300           10        5               2            0.5           0.2   \n...           ...      ...             ...            ...           ...   \n2587           50       15               4            1.0           1.0   \n2588           50       15               4            1.0           1.0   \n2589           50       15               4            1.0           1.0   \n2590           50       15               4            1.0           1.0   \n2591           50       15               4            1.0           1.0   \n\n      DecreasingMutationRate  Elite       Bounds  AverageOverRange  \n1296                    True      0  [-100, 100]                 5  \n1297                    True      0  [-100, 100]                 5  \n1298                    True      1  [-100, 100]                 5  \n1299                    True      1  [-100, 100]                 5  \n1300                   False      0  [-100, 100]                 5  \n...                      ...    ...          ...               ...  \n2587                    True      1  [-100, 100]                 5  \n2588                   False      0  [-100, 100]                 5  \n2589                   False      0  [-100, 100]                 5  \n2590                   False      1  [-100, 100]                 5  \n2591                   False      1  [-100, 100]                 5  \n\n[1296 rows x 17 columns]",
      "text/html": "<div>\n<style scoped>\n    .dataframe tbody tr th:only-of-type {\n        vertical-align: middle;\n    }\n\n    .dataframe tbody tr th {\n        vertical-align: top;\n    }\n\n    .dataframe thead th {\n        text-align: right;\n    }\n</style>\n<table border=\"1\" class=\"dataframe\">\n  <thead>\n    <tr style=\"text-align: right;\">\n      <th></th>\n      <th>TestFunction</th>\n      <th>OptimalMinimum</th>\n      <th>BestFitness</th>\n      <th>BestDiffFromOpt</th>\n      <th>AverageFitness</th>\n      <th>AverageDiffFromOpt</th>\n      <th>TimePerRun</th>\n      <th>Generations</th>\n      <th>NoDimension</th>\n      <th>PopSize</th>\n      <th>TForTournament</th>\n      <th>CrossoverPerc</th>\n      <th>MutationRate</th>\n      <th>DecreasingMutationRate</th>\n      <th>Elite</th>\n      <th>Bounds</th>\n      <th>AverageOverRange</th>\n    </tr>\n  </thead>\n  <tbody>\n    <tr>\n      <th>1296</th>\n      <td>F4</td>\n      <td>-450.0</td>\n      <td>19648.328195</td>\n      <td>20098.328195</td>\n      <td>4.668801e+04</td>\n      <td>4.713801e+04</td>\n      <td>0.009338</td>\n      <td>50</td>\n      <td>10</td>\n      <td>5</td>\n      <td>2</td>\n      <td>0.5</td>\n      <td>0.2</td>\n      <td>True</td>\n      <td>0</td>\n      <td>[-100, 100]</td>\n      <td>5</td>\n    </tr>\n    <tr>\n      <th>1297</th>\n      <td>F4</td>\n      <td>-450.0</td>\n      <td>43889.355029</td>\n      <td>44339.355029</td>\n      <td>5.329062e+04</td>\n      <td>5.374062e+04</td>\n      <td>0.028457</td>\n      <td>150</td>\n      <td>10</td>\n      <td>5</td>\n      <td>2</td>\n      <td>0.5</td>\n      <td>0.2</td>\n      <td>True</td>\n      <td>0</td>\n      <td>[-100, 100]</td>\n      <td>5</td>\n    </tr>\n    <tr>\n      <th>1298</th>\n      <td>F4</td>\n      <td>-450.0</td>\n      <td>3226.647401</td>\n      <td>3676.647401</td>\n      <td>1.438899e+04</td>\n      <td>1.483899e+04</td>\n      <td>0.009620</td>\n      <td>50</td>\n      <td>10</td>\n      <td>5</td>\n      <td>2</td>\n      <td>0.5</td>\n      <td>0.2</td>\n      <td>True</td>\n      <td>1</td>\n      <td>[-100, 100]</td>\n      <td>5</td>\n    </tr>\n    <tr>\n      <th>1299</th>\n      <td>F4</td>\n      <td>-450.0</td>\n      <td>1952.865879</td>\n      <td>2402.865879</td>\n      <td>6.795449e+03</td>\n      <td>7.245449e+03</td>\n      <td>0.032871</td>\n      <td>150</td>\n      <td>10</td>\n      <td>5</td>\n      <td>2</td>\n      <td>0.5</td>\n      <td>0.2</td>\n      <td>True</td>\n      <td>1</td>\n      <td>[-100, 100]</td>\n      <td>5</td>\n    </tr>\n    <tr>\n      <th>1300</th>\n      <td>F4</td>\n      <td>-450.0</td>\n      <td>53798.825239</td>\n      <td>54248.825239</td>\n      <td>1.240192e+05</td>\n      <td>1.244692e+05</td>\n      <td>0.011265</td>\n      <td>50</td>\n      <td>10</td>\n      <td>5</td>\n      <td>2</td>\n      <td>0.5</td>\n      <td>0.2</td>\n      <td>False</td>\n      <td>0</td>\n      <td>[-100, 100]</td>\n      <td>5</td>\n    </tr>\n    <tr>\n      <th>...</th>\n      <td>...</td>\n      <td>...</td>\n      <td>...</td>\n      <td>...</td>\n      <td>...</td>\n      <td>...</td>\n      <td>...</td>\n      <td>...</td>\n      <td>...</td>\n      <td>...</td>\n      <td>...</td>\n      <td>...</td>\n      <td>...</td>\n      <td>...</td>\n      <td>...</td>\n      <td>...</td>\n      <td>...</td>\n    </tr>\n    <tr>\n      <th>2587</th>\n      <td>F4</td>\n      <td>-450.0</td>\n      <td>161980.060540</td>\n      <td>162430.060540</td>\n      <td>2.346768e+05</td>\n      <td>2.351268e+05</td>\n      <td>0.328651</td>\n      <td>150</td>\n      <td>50</td>\n      <td>15</td>\n      <td>4</td>\n      <td>1.0</td>\n      <td>1.0</td>\n      <td>True</td>\n      <td>1</td>\n      <td>[-100, 100]</td>\n      <td>5</td>\n    </tr>\n    <tr>\n      <th>2588</th>\n      <td>F4</td>\n      <td>-450.0</td>\n      <td>404325.050245</td>\n      <td>404775.050245</td>\n      <td>1.207540e+06</td>\n      <td>1.207990e+06</td>\n      <td>0.172086</td>\n      <td>50</td>\n      <td>50</td>\n      <td>15</td>\n      <td>4</td>\n      <td>1.0</td>\n      <td>1.0</td>\n      <td>False</td>\n      <td>0</td>\n      <td>[-100, 100]</td>\n      <td>5</td>\n    </tr>\n    <tr>\n      <th>2589</th>\n      <td>F4</td>\n      <td>-450.0</td>\n      <td>474857.028769</td>\n      <td>475307.028769</td>\n      <td>1.385936e+06</td>\n      <td>1.386386e+06</td>\n      <td>0.524369</td>\n      <td>150</td>\n      <td>50</td>\n      <td>15</td>\n      <td>4</td>\n      <td>1.0</td>\n      <td>1.0</td>\n      <td>False</td>\n      <td>0</td>\n      <td>[-100, 100]</td>\n      <td>5</td>\n    </tr>\n    <tr>\n      <th>2590</th>\n      <td>F4</td>\n      <td>-450.0</td>\n      <td>367568.143286</td>\n      <td>368018.143286</td>\n      <td>5.447924e+05</td>\n      <td>5.452424e+05</td>\n      <td>0.155512</td>\n      <td>50</td>\n      <td>50</td>\n      <td>15</td>\n      <td>4</td>\n      <td>1.0</td>\n      <td>1.0</td>\n      <td>False</td>\n      <td>1</td>\n      <td>[-100, 100]</td>\n      <td>5</td>\n    </tr>\n    <tr>\n      <th>2591</th>\n      <td>F4</td>\n      <td>-450.0</td>\n      <td>318431.871318</td>\n      <td>318881.871318</td>\n      <td>4.299755e+05</td>\n      <td>4.304255e+05</td>\n      <td>0.470834</td>\n      <td>150</td>\n      <td>50</td>\n      <td>15</td>\n      <td>4</td>\n      <td>1.0</td>\n      <td>1.0</td>\n      <td>False</td>\n      <td>1</td>\n      <td>[-100, 100]</td>\n      <td>5</td>\n    </tr>\n  </tbody>\n</table>\n<p>1296 rows × 17 columns</p>\n</div>"
     },
     "execution_count": 9,
     "metadata": {},
     "output_type": "execute_result"
    }
   ],
   "source": [
    "df_F4_1st"
   ],
   "metadata": {
    "collapsed": false,
    "pycharm": {
     "name": "#%%\n"
    }
   }
  },
  {
   "cell_type": "markdown",
   "source": [
    "# F8\n",
    "- Best Diff: 20.17 -> 150 Generation / 10 Dimension / 15 Pop Size / 4 T / 100% CR / 80% MR / DMR True / 1 Elite\n",
    "    - Error: 20.17 / 140 -> 14.4%\n",
    "- Avr. Diff: 20.47 -> Same\n",
    "    - Error: 20.47 / 140 -> 14.6%"
   ],
   "metadata": {
    "collapsed": false,
    "pycharm": {
     "name": "#%% md\n"
    }
   }
  },
  {
   "cell_type": "code",
   "execution_count": 10,
   "outputs": [
    {
     "data": {
      "text/plain": "     TestFunction  OptimalMinimum  BestFitness  BestDiffFromOpt  \\\n3011           F8          -140.0  -119.829659        20.170341   \n\n      AverageFitness  AverageDiffFromOpt  TimePerRun  Generations  \\\n3011     -119.524006           20.475994    0.116559          150   \n\n      NoDimension  PopSize  TForTournament  CrossoverPerc  MutationRate  \\\n3011           10       15               4            1.0           0.8   \n\n      DecreasingMutationRate  Elite     Bounds  AverageOverRange  \n3011                    True      1  [-32, 32]                 5  ",
      "text/html": "<div>\n<style scoped>\n    .dataframe tbody tr th:only-of-type {\n        vertical-align: middle;\n    }\n\n    .dataframe tbody tr th {\n        vertical-align: top;\n    }\n\n    .dataframe thead th {\n        text-align: right;\n    }\n</style>\n<table border=\"1\" class=\"dataframe\">\n  <thead>\n    <tr style=\"text-align: right;\">\n      <th></th>\n      <th>TestFunction</th>\n      <th>OptimalMinimum</th>\n      <th>BestFitness</th>\n      <th>BestDiffFromOpt</th>\n      <th>AverageFitness</th>\n      <th>AverageDiffFromOpt</th>\n      <th>TimePerRun</th>\n      <th>Generations</th>\n      <th>NoDimension</th>\n      <th>PopSize</th>\n      <th>TForTournament</th>\n      <th>CrossoverPerc</th>\n      <th>MutationRate</th>\n      <th>DecreasingMutationRate</th>\n      <th>Elite</th>\n      <th>Bounds</th>\n      <th>AverageOverRange</th>\n    </tr>\n  </thead>\n  <tbody>\n    <tr>\n      <th>3011</th>\n      <td>F8</td>\n      <td>-140.0</td>\n      <td>-119.829659</td>\n      <td>20.170341</td>\n      <td>-119.524006</td>\n      <td>20.475994</td>\n      <td>0.116559</td>\n      <td>150</td>\n      <td>10</td>\n      <td>15</td>\n      <td>4</td>\n      <td>1.0</td>\n      <td>0.8</td>\n      <td>True</td>\n      <td>1</td>\n      <td>[-32, 32]</td>\n      <td>5</td>\n    </tr>\n  </tbody>\n</table>\n</div>"
     },
     "execution_count": 10,
     "metadata": {},
     "output_type": "execute_result"
    }
   ],
   "source": [
    "# Best Fitness\n",
    "df_F8_1st = df.query(\"TestFunction == 'F8'\")\n",
    "df_F8_1st[df_F8_1st.BestDiffFromOpt == df_F8_1st.BestDiffFromOpt.min()]"
   ],
   "metadata": {
    "collapsed": false,
    "pycharm": {
     "name": "#%%\n"
    }
   }
  },
  {
   "cell_type": "code",
   "execution_count": 11,
   "outputs": [
    {
     "data": {
      "text/plain": "     TestFunction  OptimalMinimum  BestFitness  BestDiffFromOpt  \\\n3011           F8          -140.0  -119.829659        20.170341   \n\n      AverageFitness  AverageDiffFromOpt  TimePerRun  Generations  \\\n3011     -119.524006           20.475994    0.116559          150   \n\n      NoDimension  PopSize  TForTournament  CrossoverPerc  MutationRate  \\\n3011           10       15               4            1.0           0.8   \n\n      DecreasingMutationRate  Elite     Bounds  AverageOverRange  \n3011                    True      1  [-32, 32]                 5  ",
      "text/html": "<div>\n<style scoped>\n    .dataframe tbody tr th:only-of-type {\n        vertical-align: middle;\n    }\n\n    .dataframe tbody tr th {\n        vertical-align: top;\n    }\n\n    .dataframe thead th {\n        text-align: right;\n    }\n</style>\n<table border=\"1\" class=\"dataframe\">\n  <thead>\n    <tr style=\"text-align: right;\">\n      <th></th>\n      <th>TestFunction</th>\n      <th>OptimalMinimum</th>\n      <th>BestFitness</th>\n      <th>BestDiffFromOpt</th>\n      <th>AverageFitness</th>\n      <th>AverageDiffFromOpt</th>\n      <th>TimePerRun</th>\n      <th>Generations</th>\n      <th>NoDimension</th>\n      <th>PopSize</th>\n      <th>TForTournament</th>\n      <th>CrossoverPerc</th>\n      <th>MutationRate</th>\n      <th>DecreasingMutationRate</th>\n      <th>Elite</th>\n      <th>Bounds</th>\n      <th>AverageOverRange</th>\n    </tr>\n  </thead>\n  <tbody>\n    <tr>\n      <th>3011</th>\n      <td>F8</td>\n      <td>-140.0</td>\n      <td>-119.829659</td>\n      <td>20.170341</td>\n      <td>-119.524006</td>\n      <td>20.475994</td>\n      <td>0.116559</td>\n      <td>150</td>\n      <td>10</td>\n      <td>15</td>\n      <td>4</td>\n      <td>1.0</td>\n      <td>0.8</td>\n      <td>True</td>\n      <td>1</td>\n      <td>[-32, 32]</td>\n      <td>5</td>\n    </tr>\n  </tbody>\n</table>\n</div>"
     },
     "execution_count": 11,
     "metadata": {},
     "output_type": "execute_result"
    }
   ],
   "source": [
    "# Best Average Fitness\n",
    "df_F8_1st[df_F8_1st.AverageDiffFromOpt == df_F8_1st.AverageDiffFromOpt.min()]"
   ],
   "metadata": {
    "collapsed": false,
    "pycharm": {
     "name": "#%%\n"
    }
   }
  },
  {
   "cell_type": "code",
   "execution_count": 12,
   "outputs": [
    {
     "data": {
      "text/plain": "     TestFunction  OptimalMinimum  BestFitness  BestDiffFromOpt  \\\n2592           F8          -140.0  -118.828332        21.171668   \n2593           F8          -140.0  -118.780497        21.219503   \n2594           F8          -140.0  -119.053467        20.946533   \n2595           F8          -140.0  -119.263744        20.736256   \n2596           F8          -140.0  -118.832553        21.167447   \n...           ...             ...          ...              ...   \n3883           F8          -140.0  -118.752831        21.247169   \n3884           F8          -140.0  -118.536631        21.463369   \n3885           F8          -140.0  -118.496857        21.503143   \n3886           F8          -140.0  -118.684637        21.315363   \n3887           F8          -140.0  -118.711035        21.288965   \n\n      AverageFitness  AverageDiffFromOpt  TimePerRun  Generations  \\\n2592     -118.601792           21.398208    0.011346           50   \n2593     -118.632335           21.367665    0.034004          150   \n2594     -118.934699           21.065301    0.015518           50   \n2595     -119.165199           20.834801    0.046569          150   \n2596     -118.571401           21.428599    0.017156           50   \n...              ...                 ...         ...          ...   \n3883     -118.683254           21.316746    0.383418          150   \n3884     -118.443720           21.556280    0.194784           50   \n3885     -118.436180           21.563820    0.586340          150   \n3886     -118.661321           21.338679    0.175834           50   \n3887     -118.683613           21.316387    0.532701          150   \n\n      NoDimension  PopSize  TForTournament  CrossoverPerc  MutationRate  \\\n2592           10        5               2            0.5           0.2   \n2593           10        5               2            0.5           0.2   \n2594           10        5               2            0.5           0.2   \n2595           10        5               2            0.5           0.2   \n2596           10        5               2            0.5           0.2   \n...           ...      ...             ...            ...           ...   \n3883           50       15               4            1.0           1.0   \n3884           50       15               4            1.0           1.0   \n3885           50       15               4            1.0           1.0   \n3886           50       15               4            1.0           1.0   \n3887           50       15               4            1.0           1.0   \n\n      DecreasingMutationRate  Elite     Bounds  AverageOverRange  \n2592                    True      0  [-32, 32]                 5  \n2593                    True      0  [-32, 32]                 5  \n2594                    True      1  [-32, 32]                 5  \n2595                    True      1  [-32, 32]                 5  \n2596                   False      0  [-32, 32]                 5  \n...                      ...    ...        ...               ...  \n3883                    True      1  [-32, 32]                 5  \n3884                   False      0  [-32, 32]                 5  \n3885                   False      0  [-32, 32]                 5  \n3886                   False      1  [-32, 32]                 5  \n3887                   False      1  [-32, 32]                 5  \n\n[1296 rows x 17 columns]",
      "text/html": "<div>\n<style scoped>\n    .dataframe tbody tr th:only-of-type {\n        vertical-align: middle;\n    }\n\n    .dataframe tbody tr th {\n        vertical-align: top;\n    }\n\n    .dataframe thead th {\n        text-align: right;\n    }\n</style>\n<table border=\"1\" class=\"dataframe\">\n  <thead>\n    <tr style=\"text-align: right;\">\n      <th></th>\n      <th>TestFunction</th>\n      <th>OptimalMinimum</th>\n      <th>BestFitness</th>\n      <th>BestDiffFromOpt</th>\n      <th>AverageFitness</th>\n      <th>AverageDiffFromOpt</th>\n      <th>TimePerRun</th>\n      <th>Generations</th>\n      <th>NoDimension</th>\n      <th>PopSize</th>\n      <th>TForTournament</th>\n      <th>CrossoverPerc</th>\n      <th>MutationRate</th>\n      <th>DecreasingMutationRate</th>\n      <th>Elite</th>\n      <th>Bounds</th>\n      <th>AverageOverRange</th>\n    </tr>\n  </thead>\n  <tbody>\n    <tr>\n      <th>2592</th>\n      <td>F8</td>\n      <td>-140.0</td>\n      <td>-118.828332</td>\n      <td>21.171668</td>\n      <td>-118.601792</td>\n      <td>21.398208</td>\n      <td>0.011346</td>\n      <td>50</td>\n      <td>10</td>\n      <td>5</td>\n      <td>2</td>\n      <td>0.5</td>\n      <td>0.2</td>\n      <td>True</td>\n      <td>0</td>\n      <td>[-32, 32]</td>\n      <td>5</td>\n    </tr>\n    <tr>\n      <th>2593</th>\n      <td>F8</td>\n      <td>-140.0</td>\n      <td>-118.780497</td>\n      <td>21.219503</td>\n      <td>-118.632335</td>\n      <td>21.367665</td>\n      <td>0.034004</td>\n      <td>150</td>\n      <td>10</td>\n      <td>5</td>\n      <td>2</td>\n      <td>0.5</td>\n      <td>0.2</td>\n      <td>True</td>\n      <td>0</td>\n      <td>[-32, 32]</td>\n      <td>5</td>\n    </tr>\n    <tr>\n      <th>2594</th>\n      <td>F8</td>\n      <td>-140.0</td>\n      <td>-119.053467</td>\n      <td>20.946533</td>\n      <td>-118.934699</td>\n      <td>21.065301</td>\n      <td>0.015518</td>\n      <td>50</td>\n      <td>10</td>\n      <td>5</td>\n      <td>2</td>\n      <td>0.5</td>\n      <td>0.2</td>\n      <td>True</td>\n      <td>1</td>\n      <td>[-32, 32]</td>\n      <td>5</td>\n    </tr>\n    <tr>\n      <th>2595</th>\n      <td>F8</td>\n      <td>-140.0</td>\n      <td>-119.263744</td>\n      <td>20.736256</td>\n      <td>-119.165199</td>\n      <td>20.834801</td>\n      <td>0.046569</td>\n      <td>150</td>\n      <td>10</td>\n      <td>5</td>\n      <td>2</td>\n      <td>0.5</td>\n      <td>0.2</td>\n      <td>True</td>\n      <td>1</td>\n      <td>[-32, 32]</td>\n      <td>5</td>\n    </tr>\n    <tr>\n      <th>2596</th>\n      <td>F8</td>\n      <td>-140.0</td>\n      <td>-118.832553</td>\n      <td>21.167447</td>\n      <td>-118.571401</td>\n      <td>21.428599</td>\n      <td>0.017156</td>\n      <td>50</td>\n      <td>10</td>\n      <td>5</td>\n      <td>2</td>\n      <td>0.5</td>\n      <td>0.2</td>\n      <td>False</td>\n      <td>0</td>\n      <td>[-32, 32]</td>\n      <td>5</td>\n    </tr>\n    <tr>\n      <th>...</th>\n      <td>...</td>\n      <td>...</td>\n      <td>...</td>\n      <td>...</td>\n      <td>...</td>\n      <td>...</td>\n      <td>...</td>\n      <td>...</td>\n      <td>...</td>\n      <td>...</td>\n      <td>...</td>\n      <td>...</td>\n      <td>...</td>\n      <td>...</td>\n      <td>...</td>\n      <td>...</td>\n      <td>...</td>\n    </tr>\n    <tr>\n      <th>3883</th>\n      <td>F8</td>\n      <td>-140.0</td>\n      <td>-118.752831</td>\n      <td>21.247169</td>\n      <td>-118.683254</td>\n      <td>21.316746</td>\n      <td>0.383418</td>\n      <td>150</td>\n      <td>50</td>\n      <td>15</td>\n      <td>4</td>\n      <td>1.0</td>\n      <td>1.0</td>\n      <td>True</td>\n      <td>1</td>\n      <td>[-32, 32]</td>\n      <td>5</td>\n    </tr>\n    <tr>\n      <th>3884</th>\n      <td>F8</td>\n      <td>-140.0</td>\n      <td>-118.536631</td>\n      <td>21.463369</td>\n      <td>-118.443720</td>\n      <td>21.556280</td>\n      <td>0.194784</td>\n      <td>50</td>\n      <td>50</td>\n      <td>15</td>\n      <td>4</td>\n      <td>1.0</td>\n      <td>1.0</td>\n      <td>False</td>\n      <td>0</td>\n      <td>[-32, 32]</td>\n      <td>5</td>\n    </tr>\n    <tr>\n      <th>3885</th>\n      <td>F8</td>\n      <td>-140.0</td>\n      <td>-118.496857</td>\n      <td>21.503143</td>\n      <td>-118.436180</td>\n      <td>21.563820</td>\n      <td>0.586340</td>\n      <td>150</td>\n      <td>50</td>\n      <td>15</td>\n      <td>4</td>\n      <td>1.0</td>\n      <td>1.0</td>\n      <td>False</td>\n      <td>0</td>\n      <td>[-32, 32]</td>\n      <td>5</td>\n    </tr>\n    <tr>\n      <th>3886</th>\n      <td>F8</td>\n      <td>-140.0</td>\n      <td>-118.684637</td>\n      <td>21.315363</td>\n      <td>-118.661321</td>\n      <td>21.338679</td>\n      <td>0.175834</td>\n      <td>50</td>\n      <td>50</td>\n      <td>15</td>\n      <td>4</td>\n      <td>1.0</td>\n      <td>1.0</td>\n      <td>False</td>\n      <td>1</td>\n      <td>[-32, 32]</td>\n      <td>5</td>\n    </tr>\n    <tr>\n      <th>3887</th>\n      <td>F8</td>\n      <td>-140.0</td>\n      <td>-118.711035</td>\n      <td>21.288965</td>\n      <td>-118.683613</td>\n      <td>21.316387</td>\n      <td>0.532701</td>\n      <td>150</td>\n      <td>50</td>\n      <td>15</td>\n      <td>4</td>\n      <td>1.0</td>\n      <td>1.0</td>\n      <td>False</td>\n      <td>1</td>\n      <td>[-32, 32]</td>\n      <td>5</td>\n    </tr>\n  </tbody>\n</table>\n<p>1296 rows × 17 columns</p>\n</div>"
     },
     "execution_count": 12,
     "metadata": {},
     "output_type": "execute_result"
    }
   ],
   "source": [
    "df_F8_1st"
   ],
   "metadata": {
    "collapsed": false,
    "pycharm": {
     "name": "#%%\n"
    }
   }
  },
  {
   "cell_type": "markdown",
   "source": [
    "# F13\n",
    "- Best Diff: 1.0829 -> 150 Generation / 10 Dimension / 15 Pop Size / 4 T / 100% CR / 20% MR / DMR True / 1 Elite\n",
    "    - Error: 1.0829 / 130 ->  0.83%\n",
    "- Avr. Diff: 2.9072 -> Same\n",
    "    - Error: 1.5791 / 130 ->  1.21%\n"
   ],
   "metadata": {
    "collapsed": false,
    "pycharm": {
     "name": "#%% md\n"
    }
   }
  },
  {
   "cell_type": "code",
   "execution_count": 13,
   "outputs": [
    {
     "data": {
      "text/plain": "    TestFunction  OptimalMinimum  BestFitness  BestDiffFromOpt  \\\n411          F13          -130.0  -128.917016         1.082984   \n\n     AverageFitness  AverageDiffFromOpt  TimePerRun  Generations  NoDimension  \\\n411     -128.420892            1.579108    0.130163          150           10   \n\n     PopSize  TForTournament  CrossoverPerc  MutationRate  \\\n411       15               4            1.0           0.2   \n\n     DecreasingMutationRate  Elite   Bounds  AverageOverRange  \n411                    True      1  [-3, 1]                 5  ",
      "text/html": "<div>\n<style scoped>\n    .dataframe tbody tr th:only-of-type {\n        vertical-align: middle;\n    }\n\n    .dataframe tbody tr th {\n        vertical-align: top;\n    }\n\n    .dataframe thead th {\n        text-align: right;\n    }\n</style>\n<table border=\"1\" class=\"dataframe\">\n  <thead>\n    <tr style=\"text-align: right;\">\n      <th></th>\n      <th>TestFunction</th>\n      <th>OptimalMinimum</th>\n      <th>BestFitness</th>\n      <th>BestDiffFromOpt</th>\n      <th>AverageFitness</th>\n      <th>AverageDiffFromOpt</th>\n      <th>TimePerRun</th>\n      <th>Generations</th>\n      <th>NoDimension</th>\n      <th>PopSize</th>\n      <th>TForTournament</th>\n      <th>CrossoverPerc</th>\n      <th>MutationRate</th>\n      <th>DecreasingMutationRate</th>\n      <th>Elite</th>\n      <th>Bounds</th>\n      <th>AverageOverRange</th>\n    </tr>\n  </thead>\n  <tbody>\n    <tr>\n      <th>411</th>\n      <td>F13</td>\n      <td>-130.0</td>\n      <td>-128.917016</td>\n      <td>1.082984</td>\n      <td>-128.420892</td>\n      <td>1.579108</td>\n      <td>0.130163</td>\n      <td>150</td>\n      <td>10</td>\n      <td>15</td>\n      <td>4</td>\n      <td>1.0</td>\n      <td>0.2</td>\n      <td>True</td>\n      <td>1</td>\n      <td>[-3, 1]</td>\n      <td>5</td>\n    </tr>\n  </tbody>\n</table>\n</div>"
     },
     "execution_count": 13,
     "metadata": {},
     "output_type": "execute_result"
    }
   ],
   "source": [
    "# Best Fitness\n",
    "df_F13_1st = df.query(\"TestFunction == 'F13'\")\n",
    "df_F13_1st[df_F13_1st.BestDiffFromOpt == df_F13_1st.BestDiffFromOpt.min()]"
   ],
   "metadata": {
    "collapsed": false,
    "pycharm": {
     "name": "#%%\n"
    }
   }
  },
  {
   "cell_type": "code",
   "execution_count": 14,
   "outputs": [
    {
     "data": {
      "text/plain": "    TestFunction  OptimalMinimum  BestFitness  BestDiffFromOpt  \\\n411          F13          -130.0  -128.917016         1.082984   \n\n     AverageFitness  AverageDiffFromOpt  TimePerRun  Generations  NoDimension  \\\n411     -128.420892            1.579108    0.130163          150           10   \n\n     PopSize  TForTournament  CrossoverPerc  MutationRate  \\\n411       15               4            1.0           0.2   \n\n     DecreasingMutationRate  Elite   Bounds  AverageOverRange  \n411                    True      1  [-3, 1]                 5  ",
      "text/html": "<div>\n<style scoped>\n    .dataframe tbody tr th:only-of-type {\n        vertical-align: middle;\n    }\n\n    .dataframe tbody tr th {\n        vertical-align: top;\n    }\n\n    .dataframe thead th {\n        text-align: right;\n    }\n</style>\n<table border=\"1\" class=\"dataframe\">\n  <thead>\n    <tr style=\"text-align: right;\">\n      <th></th>\n      <th>TestFunction</th>\n      <th>OptimalMinimum</th>\n      <th>BestFitness</th>\n      <th>BestDiffFromOpt</th>\n      <th>AverageFitness</th>\n      <th>AverageDiffFromOpt</th>\n      <th>TimePerRun</th>\n      <th>Generations</th>\n      <th>NoDimension</th>\n      <th>PopSize</th>\n      <th>TForTournament</th>\n      <th>CrossoverPerc</th>\n      <th>MutationRate</th>\n      <th>DecreasingMutationRate</th>\n      <th>Elite</th>\n      <th>Bounds</th>\n      <th>AverageOverRange</th>\n    </tr>\n  </thead>\n  <tbody>\n    <tr>\n      <th>411</th>\n      <td>F13</td>\n      <td>-130.0</td>\n      <td>-128.917016</td>\n      <td>1.082984</td>\n      <td>-128.420892</td>\n      <td>1.579108</td>\n      <td>0.130163</td>\n      <td>150</td>\n      <td>10</td>\n      <td>15</td>\n      <td>4</td>\n      <td>1.0</td>\n      <td>0.2</td>\n      <td>True</td>\n      <td>1</td>\n      <td>[-3, 1]</td>\n      <td>5</td>\n    </tr>\n  </tbody>\n</table>\n</div>"
     },
     "execution_count": 14,
     "metadata": {},
     "output_type": "execute_result"
    }
   ],
   "source": [
    "# Best Average Fitness\n",
    "df_F13_1st[df_F13_1st.AverageDiffFromOpt == df_F13_1st.AverageDiffFromOpt.min()]"
   ],
   "metadata": {
    "collapsed": false,
    "pycharm": {
     "name": "#%%\n"
    }
   }
  },
  {
   "cell_type": "code",
   "execution_count": 15,
   "outputs": [
    {
     "data": {
      "text/plain": "     TestFunction  OptimalMinimum  BestFitness  BestDiffFromOpt  \\\n0             F13          -130.0  -114.747967        15.252033   \n1             F13          -130.0  -112.484813        17.515187   \n2             F13          -130.0  -119.482405        10.517595   \n3             F13          -130.0  -127.111143         2.888857   \n4             F13          -130.0    68.014676       198.014676   \n...           ...             ...          ...              ...   \n1291          F13          -130.0    18.446939       148.446939   \n1292          F13          -130.0  3078.646003      3208.646003   \n1293          F13          -130.0  5464.382972      5594.382972   \n1294          F13          -130.0  1636.088684      1766.088684   \n1295          F13          -130.0  1598.512694      1728.512694   \n\n      AverageFitness  AverageDiffFromOpt  TimePerRun  Generations  \\\n0         123.382008          253.382008    0.015493           50   \n1         -81.314126           48.685874    0.047154          150   \n2        -117.122011           12.877989    0.014168           50   \n3        -122.551732            7.448268    0.043210          150   \n4        1145.731194         1275.731194    0.015538           50   \n...              ...                 ...         ...          ...   \n1291       86.802009          216.802009    0.559082          150   \n1292     5533.162406         5663.162406    0.246466           50   \n1293     9402.327325         9532.327325    0.757659          150   \n1294     2376.984034         2506.984034    0.231453           50   \n1295     2085.922189         2215.922189    0.702414          150   \n\n      NoDimension  PopSize  TForTournament  CrossoverPerc  MutationRate  \\\n0              10        5               2            0.5           0.2   \n1              10        5               2            0.5           0.2   \n2              10        5               2            0.5           0.2   \n3              10        5               2            0.5           0.2   \n4              10        5               2            0.5           0.2   \n...           ...      ...             ...            ...           ...   \n1291           50       15               4            1.0           1.0   \n1292           50       15               4            1.0           1.0   \n1293           50       15               4            1.0           1.0   \n1294           50       15               4            1.0           1.0   \n1295           50       15               4            1.0           1.0   \n\n      DecreasingMutationRate  Elite   Bounds  AverageOverRange  \n0                       True      0  [-3, 1]                 5  \n1                       True      0  [-3, 1]                 5  \n2                       True      1  [-3, 1]                 5  \n3                       True      1  [-3, 1]                 5  \n4                      False      0  [-3, 1]                 5  \n...                      ...    ...      ...               ...  \n1291                    True      1  [-3, 1]                 5  \n1292                   False      0  [-3, 1]                 5  \n1293                   False      0  [-3, 1]                 5  \n1294                   False      1  [-3, 1]                 5  \n1295                   False      1  [-3, 1]                 5  \n\n[1296 rows x 17 columns]",
      "text/html": "<div>\n<style scoped>\n    .dataframe tbody tr th:only-of-type {\n        vertical-align: middle;\n    }\n\n    .dataframe tbody tr th {\n        vertical-align: top;\n    }\n\n    .dataframe thead th {\n        text-align: right;\n    }\n</style>\n<table border=\"1\" class=\"dataframe\">\n  <thead>\n    <tr style=\"text-align: right;\">\n      <th></th>\n      <th>TestFunction</th>\n      <th>OptimalMinimum</th>\n      <th>BestFitness</th>\n      <th>BestDiffFromOpt</th>\n      <th>AverageFitness</th>\n      <th>AverageDiffFromOpt</th>\n      <th>TimePerRun</th>\n      <th>Generations</th>\n      <th>NoDimension</th>\n      <th>PopSize</th>\n      <th>TForTournament</th>\n      <th>CrossoverPerc</th>\n      <th>MutationRate</th>\n      <th>DecreasingMutationRate</th>\n      <th>Elite</th>\n      <th>Bounds</th>\n      <th>AverageOverRange</th>\n    </tr>\n  </thead>\n  <tbody>\n    <tr>\n      <th>0</th>\n      <td>F13</td>\n      <td>-130.0</td>\n      <td>-114.747967</td>\n      <td>15.252033</td>\n      <td>123.382008</td>\n      <td>253.382008</td>\n      <td>0.015493</td>\n      <td>50</td>\n      <td>10</td>\n      <td>5</td>\n      <td>2</td>\n      <td>0.5</td>\n      <td>0.2</td>\n      <td>True</td>\n      <td>0</td>\n      <td>[-3, 1]</td>\n      <td>5</td>\n    </tr>\n    <tr>\n      <th>1</th>\n      <td>F13</td>\n      <td>-130.0</td>\n      <td>-112.484813</td>\n      <td>17.515187</td>\n      <td>-81.314126</td>\n      <td>48.685874</td>\n      <td>0.047154</td>\n      <td>150</td>\n      <td>10</td>\n      <td>5</td>\n      <td>2</td>\n      <td>0.5</td>\n      <td>0.2</td>\n      <td>True</td>\n      <td>0</td>\n      <td>[-3, 1]</td>\n      <td>5</td>\n    </tr>\n    <tr>\n      <th>2</th>\n      <td>F13</td>\n      <td>-130.0</td>\n      <td>-119.482405</td>\n      <td>10.517595</td>\n      <td>-117.122011</td>\n      <td>12.877989</td>\n      <td>0.014168</td>\n      <td>50</td>\n      <td>10</td>\n      <td>5</td>\n      <td>2</td>\n      <td>0.5</td>\n      <td>0.2</td>\n      <td>True</td>\n      <td>1</td>\n      <td>[-3, 1]</td>\n      <td>5</td>\n    </tr>\n    <tr>\n      <th>3</th>\n      <td>F13</td>\n      <td>-130.0</td>\n      <td>-127.111143</td>\n      <td>2.888857</td>\n      <td>-122.551732</td>\n      <td>7.448268</td>\n      <td>0.043210</td>\n      <td>150</td>\n      <td>10</td>\n      <td>5</td>\n      <td>2</td>\n      <td>0.5</td>\n      <td>0.2</td>\n      <td>True</td>\n      <td>1</td>\n      <td>[-3, 1]</td>\n      <td>5</td>\n    </tr>\n    <tr>\n      <th>4</th>\n      <td>F13</td>\n      <td>-130.0</td>\n      <td>68.014676</td>\n      <td>198.014676</td>\n      <td>1145.731194</td>\n      <td>1275.731194</td>\n      <td>0.015538</td>\n      <td>50</td>\n      <td>10</td>\n      <td>5</td>\n      <td>2</td>\n      <td>0.5</td>\n      <td>0.2</td>\n      <td>False</td>\n      <td>0</td>\n      <td>[-3, 1]</td>\n      <td>5</td>\n    </tr>\n    <tr>\n      <th>...</th>\n      <td>...</td>\n      <td>...</td>\n      <td>...</td>\n      <td>...</td>\n      <td>...</td>\n      <td>...</td>\n      <td>...</td>\n      <td>...</td>\n      <td>...</td>\n      <td>...</td>\n      <td>...</td>\n      <td>...</td>\n      <td>...</td>\n      <td>...</td>\n      <td>...</td>\n      <td>...</td>\n      <td>...</td>\n    </tr>\n    <tr>\n      <th>1291</th>\n      <td>F13</td>\n      <td>-130.0</td>\n      <td>18.446939</td>\n      <td>148.446939</td>\n      <td>86.802009</td>\n      <td>216.802009</td>\n      <td>0.559082</td>\n      <td>150</td>\n      <td>50</td>\n      <td>15</td>\n      <td>4</td>\n      <td>1.0</td>\n      <td>1.0</td>\n      <td>True</td>\n      <td>1</td>\n      <td>[-3, 1]</td>\n      <td>5</td>\n    </tr>\n    <tr>\n      <th>1292</th>\n      <td>F13</td>\n      <td>-130.0</td>\n      <td>3078.646003</td>\n      <td>3208.646003</td>\n      <td>5533.162406</td>\n      <td>5663.162406</td>\n      <td>0.246466</td>\n      <td>50</td>\n      <td>50</td>\n      <td>15</td>\n      <td>4</td>\n      <td>1.0</td>\n      <td>1.0</td>\n      <td>False</td>\n      <td>0</td>\n      <td>[-3, 1]</td>\n      <td>5</td>\n    </tr>\n    <tr>\n      <th>1293</th>\n      <td>F13</td>\n      <td>-130.0</td>\n      <td>5464.382972</td>\n      <td>5594.382972</td>\n      <td>9402.327325</td>\n      <td>9532.327325</td>\n      <td>0.757659</td>\n      <td>150</td>\n      <td>50</td>\n      <td>15</td>\n      <td>4</td>\n      <td>1.0</td>\n      <td>1.0</td>\n      <td>False</td>\n      <td>0</td>\n      <td>[-3, 1]</td>\n      <td>5</td>\n    </tr>\n    <tr>\n      <th>1294</th>\n      <td>F13</td>\n      <td>-130.0</td>\n      <td>1636.088684</td>\n      <td>1766.088684</td>\n      <td>2376.984034</td>\n      <td>2506.984034</td>\n      <td>0.231453</td>\n      <td>50</td>\n      <td>50</td>\n      <td>15</td>\n      <td>4</td>\n      <td>1.0</td>\n      <td>1.0</td>\n      <td>False</td>\n      <td>1</td>\n      <td>[-3, 1]</td>\n      <td>5</td>\n    </tr>\n    <tr>\n      <th>1295</th>\n      <td>F13</td>\n      <td>-130.0</td>\n      <td>1598.512694</td>\n      <td>1728.512694</td>\n      <td>2085.922189</td>\n      <td>2215.922189</td>\n      <td>0.702414</td>\n      <td>150</td>\n      <td>50</td>\n      <td>15</td>\n      <td>4</td>\n      <td>1.0</td>\n      <td>1.0</td>\n      <td>False</td>\n      <td>1</td>\n      <td>[-3, 1]</td>\n      <td>5</td>\n    </tr>\n  </tbody>\n</table>\n<p>1296 rows × 17 columns</p>\n</div>"
     },
     "execution_count": 15,
     "metadata": {},
     "output_type": "execute_result"
    }
   ],
   "source": [
    "df_F13_1st"
   ],
   "metadata": {
    "collapsed": false,
    "pycharm": {
     "name": "#%%\n"
    }
   }
  },
  {
   "cell_type": "markdown",
   "source": [
    "# F17\n",
    "- Best Diff: 177.54 -> 150 Generation / 10 Dimension / 15 Pop Size / 2 T / 50% CR / 80% MR / DMR True / 1 Elite\n",
    "    - Error: 177.54 / 120 ->  147.95%\n",
    "- Avr. Diff: 223.09 -> 150 Generation / 10 Dimension / 15 Pop Size / 4 T / 100% CR / 20% MR / DMR True / 1 Elite\n",
    "    - Error: 223.09 / 120 ->  185.9%"
   ],
   "metadata": {
    "collapsed": false,
    "pycharm": {
     "name": "#%% md\n"
    }
   }
  },
  {
   "cell_type": "code",
   "execution_count": null,
   "outputs": [],
   "source": [
    "# Best Fitness\n",
    "df_F17_1st = df.query(\"TestFunction == 'F17'\")\n",
    "df_F17_1st[df_F17_1st.BestDiffFromOpt == df_F17_1st.BestDiffFromOpt.min()]"
   ],
   "metadata": {
    "collapsed": false,
    "pycharm": {
     "name": "#%%\n",
     "is_executing": true
    }
   }
  },
  {
   "cell_type": "code",
   "execution_count": null,
   "outputs": [],
   "source": [
    "# Best Average Fitness\n",
    "df_F17_1st[df_F17_1st.AverageDiffFromOpt == df_F17_1st.AverageDiffFromOpt.min()]"
   ],
   "metadata": {
    "collapsed": false,
    "pycharm": {
     "name": "#%%\n",
     "is_executing": true
    }
   }
  },
  {
   "cell_type": "code",
   "execution_count": null,
   "outputs": [],
   "source": [
    "df_F17_1st"
   ],
   "metadata": {
    "collapsed": false,
    "pycharm": {
     "name": "#%%\n",
     "is_executing": true
    }
   }
  },
  {
   "cell_type": "markdown",
   "source": [
    "# F24\n",
    "- Best Diff: 242.76 -> 150 Generation / 10 Dimension / 15 Pop Size / 4 T / 95% CR / 20% MR / DMR False / 1 Elite\n",
    "    - Error: 242.76 / 260 -> 93.36%\n",
    "- Avr. Diff: 351.24 -> 150 Generation / 10 Dimension / 10 Pop Size / 4 T / 95% CR / 20% MR / DMR True / 1 Elite\n",
    "    - Error: 351.24 / 260 -> 135.09%"
   ],
   "metadata": {
    "collapsed": false,
    "pycharm": {
     "name": "#%% md\n"
    }
   }
  },
  {
   "cell_type": "code",
   "execution_count": null,
   "outputs": [],
   "source": [
    "# Best Fitness\n",
    "df_F24_1st = df.query(\"TestFunction == 'F24'\")\n",
    "df_F24_1st[df_F24_1st.BestDiffFromOpt == df_F24_1st.BestDiffFromOpt.min()]"
   ],
   "metadata": {
    "collapsed": false,
    "pycharm": {
     "name": "#%%\n",
     "is_executing": true
    }
   }
  },
  {
   "cell_type": "code",
   "execution_count": null,
   "outputs": [],
   "source": [
    "# Best Average Fitness\n",
    "df_F24_1st[df_F24_1st.AverageDiffFromOpt == df_F24_1st.AverageDiffFromOpt.min()]"
   ],
   "metadata": {
    "collapsed": false,
    "pycharm": {
     "name": "#%%\n",
     "is_executing": true
    }
   }
  },
  {
   "cell_type": "code",
   "execution_count": null,
   "outputs": [],
   "source": [
    "df_F24_1st"
   ],
   "metadata": {
    "collapsed": false,
    "pycharm": {
     "name": "#%%\n",
     "is_executing": true
    }
   }
  },
  {
   "cell_type": "markdown",
   "source": [
    "# Conclusion:\n",
    "\n",
    "The optimizer performed the best on F8 and F13. F13 error was the lowest with the best fitness 0.38% away from the optimal. F8's best fitness was 14.4% away from the optimal. While the F13 error is good F8 is a significantly larger from the optimal and can be improved. The GA performed poorly on the rest of the test functions. The best fitness errors are as follows:\n",
    "- F2:  69.36%\n",
    "- F4: 102.09%\n",
    "- F17: 147.95%\n",
    "- F24: 93.36%\n",
    "\n",
    "F8 and F13 share a similarity with their best scores. Both test function used a similar test configuration to achieve the best scores. `150 Generation / 10 Dimension / 15 Pop Size / 4 T / 100% CR / DMR True / 1 Elite`. The only difference is that F8 used 80% Mutation Rate whereas for F13 the best score was achieved with 20%.\n",
    "\n",
    "Each test function scored the best after 150 generations, so we decided to increase the number of generations to see how they improve. For the 2nd iteration we kept the configuration of the best algorithm settings. The configurations with low frequency from the bests weren't carried on to the 2nd iteration for the algorithms where the error was huge.\n",
    "\n",
    "Frequency of configuration among best difference and average difference from optimal:\n",
    "- Generation:\n",
    "    - 50 -> 0\n",
    "    - 150 -> 12\n",
    "- Dimension:\n",
    "    - 10 -> 12\n",
    "    - 30 -> 0\n",
    "    - 50 -> 0\n",
    "- Population Size:\n",
    "    - 5 -> 0\n",
    "    - 10 -> 1\n",
    "    - 15 -> 11\n",
    "- Tournament Size:\n",
    "    - 2 -> 3\n",
    "    - 4 -> 9\n",
    "- Crossover Rate:\n",
    "    - 50% -> 1\n",
    "    - 95% -> 5\n",
    "    - 100% -> 6\n",
    "- Mutation Rate:\n",
    "    - 20% -> 9\n",
    "    - 80% -> 3\n",
    "    - 100% -> 0\n",
    "- Decreasing Mutation Rate:\n",
    "    - True -> 10\n",
    "    - False -> 2\n",
    "- Elites:\n",
    "    - 0 -> 0\n",
    "    - 1 -> 12"
   ],
   "metadata": {
    "collapsed": false,
    "pycharm": {
     "name": "#%% md\n"
    }
   }
  },
  {
   "cell_type": "markdown",
   "source": [
    "# 2nd Iteration of Configurations\n",
    "Same algorithm was used as for the 1st iteration but different hyper-parameters. Increased the number of generations to 250, 500, 1000. The population size was increased too and some configurations weren't carried over from iteration 1, i.e. the number of dimension was reduced to only 10."
   ],
   "metadata": {
    "collapsed": false,
    "pycharm": {
     "name": "#%% md\n"
    }
   }
  },
  {
   "cell_type": "code",
   "execution_count": null,
   "outputs": [],
   "source": [
    "benchmarks_and_bounds = [optproblems.F2, [-100,100], \"F2\", optproblems.F4, [-100,100], \"F4\", optproblems.F8, [-32,32], \"F8\", optproblems.F13, [-3,1], \"F13\", optproblems.F17, [-5,5], \"F17\", optproblems.F24, [-5,5], \"F24\"]\n",
    "no_dimensions = [10]\n",
    "num_generations = [250, 500, 1000]\n",
    "pop_sizes = [10, 15, 20]\n",
    "tournament_t = [2, 4]\n",
    "crossover_percentage = [0.95, 1]\n",
    "mutation_rates = [0.2, 0.8]\n",
    "decreasing_mutation_rate = [True]\n",
    "elites = [0, 1]\n",
    "\n",
    "average_over_range = 5"
   ],
   "metadata": {
    "collapsed": false,
    "pycharm": {
     "name": "#%%\n",
     "is_executing": true
    }
   }
  },
  {
   "cell_type": "code",
   "execution_count": null,
   "outputs": [],
   "source": [
    "run_configuration_suite = False\n",
    "if run_configuration_suite:\n",
    "\n",
    "    list_for_df = []\n",
    "    for i in range(0, len(benchmarks_and_bounds), 3):\n",
    "        number_of_functions = (len(benchmarks_and_bounds)/3)\n",
    "        print(f\"Progress: {i/3} / {number_of_functions}\")\n",
    "        bound = benchmarks_and_bounds[i+1]\n",
    "        benchmark_name = benchmarks_and_bounds[i+2]\n",
    "        for no_dimension in no_dimensions:\n",
    "            print(f\"\\tDimension: {no_dimension}\")\n",
    "            benchmark = benchmarks_and_bounds[i](no_dimension)\n",
    "            optimal_solution = benchmark.get_optimal_solutions()\n",
    "            benchmark.evaluate(optimal_solution[0])\n",
    "            optimal_minimum = optimal_solution[0].objective_values\n",
    "            for pop_size in pop_sizes:\n",
    "                print(f\"\\t\\tPopulation: {pop_size}\")\n",
    "                for t in tournament_t:\n",
    "                    for crossover in crossover_percentage:\n",
    "                        for mutation in mutation_rates:\n",
    "                            for dmr in decreasing_mutation_rate:\n",
    "                                for elite in elites:\n",
    "                                    for generations in num_generations:\n",
    "                                        average_fitness = 0\n",
    "                                        average_difference_from_optimal = 0\n",
    "\n",
    "                                        best_fitness = 0\n",
    "                                        best_time = 0\n",
    "                                        best_difference_from_optimal = 0\n",
    "\n",
    "                                        for j in range(average_over_range):\n",
    "                                            algorithm = GA(benchmark, no_dimension, bound, pop_size, num_generations=generations, t=t, crossover_percentage=crossover, mutation_rate=mutation, decreasing_mutation_rate=dmr, elite=elite)\n",
    "                                            result, time = algorithm.run()\n",
    "                                            fitness = result.fitness\n",
    "                                            diff_from_optimal = fitness - optimal_minimum\n",
    "\n",
    "                                            average_fitness += 1/average_over_range * fitness\n",
    "                                            average_difference_from_optimal += 1/average_over_range * diff_from_optimal\n",
    "\n",
    "                                            if j == 0:\n",
    "                                                best_fitness = fitness\n",
    "                                                best_difference_from_optimal = diff_from_optimal\n",
    "                                                best_time = time\n",
    "                                                continue\n",
    "\n",
    "                                            if fitness < best_fitness:\n",
    "                                                best_fitness = fitness\n",
    "\n",
    "                                            if diff_from_optimal < best_difference_from_optimal:\n",
    "                                                best_difference_from_optimal = diff_from_optimal\n",
    "\n",
    "                                            if time < best_time:\n",
    "                                                best_time = time\n",
    "\n",
    "                                        result_and_configuration = [benchmark_name, optimal_minimum, best_fitness, best_difference_from_optimal, average_fitness, average_difference_from_optimal, best_time, generations, no_dimension, pop_size, t, crossover, mutation, dmr, elite, bound, average_over_range]\n",
    "                                        list_for_df.append(result_and_configuration)\n",
    "\n",
    "    labels = [\"TestFunction\", \"OptimalMinimum\", \"BestFitness\", \"BestDiffFromOpt\", \"AverageFitness\", \"AverageDiffFromOpt\", \"TimePerRun\", \"Generations\", \"NoDimension\", \"PopSize\", \"TForTournament\", \"CrossoverPerc\", \"MutationRate\", \"DecreasingMutationRate\", \"Elite\", \"Bounds\", \"AverageOverRange\"]\n",
    "    df_II = pandas.DataFrame(data=list_for_df, columns=labels)\n",
    "    df_II.to_pickle(\"GA_df_specific.pkl\")\n",
    "else:\n",
    "    df_II = pd.read_pickle(\"GA_df_specific.pkl\")"
   ],
   "metadata": {
    "collapsed": false,
    "pycharm": {
     "name": "#%%\n",
     "is_executing": true
    }
   }
  },
  {
   "cell_type": "markdown",
   "source": [
    "# Results of the 2nd Iteration"
   ],
   "metadata": {
    "collapsed": false,
    "pycharm": {
     "name": "#%% md\n"
    }
   }
  },
  {
   "cell_type": "markdown",
   "source": [
    "# F2\n",
    "### For 1st Iteration:\n",
    "- Best Diff: 312.11 -> 150 Generation / 10 Dimension / 15 Pop Size / 2 T / 100% CR / 20% MR / DMR True / 1 Elite\n",
    "    -  Error: 312.11 / 450 -> 69.36%\n",
    "- Avr. Diff: 913.20 -> 150 Generation / 10 Dimension / 15 Pop Size / 4 T / 95%  CR / 20% MR / DMR True / 1 Elite\n",
    "    - Error: 913.20 / 450 -> 202.93%\n",
    "\n",
    "### For 2nd Iteration:\n",
    "- Best Diff: 33.482 -> 1000 Generation / 10 Dimension / 20 Pop Size / 4 T / 95% CR / 20% MR / DMR True / 0 Elite\n",
    "    -  Error: 33.482 / 450 -> 7.4%\n",
    "- Avr. Diff: 113.75 -> 1000 Generation / 10 Dimension / 20 Pop Size / 4 T / 95% CR / 20% MR / DMR True / 1 Elite\n",
    "    - Error: 113.75 / 450 -> 25.27%\n",
    "\n",
    "## Conclusion for F2:\n",
    "- Significant improvement by increasing the generations from 150 -> 1000 and the population from 15 -> 20.\n",
    "- Best diff error is ~10× less\n",
    "- Avg diff error is ~8× less\n",
    "- In the 2nd iteration the best fitness was achieved by 4 as tournament size and 95% for crossover rate instead of 2 and 100%."
   ],
   "metadata": {
    "collapsed": false,
    "pycharm": {
     "name": "#%% md\n"
    }
   }
  },
  {
   "cell_type": "code",
   "execution_count": null,
   "outputs": [],
   "source": [
    "df_II.query(\"TestFunction == 'F2'\").sort_values(by=[\"BestDiffFromOpt\"])"
   ],
   "metadata": {
    "collapsed": false,
    "pycharm": {
     "name": "#%%\n",
     "is_executing": true
    }
   }
  },
  {
   "cell_type": "code",
   "execution_count": null,
   "outputs": [],
   "source": [
    "df_II.query(\"TestFunction == 'F2'\").sort_values(by=[\"AverageDiffFromOpt\"])"
   ],
   "metadata": {
    "collapsed": false,
    "pycharm": {
     "name": "#%%\n",
     "is_executing": true
    }
   }
  },
  {
   "cell_type": "markdown",
   "source": [
    "# F4\n",
    "### For 1st Iteration\n",
    "- Best Diff: 459.44 -> 150 Generation / 10 Dimension / 15 Pop Size / 4 T / 95% CR / 20% MR / DMR False / 1 Elite\n",
    "    - Error: 459.44 / 450 ->  102.09%\n",
    "- Avr. Diff: 1841.4 -> 150 Generation / 10 Dimension / 15 Pop Size / 2 T / 95%  CR / 20% MR / DMR True / 1 Elite\n",
    "    - Error: 1841.4 / 450 ->  409.2%\n",
    "\n",
    "### For 2nd Iteration:\n",
    "- Best Diff: 56.63 -> 500 Generation / 10 Dimension / 15 Pop Size / 4 T / 95% CR / 20% MR / DMR True / 1 Elite\n",
    "    - Error: 56.63 / 450 -> 12.58%\n",
    "- Avr. Diff: 190.78 -> 1000 Generation / 10 Dimension / 20 Pop Size / 4 T / 100% CR / 20% MR / DMR True / 1 Elite\n",
    "    - Error: 190.78 / 450 -> 42.39%\n",
    "\n",
    "## Conclusion for F4:\n",
    "- Significant change by increasing the generation.\n",
    "- The best fitness was achieved with 500 generation instead of 1000 and the population size was same for both iterations.\n",
    "- The best fitness parameters didn't change much. Decreasing MR was used and the generation was increased from 150 to 500. However, for the average fitness the parameters changed. Higher population (20), generation (1000), tournament size (4) and crossover rate (100%) was used."
   ],
   "metadata": {
    "collapsed": false,
    "pycharm": {
     "name": "#%% md\n"
    }
   }
  },
  {
   "cell_type": "code",
   "execution_count": null,
   "outputs": [],
   "source": [
    "df_II.query(\"TestFunction == 'F4'\").sort_values(by=[\"BestDiffFromOpt\"])"
   ],
   "metadata": {
    "collapsed": false,
    "pycharm": {
     "name": "#%%\n",
     "is_executing": true
    }
   }
  },
  {
   "cell_type": "code",
   "execution_count": null,
   "outputs": [],
   "source": [
    "df_II.query(\"TestFunction == 'F4'\").sort_values(by=[\"AverageDiffFromOpt\"])"
   ],
   "metadata": {
    "collapsed": false,
    "pycharm": {
     "name": "#%%\n",
     "is_executing": true
    }
   }
  },
  {
   "cell_type": "markdown",
   "source": [
    "# F8\n",
    "(2nd best fitness among the first iteration)\n",
    "### For 1st Iteration:\n",
    "- Best Diff: 20.17 -> 150 Generation / 10 Dimension / 15 Pop Size / 4 T / 100% CR / 80% MR / DMR True / 1 Elite\n",
    "    - Error: 20.17 / 140 -> 14.4%\n",
    "- Avr. Diff: 20.47 -> Same\n",
    "    - Error: 20.47 / 140 -> 14.6%\n",
    "\n",
    "### For 2nd Iteration:\n",
    "- Best Diff: 20.29 -> 1000 Generation / 10 Dimension / 20 Pop Size / 4 T / 100% CR / 20% MR / DMR True / 0 Elite\n",
    "    - Error: 20.29 / 140 -> 14.49%\n",
    "- Avr. Diff: 20.41 -> 1000 Generation / 10 Dimension / 10 Pop Size / 4 T / 100% CR / 20% MR / DMR True / 0 Elite\n",
    "    - Error: 20.41 / 140 -> 14.57%\n",
    "\n",
    "## Conclusion for F8:\n",
    "- Best fitness error slightly increased!!!\n",
    "- Gen 500 had similar result for best fitness as 1000.\n",
    "- Average fitness improved slightly.\n",
    "- No significant changes achieved when running it on higher number, as for previous functions.\n",
    "- Since best fitness was reached at the 150 generation we conclude that for F8 the optimizer works well as for other test functions it took 500, 1000 generations to reach similar results.\n"
   ],
   "metadata": {
    "collapsed": false,
    "pycharm": {
     "name": "#%% md\n"
    }
   }
  },
  {
   "cell_type": "code",
   "execution_count": null,
   "outputs": [],
   "source": [
    "df_II.query(\"TestFunction == 'F8'\").sort_values(by=[\"BestDiffFromOpt\"])"
   ],
   "metadata": {
    "collapsed": false,
    "pycharm": {
     "name": "#%%\n",
     "is_executing": true
    }
   }
  },
  {
   "cell_type": "code",
   "execution_count": null,
   "outputs": [],
   "source": [
    "df_II.query(\"TestFunction == 'F8'\").sort_values(by=[\"AverageDiffFromOpt\"])"
   ],
   "metadata": {
    "collapsed": false,
    "pycharm": {
     "name": "#%%\n",
     "is_executing": true
    }
   }
  },
  {
   "cell_type": "markdown",
   "source": [
    "# F13\n",
    "(Best fitness among the first iteration)\n",
    "### For 1st Iteration:\n",
    "- Best Diff: 1.8799 -> 150 Generation / 10 Dimension / 15 Pop Size / 4 T / 95% CR / 20% MR / DMR True / 0 Elite\n",
    "    - Error: 1.8799 / 130 ->  1.34%\n",
    "- Avr. Diff: 2.9072 -> 150 Generation / 10 Dimension / 10 Pop Size / 2 T / 95% CR / 20% MR / DMR True / 1 Elite\n",
    "    - Error: 2.9072 / 130 ->  2.28%\n",
    "\n",
    "### For 2nd Iteration:\n",
    "- Best Diff: 1.8799 -> 150 Generation / 10 Dimension / 15 Pop Size / 4 T / 95% CR / 20% MR / DMR True / 0 Elite\n",
    "    - Error: 1.8799 / 130 ->  1.34%\n",
    "- Avr. Diff: 2.9072 -> 150 Generation / 10 Dimension / 10 Pop Size / 2 T / 95% CR / 20% MR / DMR True / 1 Elite\n",
    "    - Error: 2.9072 / 130 ->  2.28%\n",
    "\n",
    "## Conclusion:\n"
   ],
   "metadata": {
    "collapsed": false,
    "pycharm": {
     "name": "#%% md\n"
    }
   }
  },
  {
   "cell_type": "code",
   "execution_count": null,
   "outputs": [],
   "source": [
    "df_II.query(\"TestFunction == 'F13'\")"
   ],
   "metadata": {
    "collapsed": false,
    "pycharm": {
     "name": "#%%\n",
     "is_executing": true
    }
   }
  },
  {
   "cell_type": "markdown",
   "source": [
    "# F17\n",
    "### For 1st Iteration:\n",
    "- Best Diff: 177.54 -> 150 Generation / 10 Dimension / 15 Pop Size / 2 T / 50% CR / 80% MR / DMR True / 1 Elite\n",
    "    - Error: 177.54 / 120 ->  147.95%\n",
    "- Avr. Diff: 223.09 -> 150 Generation / 10 Dimension / 15 Pop Size / 4 T / 100% CR / 20% MR / DMR True / 1 Elite\n",
    "    - Error: 223.09 / 120 ->  185.9%\n",
    "\n",
    "### For 2nd Iteration:\n",
    "\n",
    "\n",
    "## Conclusion:\n"
   ],
   "metadata": {
    "collapsed": false,
    "pycharm": {
     "name": "#%% md\n"
    }
   }
  },
  {
   "cell_type": "code",
   "execution_count": null,
   "outputs": [],
   "source": [
    "df_II.query(\"TestFunction == 'F17'\")"
   ],
   "metadata": {
    "collapsed": false,
    "pycharm": {
     "name": "#%%\n",
     "is_executing": true
    }
   }
  },
  {
   "cell_type": "markdown",
   "source": [
    "# F24\n",
    "### For 1st Iteration:\n",
    "- Best Diff: 242.76 -> 150 Generation / 10 Dimension / 15 Pop Size / 4 T / 95% CR / 20% MR / DMR False / 1 Elite\n",
    "    - Error: 242.76 / 260 -> 93.36%\n",
    "- Avr. Diff: 351.24 -> 150 Generation / 10 Dimension / 10 Pop Size / 4 T / 95% CR / 20% MR / DMR True / 1 Elite\n",
    "    - Error: 351.24 / 260 -> 135.09%\n",
    "\n",
    "### For 2nd Iteration:\n",
    "\n",
    "\n",
    "## Conclusion:\n"
   ],
   "metadata": {
    "collapsed": false,
    "pycharm": {
     "name": "#%% md\n"
    }
   }
  },
  {
   "cell_type": "code",
   "execution_count": null,
   "outputs": [],
   "source": [
    "df_II.query(\"TestFunction == 'F24'\")"
   ],
   "metadata": {
    "collapsed": false,
    "pycharm": {
     "name": "#%%\n",
     "is_executing": true
    }
   }
  }
 ],
 "metadata": {
  "kernelspec": {
   "display_name": "Python 3",
   "language": "python",
   "name": "python3"
  },
  "language_info": {
   "codemirror_mode": {
    "name": "ipython",
    "version": 2
   },
   "file_extension": ".py",
   "mimetype": "text/x-python",
   "name": "python",
   "nbconvert_exporter": "python",
   "pygments_lexer": "ipython2",
   "version": "2.7.6"
  }
 },
 "nbformat": 4,
 "nbformat_minor": 0
}