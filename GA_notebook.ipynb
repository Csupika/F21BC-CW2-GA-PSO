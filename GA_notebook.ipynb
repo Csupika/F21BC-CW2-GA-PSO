{
 "cells": [
  {
   "cell_type": "code",
   "execution_count": null,
   "metadata": {
    "collapsed": true,
    "pycharm": {
     "name": "#%%\n",
     "is_executing": true
    }
   },
   "outputs": [],
   "source": [
    "import pandas\n",
    "import pandas as pd\n",
    "\n",
    "from GA import GA\n",
    "import optproblems.cec2005 as optproblems"
   ]
  },
  {
   "cell_type": "markdown",
   "source": [],
   "metadata": {
    "collapsed": false,
    "pycharm": {
     "name": "#%% md\n"
    }
   }
  },
  {
   "cell_type": "markdown",
   "source": [
    "# Test Functions\n",
    "- F2: Shifted Schwefel’s Problem 1.2\n",
    "    - Uni-modal without noise\n",
    "- F4: Shifted Schwefel’s Problem 1.2 with Noise in Fitness\n",
    "    - Uni-modal with noise\n",
    "- F8: Shifted Rotated Ackley’s Function with Global Optimum on Bounds\n",
    "    - Single function\n",
    "    - Global optimum on bounds\n",
    "    - Multi-modal\n",
    "- F13: Shifted Expanded Griewank’s plus Rosenbrock’s Function (F8F2)\n",
    "    - Expanded Function\n",
    "    - Multi-modal\n",
    "- F17: Rotated Version of Hybrid Composition Function with Noise in Fitness\n",
    "    - Gaussian noise in fitness\n",
    "    - Multi-modal\n",
    "    - Huge number of local optima\n",
    "    - In-deterministic\n",
    "- F24: Rotated Hybrid Composition Function\n",
    "    - Composite function\n",
    "    - Huge number of local optima\n",
    "    - Multi-modal"
   ],
   "metadata": {
    "collapsed": false,
    "pycharm": {
     "name": "#%% md\n"
    }
   }
  },
  {
   "cell_type": "markdown",
   "source": [
    "# 1st Iteration of Configurations - Experiment with GA with Different Hyper Parameters\n",
    "First we explore how GA evaluates with a set of configurations using only lower numbers of generations"
   ],
   "metadata": {
    "collapsed": false,
    "pycharm": {
     "name": "#%% md\n"
    }
   }
  },
  {
   "cell_type": "markdown",
   "source": [
    "Hyper parameters"
   ],
   "metadata": {
    "collapsed": false,
    "pycharm": {
     "name": "#%% md\n"
    }
   }
  },
  {
   "cell_type": "code",
   "execution_count": 2,
   "outputs": [],
   "source": [
    "# F2 :   Unimodal without noise\n",
    "# F4 :   Unimodal with noise\n",
    "# F8 :   Single Function, Global Optimum on Bounds, Multi-modal\n",
    "# F13:   Expanded Function, Multi-modal\n",
    "# F17:   Gaussian noise in Fitness, Multi-modal, Huge number of local optima, indeterministic\n",
    "# F24:   Composite Function, Huge number of local optima, Multi-modal\n",
    "\n",
    "benchmarks_and_bounds = [optproblems.F2, [-100,100], \"F2\", optproblems.F4, [-100,100], \"F4\", optproblems.F8, [-32,32], \"F8\", optproblems.F13, [-3,1], \"F13\", optproblems.F17, [-5,5], \"F17\", optproblems.F24, [-5,5], \"F24\"]\n",
    "no_dimensions = [10, 30, 50]\n",
    "pop_sizes = [5, 10, 15]\n",
    "num_generations = [50, 150]\n",
    "tournament_t = [2, 4]\n",
    "crossover_percentage = [0.5, 0.95, 1]\n",
    "mutation_rates = [0.2, 0.8, 1]\n",
    "decreasing_mutation_rate = [True, False]\n",
    "elites = [0, 1]\n",
    "\n",
    "average_over_range = 5"
   ],
   "metadata": {
    "collapsed": false,
    "pycharm": {
     "name": "#%%\n"
    }
   }
  },
  {
   "cell_type": "markdown",
   "source": [
    "Run configuration suite over each configuration combination."
   ],
   "metadata": {
    "collapsed": false,
    "pycharm": {
     "name": "#%% md\n"
    }
   }
  },
  {
   "cell_type": "code",
   "execution_count": 3,
   "outputs": [],
   "source": [
    "run_configuration_suite = False\n",
    "if run_configuration_suite:\n",
    "\n",
    "    list_for_df = []\n",
    "    for i in range(0, len(benchmarks_and_bounds), 3):\n",
    "        number_of_functions = (len(benchmarks_and_bounds)/3)\n",
    "        print(f\"Progress: {i/3} / {number_of_functions}\")\n",
    "        bound = benchmarks_and_bounds[i+1]\n",
    "        benchmark_name = benchmarks_and_bounds[i+2]\n",
    "        for no_dimension in no_dimensions:\n",
    "            print(f\"\\tDimension: {no_dimension}\")\n",
    "            benchmark = benchmarks_and_bounds[i](no_dimension)\n",
    "            optimal_solution = benchmark.get_optimal_solutions()\n",
    "            benchmark.evaluate(optimal_solution[0])\n",
    "            optimal_minimum = optimal_solution[0].objective_values\n",
    "            for pop_size in pop_sizes:\n",
    "                print(f\"\\t\\tPopulation: {pop_size}\")\n",
    "                for t in tournament_t:\n",
    "                    for crossover in crossover_percentage:\n",
    "                        for mutation in mutation_rates:\n",
    "                            for dmr in decreasing_mutation_rate:\n",
    "                                for elite in elites:\n",
    "                                    for generations in num_generations:\n",
    "                                        average_fitness = 0\n",
    "                                        average_difference_from_optimal = 0\n",
    "\n",
    "                                        best_fitness = 0\n",
    "                                        best_time = 0\n",
    "                                        best_difference_from_optimal = 0\n",
    "\n",
    "                                        for j in range(average_over_range):\n",
    "                                            algorithm = GA(benchmark, no_dimension, bound, pop_size, num_generations=generations, t=t, crossover_percentage=crossover, mutation_rate=mutation, decreasing_mutation_rate=dmr, elite=elite)\n",
    "                                            result, time = algorithm.run()\n",
    "                                            fitness = result.fitness\n",
    "                                            diff_from_optimal = fitness - optimal_minimum\n",
    "\n",
    "                                            average_fitness += 1/average_over_range * fitness\n",
    "                                            average_difference_from_optimal += 1/average_over_range * diff_from_optimal\n",
    "\n",
    "                                            if j == 0:\n",
    "                                                best_fitness = fitness\n",
    "                                                best_difference_from_optimal = diff_from_optimal\n",
    "                                                best_time = time\n",
    "                                                continue\n",
    "\n",
    "                                            if fitness < best_fitness:\n",
    "                                                best_fitness = fitness\n",
    "\n",
    "                                            if diff_from_optimal < best_difference_from_optimal:\n",
    "                                                best_difference_from_optimal = diff_from_optimal\n",
    "\n",
    "                                            if time < best_time:\n",
    "                                                best_time = time\n",
    "\n",
    "                                        result_and_configuration = [benchmark_name, optimal_minimum, best_fitness, best_difference_from_optimal, average_fitness, average_difference_from_optimal, best_time, generations, no_dimension, pop_size, t, crossover, mutation, dmr, elite, bound, average_over_range]\n",
    "                                        list_for_df.append(result_and_configuration)\n",
    "\n",
    "    labels = [\"TestFunction\", \"OptimalMinimum\", \"BestFitness\", \"BestDiffFromOpt\", \"AverageFitness\", \"AverageDiffFromOpt\", \"TimePerRun\", \"Generations\", \"NoDimension\", \"PopSize\", \"TForTournament\", \"CrossoverPerc\", \"MutationRate\", \"DecreasingMutationRate\", \"Elite\", \"Bounds\", \"AverageOverRange\"]\n",
    "    df = pandas.DataFrame(data=list_for_df, columns=labels)\n",
    "    df.to_pickle(\"GA_df.pkl\")\n",
    "else:\n",
    "    df = pd.read_pickle(\"GA_df.pkl\")"
   ],
   "metadata": {
    "collapsed": false,
    "pycharm": {
     "name": "#%%\n"
    }
   }
  },
  {
   "cell_type": "markdown",
   "source": [
    "## Results of the 1st Iteration"
   ],
   "metadata": {
    "collapsed": false,
    "pycharm": {
     "name": "#%% md\n"
    }
   }
  },
  {
   "cell_type": "markdown",
   "source": [
    "# F2:\n",
    "\n",
    "- Best Diff: 312.11 -> 150 Generation / 10 Dimension / 15 Pop Size / 2 T / 100% CR / 20% MR / DMR True / 1 Elite\n",
    "    -  Error: 312.11 / 450 -> 69.36%\n",
    "- Avr. Diff: 913.20 -> 150 Generation / 10 Dimension / 15 Pop Size / 4 T / 95%  CR / 20% MR / DMR True / 1 Elite\n",
    "    - Error: 913.20 / 450 -> 202.93%"
   ],
   "metadata": {
    "collapsed": false,
    "pycharm": {
     "name": "#%% md\n"
    }
   }
  },
  {
   "cell_type": "code",
   "execution_count": 4,
   "outputs": [
    {
     "data": {
      "text/plain": "    TestFunction  OptimalMinimum  BestFitness  BestDiffFromOpt  \\\n339           F2          -450.0   -137.88671        312.11329   \n\n     AverageFitness  AverageDiffFromOpt  TimePerRun  Generations  NoDimension  \\\n339     1386.667757         1836.667757     0.07543          150           10   \n\n     PopSize  TForTournament  CrossoverPerc  MutationRate  \\\n339       15               2            1.0           0.2   \n\n     DecreasingMutationRate  Elite       Bounds  AverageOverRange  \n339                    True      1  [-100, 100]                 5  ",
      "text/html": "<div>\n<style scoped>\n    .dataframe tbody tr th:only-of-type {\n        vertical-align: middle;\n    }\n\n    .dataframe tbody tr th {\n        vertical-align: top;\n    }\n\n    .dataframe thead th {\n        text-align: right;\n    }\n</style>\n<table border=\"1\" class=\"dataframe\">\n  <thead>\n    <tr style=\"text-align: right;\">\n      <th></th>\n      <th>TestFunction</th>\n      <th>OptimalMinimum</th>\n      <th>BestFitness</th>\n      <th>BestDiffFromOpt</th>\n      <th>AverageFitness</th>\n      <th>AverageDiffFromOpt</th>\n      <th>TimePerRun</th>\n      <th>Generations</th>\n      <th>NoDimension</th>\n      <th>PopSize</th>\n      <th>TForTournament</th>\n      <th>CrossoverPerc</th>\n      <th>MutationRate</th>\n      <th>DecreasingMutationRate</th>\n      <th>Elite</th>\n      <th>Bounds</th>\n      <th>AverageOverRange</th>\n    </tr>\n  </thead>\n  <tbody>\n    <tr>\n      <th>339</th>\n      <td>F2</td>\n      <td>-450.0</td>\n      <td>-137.88671</td>\n      <td>312.11329</td>\n      <td>1386.667757</td>\n      <td>1836.667757</td>\n      <td>0.07543</td>\n      <td>150</td>\n      <td>10</td>\n      <td>15</td>\n      <td>2</td>\n      <td>1.0</td>\n      <td>0.2</td>\n      <td>True</td>\n      <td>1</td>\n      <td>[-100, 100]</td>\n      <td>5</td>\n    </tr>\n  </tbody>\n</table>\n</div>"
     },
     "execution_count": 4,
     "metadata": {},
     "output_type": "execute_result"
    }
   ],
   "source": [
    "# Best Fitness\n",
    "df_F2_1st = df.query(\"TestFunction == 'F2'\")\n",
    "df_F2_1st[df_F2_1st.BestDiffFromOpt == df_F2_1st.BestDiffFromOpt.min()]"
   ],
   "metadata": {
    "collapsed": false,
    "pycharm": {
     "name": "#%%\n"
    }
   }
  },
  {
   "cell_type": "code",
   "execution_count": 5,
   "outputs": [
    {
     "data": {
      "text/plain": "    TestFunction  OptimalMinimum  BestFitness  BestDiffFromOpt  \\\n387           F2          -450.0   136.349155       586.349155   \n\n     AverageFitness  AverageDiffFromOpt  TimePerRun  Generations  NoDimension  \\\n387      463.202679          913.202679     0.07794          150           10   \n\n     PopSize  TForTournament  CrossoverPerc  MutationRate  \\\n387       15               4           0.95           0.2   \n\n     DecreasingMutationRate  Elite       Bounds  AverageOverRange  \n387                    True      1  [-100, 100]                 5  ",
      "text/html": "<div>\n<style scoped>\n    .dataframe tbody tr th:only-of-type {\n        vertical-align: middle;\n    }\n\n    .dataframe tbody tr th {\n        vertical-align: top;\n    }\n\n    .dataframe thead th {\n        text-align: right;\n    }\n</style>\n<table border=\"1\" class=\"dataframe\">\n  <thead>\n    <tr style=\"text-align: right;\">\n      <th></th>\n      <th>TestFunction</th>\n      <th>OptimalMinimum</th>\n      <th>BestFitness</th>\n      <th>BestDiffFromOpt</th>\n      <th>AverageFitness</th>\n      <th>AverageDiffFromOpt</th>\n      <th>TimePerRun</th>\n      <th>Generations</th>\n      <th>NoDimension</th>\n      <th>PopSize</th>\n      <th>TForTournament</th>\n      <th>CrossoverPerc</th>\n      <th>MutationRate</th>\n      <th>DecreasingMutationRate</th>\n      <th>Elite</th>\n      <th>Bounds</th>\n      <th>AverageOverRange</th>\n    </tr>\n  </thead>\n  <tbody>\n    <tr>\n      <th>387</th>\n      <td>F2</td>\n      <td>-450.0</td>\n      <td>136.349155</td>\n      <td>586.349155</td>\n      <td>463.202679</td>\n      <td>913.202679</td>\n      <td>0.07794</td>\n      <td>150</td>\n      <td>10</td>\n      <td>15</td>\n      <td>4</td>\n      <td>0.95</td>\n      <td>0.2</td>\n      <td>True</td>\n      <td>1</td>\n      <td>[-100, 100]</td>\n      <td>5</td>\n    </tr>\n  </tbody>\n</table>\n</div>"
     },
     "execution_count": 5,
     "metadata": {},
     "output_type": "execute_result"
    }
   ],
   "source": [
    "# Best Average Fitness\n",
    "df_F2_1st[df_F2_1st.AverageDiffFromOpt == df_F2_1st.AverageDiffFromOpt.min()]"
   ],
   "metadata": {
    "collapsed": false,
    "pycharm": {
     "name": "#%%\n"
    }
   }
  },
  {
   "cell_type": "code",
   "execution_count": 6,
   "outputs": [
    {
     "data": {
      "text/plain": "     TestFunction  OptimalMinimum    BestFitness  BestDiffFromOpt  \\\n0              F2          -450.0   17690.525955     18140.525955   \n1              F2          -450.0   14235.020676     14685.020676   \n2              F2          -450.0    6013.072511      6463.072511   \n3              F2          -450.0    1868.742268      2318.742268   \n4              F2          -450.0   21611.965380     22061.965380   \n...           ...             ...            ...              ...   \n1291           F2          -450.0  112341.304928    112791.304928   \n1292           F2          -450.0  590805.599163    591255.599163   \n1293           F2          -450.0  575018.988130    575468.988130   \n1294           F2          -450.0  232243.327721    232693.327721   \n1295           F2          -450.0  260139.410316    260589.410316   \n\n      AverageFitness  AverageDiffFromOpt  TimePerRun  Generations  \\\n0       3.213329e+04        3.258329e+04    0.011128           50   \n1       2.238459e+04        2.283459e+04    0.027806          150   \n2       1.487255e+04        1.532255e+04    0.010348           50   \n3       5.054819e+03        5.504819e+03    0.031108          150   \n4       5.134586e+04        5.179586e+04    0.009959           50   \n...              ...                 ...         ...          ...   \n1291    1.461942e+05        1.466442e+05    0.321514          150   \n1292    9.641332e+05        9.645832e+05    0.171331           50   \n1293    1.290336e+06        1.290786e+06    0.513789          150   \n1294    3.293918e+05        3.298418e+05    0.154155           50   \n1295    2.829519e+05        2.834019e+05    0.470305          150   \n\n      NoDimension  PopSize  TForTournament  CrossoverPerc  MutationRate  \\\n0              10        5               2            0.5           0.2   \n1              10        5               2            0.5           0.2   \n2              10        5               2            0.5           0.2   \n3              10        5               2            0.5           0.2   \n4              10        5               2            0.5           0.2   \n...           ...      ...             ...            ...           ...   \n1291           50       15               4            1.0           1.0   \n1292           50       15               4            1.0           1.0   \n1293           50       15               4            1.0           1.0   \n1294           50       15               4            1.0           1.0   \n1295           50       15               4            1.0           1.0   \n\n      DecreasingMutationRate  Elite       Bounds  AverageOverRange  \n0                       True      0  [-100, 100]                 5  \n1                       True      0  [-100, 100]                 5  \n2                       True      1  [-100, 100]                 5  \n3                       True      1  [-100, 100]                 5  \n4                      False      0  [-100, 100]                 5  \n...                      ...    ...          ...               ...  \n1291                    True      1  [-100, 100]                 5  \n1292                   False      0  [-100, 100]                 5  \n1293                   False      0  [-100, 100]                 5  \n1294                   False      1  [-100, 100]                 5  \n1295                   False      1  [-100, 100]                 5  \n\n[1296 rows x 17 columns]",
      "text/html": "<div>\n<style scoped>\n    .dataframe tbody tr th:only-of-type {\n        vertical-align: middle;\n    }\n\n    .dataframe tbody tr th {\n        vertical-align: top;\n    }\n\n    .dataframe thead th {\n        text-align: right;\n    }\n</style>\n<table border=\"1\" class=\"dataframe\">\n  <thead>\n    <tr style=\"text-align: right;\">\n      <th></th>\n      <th>TestFunction</th>\n      <th>OptimalMinimum</th>\n      <th>BestFitness</th>\n      <th>BestDiffFromOpt</th>\n      <th>AverageFitness</th>\n      <th>AverageDiffFromOpt</th>\n      <th>TimePerRun</th>\n      <th>Generations</th>\n      <th>NoDimension</th>\n      <th>PopSize</th>\n      <th>TForTournament</th>\n      <th>CrossoverPerc</th>\n      <th>MutationRate</th>\n      <th>DecreasingMutationRate</th>\n      <th>Elite</th>\n      <th>Bounds</th>\n      <th>AverageOverRange</th>\n    </tr>\n  </thead>\n  <tbody>\n    <tr>\n      <th>0</th>\n      <td>F2</td>\n      <td>-450.0</td>\n      <td>17690.525955</td>\n      <td>18140.525955</td>\n      <td>3.213329e+04</td>\n      <td>3.258329e+04</td>\n      <td>0.011128</td>\n      <td>50</td>\n      <td>10</td>\n      <td>5</td>\n      <td>2</td>\n      <td>0.5</td>\n      <td>0.2</td>\n      <td>True</td>\n      <td>0</td>\n      <td>[-100, 100]</td>\n      <td>5</td>\n    </tr>\n    <tr>\n      <th>1</th>\n      <td>F2</td>\n      <td>-450.0</td>\n      <td>14235.020676</td>\n      <td>14685.020676</td>\n      <td>2.238459e+04</td>\n      <td>2.283459e+04</td>\n      <td>0.027806</td>\n      <td>150</td>\n      <td>10</td>\n      <td>5</td>\n      <td>2</td>\n      <td>0.5</td>\n      <td>0.2</td>\n      <td>True</td>\n      <td>0</td>\n      <td>[-100, 100]</td>\n      <td>5</td>\n    </tr>\n    <tr>\n      <th>2</th>\n      <td>F2</td>\n      <td>-450.0</td>\n      <td>6013.072511</td>\n      <td>6463.072511</td>\n      <td>1.487255e+04</td>\n      <td>1.532255e+04</td>\n      <td>0.010348</td>\n      <td>50</td>\n      <td>10</td>\n      <td>5</td>\n      <td>2</td>\n      <td>0.5</td>\n      <td>0.2</td>\n      <td>True</td>\n      <td>1</td>\n      <td>[-100, 100]</td>\n      <td>5</td>\n    </tr>\n    <tr>\n      <th>3</th>\n      <td>F2</td>\n      <td>-450.0</td>\n      <td>1868.742268</td>\n      <td>2318.742268</td>\n      <td>5.054819e+03</td>\n      <td>5.504819e+03</td>\n      <td>0.031108</td>\n      <td>150</td>\n      <td>10</td>\n      <td>5</td>\n      <td>2</td>\n      <td>0.5</td>\n      <td>0.2</td>\n      <td>True</td>\n      <td>1</td>\n      <td>[-100, 100]</td>\n      <td>5</td>\n    </tr>\n    <tr>\n      <th>4</th>\n      <td>F2</td>\n      <td>-450.0</td>\n      <td>21611.965380</td>\n      <td>22061.965380</td>\n      <td>5.134586e+04</td>\n      <td>5.179586e+04</td>\n      <td>0.009959</td>\n      <td>50</td>\n      <td>10</td>\n      <td>5</td>\n      <td>2</td>\n      <td>0.5</td>\n      <td>0.2</td>\n      <td>False</td>\n      <td>0</td>\n      <td>[-100, 100]</td>\n      <td>5</td>\n    </tr>\n    <tr>\n      <th>...</th>\n      <td>...</td>\n      <td>...</td>\n      <td>...</td>\n      <td>...</td>\n      <td>...</td>\n      <td>...</td>\n      <td>...</td>\n      <td>...</td>\n      <td>...</td>\n      <td>...</td>\n      <td>...</td>\n      <td>...</td>\n      <td>...</td>\n      <td>...</td>\n      <td>...</td>\n      <td>...</td>\n      <td>...</td>\n    </tr>\n    <tr>\n      <th>1291</th>\n      <td>F2</td>\n      <td>-450.0</td>\n      <td>112341.304928</td>\n      <td>112791.304928</td>\n      <td>1.461942e+05</td>\n      <td>1.466442e+05</td>\n      <td>0.321514</td>\n      <td>150</td>\n      <td>50</td>\n      <td>15</td>\n      <td>4</td>\n      <td>1.0</td>\n      <td>1.0</td>\n      <td>True</td>\n      <td>1</td>\n      <td>[-100, 100]</td>\n      <td>5</td>\n    </tr>\n    <tr>\n      <th>1292</th>\n      <td>F2</td>\n      <td>-450.0</td>\n      <td>590805.599163</td>\n      <td>591255.599163</td>\n      <td>9.641332e+05</td>\n      <td>9.645832e+05</td>\n      <td>0.171331</td>\n      <td>50</td>\n      <td>50</td>\n      <td>15</td>\n      <td>4</td>\n      <td>1.0</td>\n      <td>1.0</td>\n      <td>False</td>\n      <td>0</td>\n      <td>[-100, 100]</td>\n      <td>5</td>\n    </tr>\n    <tr>\n      <th>1293</th>\n      <td>F2</td>\n      <td>-450.0</td>\n      <td>575018.988130</td>\n      <td>575468.988130</td>\n      <td>1.290336e+06</td>\n      <td>1.290786e+06</td>\n      <td>0.513789</td>\n      <td>150</td>\n      <td>50</td>\n      <td>15</td>\n      <td>4</td>\n      <td>1.0</td>\n      <td>1.0</td>\n      <td>False</td>\n      <td>0</td>\n      <td>[-100, 100]</td>\n      <td>5</td>\n    </tr>\n    <tr>\n      <th>1294</th>\n      <td>F2</td>\n      <td>-450.0</td>\n      <td>232243.327721</td>\n      <td>232693.327721</td>\n      <td>3.293918e+05</td>\n      <td>3.298418e+05</td>\n      <td>0.154155</td>\n      <td>50</td>\n      <td>50</td>\n      <td>15</td>\n      <td>4</td>\n      <td>1.0</td>\n      <td>1.0</td>\n      <td>False</td>\n      <td>1</td>\n      <td>[-100, 100]</td>\n      <td>5</td>\n    </tr>\n    <tr>\n      <th>1295</th>\n      <td>F2</td>\n      <td>-450.0</td>\n      <td>260139.410316</td>\n      <td>260589.410316</td>\n      <td>2.829519e+05</td>\n      <td>2.834019e+05</td>\n      <td>0.470305</td>\n      <td>150</td>\n      <td>50</td>\n      <td>15</td>\n      <td>4</td>\n      <td>1.0</td>\n      <td>1.0</td>\n      <td>False</td>\n      <td>1</td>\n      <td>[-100, 100]</td>\n      <td>5</td>\n    </tr>\n  </tbody>\n</table>\n<p>1296 rows × 17 columns</p>\n</div>"
     },
     "execution_count": 6,
     "metadata": {},
     "output_type": "execute_result"
    }
   ],
   "source": [
    "df_F2_1st"
   ],
   "metadata": {
    "collapsed": false,
    "pycharm": {
     "name": "#%%\n"
    }
   }
  },
  {
   "cell_type": "markdown",
   "source": [
    "# F4\n",
    "- Best Diff: 459.44 -> 150 Generation / 10 Dimension / 15 Pop Size / 4 T / 95% CR / 20% MR / DMR False / 1 Elite\n",
    "    - Error: 459.44 / 450 ->  102.09%\n",
    "- Avr. Diff: 1841.4 -> 150 Generation / 10 Dimension / 15 Pop Size / 2 T / 95%  CR / 20% MR / DMR True / 1 Elite\n",
    "    - Error: 1841.4 / 450 ->  409.2%"
   ],
   "metadata": {
    "collapsed": false,
    "pycharm": {
     "name": "#%% md\n"
    }
   }
  },
  {
   "cell_type": "code",
   "execution_count": 7,
   "outputs": [
    {
     "data": {
      "text/plain": "     TestFunction  OptimalMinimum  BestFitness  BestDiffFromOpt  \\\n1687           F4          -450.0     9.440808       459.440808   \n\n      AverageFitness  AverageDiffFromOpt  TimePerRun  Generations  \\\n1687     2122.914216         2572.914216    0.089259          150   \n\n      NoDimension  PopSize  TForTournament  CrossoverPerc  MutationRate  \\\n1687           10       15               4           0.95           0.2   \n\n      DecreasingMutationRate  Elite       Bounds  AverageOverRange  \n1687                   False      1  [-100, 100]                 5  ",
      "text/html": "<div>\n<style scoped>\n    .dataframe tbody tr th:only-of-type {\n        vertical-align: middle;\n    }\n\n    .dataframe tbody tr th {\n        vertical-align: top;\n    }\n\n    .dataframe thead th {\n        text-align: right;\n    }\n</style>\n<table border=\"1\" class=\"dataframe\">\n  <thead>\n    <tr style=\"text-align: right;\">\n      <th></th>\n      <th>TestFunction</th>\n      <th>OptimalMinimum</th>\n      <th>BestFitness</th>\n      <th>BestDiffFromOpt</th>\n      <th>AverageFitness</th>\n      <th>AverageDiffFromOpt</th>\n      <th>TimePerRun</th>\n      <th>Generations</th>\n      <th>NoDimension</th>\n      <th>PopSize</th>\n      <th>TForTournament</th>\n      <th>CrossoverPerc</th>\n      <th>MutationRate</th>\n      <th>DecreasingMutationRate</th>\n      <th>Elite</th>\n      <th>Bounds</th>\n      <th>AverageOverRange</th>\n    </tr>\n  </thead>\n  <tbody>\n    <tr>\n      <th>1687</th>\n      <td>F4</td>\n      <td>-450.0</td>\n      <td>9.440808</td>\n      <td>459.440808</td>\n      <td>2122.914216</td>\n      <td>2572.914216</td>\n      <td>0.089259</td>\n      <td>150</td>\n      <td>10</td>\n      <td>15</td>\n      <td>4</td>\n      <td>0.95</td>\n      <td>0.2</td>\n      <td>False</td>\n      <td>1</td>\n      <td>[-100, 100]</td>\n      <td>5</td>\n    </tr>\n  </tbody>\n</table>\n</div>"
     },
     "execution_count": 7,
     "metadata": {},
     "output_type": "execute_result"
    }
   ],
   "source": [
    "# Best Fitness\n",
    "df_F4_1st = df.query(\"TestFunction == 'F4'\")\n",
    "df_F4_1st[df_F4_1st.BestDiffFromOpt == df_F4_1st.BestDiffFromOpt.min()]"
   ],
   "metadata": {
    "collapsed": false,
    "pycharm": {
     "name": "#%%\n"
    }
   }
  },
  {
   "cell_type": "code",
   "execution_count": 8,
   "outputs": [
    {
     "data": {
      "text/plain": "     TestFunction  OptimalMinimum  BestFitness  BestDiffFromOpt  \\\n1611           F4          -450.0   553.466922      1003.466922   \n\n      AverageFitness  AverageDiffFromOpt  TimePerRun  Generations  \\\n1611     1391.481705         1841.481705    0.079499          150   \n\n      NoDimension  PopSize  TForTournament  CrossoverPerc  MutationRate  \\\n1611           10       15               2           0.95           0.2   \n\n      DecreasingMutationRate  Elite       Bounds  AverageOverRange  \n1611                    True      1  [-100, 100]                 5  ",
      "text/html": "<div>\n<style scoped>\n    .dataframe tbody tr th:only-of-type {\n        vertical-align: middle;\n    }\n\n    .dataframe tbody tr th {\n        vertical-align: top;\n    }\n\n    .dataframe thead th {\n        text-align: right;\n    }\n</style>\n<table border=\"1\" class=\"dataframe\">\n  <thead>\n    <tr style=\"text-align: right;\">\n      <th></th>\n      <th>TestFunction</th>\n      <th>OptimalMinimum</th>\n      <th>BestFitness</th>\n      <th>BestDiffFromOpt</th>\n      <th>AverageFitness</th>\n      <th>AverageDiffFromOpt</th>\n      <th>TimePerRun</th>\n      <th>Generations</th>\n      <th>NoDimension</th>\n      <th>PopSize</th>\n      <th>TForTournament</th>\n      <th>CrossoverPerc</th>\n      <th>MutationRate</th>\n      <th>DecreasingMutationRate</th>\n      <th>Elite</th>\n      <th>Bounds</th>\n      <th>AverageOverRange</th>\n    </tr>\n  </thead>\n  <tbody>\n    <tr>\n      <th>1611</th>\n      <td>F4</td>\n      <td>-450.0</td>\n      <td>553.466922</td>\n      <td>1003.466922</td>\n      <td>1391.481705</td>\n      <td>1841.481705</td>\n      <td>0.079499</td>\n      <td>150</td>\n      <td>10</td>\n      <td>15</td>\n      <td>2</td>\n      <td>0.95</td>\n      <td>0.2</td>\n      <td>True</td>\n      <td>1</td>\n      <td>[-100, 100]</td>\n      <td>5</td>\n    </tr>\n  </tbody>\n</table>\n</div>"
     },
     "execution_count": 8,
     "metadata": {},
     "output_type": "execute_result"
    }
   ],
   "source": [
    "# Best Average Fitness\n",
    "df_F4_1st[df_F4_1st.AverageDiffFromOpt == df_F4_1st.AverageDiffFromOpt.min()]"
   ],
   "metadata": {
    "collapsed": false,
    "pycharm": {
     "name": "#%%\n"
    }
   }
  },
  {
   "cell_type": "code",
   "execution_count": 9,
   "outputs": [
    {
     "data": {
      "text/plain": "     TestFunction  OptimalMinimum    BestFitness  BestDiffFromOpt  \\\n1296           F4          -450.0   19648.328195     20098.328195   \n1297           F4          -450.0   43889.355029     44339.355029   \n1298           F4          -450.0    3226.647401      3676.647401   \n1299           F4          -450.0    1952.865879      2402.865879   \n1300           F4          -450.0   53798.825239     54248.825239   \n...           ...             ...            ...              ...   \n2587           F4          -450.0  161980.060540    162430.060540   \n2588           F4          -450.0  404325.050245    404775.050245   \n2589           F4          -450.0  474857.028769    475307.028769   \n2590           F4          -450.0  367568.143286    368018.143286   \n2591           F4          -450.0  318431.871318    318881.871318   \n\n      AverageFitness  AverageDiffFromOpt  TimePerRun  Generations  \\\n1296    4.668801e+04        4.713801e+04    0.009338           50   \n1297    5.329062e+04        5.374062e+04    0.028457          150   \n1298    1.438899e+04        1.483899e+04    0.009620           50   \n1299    6.795449e+03        7.245449e+03    0.032871          150   \n1300    1.240192e+05        1.244692e+05    0.011265           50   \n...              ...                 ...         ...          ...   \n2587    2.346768e+05        2.351268e+05    0.328651          150   \n2588    1.207540e+06        1.207990e+06    0.172086           50   \n2589    1.385936e+06        1.386386e+06    0.524369          150   \n2590    5.447924e+05        5.452424e+05    0.155512           50   \n2591    4.299755e+05        4.304255e+05    0.470834          150   \n\n      NoDimension  PopSize  TForTournament  CrossoverPerc  MutationRate  \\\n1296           10        5               2            0.5           0.2   \n1297           10        5               2            0.5           0.2   \n1298           10        5               2            0.5           0.2   \n1299           10        5               2            0.5           0.2   \n1300           10        5               2            0.5           0.2   \n...           ...      ...             ...            ...           ...   \n2587           50       15               4            1.0           1.0   \n2588           50       15               4            1.0           1.0   \n2589           50       15               4            1.0           1.0   \n2590           50       15               4            1.0           1.0   \n2591           50       15               4            1.0           1.0   \n\n      DecreasingMutationRate  Elite       Bounds  AverageOverRange  \n1296                    True      0  [-100, 100]                 5  \n1297                    True      0  [-100, 100]                 5  \n1298                    True      1  [-100, 100]                 5  \n1299                    True      1  [-100, 100]                 5  \n1300                   False      0  [-100, 100]                 5  \n...                      ...    ...          ...               ...  \n2587                    True      1  [-100, 100]                 5  \n2588                   False      0  [-100, 100]                 5  \n2589                   False      0  [-100, 100]                 5  \n2590                   False      1  [-100, 100]                 5  \n2591                   False      1  [-100, 100]                 5  \n\n[1296 rows x 17 columns]",
      "text/html": "<div>\n<style scoped>\n    .dataframe tbody tr th:only-of-type {\n        vertical-align: middle;\n    }\n\n    .dataframe tbody tr th {\n        vertical-align: top;\n    }\n\n    .dataframe thead th {\n        text-align: right;\n    }\n</style>\n<table border=\"1\" class=\"dataframe\">\n  <thead>\n    <tr style=\"text-align: right;\">\n      <th></th>\n      <th>TestFunction</th>\n      <th>OptimalMinimum</th>\n      <th>BestFitness</th>\n      <th>BestDiffFromOpt</th>\n      <th>AverageFitness</th>\n      <th>AverageDiffFromOpt</th>\n      <th>TimePerRun</th>\n      <th>Generations</th>\n      <th>NoDimension</th>\n      <th>PopSize</th>\n      <th>TForTournament</th>\n      <th>CrossoverPerc</th>\n      <th>MutationRate</th>\n      <th>DecreasingMutationRate</th>\n      <th>Elite</th>\n      <th>Bounds</th>\n      <th>AverageOverRange</th>\n    </tr>\n  </thead>\n  <tbody>\n    <tr>\n      <th>1296</th>\n      <td>F4</td>\n      <td>-450.0</td>\n      <td>19648.328195</td>\n      <td>20098.328195</td>\n      <td>4.668801e+04</td>\n      <td>4.713801e+04</td>\n      <td>0.009338</td>\n      <td>50</td>\n      <td>10</td>\n      <td>5</td>\n      <td>2</td>\n      <td>0.5</td>\n      <td>0.2</td>\n      <td>True</td>\n      <td>0</td>\n      <td>[-100, 100]</td>\n      <td>5</td>\n    </tr>\n    <tr>\n      <th>1297</th>\n      <td>F4</td>\n      <td>-450.0</td>\n      <td>43889.355029</td>\n      <td>44339.355029</td>\n      <td>5.329062e+04</td>\n      <td>5.374062e+04</td>\n      <td>0.028457</td>\n      <td>150</td>\n      <td>10</td>\n      <td>5</td>\n      <td>2</td>\n      <td>0.5</td>\n      <td>0.2</td>\n      <td>True</td>\n      <td>0</td>\n      <td>[-100, 100]</td>\n      <td>5</td>\n    </tr>\n    <tr>\n      <th>1298</th>\n      <td>F4</td>\n      <td>-450.0</td>\n      <td>3226.647401</td>\n      <td>3676.647401</td>\n      <td>1.438899e+04</td>\n      <td>1.483899e+04</td>\n      <td>0.009620</td>\n      <td>50</td>\n      <td>10</td>\n      <td>5</td>\n      <td>2</td>\n      <td>0.5</td>\n      <td>0.2</td>\n      <td>True</td>\n      <td>1</td>\n      <td>[-100, 100]</td>\n      <td>5</td>\n    </tr>\n    <tr>\n      <th>1299</th>\n      <td>F4</td>\n      <td>-450.0</td>\n      <td>1952.865879</td>\n      <td>2402.865879</td>\n      <td>6.795449e+03</td>\n      <td>7.245449e+03</td>\n      <td>0.032871</td>\n      <td>150</td>\n      <td>10</td>\n      <td>5</td>\n      <td>2</td>\n      <td>0.5</td>\n      <td>0.2</td>\n      <td>True</td>\n      <td>1</td>\n      <td>[-100, 100]</td>\n      <td>5</td>\n    </tr>\n    <tr>\n      <th>1300</th>\n      <td>F4</td>\n      <td>-450.0</td>\n      <td>53798.825239</td>\n      <td>54248.825239</td>\n      <td>1.240192e+05</td>\n      <td>1.244692e+05</td>\n      <td>0.011265</td>\n      <td>50</td>\n      <td>10</td>\n      <td>5</td>\n      <td>2</td>\n      <td>0.5</td>\n      <td>0.2</td>\n      <td>False</td>\n      <td>0</td>\n      <td>[-100, 100]</td>\n      <td>5</td>\n    </tr>\n    <tr>\n      <th>...</th>\n      <td>...</td>\n      <td>...</td>\n      <td>...</td>\n      <td>...</td>\n      <td>...</td>\n      <td>...</td>\n      <td>...</td>\n      <td>...</td>\n      <td>...</td>\n      <td>...</td>\n      <td>...</td>\n      <td>...</td>\n      <td>...</td>\n      <td>...</td>\n      <td>...</td>\n      <td>...</td>\n      <td>...</td>\n    </tr>\n    <tr>\n      <th>2587</th>\n      <td>F4</td>\n      <td>-450.0</td>\n      <td>161980.060540</td>\n      <td>162430.060540</td>\n      <td>2.346768e+05</td>\n      <td>2.351268e+05</td>\n      <td>0.328651</td>\n      <td>150</td>\n      <td>50</td>\n      <td>15</td>\n      <td>4</td>\n      <td>1.0</td>\n      <td>1.0</td>\n      <td>True</td>\n      <td>1</td>\n      <td>[-100, 100]</td>\n      <td>5</td>\n    </tr>\n    <tr>\n      <th>2588</th>\n      <td>F4</td>\n      <td>-450.0</td>\n      <td>404325.050245</td>\n      <td>404775.050245</td>\n      <td>1.207540e+06</td>\n      <td>1.207990e+06</td>\n      <td>0.172086</td>\n      <td>50</td>\n      <td>50</td>\n      <td>15</td>\n      <td>4</td>\n      <td>1.0</td>\n      <td>1.0</td>\n      <td>False</td>\n      <td>0</td>\n      <td>[-100, 100]</td>\n      <td>5</td>\n    </tr>\n    <tr>\n      <th>2589</th>\n      <td>F4</td>\n      <td>-450.0</td>\n      <td>474857.028769</td>\n      <td>475307.028769</td>\n      <td>1.385936e+06</td>\n      <td>1.386386e+06</td>\n      <td>0.524369</td>\n      <td>150</td>\n      <td>50</td>\n      <td>15</td>\n      <td>4</td>\n      <td>1.0</td>\n      <td>1.0</td>\n      <td>False</td>\n      <td>0</td>\n      <td>[-100, 100]</td>\n      <td>5</td>\n    </tr>\n    <tr>\n      <th>2590</th>\n      <td>F4</td>\n      <td>-450.0</td>\n      <td>367568.143286</td>\n      <td>368018.143286</td>\n      <td>5.447924e+05</td>\n      <td>5.452424e+05</td>\n      <td>0.155512</td>\n      <td>50</td>\n      <td>50</td>\n      <td>15</td>\n      <td>4</td>\n      <td>1.0</td>\n      <td>1.0</td>\n      <td>False</td>\n      <td>1</td>\n      <td>[-100, 100]</td>\n      <td>5</td>\n    </tr>\n    <tr>\n      <th>2591</th>\n      <td>F4</td>\n      <td>-450.0</td>\n      <td>318431.871318</td>\n      <td>318881.871318</td>\n      <td>4.299755e+05</td>\n      <td>4.304255e+05</td>\n      <td>0.470834</td>\n      <td>150</td>\n      <td>50</td>\n      <td>15</td>\n      <td>4</td>\n      <td>1.0</td>\n      <td>1.0</td>\n      <td>False</td>\n      <td>1</td>\n      <td>[-100, 100]</td>\n      <td>5</td>\n    </tr>\n  </tbody>\n</table>\n<p>1296 rows × 17 columns</p>\n</div>"
     },
     "execution_count": 9,
     "metadata": {},
     "output_type": "execute_result"
    }
   ],
   "source": [
    "df_F4_1st"
   ],
   "metadata": {
    "collapsed": false,
    "pycharm": {
     "name": "#%%\n"
    }
   }
  },
  {
   "cell_type": "markdown",
   "source": [
    "# F8\n",
    "- Best Diff: 20.17 -> 150 Generation / 10 Dimension / 15 Pop Size / 4 T / 100% CR / 80% MR / DMR True / 1 Elite\n",
    "    - Error: 20.17 / 140 -> 14.4%\n",
    "- Avr. Diff: 20.47 -> Same\n",
    "    - Error: 20.47 / 140 -> 14.6%"
   ],
   "metadata": {
    "collapsed": false,
    "pycharm": {
     "name": "#%% md\n"
    }
   }
  },
  {
   "cell_type": "code",
   "execution_count": 10,
   "outputs": [
    {
     "data": {
      "text/plain": "     TestFunction  OptimalMinimum  BestFitness  BestDiffFromOpt  \\\n3011           F8          -140.0  -119.829659        20.170341   \n\n      AverageFitness  AverageDiffFromOpt  TimePerRun  Generations  \\\n3011     -119.524006           20.475994    0.116559          150   \n\n      NoDimension  PopSize  TForTournament  CrossoverPerc  MutationRate  \\\n3011           10       15               4            1.0           0.8   \n\n      DecreasingMutationRate  Elite     Bounds  AverageOverRange  \n3011                    True      1  [-32, 32]                 5  ",
      "text/html": "<div>\n<style scoped>\n    .dataframe tbody tr th:only-of-type {\n        vertical-align: middle;\n    }\n\n    .dataframe tbody tr th {\n        vertical-align: top;\n    }\n\n    .dataframe thead th {\n        text-align: right;\n    }\n</style>\n<table border=\"1\" class=\"dataframe\">\n  <thead>\n    <tr style=\"text-align: right;\">\n      <th></th>\n      <th>TestFunction</th>\n      <th>OptimalMinimum</th>\n      <th>BestFitness</th>\n      <th>BestDiffFromOpt</th>\n      <th>AverageFitness</th>\n      <th>AverageDiffFromOpt</th>\n      <th>TimePerRun</th>\n      <th>Generations</th>\n      <th>NoDimension</th>\n      <th>PopSize</th>\n      <th>TForTournament</th>\n      <th>CrossoverPerc</th>\n      <th>MutationRate</th>\n      <th>DecreasingMutationRate</th>\n      <th>Elite</th>\n      <th>Bounds</th>\n      <th>AverageOverRange</th>\n    </tr>\n  </thead>\n  <tbody>\n    <tr>\n      <th>3011</th>\n      <td>F8</td>\n      <td>-140.0</td>\n      <td>-119.829659</td>\n      <td>20.170341</td>\n      <td>-119.524006</td>\n      <td>20.475994</td>\n      <td>0.116559</td>\n      <td>150</td>\n      <td>10</td>\n      <td>15</td>\n      <td>4</td>\n      <td>1.0</td>\n      <td>0.8</td>\n      <td>True</td>\n      <td>1</td>\n      <td>[-32, 32]</td>\n      <td>5</td>\n    </tr>\n  </tbody>\n</table>\n</div>"
     },
     "execution_count": 10,
     "metadata": {},
     "output_type": "execute_result"
    }
   ],
   "source": [
    "# Best Fitness\n",
    "df_F8_1st = df.query(\"TestFunction == 'F8'\")\n",
    "df_F8_1st[df_F8_1st.BestDiffFromOpt == df_F8_1st.BestDiffFromOpt.min()]"
   ],
   "metadata": {
    "collapsed": false,
    "pycharm": {
     "name": "#%%\n"
    }
   }
  },
  {
   "cell_type": "code",
   "execution_count": 11,
   "outputs": [
    {
     "data": {
      "text/plain": "     TestFunction  OptimalMinimum  BestFitness  BestDiffFromOpt  \\\n3011           F8          -140.0  -119.829659        20.170341   \n\n      AverageFitness  AverageDiffFromOpt  TimePerRun  Generations  \\\n3011     -119.524006           20.475994    0.116559          150   \n\n      NoDimension  PopSize  TForTournament  CrossoverPerc  MutationRate  \\\n3011           10       15               4            1.0           0.8   \n\n      DecreasingMutationRate  Elite     Bounds  AverageOverRange  \n3011                    True      1  [-32, 32]                 5  ",
      "text/html": "<div>\n<style scoped>\n    .dataframe tbody tr th:only-of-type {\n        vertical-align: middle;\n    }\n\n    .dataframe tbody tr th {\n        vertical-align: top;\n    }\n\n    .dataframe thead th {\n        text-align: right;\n    }\n</style>\n<table border=\"1\" class=\"dataframe\">\n  <thead>\n    <tr style=\"text-align: right;\">\n      <th></th>\n      <th>TestFunction</th>\n      <th>OptimalMinimum</th>\n      <th>BestFitness</th>\n      <th>BestDiffFromOpt</th>\n      <th>AverageFitness</th>\n      <th>AverageDiffFromOpt</th>\n      <th>TimePerRun</th>\n      <th>Generations</th>\n      <th>NoDimension</th>\n      <th>PopSize</th>\n      <th>TForTournament</th>\n      <th>CrossoverPerc</th>\n      <th>MutationRate</th>\n      <th>DecreasingMutationRate</th>\n      <th>Elite</th>\n      <th>Bounds</th>\n      <th>AverageOverRange</th>\n    </tr>\n  </thead>\n  <tbody>\n    <tr>\n      <th>3011</th>\n      <td>F8</td>\n      <td>-140.0</td>\n      <td>-119.829659</td>\n      <td>20.170341</td>\n      <td>-119.524006</td>\n      <td>20.475994</td>\n      <td>0.116559</td>\n      <td>150</td>\n      <td>10</td>\n      <td>15</td>\n      <td>4</td>\n      <td>1.0</td>\n      <td>0.8</td>\n      <td>True</td>\n      <td>1</td>\n      <td>[-32, 32]</td>\n      <td>5</td>\n    </tr>\n  </tbody>\n</table>\n</div>"
     },
     "execution_count": 11,
     "metadata": {},
     "output_type": "execute_result"
    }
   ],
   "source": [
    "# Best Average Fitness\n",
    "df_F8_1st[df_F8_1st.AverageDiffFromOpt == df_F8_1st.AverageDiffFromOpt.min()]"
   ],
   "metadata": {
    "collapsed": false,
    "pycharm": {
     "name": "#%%\n"
    }
   }
  },
  {
   "cell_type": "code",
   "execution_count": 12,
   "outputs": [
    {
     "data": {
      "text/plain": "     TestFunction  OptimalMinimum  BestFitness  BestDiffFromOpt  \\\n2592           F8          -140.0  -118.828332        21.171668   \n2593           F8          -140.0  -118.780497        21.219503   \n2594           F8          -140.0  -119.053467        20.946533   \n2595           F8          -140.0  -119.263744        20.736256   \n2596           F8          -140.0  -118.832553        21.167447   \n...           ...             ...          ...              ...   \n3883           F8          -140.0  -118.752831        21.247169   \n3884           F8          -140.0  -118.536631        21.463369   \n3885           F8          -140.0  -118.496857        21.503143   \n3886           F8          -140.0  -118.684637        21.315363   \n3887           F8          -140.0  -118.711035        21.288965   \n\n      AverageFitness  AverageDiffFromOpt  TimePerRun  Generations  \\\n2592     -118.601792           21.398208    0.011346           50   \n2593     -118.632335           21.367665    0.034004          150   \n2594     -118.934699           21.065301    0.015518           50   \n2595     -119.165199           20.834801    0.046569          150   \n2596     -118.571401           21.428599    0.017156           50   \n...              ...                 ...         ...          ...   \n3883     -118.683254           21.316746    0.383418          150   \n3884     -118.443720           21.556280    0.194784           50   \n3885     -118.436180           21.563820    0.586340          150   \n3886     -118.661321           21.338679    0.175834           50   \n3887     -118.683613           21.316387    0.532701          150   \n\n      NoDimension  PopSize  TForTournament  CrossoverPerc  MutationRate  \\\n2592           10        5               2            0.5           0.2   \n2593           10        5               2            0.5           0.2   \n2594           10        5               2            0.5           0.2   \n2595           10        5               2            0.5           0.2   \n2596           10        5               2            0.5           0.2   \n...           ...      ...             ...            ...           ...   \n3883           50       15               4            1.0           1.0   \n3884           50       15               4            1.0           1.0   \n3885           50       15               4            1.0           1.0   \n3886           50       15               4            1.0           1.0   \n3887           50       15               4            1.0           1.0   \n\n      DecreasingMutationRate  Elite     Bounds  AverageOverRange  \n2592                    True      0  [-32, 32]                 5  \n2593                    True      0  [-32, 32]                 5  \n2594                    True      1  [-32, 32]                 5  \n2595                    True      1  [-32, 32]                 5  \n2596                   False      0  [-32, 32]                 5  \n...                      ...    ...        ...               ...  \n3883                    True      1  [-32, 32]                 5  \n3884                   False      0  [-32, 32]                 5  \n3885                   False      0  [-32, 32]                 5  \n3886                   False      1  [-32, 32]                 5  \n3887                   False      1  [-32, 32]                 5  \n\n[1296 rows x 17 columns]",
      "text/html": "<div>\n<style scoped>\n    .dataframe tbody tr th:only-of-type {\n        vertical-align: middle;\n    }\n\n    .dataframe tbody tr th {\n        vertical-align: top;\n    }\n\n    .dataframe thead th {\n        text-align: right;\n    }\n</style>\n<table border=\"1\" class=\"dataframe\">\n  <thead>\n    <tr style=\"text-align: right;\">\n      <th></th>\n      <th>TestFunction</th>\n      <th>OptimalMinimum</th>\n      <th>BestFitness</th>\n      <th>BestDiffFromOpt</th>\n      <th>AverageFitness</th>\n      <th>AverageDiffFromOpt</th>\n      <th>TimePerRun</th>\n      <th>Generations</th>\n      <th>NoDimension</th>\n      <th>PopSize</th>\n      <th>TForTournament</th>\n      <th>CrossoverPerc</th>\n      <th>MutationRate</th>\n      <th>DecreasingMutationRate</th>\n      <th>Elite</th>\n      <th>Bounds</th>\n      <th>AverageOverRange</th>\n    </tr>\n  </thead>\n  <tbody>\n    <tr>\n      <th>2592</th>\n      <td>F8</td>\n      <td>-140.0</td>\n      <td>-118.828332</td>\n      <td>21.171668</td>\n      <td>-118.601792</td>\n      <td>21.398208</td>\n      <td>0.011346</td>\n      <td>50</td>\n      <td>10</td>\n      <td>5</td>\n      <td>2</td>\n      <td>0.5</td>\n      <td>0.2</td>\n      <td>True</td>\n      <td>0</td>\n      <td>[-32, 32]</td>\n      <td>5</td>\n    </tr>\n    <tr>\n      <th>2593</th>\n      <td>F8</td>\n      <td>-140.0</td>\n      <td>-118.780497</td>\n      <td>21.219503</td>\n      <td>-118.632335</td>\n      <td>21.367665</td>\n      <td>0.034004</td>\n      <td>150</td>\n      <td>10</td>\n      <td>5</td>\n      <td>2</td>\n      <td>0.5</td>\n      <td>0.2</td>\n      <td>True</td>\n      <td>0</td>\n      <td>[-32, 32]</td>\n      <td>5</td>\n    </tr>\n    <tr>\n      <th>2594</th>\n      <td>F8</td>\n      <td>-140.0</td>\n      <td>-119.053467</td>\n      <td>20.946533</td>\n      <td>-118.934699</td>\n      <td>21.065301</td>\n      <td>0.015518</td>\n      <td>50</td>\n      <td>10</td>\n      <td>5</td>\n      <td>2</td>\n      <td>0.5</td>\n      <td>0.2</td>\n      <td>True</td>\n      <td>1</td>\n      <td>[-32, 32]</td>\n      <td>5</td>\n    </tr>\n    <tr>\n      <th>2595</th>\n      <td>F8</td>\n      <td>-140.0</td>\n      <td>-119.263744</td>\n      <td>20.736256</td>\n      <td>-119.165199</td>\n      <td>20.834801</td>\n      <td>0.046569</td>\n      <td>150</td>\n      <td>10</td>\n      <td>5</td>\n      <td>2</td>\n      <td>0.5</td>\n      <td>0.2</td>\n      <td>True</td>\n      <td>1</td>\n      <td>[-32, 32]</td>\n      <td>5</td>\n    </tr>\n    <tr>\n      <th>2596</th>\n      <td>F8</td>\n      <td>-140.0</td>\n      <td>-118.832553</td>\n      <td>21.167447</td>\n      <td>-118.571401</td>\n      <td>21.428599</td>\n      <td>0.017156</td>\n      <td>50</td>\n      <td>10</td>\n      <td>5</td>\n      <td>2</td>\n      <td>0.5</td>\n      <td>0.2</td>\n      <td>False</td>\n      <td>0</td>\n      <td>[-32, 32]</td>\n      <td>5</td>\n    </tr>\n    <tr>\n      <th>...</th>\n      <td>...</td>\n      <td>...</td>\n      <td>...</td>\n      <td>...</td>\n      <td>...</td>\n      <td>...</td>\n      <td>...</td>\n      <td>...</td>\n      <td>...</td>\n      <td>...</td>\n      <td>...</td>\n      <td>...</td>\n      <td>...</td>\n      <td>...</td>\n      <td>...</td>\n      <td>...</td>\n      <td>...</td>\n    </tr>\n    <tr>\n      <th>3883</th>\n      <td>F8</td>\n      <td>-140.0</td>\n      <td>-118.752831</td>\n      <td>21.247169</td>\n      <td>-118.683254</td>\n      <td>21.316746</td>\n      <td>0.383418</td>\n      <td>150</td>\n      <td>50</td>\n      <td>15</td>\n      <td>4</td>\n      <td>1.0</td>\n      <td>1.0</td>\n      <td>True</td>\n      <td>1</td>\n      <td>[-32, 32]</td>\n      <td>5</td>\n    </tr>\n    <tr>\n      <th>3884</th>\n      <td>F8</td>\n      <td>-140.0</td>\n      <td>-118.536631</td>\n      <td>21.463369</td>\n      <td>-118.443720</td>\n      <td>21.556280</td>\n      <td>0.194784</td>\n      <td>50</td>\n      <td>50</td>\n      <td>15</td>\n      <td>4</td>\n      <td>1.0</td>\n      <td>1.0</td>\n      <td>False</td>\n      <td>0</td>\n      <td>[-32, 32]</td>\n      <td>5</td>\n    </tr>\n    <tr>\n      <th>3885</th>\n      <td>F8</td>\n      <td>-140.0</td>\n      <td>-118.496857</td>\n      <td>21.503143</td>\n      <td>-118.436180</td>\n      <td>21.563820</td>\n      <td>0.586340</td>\n      <td>150</td>\n      <td>50</td>\n      <td>15</td>\n      <td>4</td>\n      <td>1.0</td>\n      <td>1.0</td>\n      <td>False</td>\n      <td>0</td>\n      <td>[-32, 32]</td>\n      <td>5</td>\n    </tr>\n    <tr>\n      <th>3886</th>\n      <td>F8</td>\n      <td>-140.0</td>\n      <td>-118.684637</td>\n      <td>21.315363</td>\n      <td>-118.661321</td>\n      <td>21.338679</td>\n      <td>0.175834</td>\n      <td>50</td>\n      <td>50</td>\n      <td>15</td>\n      <td>4</td>\n      <td>1.0</td>\n      <td>1.0</td>\n      <td>False</td>\n      <td>1</td>\n      <td>[-32, 32]</td>\n      <td>5</td>\n    </tr>\n    <tr>\n      <th>3887</th>\n      <td>F8</td>\n      <td>-140.0</td>\n      <td>-118.711035</td>\n      <td>21.288965</td>\n      <td>-118.683613</td>\n      <td>21.316387</td>\n      <td>0.532701</td>\n      <td>150</td>\n      <td>50</td>\n      <td>15</td>\n      <td>4</td>\n      <td>1.0</td>\n      <td>1.0</td>\n      <td>False</td>\n      <td>1</td>\n      <td>[-32, 32]</td>\n      <td>5</td>\n    </tr>\n  </tbody>\n</table>\n<p>1296 rows × 17 columns</p>\n</div>"
     },
     "execution_count": 12,
     "metadata": {},
     "output_type": "execute_result"
    }
   ],
   "source": [
    "df_F8_1st"
   ],
   "metadata": {
    "collapsed": false,
    "pycharm": {
     "name": "#%%\n"
    }
   }
  },
  {
   "cell_type": "markdown",
   "source": [
    "# F13\n",
    "- Best Diff: 1.0829 -> 150 Generation / 10 Dimension / 15 Pop Size / 4 T / 100% CR / 20% MR / DMR True / 1 Elite\n",
    "    - Error: 1.0829 / 130 ->  0.83%\n",
    "- Avr. Diff: 1.5791 -> Same\n",
    "    - Error: 1.5791 / 130 ->  1.21%\n"
   ],
   "metadata": {
    "collapsed": false,
    "pycharm": {
     "name": "#%% md\n"
    }
   }
  },
  {
   "cell_type": "code",
   "execution_count": 13,
   "outputs": [
    {
     "data": {
      "text/plain": "    TestFunction  OptimalMinimum  BestFitness  BestDiffFromOpt  \\\n411          F13          -130.0  -128.917016         1.082984   \n\n     AverageFitness  AverageDiffFromOpt  TimePerRun  Generations  NoDimension  \\\n411     -128.420892            1.579108    0.130163          150           10   \n\n     PopSize  TForTournament  CrossoverPerc  MutationRate  \\\n411       15               4            1.0           0.2   \n\n     DecreasingMutationRate  Elite   Bounds  AverageOverRange  \n411                    True      1  [-3, 1]                 5  ",
      "text/html": "<div>\n<style scoped>\n    .dataframe tbody tr th:only-of-type {\n        vertical-align: middle;\n    }\n\n    .dataframe tbody tr th {\n        vertical-align: top;\n    }\n\n    .dataframe thead th {\n        text-align: right;\n    }\n</style>\n<table border=\"1\" class=\"dataframe\">\n  <thead>\n    <tr style=\"text-align: right;\">\n      <th></th>\n      <th>TestFunction</th>\n      <th>OptimalMinimum</th>\n      <th>BestFitness</th>\n      <th>BestDiffFromOpt</th>\n      <th>AverageFitness</th>\n      <th>AverageDiffFromOpt</th>\n      <th>TimePerRun</th>\n      <th>Generations</th>\n      <th>NoDimension</th>\n      <th>PopSize</th>\n      <th>TForTournament</th>\n      <th>CrossoverPerc</th>\n      <th>MutationRate</th>\n      <th>DecreasingMutationRate</th>\n      <th>Elite</th>\n      <th>Bounds</th>\n      <th>AverageOverRange</th>\n    </tr>\n  </thead>\n  <tbody>\n    <tr>\n      <th>411</th>\n      <td>F13</td>\n      <td>-130.0</td>\n      <td>-128.917016</td>\n      <td>1.082984</td>\n      <td>-128.420892</td>\n      <td>1.579108</td>\n      <td>0.130163</td>\n      <td>150</td>\n      <td>10</td>\n      <td>15</td>\n      <td>4</td>\n      <td>1.0</td>\n      <td>0.2</td>\n      <td>True</td>\n      <td>1</td>\n      <td>[-3, 1]</td>\n      <td>5</td>\n    </tr>\n  </tbody>\n</table>\n</div>"
     },
     "execution_count": 13,
     "metadata": {},
     "output_type": "execute_result"
    }
   ],
   "source": [
    "# Best Fitness\n",
    "df_F13_1st = df.query(\"TestFunction == 'F13'\")\n",
    "df_F13_1st[df_F13_1st.BestDiffFromOpt == df_F13_1st.BestDiffFromOpt.min()]"
   ],
   "metadata": {
    "collapsed": false,
    "pycharm": {
     "name": "#%%\n"
    }
   }
  },
  {
   "cell_type": "code",
   "execution_count": 14,
   "outputs": [
    {
     "data": {
      "text/plain": "    TestFunction  OptimalMinimum  BestFitness  BestDiffFromOpt  \\\n411          F13          -130.0  -128.917016         1.082984   \n\n     AverageFitness  AverageDiffFromOpt  TimePerRun  Generations  NoDimension  \\\n411     -128.420892            1.579108    0.130163          150           10   \n\n     PopSize  TForTournament  CrossoverPerc  MutationRate  \\\n411       15               4            1.0           0.2   \n\n     DecreasingMutationRate  Elite   Bounds  AverageOverRange  \n411                    True      1  [-3, 1]                 5  ",
      "text/html": "<div>\n<style scoped>\n    .dataframe tbody tr th:only-of-type {\n        vertical-align: middle;\n    }\n\n    .dataframe tbody tr th {\n        vertical-align: top;\n    }\n\n    .dataframe thead th {\n        text-align: right;\n    }\n</style>\n<table border=\"1\" class=\"dataframe\">\n  <thead>\n    <tr style=\"text-align: right;\">\n      <th></th>\n      <th>TestFunction</th>\n      <th>OptimalMinimum</th>\n      <th>BestFitness</th>\n      <th>BestDiffFromOpt</th>\n      <th>AverageFitness</th>\n      <th>AverageDiffFromOpt</th>\n      <th>TimePerRun</th>\n      <th>Generations</th>\n      <th>NoDimension</th>\n      <th>PopSize</th>\n      <th>TForTournament</th>\n      <th>CrossoverPerc</th>\n      <th>MutationRate</th>\n      <th>DecreasingMutationRate</th>\n      <th>Elite</th>\n      <th>Bounds</th>\n      <th>AverageOverRange</th>\n    </tr>\n  </thead>\n  <tbody>\n    <tr>\n      <th>411</th>\n      <td>F13</td>\n      <td>-130.0</td>\n      <td>-128.917016</td>\n      <td>1.082984</td>\n      <td>-128.420892</td>\n      <td>1.579108</td>\n      <td>0.130163</td>\n      <td>150</td>\n      <td>10</td>\n      <td>15</td>\n      <td>4</td>\n      <td>1.0</td>\n      <td>0.2</td>\n      <td>True</td>\n      <td>1</td>\n      <td>[-3, 1]</td>\n      <td>5</td>\n    </tr>\n  </tbody>\n</table>\n</div>"
     },
     "execution_count": 14,
     "metadata": {},
     "output_type": "execute_result"
    }
   ],
   "source": [
    "# Best Average Fitness\n",
    "df_F13_1st[df_F13_1st.AverageDiffFromOpt == df_F13_1st.AverageDiffFromOpt.min()]"
   ],
   "metadata": {
    "collapsed": false,
    "pycharm": {
     "name": "#%%\n"
    }
   }
  },
  {
   "cell_type": "code",
   "execution_count": 15,
   "outputs": [
    {
     "data": {
      "text/plain": "     TestFunction  OptimalMinimum  BestFitness  BestDiffFromOpt  \\\n0             F13          -130.0  -114.747967        15.252033   \n1             F13          -130.0  -112.484813        17.515187   \n2             F13          -130.0  -119.482405        10.517595   \n3             F13          -130.0  -127.111143         2.888857   \n4             F13          -130.0    68.014676       198.014676   \n...           ...             ...          ...              ...   \n1291          F13          -130.0    18.446939       148.446939   \n1292          F13          -130.0  3078.646003      3208.646003   \n1293          F13          -130.0  5464.382972      5594.382972   \n1294          F13          -130.0  1636.088684      1766.088684   \n1295          F13          -130.0  1598.512694      1728.512694   \n\n      AverageFitness  AverageDiffFromOpt  TimePerRun  Generations  \\\n0         123.382008          253.382008    0.015493           50   \n1         -81.314126           48.685874    0.047154          150   \n2        -117.122011           12.877989    0.014168           50   \n3        -122.551732            7.448268    0.043210          150   \n4        1145.731194         1275.731194    0.015538           50   \n...              ...                 ...         ...          ...   \n1291       86.802009          216.802009    0.559082          150   \n1292     5533.162406         5663.162406    0.246466           50   \n1293     9402.327325         9532.327325    0.757659          150   \n1294     2376.984034         2506.984034    0.231453           50   \n1295     2085.922189         2215.922189    0.702414          150   \n\n      NoDimension  PopSize  TForTournament  CrossoverPerc  MutationRate  \\\n0              10        5               2            0.5           0.2   \n1              10        5               2            0.5           0.2   \n2              10        5               2            0.5           0.2   \n3              10        5               2            0.5           0.2   \n4              10        5               2            0.5           0.2   \n...           ...      ...             ...            ...           ...   \n1291           50       15               4            1.0           1.0   \n1292           50       15               4            1.0           1.0   \n1293           50       15               4            1.0           1.0   \n1294           50       15               4            1.0           1.0   \n1295           50       15               4            1.0           1.0   \n\n      DecreasingMutationRate  Elite   Bounds  AverageOverRange  \n0                       True      0  [-3, 1]                 5  \n1                       True      0  [-3, 1]                 5  \n2                       True      1  [-3, 1]                 5  \n3                       True      1  [-3, 1]                 5  \n4                      False      0  [-3, 1]                 5  \n...                      ...    ...      ...               ...  \n1291                    True      1  [-3, 1]                 5  \n1292                   False      0  [-3, 1]                 5  \n1293                   False      0  [-3, 1]                 5  \n1294                   False      1  [-3, 1]                 5  \n1295                   False      1  [-3, 1]                 5  \n\n[1296 rows x 17 columns]",
      "text/html": "<div>\n<style scoped>\n    .dataframe tbody tr th:only-of-type {\n        vertical-align: middle;\n    }\n\n    .dataframe tbody tr th {\n        vertical-align: top;\n    }\n\n    .dataframe thead th {\n        text-align: right;\n    }\n</style>\n<table border=\"1\" class=\"dataframe\">\n  <thead>\n    <tr style=\"text-align: right;\">\n      <th></th>\n      <th>TestFunction</th>\n      <th>OptimalMinimum</th>\n      <th>BestFitness</th>\n      <th>BestDiffFromOpt</th>\n      <th>AverageFitness</th>\n      <th>AverageDiffFromOpt</th>\n      <th>TimePerRun</th>\n      <th>Generations</th>\n      <th>NoDimension</th>\n      <th>PopSize</th>\n      <th>TForTournament</th>\n      <th>CrossoverPerc</th>\n      <th>MutationRate</th>\n      <th>DecreasingMutationRate</th>\n      <th>Elite</th>\n      <th>Bounds</th>\n      <th>AverageOverRange</th>\n    </tr>\n  </thead>\n  <tbody>\n    <tr>\n      <th>0</th>\n      <td>F13</td>\n      <td>-130.0</td>\n      <td>-114.747967</td>\n      <td>15.252033</td>\n      <td>123.382008</td>\n      <td>253.382008</td>\n      <td>0.015493</td>\n      <td>50</td>\n      <td>10</td>\n      <td>5</td>\n      <td>2</td>\n      <td>0.5</td>\n      <td>0.2</td>\n      <td>True</td>\n      <td>0</td>\n      <td>[-3, 1]</td>\n      <td>5</td>\n    </tr>\n    <tr>\n      <th>1</th>\n      <td>F13</td>\n      <td>-130.0</td>\n      <td>-112.484813</td>\n      <td>17.515187</td>\n      <td>-81.314126</td>\n      <td>48.685874</td>\n      <td>0.047154</td>\n      <td>150</td>\n      <td>10</td>\n      <td>5</td>\n      <td>2</td>\n      <td>0.5</td>\n      <td>0.2</td>\n      <td>True</td>\n      <td>0</td>\n      <td>[-3, 1]</td>\n      <td>5</td>\n    </tr>\n    <tr>\n      <th>2</th>\n      <td>F13</td>\n      <td>-130.0</td>\n      <td>-119.482405</td>\n      <td>10.517595</td>\n      <td>-117.122011</td>\n      <td>12.877989</td>\n      <td>0.014168</td>\n      <td>50</td>\n      <td>10</td>\n      <td>5</td>\n      <td>2</td>\n      <td>0.5</td>\n      <td>0.2</td>\n      <td>True</td>\n      <td>1</td>\n      <td>[-3, 1]</td>\n      <td>5</td>\n    </tr>\n    <tr>\n      <th>3</th>\n      <td>F13</td>\n      <td>-130.0</td>\n      <td>-127.111143</td>\n      <td>2.888857</td>\n      <td>-122.551732</td>\n      <td>7.448268</td>\n      <td>0.043210</td>\n      <td>150</td>\n      <td>10</td>\n      <td>5</td>\n      <td>2</td>\n      <td>0.5</td>\n      <td>0.2</td>\n      <td>True</td>\n      <td>1</td>\n      <td>[-3, 1]</td>\n      <td>5</td>\n    </tr>\n    <tr>\n      <th>4</th>\n      <td>F13</td>\n      <td>-130.0</td>\n      <td>68.014676</td>\n      <td>198.014676</td>\n      <td>1145.731194</td>\n      <td>1275.731194</td>\n      <td>0.015538</td>\n      <td>50</td>\n      <td>10</td>\n      <td>5</td>\n      <td>2</td>\n      <td>0.5</td>\n      <td>0.2</td>\n      <td>False</td>\n      <td>0</td>\n      <td>[-3, 1]</td>\n      <td>5</td>\n    </tr>\n    <tr>\n      <th>...</th>\n      <td>...</td>\n      <td>...</td>\n      <td>...</td>\n      <td>...</td>\n      <td>...</td>\n      <td>...</td>\n      <td>...</td>\n      <td>...</td>\n      <td>...</td>\n      <td>...</td>\n      <td>...</td>\n      <td>...</td>\n      <td>...</td>\n      <td>...</td>\n      <td>...</td>\n      <td>...</td>\n      <td>...</td>\n    </tr>\n    <tr>\n      <th>1291</th>\n      <td>F13</td>\n      <td>-130.0</td>\n      <td>18.446939</td>\n      <td>148.446939</td>\n      <td>86.802009</td>\n      <td>216.802009</td>\n      <td>0.559082</td>\n      <td>150</td>\n      <td>50</td>\n      <td>15</td>\n      <td>4</td>\n      <td>1.0</td>\n      <td>1.0</td>\n      <td>True</td>\n      <td>1</td>\n      <td>[-3, 1]</td>\n      <td>5</td>\n    </tr>\n    <tr>\n      <th>1292</th>\n      <td>F13</td>\n      <td>-130.0</td>\n      <td>3078.646003</td>\n      <td>3208.646003</td>\n      <td>5533.162406</td>\n      <td>5663.162406</td>\n      <td>0.246466</td>\n      <td>50</td>\n      <td>50</td>\n      <td>15</td>\n      <td>4</td>\n      <td>1.0</td>\n      <td>1.0</td>\n      <td>False</td>\n      <td>0</td>\n      <td>[-3, 1]</td>\n      <td>5</td>\n    </tr>\n    <tr>\n      <th>1293</th>\n      <td>F13</td>\n      <td>-130.0</td>\n      <td>5464.382972</td>\n      <td>5594.382972</td>\n      <td>9402.327325</td>\n      <td>9532.327325</td>\n      <td>0.757659</td>\n      <td>150</td>\n      <td>50</td>\n      <td>15</td>\n      <td>4</td>\n      <td>1.0</td>\n      <td>1.0</td>\n      <td>False</td>\n      <td>0</td>\n      <td>[-3, 1]</td>\n      <td>5</td>\n    </tr>\n    <tr>\n      <th>1294</th>\n      <td>F13</td>\n      <td>-130.0</td>\n      <td>1636.088684</td>\n      <td>1766.088684</td>\n      <td>2376.984034</td>\n      <td>2506.984034</td>\n      <td>0.231453</td>\n      <td>50</td>\n      <td>50</td>\n      <td>15</td>\n      <td>4</td>\n      <td>1.0</td>\n      <td>1.0</td>\n      <td>False</td>\n      <td>1</td>\n      <td>[-3, 1]</td>\n      <td>5</td>\n    </tr>\n    <tr>\n      <th>1295</th>\n      <td>F13</td>\n      <td>-130.0</td>\n      <td>1598.512694</td>\n      <td>1728.512694</td>\n      <td>2085.922189</td>\n      <td>2215.922189</td>\n      <td>0.702414</td>\n      <td>150</td>\n      <td>50</td>\n      <td>15</td>\n      <td>4</td>\n      <td>1.0</td>\n      <td>1.0</td>\n      <td>False</td>\n      <td>1</td>\n      <td>[-3, 1]</td>\n      <td>5</td>\n    </tr>\n  </tbody>\n</table>\n<p>1296 rows × 17 columns</p>\n</div>"
     },
     "execution_count": 15,
     "metadata": {},
     "output_type": "execute_result"
    }
   ],
   "source": [
    "df_F13_1st"
   ],
   "metadata": {
    "collapsed": false,
    "pycharm": {
     "name": "#%%\n"
    }
   }
  },
  {
   "cell_type": "markdown",
   "source": [
    "# F17\n",
    "- Best Diff: 177.54 -> 150 Generation / 10 Dimension / 15 Pop Size / 2 T / 50% CR / 80% MR / DMR True / 1 Elite\n",
    "    - Error: 177.54 / 120 ->  147.95%\n",
    "- Avr. Diff: 223.09 -> 150 Generation / 10 Dimension / 15 Pop Size / 4 T / 100% CR / 20% MR / DMR True / 1 Elite\n",
    "    - Error: 223.09 / 120 ->  185.9%"
   ],
   "metadata": {
    "collapsed": false,
    "pycharm": {
     "name": "#%% md\n"
    }
   }
  },
  {
   "cell_type": "code",
   "execution_count": 16,
   "outputs": [
    {
     "data": {
      "text/plain": "     TestFunction  OptimalMinimum  BestFitness  BestDiffFromOpt  \\\n1595          F17           120.0   297.548261       177.548261   \n\n      AverageFitness  AverageDiffFromOpt  TimePerRun  Generations  \\\n1595      444.233114          324.233114    0.994805          150   \n\n      NoDimension  PopSize  TForTournament  CrossoverPerc  MutationRate  \\\n1595           10       15               2            0.5           0.8   \n\n      DecreasingMutationRate  Elite   Bounds  AverageOverRange  \n1595                    True      1  [-5, 5]                 5  ",
      "text/html": "<div>\n<style scoped>\n    .dataframe tbody tr th:only-of-type {\n        vertical-align: middle;\n    }\n\n    .dataframe tbody tr th {\n        vertical-align: top;\n    }\n\n    .dataframe thead th {\n        text-align: right;\n    }\n</style>\n<table border=\"1\" class=\"dataframe\">\n  <thead>\n    <tr style=\"text-align: right;\">\n      <th></th>\n      <th>TestFunction</th>\n      <th>OptimalMinimum</th>\n      <th>BestFitness</th>\n      <th>BestDiffFromOpt</th>\n      <th>AverageFitness</th>\n      <th>AverageDiffFromOpt</th>\n      <th>TimePerRun</th>\n      <th>Generations</th>\n      <th>NoDimension</th>\n      <th>PopSize</th>\n      <th>TForTournament</th>\n      <th>CrossoverPerc</th>\n      <th>MutationRate</th>\n      <th>DecreasingMutationRate</th>\n      <th>Elite</th>\n      <th>Bounds</th>\n      <th>AverageOverRange</th>\n    </tr>\n  </thead>\n  <tbody>\n    <tr>\n      <th>1595</th>\n      <td>F17</td>\n      <td>120.0</td>\n      <td>297.548261</td>\n      <td>177.548261</td>\n      <td>444.233114</td>\n      <td>324.233114</td>\n      <td>0.994805</td>\n      <td>150</td>\n      <td>10</td>\n      <td>15</td>\n      <td>2</td>\n      <td>0.5</td>\n      <td>0.8</td>\n      <td>True</td>\n      <td>1</td>\n      <td>[-5, 5]</td>\n      <td>5</td>\n    </tr>\n  </tbody>\n</table>\n</div>"
     },
     "execution_count": 16,
     "metadata": {},
     "output_type": "execute_result"
    }
   ],
   "source": [
    "# Best Fitness\n",
    "df_F17_1st = df.query(\"TestFunction == 'F17'\")\n",
    "df_F17_1st[df_F17_1st.BestDiffFromOpt == df_F17_1st.BestDiffFromOpt.min()]"
   ],
   "metadata": {
    "collapsed": false,
    "pycharm": {
     "name": "#%%\n"
    }
   }
  },
  {
   "cell_type": "code",
   "execution_count": 17,
   "outputs": [
    {
     "data": {
      "text/plain": "     TestFunction  OptimalMinimum  BestFitness  BestDiffFromOpt  \\\n1707          F17           120.0    325.36866        205.36866   \n\n      AverageFitness  AverageDiffFromOpt  TimePerRun  Generations  \\\n1707      343.091339          223.091339    0.967983          150   \n\n      NoDimension  PopSize  TForTournament  CrossoverPerc  MutationRate  \\\n1707           10       15               4            1.0           0.2   \n\n      DecreasingMutationRate  Elite   Bounds  AverageOverRange  \n1707                    True      1  [-5, 5]                 5  ",
      "text/html": "<div>\n<style scoped>\n    .dataframe tbody tr th:only-of-type {\n        vertical-align: middle;\n    }\n\n    .dataframe tbody tr th {\n        vertical-align: top;\n    }\n\n    .dataframe thead th {\n        text-align: right;\n    }\n</style>\n<table border=\"1\" class=\"dataframe\">\n  <thead>\n    <tr style=\"text-align: right;\">\n      <th></th>\n      <th>TestFunction</th>\n      <th>OptimalMinimum</th>\n      <th>BestFitness</th>\n      <th>BestDiffFromOpt</th>\n      <th>AverageFitness</th>\n      <th>AverageDiffFromOpt</th>\n      <th>TimePerRun</th>\n      <th>Generations</th>\n      <th>NoDimension</th>\n      <th>PopSize</th>\n      <th>TForTournament</th>\n      <th>CrossoverPerc</th>\n      <th>MutationRate</th>\n      <th>DecreasingMutationRate</th>\n      <th>Elite</th>\n      <th>Bounds</th>\n      <th>AverageOverRange</th>\n    </tr>\n  </thead>\n  <tbody>\n    <tr>\n      <th>1707</th>\n      <td>F17</td>\n      <td>120.0</td>\n      <td>325.36866</td>\n      <td>205.36866</td>\n      <td>343.091339</td>\n      <td>223.091339</td>\n      <td>0.967983</td>\n      <td>150</td>\n      <td>10</td>\n      <td>15</td>\n      <td>4</td>\n      <td>1.0</td>\n      <td>0.2</td>\n      <td>True</td>\n      <td>1</td>\n      <td>[-5, 5]</td>\n      <td>5</td>\n    </tr>\n  </tbody>\n</table>\n</div>"
     },
     "execution_count": 17,
     "metadata": {},
     "output_type": "execute_result"
    }
   ],
   "source": [
    "# Best Average Fitness\n",
    "df_F17_1st[df_F17_1st.AverageDiffFromOpt == df_F17_1st.AverageDiffFromOpt.min()]"
   ],
   "metadata": {
    "collapsed": false,
    "pycharm": {
     "name": "#%%\n"
    }
   }
  },
  {
   "cell_type": "code",
   "execution_count": 18,
   "outputs": [
    {
     "data": {
      "text/plain": "     TestFunction  OptimalMinimum  BestFitness  BestDiffFromOpt  \\\n1296          F17           120.0   748.766137       628.766137   \n1297          F17           120.0   591.077512       471.077512   \n1298          F17           120.0   454.579857       334.579857   \n1299          F17           120.0   403.606848       283.606848   \n1300          F17           120.0  1369.054293      1249.054293   \n...           ...             ...          ...              ...   \n2587          F17           120.0   692.699934       572.699934   \n2588          F17           120.0  1726.874128      1606.874128   \n2589          F17           120.0  1809.362841      1689.362841   \n2590          F17           120.0  1286.370225      1166.370225   \n2591          F17           120.0  1332.571466      1212.571466   \n\n      AverageFitness  AverageDiffFromOpt  TimePerRun  Generations  \\\n1296     1079.084525          959.084525    0.113645           50   \n1297      951.976583          831.976583    0.335133          150   \n1298      557.498490          437.498490    0.110451           50   \n1299      495.791958          375.791958    0.332959          150   \n1300     1429.394142         1309.394142    0.110137           50   \n...              ...                 ...         ...          ...   \n2587      825.222940          705.222940    4.463455          150   \n2588     1875.775029         1755.775029    1.468171           50   \n2589     1871.932725         1751.932725    4.641679          150   \n2590     1564.226187         1444.226187    1.467616           50   \n2591     1565.618000         1445.618000    4.645089          150   \n\n      NoDimension  PopSize  TForTournament  CrossoverPerc  MutationRate  \\\n1296           10        5               2            0.5           0.2   \n1297           10        5               2            0.5           0.2   \n1298           10        5               2            0.5           0.2   \n1299           10        5               2            0.5           0.2   \n1300           10        5               2            0.5           0.2   \n...           ...      ...             ...            ...           ...   \n2587           50       15               4            1.0           1.0   \n2588           50       15               4            1.0           1.0   \n2589           50       15               4            1.0           1.0   \n2590           50       15               4            1.0           1.0   \n2591           50       15               4            1.0           1.0   \n\n      DecreasingMutationRate  Elite   Bounds  AverageOverRange  \n1296                    True      0  [-5, 5]                 5  \n1297                    True      0  [-5, 5]                 5  \n1298                    True      1  [-5, 5]                 5  \n1299                    True      1  [-5, 5]                 5  \n1300                   False      0  [-5, 5]                 5  \n...                      ...    ...      ...               ...  \n2587                    True      1  [-5, 5]                 5  \n2588                   False      0  [-5, 5]                 5  \n2589                   False      0  [-5, 5]                 5  \n2590                   False      1  [-5, 5]                 5  \n2591                   False      1  [-5, 5]                 5  \n\n[1296 rows x 17 columns]",
      "text/html": "<div>\n<style scoped>\n    .dataframe tbody tr th:only-of-type {\n        vertical-align: middle;\n    }\n\n    .dataframe tbody tr th {\n        vertical-align: top;\n    }\n\n    .dataframe thead th {\n        text-align: right;\n    }\n</style>\n<table border=\"1\" class=\"dataframe\">\n  <thead>\n    <tr style=\"text-align: right;\">\n      <th></th>\n      <th>TestFunction</th>\n      <th>OptimalMinimum</th>\n      <th>BestFitness</th>\n      <th>BestDiffFromOpt</th>\n      <th>AverageFitness</th>\n      <th>AverageDiffFromOpt</th>\n      <th>TimePerRun</th>\n      <th>Generations</th>\n      <th>NoDimension</th>\n      <th>PopSize</th>\n      <th>TForTournament</th>\n      <th>CrossoverPerc</th>\n      <th>MutationRate</th>\n      <th>DecreasingMutationRate</th>\n      <th>Elite</th>\n      <th>Bounds</th>\n      <th>AverageOverRange</th>\n    </tr>\n  </thead>\n  <tbody>\n    <tr>\n      <th>1296</th>\n      <td>F17</td>\n      <td>120.0</td>\n      <td>748.766137</td>\n      <td>628.766137</td>\n      <td>1079.084525</td>\n      <td>959.084525</td>\n      <td>0.113645</td>\n      <td>50</td>\n      <td>10</td>\n      <td>5</td>\n      <td>2</td>\n      <td>0.5</td>\n      <td>0.2</td>\n      <td>True</td>\n      <td>0</td>\n      <td>[-5, 5]</td>\n      <td>5</td>\n    </tr>\n    <tr>\n      <th>1297</th>\n      <td>F17</td>\n      <td>120.0</td>\n      <td>591.077512</td>\n      <td>471.077512</td>\n      <td>951.976583</td>\n      <td>831.976583</td>\n      <td>0.335133</td>\n      <td>150</td>\n      <td>10</td>\n      <td>5</td>\n      <td>2</td>\n      <td>0.5</td>\n      <td>0.2</td>\n      <td>True</td>\n      <td>0</td>\n      <td>[-5, 5]</td>\n      <td>5</td>\n    </tr>\n    <tr>\n      <th>1298</th>\n      <td>F17</td>\n      <td>120.0</td>\n      <td>454.579857</td>\n      <td>334.579857</td>\n      <td>557.498490</td>\n      <td>437.498490</td>\n      <td>0.110451</td>\n      <td>50</td>\n      <td>10</td>\n      <td>5</td>\n      <td>2</td>\n      <td>0.5</td>\n      <td>0.2</td>\n      <td>True</td>\n      <td>1</td>\n      <td>[-5, 5]</td>\n      <td>5</td>\n    </tr>\n    <tr>\n      <th>1299</th>\n      <td>F17</td>\n      <td>120.0</td>\n      <td>403.606848</td>\n      <td>283.606848</td>\n      <td>495.791958</td>\n      <td>375.791958</td>\n      <td>0.332959</td>\n      <td>150</td>\n      <td>10</td>\n      <td>5</td>\n      <td>2</td>\n      <td>0.5</td>\n      <td>0.2</td>\n      <td>True</td>\n      <td>1</td>\n      <td>[-5, 5]</td>\n      <td>5</td>\n    </tr>\n    <tr>\n      <th>1300</th>\n      <td>F17</td>\n      <td>120.0</td>\n      <td>1369.054293</td>\n      <td>1249.054293</td>\n      <td>1429.394142</td>\n      <td>1309.394142</td>\n      <td>0.110137</td>\n      <td>50</td>\n      <td>10</td>\n      <td>5</td>\n      <td>2</td>\n      <td>0.5</td>\n      <td>0.2</td>\n      <td>False</td>\n      <td>0</td>\n      <td>[-5, 5]</td>\n      <td>5</td>\n    </tr>\n    <tr>\n      <th>...</th>\n      <td>...</td>\n      <td>...</td>\n      <td>...</td>\n      <td>...</td>\n      <td>...</td>\n      <td>...</td>\n      <td>...</td>\n      <td>...</td>\n      <td>...</td>\n      <td>...</td>\n      <td>...</td>\n      <td>...</td>\n      <td>...</td>\n      <td>...</td>\n      <td>...</td>\n      <td>...</td>\n      <td>...</td>\n    </tr>\n    <tr>\n      <th>2587</th>\n      <td>F17</td>\n      <td>120.0</td>\n      <td>692.699934</td>\n      <td>572.699934</td>\n      <td>825.222940</td>\n      <td>705.222940</td>\n      <td>4.463455</td>\n      <td>150</td>\n      <td>50</td>\n      <td>15</td>\n      <td>4</td>\n      <td>1.0</td>\n      <td>1.0</td>\n      <td>True</td>\n      <td>1</td>\n      <td>[-5, 5]</td>\n      <td>5</td>\n    </tr>\n    <tr>\n      <th>2588</th>\n      <td>F17</td>\n      <td>120.0</td>\n      <td>1726.874128</td>\n      <td>1606.874128</td>\n      <td>1875.775029</td>\n      <td>1755.775029</td>\n      <td>1.468171</td>\n      <td>50</td>\n      <td>50</td>\n      <td>15</td>\n      <td>4</td>\n      <td>1.0</td>\n      <td>1.0</td>\n      <td>False</td>\n      <td>0</td>\n      <td>[-5, 5]</td>\n      <td>5</td>\n    </tr>\n    <tr>\n      <th>2589</th>\n      <td>F17</td>\n      <td>120.0</td>\n      <td>1809.362841</td>\n      <td>1689.362841</td>\n      <td>1871.932725</td>\n      <td>1751.932725</td>\n      <td>4.641679</td>\n      <td>150</td>\n      <td>50</td>\n      <td>15</td>\n      <td>4</td>\n      <td>1.0</td>\n      <td>1.0</td>\n      <td>False</td>\n      <td>0</td>\n      <td>[-5, 5]</td>\n      <td>5</td>\n    </tr>\n    <tr>\n      <th>2590</th>\n      <td>F17</td>\n      <td>120.0</td>\n      <td>1286.370225</td>\n      <td>1166.370225</td>\n      <td>1564.226187</td>\n      <td>1444.226187</td>\n      <td>1.467616</td>\n      <td>50</td>\n      <td>50</td>\n      <td>15</td>\n      <td>4</td>\n      <td>1.0</td>\n      <td>1.0</td>\n      <td>False</td>\n      <td>1</td>\n      <td>[-5, 5]</td>\n      <td>5</td>\n    </tr>\n    <tr>\n      <th>2591</th>\n      <td>F17</td>\n      <td>120.0</td>\n      <td>1332.571466</td>\n      <td>1212.571466</td>\n      <td>1565.618000</td>\n      <td>1445.618000</td>\n      <td>4.645089</td>\n      <td>150</td>\n      <td>50</td>\n      <td>15</td>\n      <td>4</td>\n      <td>1.0</td>\n      <td>1.0</td>\n      <td>False</td>\n      <td>1</td>\n      <td>[-5, 5]</td>\n      <td>5</td>\n    </tr>\n  </tbody>\n</table>\n<p>1296 rows × 17 columns</p>\n</div>"
     },
     "execution_count": 18,
     "metadata": {},
     "output_type": "execute_result"
    }
   ],
   "source": [
    "df_F17_1st"
   ],
   "metadata": {
    "collapsed": false,
    "pycharm": {
     "name": "#%%\n"
    }
   }
  },
  {
   "cell_type": "markdown",
   "source": [
    "# F24\n",
    "- Best Diff: 242.76 -> 150 Generation / 10 Dimension / 15 Pop Size / 4 T / 95% CR / 20% MR / DMR False / 1 Elite\n",
    "    - Error: 242.76 / 260 -> 93.36%\n",
    "- Avr. Diff: 351.24 -> 150 Generation / 10 Dimension / 10 Pop Size / 4 T / 95% CR / 20% MR / DMR True / 1 Elite\n",
    "    - Error: 351.24 / 260 -> 135.09%"
   ],
   "metadata": {
    "collapsed": false,
    "pycharm": {
     "name": "#%% md\n"
    }
   }
  },
  {
   "cell_type": "code",
   "execution_count": 19,
   "outputs": [
    {
     "data": {
      "text/plain": "    TestFunction  OptimalMinimum  BestFitness  BestDiffFromOpt  \\\n387          F24           260.0   502.765087       242.765087   \n\n     AverageFitness  AverageDiffFromOpt  TimePerRun  Generations  NoDimension  \\\n387      852.201586          592.201586    0.871322          150           10   \n\n     PopSize  TForTournament  CrossoverPerc  MutationRate  \\\n387       15               4           0.95           0.2   \n\n     DecreasingMutationRate  Elite   Bounds  AverageOverRange  \n387                    True      1  [-5, 5]                 5  ",
      "text/html": "<div>\n<style scoped>\n    .dataframe tbody tr th:only-of-type {\n        vertical-align: middle;\n    }\n\n    .dataframe tbody tr th {\n        vertical-align: top;\n    }\n\n    .dataframe thead th {\n        text-align: right;\n    }\n</style>\n<table border=\"1\" class=\"dataframe\">\n  <thead>\n    <tr style=\"text-align: right;\">\n      <th></th>\n      <th>TestFunction</th>\n      <th>OptimalMinimum</th>\n      <th>BestFitness</th>\n      <th>BestDiffFromOpt</th>\n      <th>AverageFitness</th>\n      <th>AverageDiffFromOpt</th>\n      <th>TimePerRun</th>\n      <th>Generations</th>\n      <th>NoDimension</th>\n      <th>PopSize</th>\n      <th>TForTournament</th>\n      <th>CrossoverPerc</th>\n      <th>MutationRate</th>\n      <th>DecreasingMutationRate</th>\n      <th>Elite</th>\n      <th>Bounds</th>\n      <th>AverageOverRange</th>\n    </tr>\n  </thead>\n  <tbody>\n    <tr>\n      <th>387</th>\n      <td>F24</td>\n      <td>260.0</td>\n      <td>502.765087</td>\n      <td>242.765087</td>\n      <td>852.201586</td>\n      <td>592.201586</td>\n      <td>0.871322</td>\n      <td>150</td>\n      <td>10</td>\n      <td>15</td>\n      <td>4</td>\n      <td>0.95</td>\n      <td>0.2</td>\n      <td>True</td>\n      <td>1</td>\n      <td>[-5, 5]</td>\n      <td>5</td>\n    </tr>\n  </tbody>\n</table>\n</div>"
     },
     "execution_count": 19,
     "metadata": {},
     "output_type": "execute_result"
    }
   ],
   "source": [
    "# Best Fitness\n",
    "df_F24_1st = df.query(\"TestFunction == 'F24'\")\n",
    "df_F24_1st[df_F24_1st.BestDiffFromOpt == df_F24_1st.BestDiffFromOpt.min()]"
   ],
   "metadata": {
    "collapsed": false,
    "pycharm": {
     "name": "#%%\n"
    }
   }
  },
  {
   "cell_type": "code",
   "execution_count": 20,
   "outputs": [
    {
     "data": {
      "text/plain": "    TestFunction  OptimalMinimum  BestFitness  BestDiffFromOpt  \\\n243          F24           260.0   528.283537       268.283537   \n\n     AverageFitness  AverageDiffFromOpt  TimePerRun  Generations  NoDimension  \\\n243      611.240098          351.240098    0.597121          150           10   \n\n     PopSize  TForTournament  CrossoverPerc  MutationRate  \\\n243       10               4           0.95           0.2   \n\n     DecreasingMutationRate  Elite   Bounds  AverageOverRange  \n243                    True      1  [-5, 5]                 5  ",
      "text/html": "<div>\n<style scoped>\n    .dataframe tbody tr th:only-of-type {\n        vertical-align: middle;\n    }\n\n    .dataframe tbody tr th {\n        vertical-align: top;\n    }\n\n    .dataframe thead th {\n        text-align: right;\n    }\n</style>\n<table border=\"1\" class=\"dataframe\">\n  <thead>\n    <tr style=\"text-align: right;\">\n      <th></th>\n      <th>TestFunction</th>\n      <th>OptimalMinimum</th>\n      <th>BestFitness</th>\n      <th>BestDiffFromOpt</th>\n      <th>AverageFitness</th>\n      <th>AverageDiffFromOpt</th>\n      <th>TimePerRun</th>\n      <th>Generations</th>\n      <th>NoDimension</th>\n      <th>PopSize</th>\n      <th>TForTournament</th>\n      <th>CrossoverPerc</th>\n      <th>MutationRate</th>\n      <th>DecreasingMutationRate</th>\n      <th>Elite</th>\n      <th>Bounds</th>\n      <th>AverageOverRange</th>\n    </tr>\n  </thead>\n  <tbody>\n    <tr>\n      <th>243</th>\n      <td>F24</td>\n      <td>260.0</td>\n      <td>528.283537</td>\n      <td>268.283537</td>\n      <td>611.240098</td>\n      <td>351.240098</td>\n      <td>0.597121</td>\n      <td>150</td>\n      <td>10</td>\n      <td>10</td>\n      <td>4</td>\n      <td>0.95</td>\n      <td>0.2</td>\n      <td>True</td>\n      <td>1</td>\n      <td>[-5, 5]</td>\n      <td>5</td>\n    </tr>\n  </tbody>\n</table>\n</div>"
     },
     "execution_count": 20,
     "metadata": {},
     "output_type": "execute_result"
    }
   ],
   "source": [
    "# Best Average Fitness\n",
    "df_F24_1st[df_F24_1st.AverageDiffFromOpt == df_F24_1st.AverageDiffFromOpt.min()]"
   ],
   "metadata": {
    "collapsed": false,
    "pycharm": {
     "name": "#%%\n"
    }
   }
  },
  {
   "cell_type": "code",
   "execution_count": 21,
   "outputs": [
    {
     "data": {
      "text/plain": "     TestFunction  OptimalMinimum  BestFitness  BestDiffFromOpt  \\\n0             F24           260.0  1581.379194      1321.379194   \n1             F24           260.0  1716.297855      1456.297855   \n2             F24           260.0  1257.358857       997.358857   \n3             F24           260.0  1009.196942       749.196942   \n4             F24           260.0  1706.802306      1446.802306   \n...           ...             ...          ...              ...   \n1291          F24           260.0  1604.662489      1344.662489   \n1292          F24           260.0  2013.695892      1753.695892   \n1293          F24           260.0  2022.287128      1762.287128   \n1294          F24           260.0  1880.468349      1620.468349   \n1295          F24           260.0  1851.241865      1591.241865   \n\n      AverageFitness  AverageDiffFromOpt  TimePerRun  Generations  \\\n0        1772.169403         1512.169403    0.115887           50   \n1        1859.331639         1599.331639    0.334574          150   \n2        1496.301694         1236.301694    0.095941           50   \n3        1260.036581         1000.036581    0.290794          150   \n4        1905.026391         1645.026391    0.097299           50   \n...              ...                 ...         ...          ...   \n1291     1633.768568         1373.768568    3.663990          150   \n1292     2032.972450         1772.972450    1.252370           50   \n1293     2078.779992         1818.779992    3.872165          150   \n1294     1907.107345         1647.107345    1.220936           50   \n1295     1866.000102         1606.000102    3.771049          150   \n\n      NoDimension  PopSize  TForTournament  CrossoverPerc  MutationRate  \\\n0              10        5               2            0.5           0.2   \n1              10        5               2            0.5           0.2   \n2              10        5               2            0.5           0.2   \n3              10        5               2            0.5           0.2   \n4              10        5               2            0.5           0.2   \n...           ...      ...             ...            ...           ...   \n1291           50       15               4            1.0           1.0   \n1292           50       15               4            1.0           1.0   \n1293           50       15               4            1.0           1.0   \n1294           50       15               4            1.0           1.0   \n1295           50       15               4            1.0           1.0   \n\n      DecreasingMutationRate  Elite   Bounds  AverageOverRange  \n0                       True      0  [-5, 5]                 5  \n1                       True      0  [-5, 5]                 5  \n2                       True      1  [-5, 5]                 5  \n3                       True      1  [-5, 5]                 5  \n4                      False      0  [-5, 5]                 5  \n...                      ...    ...      ...               ...  \n1291                    True      1  [-5, 5]                 5  \n1292                   False      0  [-5, 5]                 5  \n1293                   False      0  [-5, 5]                 5  \n1294                   False      1  [-5, 5]                 5  \n1295                   False      1  [-5, 5]                 5  \n\n[1296 rows x 17 columns]",
      "text/html": "<div>\n<style scoped>\n    .dataframe tbody tr th:only-of-type {\n        vertical-align: middle;\n    }\n\n    .dataframe tbody tr th {\n        vertical-align: top;\n    }\n\n    .dataframe thead th {\n        text-align: right;\n    }\n</style>\n<table border=\"1\" class=\"dataframe\">\n  <thead>\n    <tr style=\"text-align: right;\">\n      <th></th>\n      <th>TestFunction</th>\n      <th>OptimalMinimum</th>\n      <th>BestFitness</th>\n      <th>BestDiffFromOpt</th>\n      <th>AverageFitness</th>\n      <th>AverageDiffFromOpt</th>\n      <th>TimePerRun</th>\n      <th>Generations</th>\n      <th>NoDimension</th>\n      <th>PopSize</th>\n      <th>TForTournament</th>\n      <th>CrossoverPerc</th>\n      <th>MutationRate</th>\n      <th>DecreasingMutationRate</th>\n      <th>Elite</th>\n      <th>Bounds</th>\n      <th>AverageOverRange</th>\n    </tr>\n  </thead>\n  <tbody>\n    <tr>\n      <th>0</th>\n      <td>F24</td>\n      <td>260.0</td>\n      <td>1581.379194</td>\n      <td>1321.379194</td>\n      <td>1772.169403</td>\n      <td>1512.169403</td>\n      <td>0.115887</td>\n      <td>50</td>\n      <td>10</td>\n      <td>5</td>\n      <td>2</td>\n      <td>0.5</td>\n      <td>0.2</td>\n      <td>True</td>\n      <td>0</td>\n      <td>[-5, 5]</td>\n      <td>5</td>\n    </tr>\n    <tr>\n      <th>1</th>\n      <td>F24</td>\n      <td>260.0</td>\n      <td>1716.297855</td>\n      <td>1456.297855</td>\n      <td>1859.331639</td>\n      <td>1599.331639</td>\n      <td>0.334574</td>\n      <td>150</td>\n      <td>10</td>\n      <td>5</td>\n      <td>2</td>\n      <td>0.5</td>\n      <td>0.2</td>\n      <td>True</td>\n      <td>0</td>\n      <td>[-5, 5]</td>\n      <td>5</td>\n    </tr>\n    <tr>\n      <th>2</th>\n      <td>F24</td>\n      <td>260.0</td>\n      <td>1257.358857</td>\n      <td>997.358857</td>\n      <td>1496.301694</td>\n      <td>1236.301694</td>\n      <td>0.095941</td>\n      <td>50</td>\n      <td>10</td>\n      <td>5</td>\n      <td>2</td>\n      <td>0.5</td>\n      <td>0.2</td>\n      <td>True</td>\n      <td>1</td>\n      <td>[-5, 5]</td>\n      <td>5</td>\n    </tr>\n    <tr>\n      <th>3</th>\n      <td>F24</td>\n      <td>260.0</td>\n      <td>1009.196942</td>\n      <td>749.196942</td>\n      <td>1260.036581</td>\n      <td>1000.036581</td>\n      <td>0.290794</td>\n      <td>150</td>\n      <td>10</td>\n      <td>5</td>\n      <td>2</td>\n      <td>0.5</td>\n      <td>0.2</td>\n      <td>True</td>\n      <td>1</td>\n      <td>[-5, 5]</td>\n      <td>5</td>\n    </tr>\n    <tr>\n      <th>4</th>\n      <td>F24</td>\n      <td>260.0</td>\n      <td>1706.802306</td>\n      <td>1446.802306</td>\n      <td>1905.026391</td>\n      <td>1645.026391</td>\n      <td>0.097299</td>\n      <td>50</td>\n      <td>10</td>\n      <td>5</td>\n      <td>2</td>\n      <td>0.5</td>\n      <td>0.2</td>\n      <td>False</td>\n      <td>0</td>\n      <td>[-5, 5]</td>\n      <td>5</td>\n    </tr>\n    <tr>\n      <th>...</th>\n      <td>...</td>\n      <td>...</td>\n      <td>...</td>\n      <td>...</td>\n      <td>...</td>\n      <td>...</td>\n      <td>...</td>\n      <td>...</td>\n      <td>...</td>\n      <td>...</td>\n      <td>...</td>\n      <td>...</td>\n      <td>...</td>\n      <td>...</td>\n      <td>...</td>\n      <td>...</td>\n      <td>...</td>\n    </tr>\n    <tr>\n      <th>1291</th>\n      <td>F24</td>\n      <td>260.0</td>\n      <td>1604.662489</td>\n      <td>1344.662489</td>\n      <td>1633.768568</td>\n      <td>1373.768568</td>\n      <td>3.663990</td>\n      <td>150</td>\n      <td>50</td>\n      <td>15</td>\n      <td>4</td>\n      <td>1.0</td>\n      <td>1.0</td>\n      <td>True</td>\n      <td>1</td>\n      <td>[-5, 5]</td>\n      <td>5</td>\n    </tr>\n    <tr>\n      <th>1292</th>\n      <td>F24</td>\n      <td>260.0</td>\n      <td>2013.695892</td>\n      <td>1753.695892</td>\n      <td>2032.972450</td>\n      <td>1772.972450</td>\n      <td>1.252370</td>\n      <td>50</td>\n      <td>50</td>\n      <td>15</td>\n      <td>4</td>\n      <td>1.0</td>\n      <td>1.0</td>\n      <td>False</td>\n      <td>0</td>\n      <td>[-5, 5]</td>\n      <td>5</td>\n    </tr>\n    <tr>\n      <th>1293</th>\n      <td>F24</td>\n      <td>260.0</td>\n      <td>2022.287128</td>\n      <td>1762.287128</td>\n      <td>2078.779992</td>\n      <td>1818.779992</td>\n      <td>3.872165</td>\n      <td>150</td>\n      <td>50</td>\n      <td>15</td>\n      <td>4</td>\n      <td>1.0</td>\n      <td>1.0</td>\n      <td>False</td>\n      <td>0</td>\n      <td>[-5, 5]</td>\n      <td>5</td>\n    </tr>\n    <tr>\n      <th>1294</th>\n      <td>F24</td>\n      <td>260.0</td>\n      <td>1880.468349</td>\n      <td>1620.468349</td>\n      <td>1907.107345</td>\n      <td>1647.107345</td>\n      <td>1.220936</td>\n      <td>50</td>\n      <td>50</td>\n      <td>15</td>\n      <td>4</td>\n      <td>1.0</td>\n      <td>1.0</td>\n      <td>False</td>\n      <td>1</td>\n      <td>[-5, 5]</td>\n      <td>5</td>\n    </tr>\n    <tr>\n      <th>1295</th>\n      <td>F24</td>\n      <td>260.0</td>\n      <td>1851.241865</td>\n      <td>1591.241865</td>\n      <td>1866.000102</td>\n      <td>1606.000102</td>\n      <td>3.771049</td>\n      <td>150</td>\n      <td>50</td>\n      <td>15</td>\n      <td>4</td>\n      <td>1.0</td>\n      <td>1.0</td>\n      <td>False</td>\n      <td>1</td>\n      <td>[-5, 5]</td>\n      <td>5</td>\n    </tr>\n  </tbody>\n</table>\n<p>1296 rows × 17 columns</p>\n</div>"
     },
     "execution_count": 21,
     "metadata": {},
     "output_type": "execute_result"
    }
   ],
   "source": [
    "df_F24_1st"
   ],
   "metadata": {
    "collapsed": false,
    "pycharm": {
     "name": "#%%\n"
    }
   }
  },
  {
   "cell_type": "markdown",
   "source": [
    "# Conclusion:\n",
    "\n",
    "The optimizer performed the best on F8 and F13. F13 error was the lowest with the best fitness 0.38% away from the optimal. F8's best fitness was 14.4% away from the optimal. While the F13 error is good F8 is a significantly larger from the optimal and can be improved. The GA performed poorly on the rest of the test functions. The best fitness errors are as follows:\n",
    "- F2:  69.36%\n",
    "- F4: 102.09%\n",
    "- F17: 147.95%\n",
    "- F24: 93.36%\n",
    "\n",
    "F8 and F13 share a similarity with their best scores. Both test function used a similar test configuration to achieve the best scores. `150 Generation / 10 Dimension / 15 Pop Size / 4 T / 100% CR / DMR True / 1 Elite`. The only difference is that F8 used 80% Mutation Rate whereas for F13 the best score was achieved with 20%.\n",
    "\n",
    "Each test function scored the best after 150 generations, so we decided to increase the number of generations to see how they improve. For the 2nd iteration we kept the configuration of the best settings per test function. Each test function has two best score. Best fitness and best average fitness. The parameters with low frequency from the bests weren't carried on to the 2nd iteration if the parameter comes from the best configuration with huge error. I.e. DMR false setting wasn't used as it's from F24 with high error.\n",
    "\n",
    "Frequency of configuration among best difference and average difference from optimal:\n",
    "- Generation:\n",
    "    - 50 -> 0\n",
    "    - 150 -> 12\n",
    "- Dimension:\n",
    "    - 10 -> 12\n",
    "    - 30 -> 0\n",
    "    - 50 -> 0\n",
    "- Population Size:\n",
    "    - 5 -> 0\n",
    "    - 10 -> 1\n",
    "    - 15 -> 11\n",
    "- Tournament Size:\n",
    "    - 2 -> 3\n",
    "    - 4 -> 9\n",
    "- Crossover Rate:\n",
    "    - 50% -> 1\n",
    "    - 95% -> 5\n",
    "    - 100% -> 6\n",
    "- Mutation Rate:\n",
    "    - 20% -> 9\n",
    "    - 80% -> 3\n",
    "    - 100% -> 0\n",
    "- Decreasing Mutation Rate:\n",
    "    - True -> 10\n",
    "    - False -> 2\n",
    "- Elites:\n",
    "    - 0 -> 0\n",
    "    - 1 -> 12"
   ],
   "metadata": {
    "collapsed": false,
    "pycharm": {
     "name": "#%% md\n"
    }
   }
  },
  {
   "cell_type": "markdown",
   "source": [
    "# 2nd Iteration of Configurations\n",
    "Same algorithm was used as for the 1st iteration but different hyper-parameters. Increased the number of generations to 250, 500, 1000. The population size was increased too and some configurations weren't carried over from iteration 1, i.e. the number of dimension was reduced to only 10, the False setting for DMR wasn't used as the error was high for the results in the 1st iteration which had false."
   ],
   "metadata": {
    "collapsed": false,
    "pycharm": {
     "name": "#%% md\n"
    }
   }
  },
  {
   "cell_type": "code",
   "execution_count": 22,
   "outputs": [],
   "source": [
    "benchmarks_and_bounds = [optproblems.F2, [-100,100], \"F2\", optproblems.F4, [-100,100], \"F4\", optproblems.F8, [-32,32], \"F8\", optproblems.F13, [-3,1], \"F13\", optproblems.F17, [-5,5], \"F17\", optproblems.F24, [-5,5], \"F24\"]\n",
    "no_dimensions = [10]\n",
    "num_generations = [250, 500, 1000]\n",
    "pop_sizes = [10, 15, 20]\n",
    "tournament_t = [2, 4]\n",
    "crossover_percentage = [0.95, 1]\n",
    "mutation_rates = [0.2, 0.8]\n",
    "decreasing_mutation_rate = [True]\n",
    "elites = [0, 1]\n",
    "\n",
    "average_over_range = 5"
   ],
   "metadata": {
    "collapsed": false,
    "pycharm": {
     "name": "#%%\n"
    }
   }
  },
  {
   "cell_type": "code",
   "execution_count": 23,
   "outputs": [],
   "source": [
    "run_configuration_suite = False\n",
    "if run_configuration_suite:\n",
    "\n",
    "    list_for_df = []\n",
    "    for i in range(0, len(benchmarks_and_bounds), 3):\n",
    "        number_of_functions = (len(benchmarks_and_bounds)/3)\n",
    "        print(f\"Progress: {i/3} / {number_of_functions}\")\n",
    "        bound = benchmarks_and_bounds[i+1]\n",
    "        benchmark_name = benchmarks_and_bounds[i+2]\n",
    "        for no_dimension in no_dimensions:\n",
    "            print(f\"\\tDimension: {no_dimension}\")\n",
    "            benchmark = benchmarks_and_bounds[i](no_dimension)\n",
    "            optimal_solution = benchmark.get_optimal_solutions()\n",
    "            benchmark.evaluate(optimal_solution[0])\n",
    "            optimal_minimum = optimal_solution[0].objective_values\n",
    "            for pop_size in pop_sizes:\n",
    "                print(f\"\\t\\tPopulation: {pop_size}\")\n",
    "                for t in tournament_t:\n",
    "                    for crossover in crossover_percentage:\n",
    "                        for mutation in mutation_rates:\n",
    "                            for dmr in decreasing_mutation_rate:\n",
    "                                for elite in elites:\n",
    "                                    for generations in num_generations:\n",
    "                                        average_fitness = 0\n",
    "                                        average_difference_from_optimal = 0\n",
    "\n",
    "                                        best_fitness = 0\n",
    "                                        best_time = 0\n",
    "                                        best_difference_from_optimal = 0\n",
    "\n",
    "                                        for j in range(average_over_range):\n",
    "                                            algorithm = GA(benchmark, no_dimension, bound, pop_size, num_generations=generations, t=t, crossover_percentage=crossover, mutation_rate=mutation, decreasing_mutation_rate=dmr, elite=elite)\n",
    "                                            result, time = algorithm.run()\n",
    "                                            fitness = result.fitness\n",
    "                                            diff_from_optimal = fitness - optimal_minimum\n",
    "\n",
    "                                            average_fitness += 1/average_over_range * fitness\n",
    "                                            average_difference_from_optimal += 1/average_over_range * diff_from_optimal\n",
    "\n",
    "                                            if j == 0:\n",
    "                                                best_fitness = fitness\n",
    "                                                best_difference_from_optimal = diff_from_optimal\n",
    "                                                best_time = time\n",
    "                                                continue\n",
    "\n",
    "                                            if fitness < best_fitness:\n",
    "                                                best_fitness = fitness\n",
    "\n",
    "                                            if diff_from_optimal < best_difference_from_optimal:\n",
    "                                                best_difference_from_optimal = diff_from_optimal\n",
    "\n",
    "                                            if time < best_time:\n",
    "                                                best_time = time\n",
    "\n",
    "                                        result_and_configuration = [benchmark_name, optimal_minimum, best_fitness, best_difference_from_optimal, average_fitness, average_difference_from_optimal, best_time, generations, no_dimension, pop_size, t, crossover, mutation, dmr, elite, bound, average_over_range]\n",
    "                                        list_for_df.append(result_and_configuration)\n",
    "\n",
    "    labels = [\"TestFunction\", \"OptimalMinimum\", \"BestFitness\", \"BestDiffFromOpt\", \"AverageFitness\", \"AverageDiffFromOpt\", \"TimePerRun\", \"Generations\", \"NoDimension\", \"PopSize\", \"TForTournament\", \"CrossoverPerc\", \"MutationRate\", \"DecreasingMutationRate\", \"Elite\", \"Bounds\", \"AverageOverRange\"]\n",
    "    df_II = pandas.DataFrame(data=list_for_df, columns=labels)\n",
    "    df_II.to_pickle(\"GA_df_specific.pkl\")\n",
    "else:\n",
    "    df_II = pd.read_pickle(\"GA_df_specific.pkl\")"
   ],
   "metadata": {
    "collapsed": false,
    "pycharm": {
     "name": "#%%\n"
    }
   }
  },
  {
   "cell_type": "markdown",
   "source": [
    "# Results of the 2nd Iteration"
   ],
   "metadata": {
    "collapsed": false,
    "pycharm": {
     "name": "#%% md\n"
    }
   }
  },
  {
   "cell_type": "markdown",
   "source": [
    "# F2\n",
    "### For 1st Iteration:\n",
    "- Best Diff: 312.11 -> 150 Generation / 10 Dimension / 15 Pop Size / 2 T / 100% CR / 20% MR / DMR True / 1 Elite\n",
    "    -  Error: 312.11 / 450 -> 69.36%\n",
    "- Avr. Diff: 913.20 -> 150 Generation / 10 Dimension / 15 Pop Size / 4 T / 95%  CR / 20% MR / DMR True / 1 Elite\n",
    "    - Error: 913.20 / 450 -> 202.93%\n",
    "\n",
    "### For 2nd Iteration:\n",
    "- Best Diff: 33.482 -> 1000 Generation / 10 Dimension / 20 Pop Size / 4 T / 95% CR / 20% MR / DMR True / 0 Elite\n",
    "    -  Error: 33.482 / 450 -> 7.4%\n",
    "- Avr. Diff: 113.75 -> 1000 Generation / 10 Dimension / 20 Pop Size / 4 T / 95% CR / 20% MR / DMR True / 1 Elite\n",
    "    - Error: 113.75 / 450 -> 25.27%\n",
    "\n",
    "## Conclusion for F2:\n",
    "- Significant improvement by increasing the generations from 150 -> 1000 and the population from 15 -> 20.\n",
    "- Best diff error is ~10× less\n",
    "- Avg diff error is ~8× less\n",
    "- In the 2nd iteration the best fitness was achieved by 4 as tournament size and 95% for crossover rate instead of 2 and 100%."
   ],
   "metadata": {
    "collapsed": false,
    "pycharm": {
     "name": "#%% md\n"
    }
   }
  },
  {
   "cell_type": "code",
   "execution_count": 24,
   "outputs": [
    {
     "data": {
      "text/plain": "    TestFunction  OptimalMinimum  BestFitness  BestDiffFromOpt  \\\n122           F2          -450.0  -416.517369        33.482631   \n137           F2          -450.0  -408.762250        41.237750   \n113           F2          -450.0  -397.671236        52.328764   \n125           F2          -450.0  -391.244262        58.755738   \n77            F2          -450.0  -385.323374        64.676626   \n..           ...             ...          ...              ...   \n55            F2          -450.0  4946.517936      5396.517936   \n12            F2          -450.0  5026.711628      5476.711628   \n102           F2          -450.0  5634.522811      6084.522811   \n19            F2          -450.0  5651.558023      6101.558023   \n6             F2          -450.0  5714.207052      6164.207052   \n\n     AverageFitness  AverageDiffFromOpt  TimePerRun  Generations  NoDimension  \\\n122     -105.535665          344.464335    0.678949         1000           10   \n137     -292.125138          157.874862    0.716443         1000           10   \n113     -228.550850          221.449150    0.686052         1000           10   \n125     -336.241540          113.758460    0.702944         1000           10   \n77      -141.952623          308.047377    0.523073         1000           10   \n..              ...                 ...         ...          ...          ...   \n55      7945.357578         8395.357578    0.315453          500           10   \n12     11279.574303        11729.574303    0.084131          250           10   \n102     8568.824344         9018.824344    0.202083          250           10   \n19     13316.792343        13766.792343    0.207827          500           10   \n6      11293.868002        11743.868002    0.101580          250           10   \n\n     PopSize  TForTournament  CrossoverPerc  MutationRate  \\\n122       20               4           0.95           0.2   \n137       20               4           1.00           0.2   \n113       20               2           1.00           0.2   \n125       20               4           0.95           0.2   \n77        15               4           0.95           0.2   \n..       ...             ...            ...           ...   \n55        15               2           0.95           0.8   \n12        10               2           1.00           0.2   \n102       20               2           0.95           0.8   \n19        10               2           1.00           0.8   \n6         10               2           0.95           0.8   \n\n     DecreasingMutationRate  Elite       Bounds  AverageOverRange  \n122                    True      0  [-100, 100]                 5  \n137                    True      1  [-100, 100]                 5  \n113                    True      1  [-100, 100]                 5  \n125                    True      1  [-100, 100]                 5  \n77                     True      1  [-100, 100]                 5  \n..                      ...    ...          ...               ...  \n55                     True      0  [-100, 100]                 5  \n12                     True      0  [-100, 100]                 5  \n102                    True      0  [-100, 100]                 5  \n19                     True      0  [-100, 100]                 5  \n6                      True      0  [-100, 100]                 5  \n\n[144 rows x 17 columns]",
      "text/html": "<div>\n<style scoped>\n    .dataframe tbody tr th:only-of-type {\n        vertical-align: middle;\n    }\n\n    .dataframe tbody tr th {\n        vertical-align: top;\n    }\n\n    .dataframe thead th {\n        text-align: right;\n    }\n</style>\n<table border=\"1\" class=\"dataframe\">\n  <thead>\n    <tr style=\"text-align: right;\">\n      <th></th>\n      <th>TestFunction</th>\n      <th>OptimalMinimum</th>\n      <th>BestFitness</th>\n      <th>BestDiffFromOpt</th>\n      <th>AverageFitness</th>\n      <th>AverageDiffFromOpt</th>\n      <th>TimePerRun</th>\n      <th>Generations</th>\n      <th>NoDimension</th>\n      <th>PopSize</th>\n      <th>TForTournament</th>\n      <th>CrossoverPerc</th>\n      <th>MutationRate</th>\n      <th>DecreasingMutationRate</th>\n      <th>Elite</th>\n      <th>Bounds</th>\n      <th>AverageOverRange</th>\n    </tr>\n  </thead>\n  <tbody>\n    <tr>\n      <th>122</th>\n      <td>F2</td>\n      <td>-450.0</td>\n      <td>-416.517369</td>\n      <td>33.482631</td>\n      <td>-105.535665</td>\n      <td>344.464335</td>\n      <td>0.678949</td>\n      <td>1000</td>\n      <td>10</td>\n      <td>20</td>\n      <td>4</td>\n      <td>0.95</td>\n      <td>0.2</td>\n      <td>True</td>\n      <td>0</td>\n      <td>[-100, 100]</td>\n      <td>5</td>\n    </tr>\n    <tr>\n      <th>137</th>\n      <td>F2</td>\n      <td>-450.0</td>\n      <td>-408.762250</td>\n      <td>41.237750</td>\n      <td>-292.125138</td>\n      <td>157.874862</td>\n      <td>0.716443</td>\n      <td>1000</td>\n      <td>10</td>\n      <td>20</td>\n      <td>4</td>\n      <td>1.00</td>\n      <td>0.2</td>\n      <td>True</td>\n      <td>1</td>\n      <td>[-100, 100]</td>\n      <td>5</td>\n    </tr>\n    <tr>\n      <th>113</th>\n      <td>F2</td>\n      <td>-450.0</td>\n      <td>-397.671236</td>\n      <td>52.328764</td>\n      <td>-228.550850</td>\n      <td>221.449150</td>\n      <td>0.686052</td>\n      <td>1000</td>\n      <td>10</td>\n      <td>20</td>\n      <td>2</td>\n      <td>1.00</td>\n      <td>0.2</td>\n      <td>True</td>\n      <td>1</td>\n      <td>[-100, 100]</td>\n      <td>5</td>\n    </tr>\n    <tr>\n      <th>125</th>\n      <td>F2</td>\n      <td>-450.0</td>\n      <td>-391.244262</td>\n      <td>58.755738</td>\n      <td>-336.241540</td>\n      <td>113.758460</td>\n      <td>0.702944</td>\n      <td>1000</td>\n      <td>10</td>\n      <td>20</td>\n      <td>4</td>\n      <td>0.95</td>\n      <td>0.2</td>\n      <td>True</td>\n      <td>1</td>\n      <td>[-100, 100]</td>\n      <td>5</td>\n    </tr>\n    <tr>\n      <th>77</th>\n      <td>F2</td>\n      <td>-450.0</td>\n      <td>-385.323374</td>\n      <td>64.676626</td>\n      <td>-141.952623</td>\n      <td>308.047377</td>\n      <td>0.523073</td>\n      <td>1000</td>\n      <td>10</td>\n      <td>15</td>\n      <td>4</td>\n      <td>0.95</td>\n      <td>0.2</td>\n      <td>True</td>\n      <td>1</td>\n      <td>[-100, 100]</td>\n      <td>5</td>\n    </tr>\n    <tr>\n      <th>...</th>\n      <td>...</td>\n      <td>...</td>\n      <td>...</td>\n      <td>...</td>\n      <td>...</td>\n      <td>...</td>\n      <td>...</td>\n      <td>...</td>\n      <td>...</td>\n      <td>...</td>\n      <td>...</td>\n      <td>...</td>\n      <td>...</td>\n      <td>...</td>\n      <td>...</td>\n      <td>...</td>\n      <td>...</td>\n    </tr>\n    <tr>\n      <th>55</th>\n      <td>F2</td>\n      <td>-450.0</td>\n      <td>4946.517936</td>\n      <td>5396.517936</td>\n      <td>7945.357578</td>\n      <td>8395.357578</td>\n      <td>0.315453</td>\n      <td>500</td>\n      <td>10</td>\n      <td>15</td>\n      <td>2</td>\n      <td>0.95</td>\n      <td>0.8</td>\n      <td>True</td>\n      <td>0</td>\n      <td>[-100, 100]</td>\n      <td>5</td>\n    </tr>\n    <tr>\n      <th>12</th>\n      <td>F2</td>\n      <td>-450.0</td>\n      <td>5026.711628</td>\n      <td>5476.711628</td>\n      <td>11279.574303</td>\n      <td>11729.574303</td>\n      <td>0.084131</td>\n      <td>250</td>\n      <td>10</td>\n      <td>10</td>\n      <td>2</td>\n      <td>1.00</td>\n      <td>0.2</td>\n      <td>True</td>\n      <td>0</td>\n      <td>[-100, 100]</td>\n      <td>5</td>\n    </tr>\n    <tr>\n      <th>102</th>\n      <td>F2</td>\n      <td>-450.0</td>\n      <td>5634.522811</td>\n      <td>6084.522811</td>\n      <td>8568.824344</td>\n      <td>9018.824344</td>\n      <td>0.202083</td>\n      <td>250</td>\n      <td>10</td>\n      <td>20</td>\n      <td>2</td>\n      <td>0.95</td>\n      <td>0.8</td>\n      <td>True</td>\n      <td>0</td>\n      <td>[-100, 100]</td>\n      <td>5</td>\n    </tr>\n    <tr>\n      <th>19</th>\n      <td>F2</td>\n      <td>-450.0</td>\n      <td>5651.558023</td>\n      <td>6101.558023</td>\n      <td>13316.792343</td>\n      <td>13766.792343</td>\n      <td>0.207827</td>\n      <td>500</td>\n      <td>10</td>\n      <td>10</td>\n      <td>2</td>\n      <td>1.00</td>\n      <td>0.8</td>\n      <td>True</td>\n      <td>0</td>\n      <td>[-100, 100]</td>\n      <td>5</td>\n    </tr>\n    <tr>\n      <th>6</th>\n      <td>F2</td>\n      <td>-450.0</td>\n      <td>5714.207052</td>\n      <td>6164.207052</td>\n      <td>11293.868002</td>\n      <td>11743.868002</td>\n      <td>0.101580</td>\n      <td>250</td>\n      <td>10</td>\n      <td>10</td>\n      <td>2</td>\n      <td>0.95</td>\n      <td>0.8</td>\n      <td>True</td>\n      <td>0</td>\n      <td>[-100, 100]</td>\n      <td>5</td>\n    </tr>\n  </tbody>\n</table>\n<p>144 rows × 17 columns</p>\n</div>"
     },
     "execution_count": 24,
     "metadata": {},
     "output_type": "execute_result"
    }
   ],
   "source": [
    "df_II.query(\"TestFunction == 'F2'\").sort_values(by=[\"BestDiffFromOpt\"])"
   ],
   "metadata": {
    "collapsed": false,
    "pycharm": {
     "name": "#%%\n"
    }
   }
  },
  {
   "cell_type": "code",
   "execution_count": 25,
   "outputs": [
    {
     "data": {
      "text/plain": "    TestFunction  OptimalMinimum  BestFitness  BestDiffFromOpt  \\\n125           F2          -450.0  -391.244262        58.755738   \n137           F2          -450.0  -408.762250        41.237750   \n101           F2          -450.0  -354.126824        95.873176   \n113           F2          -450.0  -397.671236        52.328764   \n124           F2          -450.0  -307.048301       142.951699   \n..           ...             ...          ...              ...   \n20            F2          -450.0  3300.153212      3750.153212   \n12            F2          -450.0  5026.711628      5476.711628   \n6             F2          -450.0  5714.207052      6164.207052   \n18            F2          -450.0  4489.186327      4939.186327   \n19            F2          -450.0  5651.558023      6101.558023   \n\n     AverageFitness  AverageDiffFromOpt  TimePerRun  Generations  NoDimension  \\\n125     -336.241540          113.758460    0.702944         1000           10   \n137     -292.125138          157.874862    0.716443         1000           10   \n101     -260.114914          189.885086    0.676758         1000           10   \n113     -228.550850          221.449150    0.686052         1000           10   \n124     -216.653180          233.346820    0.351216          500           10   \n..              ...                 ...         ...          ...          ...   \n20     10927.162940        11377.162940    0.418171         1000           10   \n12     11279.574303        11729.574303    0.084131          250           10   \n6      11293.868002        11743.868002    0.101580          250           10   \n18     11464.228269        11914.228269    0.104034          250           10   \n19     13316.792343        13766.792343    0.207827          500           10   \n\n     PopSize  TForTournament  CrossoverPerc  MutationRate  \\\n125       20               4           0.95           0.2   \n137       20               4           1.00           0.2   \n101       20               2           0.95           0.2   \n113       20               2           1.00           0.2   \n124       20               4           0.95           0.2   \n..       ...             ...            ...           ...   \n20        10               2           1.00           0.8   \n12        10               2           1.00           0.2   \n6         10               2           0.95           0.8   \n18        10               2           1.00           0.8   \n19        10               2           1.00           0.8   \n\n     DecreasingMutationRate  Elite       Bounds  AverageOverRange  \n125                    True      1  [-100, 100]                 5  \n137                    True      1  [-100, 100]                 5  \n101                    True      1  [-100, 100]                 5  \n113                    True      1  [-100, 100]                 5  \n124                    True      1  [-100, 100]                 5  \n..                      ...    ...          ...               ...  \n20                     True      0  [-100, 100]                 5  \n12                     True      0  [-100, 100]                 5  \n6                      True      0  [-100, 100]                 5  \n18                     True      0  [-100, 100]                 5  \n19                     True      0  [-100, 100]                 5  \n\n[144 rows x 17 columns]",
      "text/html": "<div>\n<style scoped>\n    .dataframe tbody tr th:only-of-type {\n        vertical-align: middle;\n    }\n\n    .dataframe tbody tr th {\n        vertical-align: top;\n    }\n\n    .dataframe thead th {\n        text-align: right;\n    }\n</style>\n<table border=\"1\" class=\"dataframe\">\n  <thead>\n    <tr style=\"text-align: right;\">\n      <th></th>\n      <th>TestFunction</th>\n      <th>OptimalMinimum</th>\n      <th>BestFitness</th>\n      <th>BestDiffFromOpt</th>\n      <th>AverageFitness</th>\n      <th>AverageDiffFromOpt</th>\n      <th>TimePerRun</th>\n      <th>Generations</th>\n      <th>NoDimension</th>\n      <th>PopSize</th>\n      <th>TForTournament</th>\n      <th>CrossoverPerc</th>\n      <th>MutationRate</th>\n      <th>DecreasingMutationRate</th>\n      <th>Elite</th>\n      <th>Bounds</th>\n      <th>AverageOverRange</th>\n    </tr>\n  </thead>\n  <tbody>\n    <tr>\n      <th>125</th>\n      <td>F2</td>\n      <td>-450.0</td>\n      <td>-391.244262</td>\n      <td>58.755738</td>\n      <td>-336.241540</td>\n      <td>113.758460</td>\n      <td>0.702944</td>\n      <td>1000</td>\n      <td>10</td>\n      <td>20</td>\n      <td>4</td>\n      <td>0.95</td>\n      <td>0.2</td>\n      <td>True</td>\n      <td>1</td>\n      <td>[-100, 100]</td>\n      <td>5</td>\n    </tr>\n    <tr>\n      <th>137</th>\n      <td>F2</td>\n      <td>-450.0</td>\n      <td>-408.762250</td>\n      <td>41.237750</td>\n      <td>-292.125138</td>\n      <td>157.874862</td>\n      <td>0.716443</td>\n      <td>1000</td>\n      <td>10</td>\n      <td>20</td>\n      <td>4</td>\n      <td>1.00</td>\n      <td>0.2</td>\n      <td>True</td>\n      <td>1</td>\n      <td>[-100, 100]</td>\n      <td>5</td>\n    </tr>\n    <tr>\n      <th>101</th>\n      <td>F2</td>\n      <td>-450.0</td>\n      <td>-354.126824</td>\n      <td>95.873176</td>\n      <td>-260.114914</td>\n      <td>189.885086</td>\n      <td>0.676758</td>\n      <td>1000</td>\n      <td>10</td>\n      <td>20</td>\n      <td>2</td>\n      <td>0.95</td>\n      <td>0.2</td>\n      <td>True</td>\n      <td>1</td>\n      <td>[-100, 100]</td>\n      <td>5</td>\n    </tr>\n    <tr>\n      <th>113</th>\n      <td>F2</td>\n      <td>-450.0</td>\n      <td>-397.671236</td>\n      <td>52.328764</td>\n      <td>-228.550850</td>\n      <td>221.449150</td>\n      <td>0.686052</td>\n      <td>1000</td>\n      <td>10</td>\n      <td>20</td>\n      <td>2</td>\n      <td>1.00</td>\n      <td>0.2</td>\n      <td>True</td>\n      <td>1</td>\n      <td>[-100, 100]</td>\n      <td>5</td>\n    </tr>\n    <tr>\n      <th>124</th>\n      <td>F2</td>\n      <td>-450.0</td>\n      <td>-307.048301</td>\n      <td>142.951699</td>\n      <td>-216.653180</td>\n      <td>233.346820</td>\n      <td>0.351216</td>\n      <td>500</td>\n      <td>10</td>\n      <td>20</td>\n      <td>4</td>\n      <td>0.95</td>\n      <td>0.2</td>\n      <td>True</td>\n      <td>1</td>\n      <td>[-100, 100]</td>\n      <td>5</td>\n    </tr>\n    <tr>\n      <th>...</th>\n      <td>...</td>\n      <td>...</td>\n      <td>...</td>\n      <td>...</td>\n      <td>...</td>\n      <td>...</td>\n      <td>...</td>\n      <td>...</td>\n      <td>...</td>\n      <td>...</td>\n      <td>...</td>\n      <td>...</td>\n      <td>...</td>\n      <td>...</td>\n      <td>...</td>\n      <td>...</td>\n      <td>...</td>\n    </tr>\n    <tr>\n      <th>20</th>\n      <td>F2</td>\n      <td>-450.0</td>\n      <td>3300.153212</td>\n      <td>3750.153212</td>\n      <td>10927.162940</td>\n      <td>11377.162940</td>\n      <td>0.418171</td>\n      <td>1000</td>\n      <td>10</td>\n      <td>10</td>\n      <td>2</td>\n      <td>1.00</td>\n      <td>0.8</td>\n      <td>True</td>\n      <td>0</td>\n      <td>[-100, 100]</td>\n      <td>5</td>\n    </tr>\n    <tr>\n      <th>12</th>\n      <td>F2</td>\n      <td>-450.0</td>\n      <td>5026.711628</td>\n      <td>5476.711628</td>\n      <td>11279.574303</td>\n      <td>11729.574303</td>\n      <td>0.084131</td>\n      <td>250</td>\n      <td>10</td>\n      <td>10</td>\n      <td>2</td>\n      <td>1.00</td>\n      <td>0.2</td>\n      <td>True</td>\n      <td>0</td>\n      <td>[-100, 100]</td>\n      <td>5</td>\n    </tr>\n    <tr>\n      <th>6</th>\n      <td>F2</td>\n      <td>-450.0</td>\n      <td>5714.207052</td>\n      <td>6164.207052</td>\n      <td>11293.868002</td>\n      <td>11743.868002</td>\n      <td>0.101580</td>\n      <td>250</td>\n      <td>10</td>\n      <td>10</td>\n      <td>2</td>\n      <td>0.95</td>\n      <td>0.8</td>\n      <td>True</td>\n      <td>0</td>\n      <td>[-100, 100]</td>\n      <td>5</td>\n    </tr>\n    <tr>\n      <th>18</th>\n      <td>F2</td>\n      <td>-450.0</td>\n      <td>4489.186327</td>\n      <td>4939.186327</td>\n      <td>11464.228269</td>\n      <td>11914.228269</td>\n      <td>0.104034</td>\n      <td>250</td>\n      <td>10</td>\n      <td>10</td>\n      <td>2</td>\n      <td>1.00</td>\n      <td>0.8</td>\n      <td>True</td>\n      <td>0</td>\n      <td>[-100, 100]</td>\n      <td>5</td>\n    </tr>\n    <tr>\n      <th>19</th>\n      <td>F2</td>\n      <td>-450.0</td>\n      <td>5651.558023</td>\n      <td>6101.558023</td>\n      <td>13316.792343</td>\n      <td>13766.792343</td>\n      <td>0.207827</td>\n      <td>500</td>\n      <td>10</td>\n      <td>10</td>\n      <td>2</td>\n      <td>1.00</td>\n      <td>0.8</td>\n      <td>True</td>\n      <td>0</td>\n      <td>[-100, 100]</td>\n      <td>5</td>\n    </tr>\n  </tbody>\n</table>\n<p>144 rows × 17 columns</p>\n</div>"
     },
     "execution_count": 25,
     "metadata": {},
     "output_type": "execute_result"
    }
   ],
   "source": [
    "df_II.query(\"TestFunction == 'F2'\").sort_values(by=[\"AverageDiffFromOpt\"])"
   ],
   "metadata": {
    "collapsed": false,
    "pycharm": {
     "name": "#%%\n"
    }
   }
  },
  {
   "cell_type": "markdown",
   "source": [
    "# F4\n",
    "### For 1st Iteration\n",
    "- Best Diff: 459.44 -> 150 Generation / 10 Dimension / 15 Pop Size / 4 T / 95% CR / 20% MR / DMR False / 1 Elite\n",
    "    - Error: 459.44 / 450 ->  102.09%\n",
    "- Avr. Diff: 1841.4 -> 150 Generation / 10 Dimension / 15 Pop Size / 2 T / 95%  CR / 20% MR / DMR True / 1 Elite\n",
    "    - Error: 1841.4 / 450 ->  409.2%\n",
    "\n",
    "### For 2nd Iteration:\n",
    "- Best Diff: 56.63 -> 500 Generation / 10 Dimension / 15 Pop Size / 4 T / 95% CR / 20% MR / DMR True / 1 Elite\n",
    "    - Error: 56.63 / 450 -> 12.58%\n",
    "- Avr. Diff: 190.78 -> 1000 Generation / 10 Dimension / 20 Pop Size / 4 T / 100% CR / 20% MR / DMR True / 1 Elite\n",
    "    - Error: 190.78 / 450 -> 42.39%\n",
    "\n",
    "## Conclusion for F4:\n",
    "- Significant change by increasing the generation.\n",
    "- The best fitness was achieved with 500 generation instead of 1000 and the population size was same for both iterations.\n",
    "- The best fitness parameters didn't change much. Decreasing MR was used and the generation was increased from 150 to 500. However, for the average fitness the parameters changed. Higher population (20), generation (1000), tournament size (4) and crossover rate (100%) was used."
   ],
   "metadata": {
    "collapsed": false,
    "pycharm": {
     "name": "#%% md\n"
    }
   }
  },
  {
   "cell_type": "code",
   "execution_count": 26,
   "outputs": [
    {
     "data": {
      "text/plain": "    TestFunction  OptimalMinimum  BestFitness  BestDiffFromOpt  \\\n220           F4          -450.0  -393.367303        56.632697   \n269           F4          -450.0  -370.534131        79.465869   \n245           F4          -450.0  -365.166254        84.833746   \n287           F4          -450.0  -349.955701       100.044299   \n221           F4          -450.0  -343.758517       106.241483   \n..           ...             ...          ...              ...   \n186           F4          -450.0  6337.334092      6787.334092   \n198           F4          -450.0  6339.920623      6789.920623   \n150           F4          -450.0  6914.098834      7364.098834   \n164           F4          -450.0  7075.860228      7525.860228   \n152           F4          -450.0  8504.870925      8954.870925   \n\n     AverageFitness  AverageDiffFromOpt  TimePerRun  Generations  NoDimension  \\\n220      -22.736756          427.263244    0.274398          500           10   \n269     -171.885283          278.114717    0.754785         1000           10   \n245     -140.894787          309.105213    0.719845         1000           10   \n287     -130.511791          319.488209    0.918671         1000           10   \n221     -168.488252          281.511748    0.571917         1000           10   \n..              ...                 ...         ...          ...          ...   \n186     8872.264287         9322.264287    0.113453          250           10   \n198    14491.071605        14941.071605    0.167055          250           10   \n150    13935.881487        14385.881487    0.109907          250           10   \n164    13371.260980        13821.260980    0.436771         1000           10   \n152    17773.557343        18223.557343    0.436968         1000           10   \n\n     PopSize  TForTournament  CrossoverPerc  MutationRate  \\\n220       15               4           0.95           0.2   \n269       20               4           0.95           0.2   \n245       20               2           0.95           0.2   \n287       20               4           1.00           0.8   \n221       15               4           0.95           0.2   \n..       ...             ...            ...           ...   \n186       10               4           1.00           0.8   \n198       15               2           0.95           0.8   \n150       10               2           0.95           0.8   \n164       10               2           1.00           0.8   \n152       10               2           0.95           0.8   \n\n     DecreasingMutationRate  Elite       Bounds  AverageOverRange  \n220                    True      1  [-100, 100]                 5  \n269                    True      1  [-100, 100]                 5  \n245                    True      1  [-100, 100]                 5  \n287                    True      1  [-100, 100]                 5  \n221                    True      1  [-100, 100]                 5  \n..                      ...    ...          ...               ...  \n186                    True      0  [-100, 100]                 5  \n198                    True      0  [-100, 100]                 5  \n150                    True      0  [-100, 100]                 5  \n164                    True      0  [-100, 100]                 5  \n152                    True      0  [-100, 100]                 5  \n\n[144 rows x 17 columns]",
      "text/html": "<div>\n<style scoped>\n    .dataframe tbody tr th:only-of-type {\n        vertical-align: middle;\n    }\n\n    .dataframe tbody tr th {\n        vertical-align: top;\n    }\n\n    .dataframe thead th {\n        text-align: right;\n    }\n</style>\n<table border=\"1\" class=\"dataframe\">\n  <thead>\n    <tr style=\"text-align: right;\">\n      <th></th>\n      <th>TestFunction</th>\n      <th>OptimalMinimum</th>\n      <th>BestFitness</th>\n      <th>BestDiffFromOpt</th>\n      <th>AverageFitness</th>\n      <th>AverageDiffFromOpt</th>\n      <th>TimePerRun</th>\n      <th>Generations</th>\n      <th>NoDimension</th>\n      <th>PopSize</th>\n      <th>TForTournament</th>\n      <th>CrossoverPerc</th>\n      <th>MutationRate</th>\n      <th>DecreasingMutationRate</th>\n      <th>Elite</th>\n      <th>Bounds</th>\n      <th>AverageOverRange</th>\n    </tr>\n  </thead>\n  <tbody>\n    <tr>\n      <th>220</th>\n      <td>F4</td>\n      <td>-450.0</td>\n      <td>-393.367303</td>\n      <td>56.632697</td>\n      <td>-22.736756</td>\n      <td>427.263244</td>\n      <td>0.274398</td>\n      <td>500</td>\n      <td>10</td>\n      <td>15</td>\n      <td>4</td>\n      <td>0.95</td>\n      <td>0.2</td>\n      <td>True</td>\n      <td>1</td>\n      <td>[-100, 100]</td>\n      <td>5</td>\n    </tr>\n    <tr>\n      <th>269</th>\n      <td>F4</td>\n      <td>-450.0</td>\n      <td>-370.534131</td>\n      <td>79.465869</td>\n      <td>-171.885283</td>\n      <td>278.114717</td>\n      <td>0.754785</td>\n      <td>1000</td>\n      <td>10</td>\n      <td>20</td>\n      <td>4</td>\n      <td>0.95</td>\n      <td>0.2</td>\n      <td>True</td>\n      <td>1</td>\n      <td>[-100, 100]</td>\n      <td>5</td>\n    </tr>\n    <tr>\n      <th>245</th>\n      <td>F4</td>\n      <td>-450.0</td>\n      <td>-365.166254</td>\n      <td>84.833746</td>\n      <td>-140.894787</td>\n      <td>309.105213</td>\n      <td>0.719845</td>\n      <td>1000</td>\n      <td>10</td>\n      <td>20</td>\n      <td>2</td>\n      <td>0.95</td>\n      <td>0.2</td>\n      <td>True</td>\n      <td>1</td>\n      <td>[-100, 100]</td>\n      <td>5</td>\n    </tr>\n    <tr>\n      <th>287</th>\n      <td>F4</td>\n      <td>-450.0</td>\n      <td>-349.955701</td>\n      <td>100.044299</td>\n      <td>-130.511791</td>\n      <td>319.488209</td>\n      <td>0.918671</td>\n      <td>1000</td>\n      <td>10</td>\n      <td>20</td>\n      <td>4</td>\n      <td>1.00</td>\n      <td>0.8</td>\n      <td>True</td>\n      <td>1</td>\n      <td>[-100, 100]</td>\n      <td>5</td>\n    </tr>\n    <tr>\n      <th>221</th>\n      <td>F4</td>\n      <td>-450.0</td>\n      <td>-343.758517</td>\n      <td>106.241483</td>\n      <td>-168.488252</td>\n      <td>281.511748</td>\n      <td>0.571917</td>\n      <td>1000</td>\n      <td>10</td>\n      <td>15</td>\n      <td>4</td>\n      <td>0.95</td>\n      <td>0.2</td>\n      <td>True</td>\n      <td>1</td>\n      <td>[-100, 100]</td>\n      <td>5</td>\n    </tr>\n    <tr>\n      <th>...</th>\n      <td>...</td>\n      <td>...</td>\n      <td>...</td>\n      <td>...</td>\n      <td>...</td>\n      <td>...</td>\n      <td>...</td>\n      <td>...</td>\n      <td>...</td>\n      <td>...</td>\n      <td>...</td>\n      <td>...</td>\n      <td>...</td>\n      <td>...</td>\n      <td>...</td>\n      <td>...</td>\n      <td>...</td>\n    </tr>\n    <tr>\n      <th>186</th>\n      <td>F4</td>\n      <td>-450.0</td>\n      <td>6337.334092</td>\n      <td>6787.334092</td>\n      <td>8872.264287</td>\n      <td>9322.264287</td>\n      <td>0.113453</td>\n      <td>250</td>\n      <td>10</td>\n      <td>10</td>\n      <td>4</td>\n      <td>1.00</td>\n      <td>0.8</td>\n      <td>True</td>\n      <td>0</td>\n      <td>[-100, 100]</td>\n      <td>5</td>\n    </tr>\n    <tr>\n      <th>198</th>\n      <td>F4</td>\n      <td>-450.0</td>\n      <td>6339.920623</td>\n      <td>6789.920623</td>\n      <td>14491.071605</td>\n      <td>14941.071605</td>\n      <td>0.167055</td>\n      <td>250</td>\n      <td>10</td>\n      <td>15</td>\n      <td>2</td>\n      <td>0.95</td>\n      <td>0.8</td>\n      <td>True</td>\n      <td>0</td>\n      <td>[-100, 100]</td>\n      <td>5</td>\n    </tr>\n    <tr>\n      <th>150</th>\n      <td>F4</td>\n      <td>-450.0</td>\n      <td>6914.098834</td>\n      <td>7364.098834</td>\n      <td>13935.881487</td>\n      <td>14385.881487</td>\n      <td>0.109907</td>\n      <td>250</td>\n      <td>10</td>\n      <td>10</td>\n      <td>2</td>\n      <td>0.95</td>\n      <td>0.8</td>\n      <td>True</td>\n      <td>0</td>\n      <td>[-100, 100]</td>\n      <td>5</td>\n    </tr>\n    <tr>\n      <th>164</th>\n      <td>F4</td>\n      <td>-450.0</td>\n      <td>7075.860228</td>\n      <td>7525.860228</td>\n      <td>13371.260980</td>\n      <td>13821.260980</td>\n      <td>0.436771</td>\n      <td>1000</td>\n      <td>10</td>\n      <td>10</td>\n      <td>2</td>\n      <td>1.00</td>\n      <td>0.8</td>\n      <td>True</td>\n      <td>0</td>\n      <td>[-100, 100]</td>\n      <td>5</td>\n    </tr>\n    <tr>\n      <th>152</th>\n      <td>F4</td>\n      <td>-450.0</td>\n      <td>8504.870925</td>\n      <td>8954.870925</td>\n      <td>17773.557343</td>\n      <td>18223.557343</td>\n      <td>0.436968</td>\n      <td>1000</td>\n      <td>10</td>\n      <td>10</td>\n      <td>2</td>\n      <td>0.95</td>\n      <td>0.8</td>\n      <td>True</td>\n      <td>0</td>\n      <td>[-100, 100]</td>\n      <td>5</td>\n    </tr>\n  </tbody>\n</table>\n<p>144 rows × 17 columns</p>\n</div>"
     },
     "execution_count": 26,
     "metadata": {},
     "output_type": "execute_result"
    }
   ],
   "source": [
    "df_II.query(\"TestFunction == 'F4'\").sort_values(by=[\"BestDiffFromOpt\"])"
   ],
   "metadata": {
    "collapsed": false,
    "pycharm": {
     "name": "#%%\n"
    }
   }
  },
  {
   "cell_type": "code",
   "execution_count": 27,
   "outputs": [
    {
     "data": {
      "text/plain": "    TestFunction  OptimalMinimum  BestFitness  BestDiffFromOpt  \\\n281           F4          -450.0  -313.430371       136.569629   \n280           F4          -450.0  -304.385641       145.614359   \n185           F4          -450.0  -318.794511       131.205489   \n269           F4          -450.0  -370.534131        79.465869   \n221           F4          -450.0  -343.758517       106.241483   \n..           ...             ...          ...              ...   \n162           F4          -450.0  6149.657651      6599.657651   \n164           F4          -450.0  7075.860228      7525.860228   \n150           F4          -450.0  6914.098834      7364.098834   \n198           F4          -450.0  6339.920623      6789.920623   \n152           F4          -450.0  8504.870925      8954.870925   \n\n     AverageFitness  AverageDiffFromOpt  TimePerRun  Generations  NoDimension  \\\n281     -259.211958          190.788042    0.756325         1000           10   \n280     -218.041289          231.958711    0.377391          500           10   \n185     -178.949035          271.050965    0.405079         1000           10   \n269     -171.885283          278.114717    0.754785         1000           10   \n221     -168.488252          281.511748    0.571917         1000           10   \n..              ...                 ...         ...          ...          ...   \n162    12196.537572        12646.537572    0.110522          250           10   \n164    13371.260980        13821.260980    0.436771         1000           10   \n150    13935.881487        14385.881487    0.109907          250           10   \n198    14491.071605        14941.071605    0.167055          250           10   \n152    17773.557343        18223.557343    0.436968         1000           10   \n\n     PopSize  TForTournament  CrossoverPerc  MutationRate  \\\n281       20               4           1.00           0.2   \n280       20               4           1.00           0.2   \n185       10               4           1.00           0.2   \n269       20               4           0.95           0.2   \n221       15               4           0.95           0.2   \n..       ...             ...            ...           ...   \n162       10               2           1.00           0.8   \n164       10               2           1.00           0.8   \n150       10               2           0.95           0.8   \n198       15               2           0.95           0.8   \n152       10               2           0.95           0.8   \n\n     DecreasingMutationRate  Elite       Bounds  AverageOverRange  \n281                    True      1  [-100, 100]                 5  \n280                    True      1  [-100, 100]                 5  \n185                    True      1  [-100, 100]                 5  \n269                    True      1  [-100, 100]                 5  \n221                    True      1  [-100, 100]                 5  \n..                      ...    ...          ...               ...  \n162                    True      0  [-100, 100]                 5  \n164                    True      0  [-100, 100]                 5  \n150                    True      0  [-100, 100]                 5  \n198                    True      0  [-100, 100]                 5  \n152                    True      0  [-100, 100]                 5  \n\n[144 rows x 17 columns]",
      "text/html": "<div>\n<style scoped>\n    .dataframe tbody tr th:only-of-type {\n        vertical-align: middle;\n    }\n\n    .dataframe tbody tr th {\n        vertical-align: top;\n    }\n\n    .dataframe thead th {\n        text-align: right;\n    }\n</style>\n<table border=\"1\" class=\"dataframe\">\n  <thead>\n    <tr style=\"text-align: right;\">\n      <th></th>\n      <th>TestFunction</th>\n      <th>OptimalMinimum</th>\n      <th>BestFitness</th>\n      <th>BestDiffFromOpt</th>\n      <th>AverageFitness</th>\n      <th>AverageDiffFromOpt</th>\n      <th>TimePerRun</th>\n      <th>Generations</th>\n      <th>NoDimension</th>\n      <th>PopSize</th>\n      <th>TForTournament</th>\n      <th>CrossoverPerc</th>\n      <th>MutationRate</th>\n      <th>DecreasingMutationRate</th>\n      <th>Elite</th>\n      <th>Bounds</th>\n      <th>AverageOverRange</th>\n    </tr>\n  </thead>\n  <tbody>\n    <tr>\n      <th>281</th>\n      <td>F4</td>\n      <td>-450.0</td>\n      <td>-313.430371</td>\n      <td>136.569629</td>\n      <td>-259.211958</td>\n      <td>190.788042</td>\n      <td>0.756325</td>\n      <td>1000</td>\n      <td>10</td>\n      <td>20</td>\n      <td>4</td>\n      <td>1.00</td>\n      <td>0.2</td>\n      <td>True</td>\n      <td>1</td>\n      <td>[-100, 100]</td>\n      <td>5</td>\n    </tr>\n    <tr>\n      <th>280</th>\n      <td>F4</td>\n      <td>-450.0</td>\n      <td>-304.385641</td>\n      <td>145.614359</td>\n      <td>-218.041289</td>\n      <td>231.958711</td>\n      <td>0.377391</td>\n      <td>500</td>\n      <td>10</td>\n      <td>20</td>\n      <td>4</td>\n      <td>1.00</td>\n      <td>0.2</td>\n      <td>True</td>\n      <td>1</td>\n      <td>[-100, 100]</td>\n      <td>5</td>\n    </tr>\n    <tr>\n      <th>185</th>\n      <td>F4</td>\n      <td>-450.0</td>\n      <td>-318.794511</td>\n      <td>131.205489</td>\n      <td>-178.949035</td>\n      <td>271.050965</td>\n      <td>0.405079</td>\n      <td>1000</td>\n      <td>10</td>\n      <td>10</td>\n      <td>4</td>\n      <td>1.00</td>\n      <td>0.2</td>\n      <td>True</td>\n      <td>1</td>\n      <td>[-100, 100]</td>\n      <td>5</td>\n    </tr>\n    <tr>\n      <th>269</th>\n      <td>F4</td>\n      <td>-450.0</td>\n      <td>-370.534131</td>\n      <td>79.465869</td>\n      <td>-171.885283</td>\n      <td>278.114717</td>\n      <td>0.754785</td>\n      <td>1000</td>\n      <td>10</td>\n      <td>20</td>\n      <td>4</td>\n      <td>0.95</td>\n      <td>0.2</td>\n      <td>True</td>\n      <td>1</td>\n      <td>[-100, 100]</td>\n      <td>5</td>\n    </tr>\n    <tr>\n      <th>221</th>\n      <td>F4</td>\n      <td>-450.0</td>\n      <td>-343.758517</td>\n      <td>106.241483</td>\n      <td>-168.488252</td>\n      <td>281.511748</td>\n      <td>0.571917</td>\n      <td>1000</td>\n      <td>10</td>\n      <td>15</td>\n      <td>4</td>\n      <td>0.95</td>\n      <td>0.2</td>\n      <td>True</td>\n      <td>1</td>\n      <td>[-100, 100]</td>\n      <td>5</td>\n    </tr>\n    <tr>\n      <th>...</th>\n      <td>...</td>\n      <td>...</td>\n      <td>...</td>\n      <td>...</td>\n      <td>...</td>\n      <td>...</td>\n      <td>...</td>\n      <td>...</td>\n      <td>...</td>\n      <td>...</td>\n      <td>...</td>\n      <td>...</td>\n      <td>...</td>\n      <td>...</td>\n      <td>...</td>\n      <td>...</td>\n      <td>...</td>\n    </tr>\n    <tr>\n      <th>162</th>\n      <td>F4</td>\n      <td>-450.0</td>\n      <td>6149.657651</td>\n      <td>6599.657651</td>\n      <td>12196.537572</td>\n      <td>12646.537572</td>\n      <td>0.110522</td>\n      <td>250</td>\n      <td>10</td>\n      <td>10</td>\n      <td>2</td>\n      <td>1.00</td>\n      <td>0.8</td>\n      <td>True</td>\n      <td>0</td>\n      <td>[-100, 100]</td>\n      <td>5</td>\n    </tr>\n    <tr>\n      <th>164</th>\n      <td>F4</td>\n      <td>-450.0</td>\n      <td>7075.860228</td>\n      <td>7525.860228</td>\n      <td>13371.260980</td>\n      <td>13821.260980</td>\n      <td>0.436771</td>\n      <td>1000</td>\n      <td>10</td>\n      <td>10</td>\n      <td>2</td>\n      <td>1.00</td>\n      <td>0.8</td>\n      <td>True</td>\n      <td>0</td>\n      <td>[-100, 100]</td>\n      <td>5</td>\n    </tr>\n    <tr>\n      <th>150</th>\n      <td>F4</td>\n      <td>-450.0</td>\n      <td>6914.098834</td>\n      <td>7364.098834</td>\n      <td>13935.881487</td>\n      <td>14385.881487</td>\n      <td>0.109907</td>\n      <td>250</td>\n      <td>10</td>\n      <td>10</td>\n      <td>2</td>\n      <td>0.95</td>\n      <td>0.8</td>\n      <td>True</td>\n      <td>0</td>\n      <td>[-100, 100]</td>\n      <td>5</td>\n    </tr>\n    <tr>\n      <th>198</th>\n      <td>F4</td>\n      <td>-450.0</td>\n      <td>6339.920623</td>\n      <td>6789.920623</td>\n      <td>14491.071605</td>\n      <td>14941.071605</td>\n      <td>0.167055</td>\n      <td>250</td>\n      <td>10</td>\n      <td>15</td>\n      <td>2</td>\n      <td>0.95</td>\n      <td>0.8</td>\n      <td>True</td>\n      <td>0</td>\n      <td>[-100, 100]</td>\n      <td>5</td>\n    </tr>\n    <tr>\n      <th>152</th>\n      <td>F4</td>\n      <td>-450.0</td>\n      <td>8504.870925</td>\n      <td>8954.870925</td>\n      <td>17773.557343</td>\n      <td>18223.557343</td>\n      <td>0.436968</td>\n      <td>1000</td>\n      <td>10</td>\n      <td>10</td>\n      <td>2</td>\n      <td>0.95</td>\n      <td>0.8</td>\n      <td>True</td>\n      <td>0</td>\n      <td>[-100, 100]</td>\n      <td>5</td>\n    </tr>\n  </tbody>\n</table>\n<p>144 rows × 17 columns</p>\n</div>"
     },
     "execution_count": 27,
     "metadata": {},
     "output_type": "execute_result"
    }
   ],
   "source": [
    "df_II.query(\"TestFunction == 'F4'\").sort_values(by=[\"AverageDiffFromOpt\"])"
   ],
   "metadata": {
    "collapsed": false,
    "pycharm": {
     "name": "#%%\n"
    }
   }
  },
  {
   "cell_type": "markdown",
   "source": [
    "# F8\n",
    "(2nd best fitness among the first iteration)\n",
    "### For 1st Iteration:\n",
    "- Best Diff: 20.17 -> 150 Generation / 10 Dimension / 15 Pop Size / 4 T / 100% CR / 80% MR / DMR True / 1 Elite\n",
    "    - Error: 20.17 / 140 -> 14.4%\n",
    "- Avr. Diff: 20.47 -> Same\n",
    "    - Error: 20.47 / 140 -> 14.6%\n",
    "\n",
    "### For 2nd Iteration:\n",
    "- Best Diff: 20.29 -> 1000 Generation / 10 Dimension / 20 Pop Size / 4 T / 100% CR / 20% MR / DMR True / 0 Elite\n",
    "    - Error: 20.29 / 140 -> 14.49%\n",
    "- Avr. Diff: 20.41 -> 1000 Generation / 10 Dimension / 10 Pop Size / 4 T / 100% CR / 20% MR / DMR True / 0 Elite\n",
    "    - Error: 20.41 / 140 -> 14.57%\n",
    "\n",
    "## Conclusion for F8:\n",
    "- Best fitness error slightly increased!!!\n",
    "- Gen 500 had similar result for best fitness as 1000.\n",
    "- Average fitness improved slightly.\n",
    "- No significant changes achieved when running it on higher number, as for previous functions.\n",
    "- Since best fitness was reached at the 150 generation we conclude that for F8 the optimizer works well as for other test functions it took 500, 1000 generations to reach similar results.\n",
    "- Still the second best evaluated fitness function as in the first iteration."
   ],
   "metadata": {
    "collapsed": false,
    "pycharm": {
     "name": "#%% md\n"
    }
   }
  },
  {
   "cell_type": "code",
   "execution_count": 28,
   "outputs": [
    {
     "data": {
      "text/plain": "    TestFunction  OptimalMinimum  BestFitness  BestDiffFromOpt  \\\n422           F8          -140.0  -119.709474        20.290526   \n424           F8          -140.0  -119.706343        20.293657   \n407           F8          -140.0  -119.702463        20.297537   \n353           F8          -140.0  -119.685671        20.314329   \n323           F8          -140.0  -119.684831        20.315169   \n..           ...             ...          ...              ...   \n390           F8          -140.0  -118.995207        21.004793   \n288           F8          -140.0  -118.968130        21.031870   \n294           F8          -140.0  -118.946998        21.053002   \n343           F8          -140.0  -118.946147        21.053853   \n354           F8          -140.0  -118.891031        21.108969   \n\n     AverageFitness  AverageDiffFromOpt  TimePerRun  Generations  NoDimension  \\\n422     -119.389335           20.610665    0.866229         1000           10   \n424     -119.474575           20.525425    0.439828          500           10   \n407     -119.548319           20.451681    1.021265         1000           10   \n353     -119.482964           20.517036    0.635577         1000           10   \n323     -119.495108           20.504892    0.536117         1000           10   \n..              ...                 ...         ...          ...          ...   \n390     -118.875894           21.124106    0.244061          250           10   \n288     -118.857024           21.142976    0.114117          250           10   \n294     -118.850106           21.149894    0.124909          250           10   \n343     -118.846371           21.153629    0.383594          500           10   \n354     -118.748037           21.251963    0.191671          250           10   \n\n     PopSize  TForTournament  CrossoverPerc  MutationRate  \\\n422       20               4           1.00           0.2   \n424       20               4           1.00           0.2   \n407       20               2           1.00           0.8   \n353       15               2           1.00           0.2   \n323       10               4           0.95           0.8   \n..       ...             ...            ...           ...   \n390       20               2           0.95           0.8   \n288       10               2           0.95           0.2   \n294       10               2           0.95           0.8   \n343       15               2           0.95           0.8   \n354       15               2           1.00           0.8   \n\n     DecreasingMutationRate  Elite     Bounds  AverageOverRange  \n422                    True      0  [-32, 32]                 5  \n424                    True      1  [-32, 32]                 5  \n407                    True      1  [-32, 32]                 5  \n353                    True      1  [-32, 32]                 5  \n323                    True      1  [-32, 32]                 5  \n..                      ...    ...        ...               ...  \n390                    True      0  [-32, 32]                 5  \n288                    True      0  [-32, 32]                 5  \n294                    True      0  [-32, 32]                 5  \n343                    True      0  [-32, 32]                 5  \n354                    True      0  [-32, 32]                 5  \n\n[144 rows x 17 columns]",
      "text/html": "<div>\n<style scoped>\n    .dataframe tbody tr th:only-of-type {\n        vertical-align: middle;\n    }\n\n    .dataframe tbody tr th {\n        vertical-align: top;\n    }\n\n    .dataframe thead th {\n        text-align: right;\n    }\n</style>\n<table border=\"1\" class=\"dataframe\">\n  <thead>\n    <tr style=\"text-align: right;\">\n      <th></th>\n      <th>TestFunction</th>\n      <th>OptimalMinimum</th>\n      <th>BestFitness</th>\n      <th>BestDiffFromOpt</th>\n      <th>AverageFitness</th>\n      <th>AverageDiffFromOpt</th>\n      <th>TimePerRun</th>\n      <th>Generations</th>\n      <th>NoDimension</th>\n      <th>PopSize</th>\n      <th>TForTournament</th>\n      <th>CrossoverPerc</th>\n      <th>MutationRate</th>\n      <th>DecreasingMutationRate</th>\n      <th>Elite</th>\n      <th>Bounds</th>\n      <th>AverageOverRange</th>\n    </tr>\n  </thead>\n  <tbody>\n    <tr>\n      <th>422</th>\n      <td>F8</td>\n      <td>-140.0</td>\n      <td>-119.709474</td>\n      <td>20.290526</td>\n      <td>-119.389335</td>\n      <td>20.610665</td>\n      <td>0.866229</td>\n      <td>1000</td>\n      <td>10</td>\n      <td>20</td>\n      <td>4</td>\n      <td>1.00</td>\n      <td>0.2</td>\n      <td>True</td>\n      <td>0</td>\n      <td>[-32, 32]</td>\n      <td>5</td>\n    </tr>\n    <tr>\n      <th>424</th>\n      <td>F8</td>\n      <td>-140.0</td>\n      <td>-119.706343</td>\n      <td>20.293657</td>\n      <td>-119.474575</td>\n      <td>20.525425</td>\n      <td>0.439828</td>\n      <td>500</td>\n      <td>10</td>\n      <td>20</td>\n      <td>4</td>\n      <td>1.00</td>\n      <td>0.2</td>\n      <td>True</td>\n      <td>1</td>\n      <td>[-32, 32]</td>\n      <td>5</td>\n    </tr>\n    <tr>\n      <th>407</th>\n      <td>F8</td>\n      <td>-140.0</td>\n      <td>-119.702463</td>\n      <td>20.297537</td>\n      <td>-119.548319</td>\n      <td>20.451681</td>\n      <td>1.021265</td>\n      <td>1000</td>\n      <td>10</td>\n      <td>20</td>\n      <td>2</td>\n      <td>1.00</td>\n      <td>0.8</td>\n      <td>True</td>\n      <td>1</td>\n      <td>[-32, 32]</td>\n      <td>5</td>\n    </tr>\n    <tr>\n      <th>353</th>\n      <td>F8</td>\n      <td>-140.0</td>\n      <td>-119.685671</td>\n      <td>20.314329</td>\n      <td>-119.482964</td>\n      <td>20.517036</td>\n      <td>0.635577</td>\n      <td>1000</td>\n      <td>10</td>\n      <td>15</td>\n      <td>2</td>\n      <td>1.00</td>\n      <td>0.2</td>\n      <td>True</td>\n      <td>1</td>\n      <td>[-32, 32]</td>\n      <td>5</td>\n    </tr>\n    <tr>\n      <th>323</th>\n      <td>F8</td>\n      <td>-140.0</td>\n      <td>-119.684831</td>\n      <td>20.315169</td>\n      <td>-119.495108</td>\n      <td>20.504892</td>\n      <td>0.536117</td>\n      <td>1000</td>\n      <td>10</td>\n      <td>10</td>\n      <td>4</td>\n      <td>0.95</td>\n      <td>0.8</td>\n      <td>True</td>\n      <td>1</td>\n      <td>[-32, 32]</td>\n      <td>5</td>\n    </tr>\n    <tr>\n      <th>...</th>\n      <td>...</td>\n      <td>...</td>\n      <td>...</td>\n      <td>...</td>\n      <td>...</td>\n      <td>...</td>\n      <td>...</td>\n      <td>...</td>\n      <td>...</td>\n      <td>...</td>\n      <td>...</td>\n      <td>...</td>\n      <td>...</td>\n      <td>...</td>\n      <td>...</td>\n      <td>...</td>\n      <td>...</td>\n    </tr>\n    <tr>\n      <th>390</th>\n      <td>F8</td>\n      <td>-140.0</td>\n      <td>-118.995207</td>\n      <td>21.004793</td>\n      <td>-118.875894</td>\n      <td>21.124106</td>\n      <td>0.244061</td>\n      <td>250</td>\n      <td>10</td>\n      <td>20</td>\n      <td>2</td>\n      <td>0.95</td>\n      <td>0.8</td>\n      <td>True</td>\n      <td>0</td>\n      <td>[-32, 32]</td>\n      <td>5</td>\n    </tr>\n    <tr>\n      <th>288</th>\n      <td>F8</td>\n      <td>-140.0</td>\n      <td>-118.968130</td>\n      <td>21.031870</td>\n      <td>-118.857024</td>\n      <td>21.142976</td>\n      <td>0.114117</td>\n      <td>250</td>\n      <td>10</td>\n      <td>10</td>\n      <td>2</td>\n      <td>0.95</td>\n      <td>0.2</td>\n      <td>True</td>\n      <td>0</td>\n      <td>[-32, 32]</td>\n      <td>5</td>\n    </tr>\n    <tr>\n      <th>294</th>\n      <td>F8</td>\n      <td>-140.0</td>\n      <td>-118.946998</td>\n      <td>21.053002</td>\n      <td>-118.850106</td>\n      <td>21.149894</td>\n      <td>0.124909</td>\n      <td>250</td>\n      <td>10</td>\n      <td>10</td>\n      <td>2</td>\n      <td>0.95</td>\n      <td>0.8</td>\n      <td>True</td>\n      <td>0</td>\n      <td>[-32, 32]</td>\n      <td>5</td>\n    </tr>\n    <tr>\n      <th>343</th>\n      <td>F8</td>\n      <td>-140.0</td>\n      <td>-118.946147</td>\n      <td>21.053853</td>\n      <td>-118.846371</td>\n      <td>21.153629</td>\n      <td>0.383594</td>\n      <td>500</td>\n      <td>10</td>\n      <td>15</td>\n      <td>2</td>\n      <td>0.95</td>\n      <td>0.8</td>\n      <td>True</td>\n      <td>0</td>\n      <td>[-32, 32]</td>\n      <td>5</td>\n    </tr>\n    <tr>\n      <th>354</th>\n      <td>F8</td>\n      <td>-140.0</td>\n      <td>-118.891031</td>\n      <td>21.108969</td>\n      <td>-118.748037</td>\n      <td>21.251963</td>\n      <td>0.191671</td>\n      <td>250</td>\n      <td>10</td>\n      <td>15</td>\n      <td>2</td>\n      <td>1.00</td>\n      <td>0.8</td>\n      <td>True</td>\n      <td>0</td>\n      <td>[-32, 32]</td>\n      <td>5</td>\n    </tr>\n  </tbody>\n</table>\n<p>144 rows × 17 columns</p>\n</div>"
     },
     "execution_count": 28,
     "metadata": {},
     "output_type": "execute_result"
    }
   ],
   "source": [
    "df_II.query(\"TestFunction == 'F8'\").sort_values(by=[\"BestDiffFromOpt\"])"
   ],
   "metadata": {
    "collapsed": false,
    "pycharm": {
     "name": "#%%\n"
    }
   }
  },
  {
   "cell_type": "code",
   "execution_count": 29,
   "outputs": [
    {
     "data": {
      "text/plain": "    TestFunction  OptimalMinimum  BestFitness  BestDiffFromOpt  \\\n329           F8          -140.0  -119.658589        20.341411   \n419           F8          -140.0  -119.662022        20.337978   \n407           F8          -140.0  -119.702463        20.297537   \n395           F8          -140.0  -119.620632        20.379368   \n425           F8          -140.0  -119.605031        20.394969   \n..           ...             ...          ...              ...   \n318           F8          -140.0  -119.060413        20.939587   \n294           F8          -140.0  -118.946998        21.053002   \n343           F8          -140.0  -118.946147        21.053853   \n354           F8          -140.0  -118.891031        21.108969   \n342           F8          -140.0  -119.022883        20.977117   \n\n     AverageFitness  AverageDiffFromOpt  TimePerRun  Generations  NoDimension  \\\n329     -119.583318           20.416682    0.472398         1000           10   \n419     -119.565211           20.434789    1.047593         1000           10   \n407     -119.548319           20.451681    1.021265         1000           10   \n395     -119.539180           20.460820    1.011709         1000           10   \n425     -119.530749           20.469251    0.929400         1000           10   \n..              ...                 ...         ...          ...          ...   \n318     -118.855719           21.144281    0.128400          250           10   \n294     -118.850106           21.149894    0.124909          250           10   \n343     -118.846371           21.153629    0.383594          500           10   \n354     -118.748037           21.251963    0.191671          250           10   \n342     -118.707650           21.292350    0.190476          250           10   \n\n     PopSize  TForTournament  CrossoverPerc  MutationRate  \\\n329       10               4           1.00           0.2   \n419       20               4           0.95           0.8   \n407       20               2           1.00           0.8   \n395       20               2           0.95           0.8   \n425       20               4           1.00           0.2   \n..       ...             ...            ...           ...   \n318       10               4           0.95           0.8   \n294       10               2           0.95           0.8   \n343       15               2           0.95           0.8   \n354       15               2           1.00           0.8   \n342       15               2           0.95           0.8   \n\n     DecreasingMutationRate  Elite     Bounds  AverageOverRange  \n329                    True      1  [-32, 32]                 5  \n419                    True      1  [-32, 32]                 5  \n407                    True      1  [-32, 32]                 5  \n395                    True      1  [-32, 32]                 5  \n425                    True      1  [-32, 32]                 5  \n..                      ...    ...        ...               ...  \n318                    True      0  [-32, 32]                 5  \n294                    True      0  [-32, 32]                 5  \n343                    True      0  [-32, 32]                 5  \n354                    True      0  [-32, 32]                 5  \n342                    True      0  [-32, 32]                 5  \n\n[144 rows x 17 columns]",
      "text/html": "<div>\n<style scoped>\n    .dataframe tbody tr th:only-of-type {\n        vertical-align: middle;\n    }\n\n    .dataframe tbody tr th {\n        vertical-align: top;\n    }\n\n    .dataframe thead th {\n        text-align: right;\n    }\n</style>\n<table border=\"1\" class=\"dataframe\">\n  <thead>\n    <tr style=\"text-align: right;\">\n      <th></th>\n      <th>TestFunction</th>\n      <th>OptimalMinimum</th>\n      <th>BestFitness</th>\n      <th>BestDiffFromOpt</th>\n      <th>AverageFitness</th>\n      <th>AverageDiffFromOpt</th>\n      <th>TimePerRun</th>\n      <th>Generations</th>\n      <th>NoDimension</th>\n      <th>PopSize</th>\n      <th>TForTournament</th>\n      <th>CrossoverPerc</th>\n      <th>MutationRate</th>\n      <th>DecreasingMutationRate</th>\n      <th>Elite</th>\n      <th>Bounds</th>\n      <th>AverageOverRange</th>\n    </tr>\n  </thead>\n  <tbody>\n    <tr>\n      <th>329</th>\n      <td>F8</td>\n      <td>-140.0</td>\n      <td>-119.658589</td>\n      <td>20.341411</td>\n      <td>-119.583318</td>\n      <td>20.416682</td>\n      <td>0.472398</td>\n      <td>1000</td>\n      <td>10</td>\n      <td>10</td>\n      <td>4</td>\n      <td>1.00</td>\n      <td>0.2</td>\n      <td>True</td>\n      <td>1</td>\n      <td>[-32, 32]</td>\n      <td>5</td>\n    </tr>\n    <tr>\n      <th>419</th>\n      <td>F8</td>\n      <td>-140.0</td>\n      <td>-119.662022</td>\n      <td>20.337978</td>\n      <td>-119.565211</td>\n      <td>20.434789</td>\n      <td>1.047593</td>\n      <td>1000</td>\n      <td>10</td>\n      <td>20</td>\n      <td>4</td>\n      <td>0.95</td>\n      <td>0.8</td>\n      <td>True</td>\n      <td>1</td>\n      <td>[-32, 32]</td>\n      <td>5</td>\n    </tr>\n    <tr>\n      <th>407</th>\n      <td>F8</td>\n      <td>-140.0</td>\n      <td>-119.702463</td>\n      <td>20.297537</td>\n      <td>-119.548319</td>\n      <td>20.451681</td>\n      <td>1.021265</td>\n      <td>1000</td>\n      <td>10</td>\n      <td>20</td>\n      <td>2</td>\n      <td>1.00</td>\n      <td>0.8</td>\n      <td>True</td>\n      <td>1</td>\n      <td>[-32, 32]</td>\n      <td>5</td>\n    </tr>\n    <tr>\n      <th>395</th>\n      <td>F8</td>\n      <td>-140.0</td>\n      <td>-119.620632</td>\n      <td>20.379368</td>\n      <td>-119.539180</td>\n      <td>20.460820</td>\n      <td>1.011709</td>\n      <td>1000</td>\n      <td>10</td>\n      <td>20</td>\n      <td>2</td>\n      <td>0.95</td>\n      <td>0.8</td>\n      <td>True</td>\n      <td>1</td>\n      <td>[-32, 32]</td>\n      <td>5</td>\n    </tr>\n    <tr>\n      <th>425</th>\n      <td>F8</td>\n      <td>-140.0</td>\n      <td>-119.605031</td>\n      <td>20.394969</td>\n      <td>-119.530749</td>\n      <td>20.469251</td>\n      <td>0.929400</td>\n      <td>1000</td>\n      <td>10</td>\n      <td>20</td>\n      <td>4</td>\n      <td>1.00</td>\n      <td>0.2</td>\n      <td>True</td>\n      <td>1</td>\n      <td>[-32, 32]</td>\n      <td>5</td>\n    </tr>\n    <tr>\n      <th>...</th>\n      <td>...</td>\n      <td>...</td>\n      <td>...</td>\n      <td>...</td>\n      <td>...</td>\n      <td>...</td>\n      <td>...</td>\n      <td>...</td>\n      <td>...</td>\n      <td>...</td>\n      <td>...</td>\n      <td>...</td>\n      <td>...</td>\n      <td>...</td>\n      <td>...</td>\n      <td>...</td>\n      <td>...</td>\n    </tr>\n    <tr>\n      <th>318</th>\n      <td>F8</td>\n      <td>-140.0</td>\n      <td>-119.060413</td>\n      <td>20.939587</td>\n      <td>-118.855719</td>\n      <td>21.144281</td>\n      <td>0.128400</td>\n      <td>250</td>\n      <td>10</td>\n      <td>10</td>\n      <td>4</td>\n      <td>0.95</td>\n      <td>0.8</td>\n      <td>True</td>\n      <td>0</td>\n      <td>[-32, 32]</td>\n      <td>5</td>\n    </tr>\n    <tr>\n      <th>294</th>\n      <td>F8</td>\n      <td>-140.0</td>\n      <td>-118.946998</td>\n      <td>21.053002</td>\n      <td>-118.850106</td>\n      <td>21.149894</td>\n      <td>0.124909</td>\n      <td>250</td>\n      <td>10</td>\n      <td>10</td>\n      <td>2</td>\n      <td>0.95</td>\n      <td>0.8</td>\n      <td>True</td>\n      <td>0</td>\n      <td>[-32, 32]</td>\n      <td>5</td>\n    </tr>\n    <tr>\n      <th>343</th>\n      <td>F8</td>\n      <td>-140.0</td>\n      <td>-118.946147</td>\n      <td>21.053853</td>\n      <td>-118.846371</td>\n      <td>21.153629</td>\n      <td>0.383594</td>\n      <td>500</td>\n      <td>10</td>\n      <td>15</td>\n      <td>2</td>\n      <td>0.95</td>\n      <td>0.8</td>\n      <td>True</td>\n      <td>0</td>\n      <td>[-32, 32]</td>\n      <td>5</td>\n    </tr>\n    <tr>\n      <th>354</th>\n      <td>F8</td>\n      <td>-140.0</td>\n      <td>-118.891031</td>\n      <td>21.108969</td>\n      <td>-118.748037</td>\n      <td>21.251963</td>\n      <td>0.191671</td>\n      <td>250</td>\n      <td>10</td>\n      <td>15</td>\n      <td>2</td>\n      <td>1.00</td>\n      <td>0.8</td>\n      <td>True</td>\n      <td>0</td>\n      <td>[-32, 32]</td>\n      <td>5</td>\n    </tr>\n    <tr>\n      <th>342</th>\n      <td>F8</td>\n      <td>-140.0</td>\n      <td>-119.022883</td>\n      <td>20.977117</td>\n      <td>-118.707650</td>\n      <td>21.292350</td>\n      <td>0.190476</td>\n      <td>250</td>\n      <td>10</td>\n      <td>15</td>\n      <td>2</td>\n      <td>0.95</td>\n      <td>0.8</td>\n      <td>True</td>\n      <td>0</td>\n      <td>[-32, 32]</td>\n      <td>5</td>\n    </tr>\n  </tbody>\n</table>\n<p>144 rows × 17 columns</p>\n</div>"
     },
     "execution_count": 29,
     "metadata": {},
     "output_type": "execute_result"
    }
   ],
   "source": [
    "df_II.query(\"TestFunction == 'F8'\").sort_values(by=[\"AverageDiffFromOpt\"])"
   ],
   "metadata": {
    "collapsed": false,
    "pycharm": {
     "name": "#%%\n"
    }
   }
  },
  {
   "cell_type": "markdown",
   "source": [
    "# F13\n",
    "(Best fitness among the first iteration)\n",
    "### For 1st Iteration:\n",
    "- Best Diff: 1.0829 -> 150 Generation / 10 Dimension / 15 Pop Size / 4 T / 100% CR / 20% MR / DMR True / 1 Elite\n",
    "    - Error: 1.0829 / 130 ->  0.83%\n",
    "- Avr. Diff: 1.5791 -> 150 Generation / 10 Dimension / 15 Pop Size / 4 T / 100% CR / 20% MR / DMR True / 1 Elite\n",
    "    - Error: 1.5791 / 130 ->  1.21%\n",
    "\n",
    "### For 2nd Iteration:\n",
    "- Best Diff: 0.3448 -> 1000 Generation / 10 Dimension / 20 Pop Size / 4 T / 95% CR / 20% MR / DMR True / 1 Elite\n",
    "    - Error: 0.3448 / 130 ->  0.26%\n",
    "- Avr. Diff: 0.6613 -> 1000 Generation / 15 Dimension / 20 Pop Size / 4 T / 100% CR / 20% MR / DMR True / 1 Elite\n",
    "   - Error: 0.6613 / 130 ->  0.5%\n",
    "\n",
    "## Conclusion:\n",
    "- Significant improvement by increasing the population size and generations.\n",
    "- Still the best fitness.\n",
    "- Best fitness is 3× less.\n",
    "- Average fitness is ~2.5× less.\n",
    "- The configuration is mostly the same.\n"
   ],
   "metadata": {
    "collapsed": false,
    "pycharm": {
     "name": "#%% md\n"
    }
   }
  },
  {
   "cell_type": "code",
   "execution_count": 30,
   "outputs": [
    {
     "data": {
      "text/plain": "    TestFunction  OptimalMinimum  BestFitness  BestDiffFromOpt  \\\n557          F13          -130.0  -129.655200         0.344800   \n569          F13          -130.0  -129.525787         0.474213   \n521          F13          -130.0  -129.496902         0.503098   \n566          F13          -130.0  -129.495214         0.504786   \n509          F13          -130.0  -129.481843         0.518157   \n..           ...             ...          ...              ...   \n498          F13          -130.0  -124.714676         5.285324   \n450          F13          -130.0  -124.620314         5.379686   \n486          F13          -130.0  -124.147934         5.852066   \n534          F13          -130.0  -123.533443         6.466557   \n438          F13          -130.0  -119.545786        10.454214   \n\n     AverageFitness  AverageDiffFromOpt  TimePerRun  Generations  NoDimension  \\\n557     -129.314413            0.685587    1.201319         1000           10   \n569     -129.338676            0.661324    1.187343         1000           10   \n521     -129.280903            0.719097    0.863228         1000           10   \n566     -129.122606            0.877394    1.182098         1000           10   \n509     -129.170962            0.829038    0.869595         1000           10   \n..              ...                 ...         ...          ...          ...   \n498     -123.254012            6.745988    0.242735          250           10   \n450     -122.238652            7.761348    0.162304          250           10   \n486     -121.811208            8.188792    0.247298          250           10   \n534     -121.386809            8.613191    0.323671          250           10   \n438     -116.287996           13.712004    0.158234          250           10   \n\n     PopSize  TForTournament  CrossoverPerc  MutationRate  \\\n557       20               4           0.95           0.2   \n569       20               4           1.00           0.2   \n521       15               4           1.00           0.2   \n566       20               4           1.00           0.2   \n509       15               4           0.95           0.2   \n..       ...             ...            ...           ...   \n498       15               2           1.00           0.8   \n450       10               2           1.00           0.8   \n486       15               2           0.95           0.8   \n534       20               2           0.95           0.8   \n438       10               2           0.95           0.8   \n\n     DecreasingMutationRate  Elite   Bounds  AverageOverRange  \n557                    True      1  [-3, 1]                 5  \n569                    True      1  [-3, 1]                 5  \n521                    True      1  [-3, 1]                 5  \n566                    True      0  [-3, 1]                 5  \n509                    True      1  [-3, 1]                 5  \n..                      ...    ...      ...               ...  \n498                    True      0  [-3, 1]                 5  \n450                    True      0  [-3, 1]                 5  \n486                    True      0  [-3, 1]                 5  \n534                    True      0  [-3, 1]                 5  \n438                    True      0  [-3, 1]                 5  \n\n[144 rows x 17 columns]",
      "text/html": "<div>\n<style scoped>\n    .dataframe tbody tr th:only-of-type {\n        vertical-align: middle;\n    }\n\n    .dataframe tbody tr th {\n        vertical-align: top;\n    }\n\n    .dataframe thead th {\n        text-align: right;\n    }\n</style>\n<table border=\"1\" class=\"dataframe\">\n  <thead>\n    <tr style=\"text-align: right;\">\n      <th></th>\n      <th>TestFunction</th>\n      <th>OptimalMinimum</th>\n      <th>BestFitness</th>\n      <th>BestDiffFromOpt</th>\n      <th>AverageFitness</th>\n      <th>AverageDiffFromOpt</th>\n      <th>TimePerRun</th>\n      <th>Generations</th>\n      <th>NoDimension</th>\n      <th>PopSize</th>\n      <th>TForTournament</th>\n      <th>CrossoverPerc</th>\n      <th>MutationRate</th>\n      <th>DecreasingMutationRate</th>\n      <th>Elite</th>\n      <th>Bounds</th>\n      <th>AverageOverRange</th>\n    </tr>\n  </thead>\n  <tbody>\n    <tr>\n      <th>557</th>\n      <td>F13</td>\n      <td>-130.0</td>\n      <td>-129.655200</td>\n      <td>0.344800</td>\n      <td>-129.314413</td>\n      <td>0.685587</td>\n      <td>1.201319</td>\n      <td>1000</td>\n      <td>10</td>\n      <td>20</td>\n      <td>4</td>\n      <td>0.95</td>\n      <td>0.2</td>\n      <td>True</td>\n      <td>1</td>\n      <td>[-3, 1]</td>\n      <td>5</td>\n    </tr>\n    <tr>\n      <th>569</th>\n      <td>F13</td>\n      <td>-130.0</td>\n      <td>-129.525787</td>\n      <td>0.474213</td>\n      <td>-129.338676</td>\n      <td>0.661324</td>\n      <td>1.187343</td>\n      <td>1000</td>\n      <td>10</td>\n      <td>20</td>\n      <td>4</td>\n      <td>1.00</td>\n      <td>0.2</td>\n      <td>True</td>\n      <td>1</td>\n      <td>[-3, 1]</td>\n      <td>5</td>\n    </tr>\n    <tr>\n      <th>521</th>\n      <td>F13</td>\n      <td>-130.0</td>\n      <td>-129.496902</td>\n      <td>0.503098</td>\n      <td>-129.280903</td>\n      <td>0.719097</td>\n      <td>0.863228</td>\n      <td>1000</td>\n      <td>10</td>\n      <td>15</td>\n      <td>4</td>\n      <td>1.00</td>\n      <td>0.2</td>\n      <td>True</td>\n      <td>1</td>\n      <td>[-3, 1]</td>\n      <td>5</td>\n    </tr>\n    <tr>\n      <th>566</th>\n      <td>F13</td>\n      <td>-130.0</td>\n      <td>-129.495214</td>\n      <td>0.504786</td>\n      <td>-129.122606</td>\n      <td>0.877394</td>\n      <td>1.182098</td>\n      <td>1000</td>\n      <td>10</td>\n      <td>20</td>\n      <td>4</td>\n      <td>1.00</td>\n      <td>0.2</td>\n      <td>True</td>\n      <td>0</td>\n      <td>[-3, 1]</td>\n      <td>5</td>\n    </tr>\n    <tr>\n      <th>509</th>\n      <td>F13</td>\n      <td>-130.0</td>\n      <td>-129.481843</td>\n      <td>0.518157</td>\n      <td>-129.170962</td>\n      <td>0.829038</td>\n      <td>0.869595</td>\n      <td>1000</td>\n      <td>10</td>\n      <td>15</td>\n      <td>4</td>\n      <td>0.95</td>\n      <td>0.2</td>\n      <td>True</td>\n      <td>1</td>\n      <td>[-3, 1]</td>\n      <td>5</td>\n    </tr>\n    <tr>\n      <th>...</th>\n      <td>...</td>\n      <td>...</td>\n      <td>...</td>\n      <td>...</td>\n      <td>...</td>\n      <td>...</td>\n      <td>...</td>\n      <td>...</td>\n      <td>...</td>\n      <td>...</td>\n      <td>...</td>\n      <td>...</td>\n      <td>...</td>\n      <td>...</td>\n      <td>...</td>\n      <td>...</td>\n      <td>...</td>\n    </tr>\n    <tr>\n      <th>498</th>\n      <td>F13</td>\n      <td>-130.0</td>\n      <td>-124.714676</td>\n      <td>5.285324</td>\n      <td>-123.254012</td>\n      <td>6.745988</td>\n      <td>0.242735</td>\n      <td>250</td>\n      <td>10</td>\n      <td>15</td>\n      <td>2</td>\n      <td>1.00</td>\n      <td>0.8</td>\n      <td>True</td>\n      <td>0</td>\n      <td>[-3, 1]</td>\n      <td>5</td>\n    </tr>\n    <tr>\n      <th>450</th>\n      <td>F13</td>\n      <td>-130.0</td>\n      <td>-124.620314</td>\n      <td>5.379686</td>\n      <td>-122.238652</td>\n      <td>7.761348</td>\n      <td>0.162304</td>\n      <td>250</td>\n      <td>10</td>\n      <td>10</td>\n      <td>2</td>\n      <td>1.00</td>\n      <td>0.8</td>\n      <td>True</td>\n      <td>0</td>\n      <td>[-3, 1]</td>\n      <td>5</td>\n    </tr>\n    <tr>\n      <th>486</th>\n      <td>F13</td>\n      <td>-130.0</td>\n      <td>-124.147934</td>\n      <td>5.852066</td>\n      <td>-121.811208</td>\n      <td>8.188792</td>\n      <td>0.247298</td>\n      <td>250</td>\n      <td>10</td>\n      <td>15</td>\n      <td>2</td>\n      <td>0.95</td>\n      <td>0.8</td>\n      <td>True</td>\n      <td>0</td>\n      <td>[-3, 1]</td>\n      <td>5</td>\n    </tr>\n    <tr>\n      <th>534</th>\n      <td>F13</td>\n      <td>-130.0</td>\n      <td>-123.533443</td>\n      <td>6.466557</td>\n      <td>-121.386809</td>\n      <td>8.613191</td>\n      <td>0.323671</td>\n      <td>250</td>\n      <td>10</td>\n      <td>20</td>\n      <td>2</td>\n      <td>0.95</td>\n      <td>0.8</td>\n      <td>True</td>\n      <td>0</td>\n      <td>[-3, 1]</td>\n      <td>5</td>\n    </tr>\n    <tr>\n      <th>438</th>\n      <td>F13</td>\n      <td>-130.0</td>\n      <td>-119.545786</td>\n      <td>10.454214</td>\n      <td>-116.287996</td>\n      <td>13.712004</td>\n      <td>0.158234</td>\n      <td>250</td>\n      <td>10</td>\n      <td>10</td>\n      <td>2</td>\n      <td>0.95</td>\n      <td>0.8</td>\n      <td>True</td>\n      <td>0</td>\n      <td>[-3, 1]</td>\n      <td>5</td>\n    </tr>\n  </tbody>\n</table>\n<p>144 rows × 17 columns</p>\n</div>"
     },
     "execution_count": 30,
     "metadata": {},
     "output_type": "execute_result"
    }
   ],
   "source": [
    "df_II.query(\"TestFunction == 'F13'\").sort_values(by=[\"BestDiffFromOpt\"])"
   ],
   "metadata": {
    "collapsed": false,
    "pycharm": {
     "name": "#%%\n"
    }
   }
  },
  {
   "cell_type": "code",
   "execution_count": 31,
   "outputs": [
    {
     "data": {
      "text/plain": "    TestFunction  OptimalMinimum  BestFitness  BestDiffFromOpt  \\\n569          F13          -130.0  -129.525787         0.474213   \n557          F13          -130.0  -129.655200         0.344800   \n533          F13          -130.0  -129.374198         0.625802   \n521          F13          -130.0  -129.496902         0.503098   \n568          F13          -130.0  -129.360961         0.639039   \n..           ...             ...          ...              ...   \n451          F13          -130.0  -124.841950         5.158050   \n450          F13          -130.0  -124.620314         5.379686   \n486          F13          -130.0  -124.147934         5.852066   \n534          F13          -130.0  -123.533443         6.466557   \n438          F13          -130.0  -119.545786        10.454214   \n\n     AverageFitness  AverageDiffFromOpt  TimePerRun  Generations  NoDimension  \\\n569     -129.338676            0.661324    1.187343         1000           10   \n557     -129.314413            0.685587    1.201319         1000           10   \n533     -129.281827            0.718173    1.152005         1000           10   \n521     -129.280903            0.719097    0.863228         1000           10   \n568     -129.220925            0.779075    0.593360          500           10   \n..              ...                 ...         ...          ...          ...   \n451     -122.705334            7.294666    0.319519          500           10   \n450     -122.238652            7.761348    0.162304          250           10   \n486     -121.811208            8.188792    0.247298          250           10   \n534     -121.386809            8.613191    0.323671          250           10   \n438     -116.287996           13.712004    0.158234          250           10   \n\n     PopSize  TForTournament  CrossoverPerc  MutationRate  \\\n569       20               4           1.00           0.2   \n557       20               4           0.95           0.2   \n533       20               2           0.95           0.2   \n521       15               4           1.00           0.2   \n568       20               4           1.00           0.2   \n..       ...             ...            ...           ...   \n451       10               2           1.00           0.8   \n450       10               2           1.00           0.8   \n486       15               2           0.95           0.8   \n534       20               2           0.95           0.8   \n438       10               2           0.95           0.8   \n\n     DecreasingMutationRate  Elite   Bounds  AverageOverRange  \n569                    True      1  [-3, 1]                 5  \n557                    True      1  [-3, 1]                 5  \n533                    True      1  [-3, 1]                 5  \n521                    True      1  [-3, 1]                 5  \n568                    True      1  [-3, 1]                 5  \n..                      ...    ...      ...               ...  \n451                    True      0  [-3, 1]                 5  \n450                    True      0  [-3, 1]                 5  \n486                    True      0  [-3, 1]                 5  \n534                    True      0  [-3, 1]                 5  \n438                    True      0  [-3, 1]                 5  \n\n[144 rows x 17 columns]",
      "text/html": "<div>\n<style scoped>\n    .dataframe tbody tr th:only-of-type {\n        vertical-align: middle;\n    }\n\n    .dataframe tbody tr th {\n        vertical-align: top;\n    }\n\n    .dataframe thead th {\n        text-align: right;\n    }\n</style>\n<table border=\"1\" class=\"dataframe\">\n  <thead>\n    <tr style=\"text-align: right;\">\n      <th></th>\n      <th>TestFunction</th>\n      <th>OptimalMinimum</th>\n      <th>BestFitness</th>\n      <th>BestDiffFromOpt</th>\n      <th>AverageFitness</th>\n      <th>AverageDiffFromOpt</th>\n      <th>TimePerRun</th>\n      <th>Generations</th>\n      <th>NoDimension</th>\n      <th>PopSize</th>\n      <th>TForTournament</th>\n      <th>CrossoverPerc</th>\n      <th>MutationRate</th>\n      <th>DecreasingMutationRate</th>\n      <th>Elite</th>\n      <th>Bounds</th>\n      <th>AverageOverRange</th>\n    </tr>\n  </thead>\n  <tbody>\n    <tr>\n      <th>569</th>\n      <td>F13</td>\n      <td>-130.0</td>\n      <td>-129.525787</td>\n      <td>0.474213</td>\n      <td>-129.338676</td>\n      <td>0.661324</td>\n      <td>1.187343</td>\n      <td>1000</td>\n      <td>10</td>\n      <td>20</td>\n      <td>4</td>\n      <td>1.00</td>\n      <td>0.2</td>\n      <td>True</td>\n      <td>1</td>\n      <td>[-3, 1]</td>\n      <td>5</td>\n    </tr>\n    <tr>\n      <th>557</th>\n      <td>F13</td>\n      <td>-130.0</td>\n      <td>-129.655200</td>\n      <td>0.344800</td>\n      <td>-129.314413</td>\n      <td>0.685587</td>\n      <td>1.201319</td>\n      <td>1000</td>\n      <td>10</td>\n      <td>20</td>\n      <td>4</td>\n      <td>0.95</td>\n      <td>0.2</td>\n      <td>True</td>\n      <td>1</td>\n      <td>[-3, 1]</td>\n      <td>5</td>\n    </tr>\n    <tr>\n      <th>533</th>\n      <td>F13</td>\n      <td>-130.0</td>\n      <td>-129.374198</td>\n      <td>0.625802</td>\n      <td>-129.281827</td>\n      <td>0.718173</td>\n      <td>1.152005</td>\n      <td>1000</td>\n      <td>10</td>\n      <td>20</td>\n      <td>2</td>\n      <td>0.95</td>\n      <td>0.2</td>\n      <td>True</td>\n      <td>1</td>\n      <td>[-3, 1]</td>\n      <td>5</td>\n    </tr>\n    <tr>\n      <th>521</th>\n      <td>F13</td>\n      <td>-130.0</td>\n      <td>-129.496902</td>\n      <td>0.503098</td>\n      <td>-129.280903</td>\n      <td>0.719097</td>\n      <td>0.863228</td>\n      <td>1000</td>\n      <td>10</td>\n      <td>15</td>\n      <td>4</td>\n      <td>1.00</td>\n      <td>0.2</td>\n      <td>True</td>\n      <td>1</td>\n      <td>[-3, 1]</td>\n      <td>5</td>\n    </tr>\n    <tr>\n      <th>568</th>\n      <td>F13</td>\n      <td>-130.0</td>\n      <td>-129.360961</td>\n      <td>0.639039</td>\n      <td>-129.220925</td>\n      <td>0.779075</td>\n      <td>0.593360</td>\n      <td>500</td>\n      <td>10</td>\n      <td>20</td>\n      <td>4</td>\n      <td>1.00</td>\n      <td>0.2</td>\n      <td>True</td>\n      <td>1</td>\n      <td>[-3, 1]</td>\n      <td>5</td>\n    </tr>\n    <tr>\n      <th>...</th>\n      <td>...</td>\n      <td>...</td>\n      <td>...</td>\n      <td>...</td>\n      <td>...</td>\n      <td>...</td>\n      <td>...</td>\n      <td>...</td>\n      <td>...</td>\n      <td>...</td>\n      <td>...</td>\n      <td>...</td>\n      <td>...</td>\n      <td>...</td>\n      <td>...</td>\n      <td>...</td>\n      <td>...</td>\n    </tr>\n    <tr>\n      <th>451</th>\n      <td>F13</td>\n      <td>-130.0</td>\n      <td>-124.841950</td>\n      <td>5.158050</td>\n      <td>-122.705334</td>\n      <td>7.294666</td>\n      <td>0.319519</td>\n      <td>500</td>\n      <td>10</td>\n      <td>10</td>\n      <td>2</td>\n      <td>1.00</td>\n      <td>0.8</td>\n      <td>True</td>\n      <td>0</td>\n      <td>[-3, 1]</td>\n      <td>5</td>\n    </tr>\n    <tr>\n      <th>450</th>\n      <td>F13</td>\n      <td>-130.0</td>\n      <td>-124.620314</td>\n      <td>5.379686</td>\n      <td>-122.238652</td>\n      <td>7.761348</td>\n      <td>0.162304</td>\n      <td>250</td>\n      <td>10</td>\n      <td>10</td>\n      <td>2</td>\n      <td>1.00</td>\n      <td>0.8</td>\n      <td>True</td>\n      <td>0</td>\n      <td>[-3, 1]</td>\n      <td>5</td>\n    </tr>\n    <tr>\n      <th>486</th>\n      <td>F13</td>\n      <td>-130.0</td>\n      <td>-124.147934</td>\n      <td>5.852066</td>\n      <td>-121.811208</td>\n      <td>8.188792</td>\n      <td>0.247298</td>\n      <td>250</td>\n      <td>10</td>\n      <td>15</td>\n      <td>2</td>\n      <td>0.95</td>\n      <td>0.8</td>\n      <td>True</td>\n      <td>0</td>\n      <td>[-3, 1]</td>\n      <td>5</td>\n    </tr>\n    <tr>\n      <th>534</th>\n      <td>F13</td>\n      <td>-130.0</td>\n      <td>-123.533443</td>\n      <td>6.466557</td>\n      <td>-121.386809</td>\n      <td>8.613191</td>\n      <td>0.323671</td>\n      <td>250</td>\n      <td>10</td>\n      <td>20</td>\n      <td>2</td>\n      <td>0.95</td>\n      <td>0.8</td>\n      <td>True</td>\n      <td>0</td>\n      <td>[-3, 1]</td>\n      <td>5</td>\n    </tr>\n    <tr>\n      <th>438</th>\n      <td>F13</td>\n      <td>-130.0</td>\n      <td>-119.545786</td>\n      <td>10.454214</td>\n      <td>-116.287996</td>\n      <td>13.712004</td>\n      <td>0.158234</td>\n      <td>250</td>\n      <td>10</td>\n      <td>10</td>\n      <td>2</td>\n      <td>0.95</td>\n      <td>0.8</td>\n      <td>True</td>\n      <td>0</td>\n      <td>[-3, 1]</td>\n      <td>5</td>\n    </tr>\n  </tbody>\n</table>\n<p>144 rows × 17 columns</p>\n</div>"
     },
     "execution_count": 31,
     "metadata": {},
     "output_type": "execute_result"
    }
   ],
   "source": [
    "df_II.query(\"TestFunction == 'F13'\").sort_values(by=[\"AverageDiffFromOpt\"])"
   ],
   "metadata": {
    "collapsed": false,
    "pycharm": {
     "name": "#%%\n"
    }
   }
  },
  {
   "cell_type": "markdown",
   "source": [
    "# F17\n",
    "### For 1st Iteration:\n",
    "- Best Diff: 177.54 -> 150 Generation / 10 Dimension / 15 Pop Size / 2 T / 50% CR / 80% MR / DMR True / 1 Elite\n",
    "    - Error: 177.54 / 120 ->  147.95%\n",
    "- Avr. Diff: 223.09 -> 150 Generation / 10 Dimension / 15 Pop Size / 4 T / 100% CR / 20% MR / DMR True / 1 Elite\n",
    "    - Error: 223.09 / 120 ->  185.9%\n",
    "\n",
    "### For 2nd Iteration:\n",
    "- Best Diff: 135.67 -> 1000 Generation / 10 Dimension / 15 Pop Size / 4 T / 100% CR / 20% MR / DMR True / 1 Elite\n",
    "    - Error: 135.67 / 120 ->  113.05%\n",
    "- Avr. Diff: 169.43 -> 1000 Generation / 10 Dimension / 20 Pop Size / 4 T / 100% CR / 20% MR / DMR True / 1 Elite\n",
    "    - Error: 169.43 / 120 ->  141.19%\n",
    "\n",
    "## Conclusion:\n",
    "- Some improvement but the results are still off. Seems like the algorithm is stuck in a local minimum.\n",
    "- The algorithm didn't do well on this test function with the configurations from the 1st and 2nd iteration.\n",
    "\n"
   ],
   "metadata": {
    "collapsed": false,
    "pycharm": {
     "name": "#%% md\n"
    }
   }
  },
  {
   "cell_type": "code",
   "execution_count": 32,
   "outputs": [
    {
     "data": {
      "text/plain": "    TestFunction  OptimalMinimum  BestFitness  BestDiffFromOpt  \\\n665          F17           120.0   255.678788       135.678788   \n653          F17           120.0   257.460432       137.460432   \n701          F17           120.0   260.866183       140.866183   \n698          F17           120.0   262.759292       142.759292   \n710          F17           120.0   262.864028       142.864028   \n..           ...             ...          ...              ...   \n643          F17           120.0   426.005718       306.005718   \n630          F17           120.0   441.864608       321.864608   \n690          F17           120.0   447.952332       327.952332   \n594          F17           120.0   460.188353       340.188353   \n582          F17           120.0   468.283855       348.283855   \n\n     AverageFitness  AverageDiffFromOpt  TimePerRun  Generations  NoDimension  \\\n665      309.474039          189.474039    6.625972         1000           10   \n653      308.726453          188.726453    6.658226         1000           10   \n701      295.572479          175.572479    9.595452         1000           10   \n698      293.607191          173.607191    9.495039         1000           10   \n710      289.434116          169.434116    9.537566         1000           10   \n..              ...                 ...         ...          ...          ...   \n643      475.061585          355.061585    3.313387          500           10   \n630      475.034141          355.034141    1.673728          250           10   \n690      468.298938          348.298938    2.380361          250           10   \n594      482.543281          362.543281    1.063629          250           10   \n582      536.838201          416.838201    1.065086          250           10   \n\n     PopSize  TForTournament  CrossoverPerc  MutationRate  \\\n665       15               4           1.00           0.2   \n653       15               4           0.95           0.2   \n701       20               4           0.95           0.2   \n698       20               4           0.95           0.2   \n710       20               4           1.00           0.2   \n..       ...             ...            ...           ...   \n643       15               2           1.00           0.8   \n630       15               2           0.95           0.8   \n690       20               2           1.00           0.8   \n594       10               2           1.00           0.8   \n582       10               2           0.95           0.8   \n\n     DecreasingMutationRate  Elite   Bounds  AverageOverRange  \n665                    True      1  [-5, 5]                 5  \n653                    True      1  [-5, 5]                 5  \n701                    True      1  [-5, 5]                 5  \n698                    True      0  [-5, 5]                 5  \n710                    True      0  [-5, 5]                 5  \n..                      ...    ...      ...               ...  \n643                    True      0  [-5, 5]                 5  \n630                    True      0  [-5, 5]                 5  \n690                    True      0  [-5, 5]                 5  \n594                    True      0  [-5, 5]                 5  \n582                    True      0  [-5, 5]                 5  \n\n[144 rows x 17 columns]",
      "text/html": "<div>\n<style scoped>\n    .dataframe tbody tr th:only-of-type {\n        vertical-align: middle;\n    }\n\n    .dataframe tbody tr th {\n        vertical-align: top;\n    }\n\n    .dataframe thead th {\n        text-align: right;\n    }\n</style>\n<table border=\"1\" class=\"dataframe\">\n  <thead>\n    <tr style=\"text-align: right;\">\n      <th></th>\n      <th>TestFunction</th>\n      <th>OptimalMinimum</th>\n      <th>BestFitness</th>\n      <th>BestDiffFromOpt</th>\n      <th>AverageFitness</th>\n      <th>AverageDiffFromOpt</th>\n      <th>TimePerRun</th>\n      <th>Generations</th>\n      <th>NoDimension</th>\n      <th>PopSize</th>\n      <th>TForTournament</th>\n      <th>CrossoverPerc</th>\n      <th>MutationRate</th>\n      <th>DecreasingMutationRate</th>\n      <th>Elite</th>\n      <th>Bounds</th>\n      <th>AverageOverRange</th>\n    </tr>\n  </thead>\n  <tbody>\n    <tr>\n      <th>665</th>\n      <td>F17</td>\n      <td>120.0</td>\n      <td>255.678788</td>\n      <td>135.678788</td>\n      <td>309.474039</td>\n      <td>189.474039</td>\n      <td>6.625972</td>\n      <td>1000</td>\n      <td>10</td>\n      <td>15</td>\n      <td>4</td>\n      <td>1.00</td>\n      <td>0.2</td>\n      <td>True</td>\n      <td>1</td>\n      <td>[-5, 5]</td>\n      <td>5</td>\n    </tr>\n    <tr>\n      <th>653</th>\n      <td>F17</td>\n      <td>120.0</td>\n      <td>257.460432</td>\n      <td>137.460432</td>\n      <td>308.726453</td>\n      <td>188.726453</td>\n      <td>6.658226</td>\n      <td>1000</td>\n      <td>10</td>\n      <td>15</td>\n      <td>4</td>\n      <td>0.95</td>\n      <td>0.2</td>\n      <td>True</td>\n      <td>1</td>\n      <td>[-5, 5]</td>\n      <td>5</td>\n    </tr>\n    <tr>\n      <th>701</th>\n      <td>F17</td>\n      <td>120.0</td>\n      <td>260.866183</td>\n      <td>140.866183</td>\n      <td>295.572479</td>\n      <td>175.572479</td>\n      <td>9.595452</td>\n      <td>1000</td>\n      <td>10</td>\n      <td>20</td>\n      <td>4</td>\n      <td>0.95</td>\n      <td>0.2</td>\n      <td>True</td>\n      <td>1</td>\n      <td>[-5, 5]</td>\n      <td>5</td>\n    </tr>\n    <tr>\n      <th>698</th>\n      <td>F17</td>\n      <td>120.0</td>\n      <td>262.759292</td>\n      <td>142.759292</td>\n      <td>293.607191</td>\n      <td>173.607191</td>\n      <td>9.495039</td>\n      <td>1000</td>\n      <td>10</td>\n      <td>20</td>\n      <td>4</td>\n      <td>0.95</td>\n      <td>0.2</td>\n      <td>True</td>\n      <td>0</td>\n      <td>[-5, 5]</td>\n      <td>5</td>\n    </tr>\n    <tr>\n      <th>710</th>\n      <td>F17</td>\n      <td>120.0</td>\n      <td>262.864028</td>\n      <td>142.864028</td>\n      <td>289.434116</td>\n      <td>169.434116</td>\n      <td>9.537566</td>\n      <td>1000</td>\n      <td>10</td>\n      <td>20</td>\n      <td>4</td>\n      <td>1.00</td>\n      <td>0.2</td>\n      <td>True</td>\n      <td>0</td>\n      <td>[-5, 5]</td>\n      <td>5</td>\n    </tr>\n    <tr>\n      <th>...</th>\n      <td>...</td>\n      <td>...</td>\n      <td>...</td>\n      <td>...</td>\n      <td>...</td>\n      <td>...</td>\n      <td>...</td>\n      <td>...</td>\n      <td>...</td>\n      <td>...</td>\n      <td>...</td>\n      <td>...</td>\n      <td>...</td>\n      <td>...</td>\n      <td>...</td>\n      <td>...</td>\n      <td>...</td>\n    </tr>\n    <tr>\n      <th>643</th>\n      <td>F17</td>\n      <td>120.0</td>\n      <td>426.005718</td>\n      <td>306.005718</td>\n      <td>475.061585</td>\n      <td>355.061585</td>\n      <td>3.313387</td>\n      <td>500</td>\n      <td>10</td>\n      <td>15</td>\n      <td>2</td>\n      <td>1.00</td>\n      <td>0.8</td>\n      <td>True</td>\n      <td>0</td>\n      <td>[-5, 5]</td>\n      <td>5</td>\n    </tr>\n    <tr>\n      <th>630</th>\n      <td>F17</td>\n      <td>120.0</td>\n      <td>441.864608</td>\n      <td>321.864608</td>\n      <td>475.034141</td>\n      <td>355.034141</td>\n      <td>1.673728</td>\n      <td>250</td>\n      <td>10</td>\n      <td>15</td>\n      <td>2</td>\n      <td>0.95</td>\n      <td>0.8</td>\n      <td>True</td>\n      <td>0</td>\n      <td>[-5, 5]</td>\n      <td>5</td>\n    </tr>\n    <tr>\n      <th>690</th>\n      <td>F17</td>\n      <td>120.0</td>\n      <td>447.952332</td>\n      <td>327.952332</td>\n      <td>468.298938</td>\n      <td>348.298938</td>\n      <td>2.380361</td>\n      <td>250</td>\n      <td>10</td>\n      <td>20</td>\n      <td>2</td>\n      <td>1.00</td>\n      <td>0.8</td>\n      <td>True</td>\n      <td>0</td>\n      <td>[-5, 5]</td>\n      <td>5</td>\n    </tr>\n    <tr>\n      <th>594</th>\n      <td>F17</td>\n      <td>120.0</td>\n      <td>460.188353</td>\n      <td>340.188353</td>\n      <td>482.543281</td>\n      <td>362.543281</td>\n      <td>1.063629</td>\n      <td>250</td>\n      <td>10</td>\n      <td>10</td>\n      <td>2</td>\n      <td>1.00</td>\n      <td>0.8</td>\n      <td>True</td>\n      <td>0</td>\n      <td>[-5, 5]</td>\n      <td>5</td>\n    </tr>\n    <tr>\n      <th>582</th>\n      <td>F17</td>\n      <td>120.0</td>\n      <td>468.283855</td>\n      <td>348.283855</td>\n      <td>536.838201</td>\n      <td>416.838201</td>\n      <td>1.065086</td>\n      <td>250</td>\n      <td>10</td>\n      <td>10</td>\n      <td>2</td>\n      <td>0.95</td>\n      <td>0.8</td>\n      <td>True</td>\n      <td>0</td>\n      <td>[-5, 5]</td>\n      <td>5</td>\n    </tr>\n  </tbody>\n</table>\n<p>144 rows × 17 columns</p>\n</div>"
     },
     "execution_count": 32,
     "metadata": {},
     "output_type": "execute_result"
    }
   ],
   "source": [
    "df_II.query(\"TestFunction == 'F17'\").sort_values(by=[\"BestDiffFromOpt\"])"
   ],
   "metadata": {
    "collapsed": false,
    "pycharm": {
     "name": "#%%\n"
    }
   }
  },
  {
   "cell_type": "code",
   "execution_count": 33,
   "outputs": [
    {
     "data": {
      "text/plain": "    TestFunction  OptimalMinimum  BestFitness  BestDiffFromOpt  \\\n710          F17           120.0   262.864028       142.864028   \n698          F17           120.0   262.759292       142.759292   \n701          F17           120.0   260.866183       140.866183   \n712          F17           120.0   263.244977       143.244977   \n617          F17           120.0   263.515907       143.515907   \n..           ...             ...          ...              ...   \n643          F17           120.0   426.005718       306.005718   \n606          F17           120.0   388.518597       268.518597   \n594          F17           120.0   460.188353       340.188353   \n678          F17           120.0   390.249467       270.249467   \n582          F17           120.0   468.283855       348.283855   \n\n     AverageFitness  AverageDiffFromOpt  TimePerRun  Generations  NoDimension  \\\n710      289.434116          169.434116    9.537566         1000           10   \n698      293.607191          173.607191    9.495039         1000           10   \n701      295.572479          175.572479    9.595452         1000           10   \n712      296.044631          176.044631    4.710266          500           10   \n617      297.071366          177.071366    4.491223         1000           10   \n..              ...                 ...         ...          ...          ...   \n643      475.061585          355.061585    3.313387          500           10   \n606      482.031197          362.031197    1.077225          250           10   \n594      482.543281          362.543281    1.063629          250           10   \n678      509.881629          389.881629    2.205039          250           10   \n582      536.838201          416.838201    1.065086          250           10   \n\n     PopSize  TForTournament  CrossoverPerc  MutationRate  \\\n710       20               4           1.00           0.2   \n698       20               4           0.95           0.2   \n701       20               4           0.95           0.2   \n712       20               4           1.00           0.2   \n617       10               4           1.00           0.2   \n..       ...             ...            ...           ...   \n643       15               2           1.00           0.8   \n606       10               4           0.95           0.8   \n594       10               2           1.00           0.8   \n678       20               2           0.95           0.8   \n582       10               2           0.95           0.8   \n\n     DecreasingMutationRate  Elite   Bounds  AverageOverRange  \n710                    True      0  [-5, 5]                 5  \n698                    True      0  [-5, 5]                 5  \n701                    True      1  [-5, 5]                 5  \n712                    True      1  [-5, 5]                 5  \n617                    True      1  [-5, 5]                 5  \n..                      ...    ...      ...               ...  \n643                    True      0  [-5, 5]                 5  \n606                    True      0  [-5, 5]                 5  \n594                    True      0  [-5, 5]                 5  \n678                    True      0  [-5, 5]                 5  \n582                    True      0  [-5, 5]                 5  \n\n[144 rows x 17 columns]",
      "text/html": "<div>\n<style scoped>\n    .dataframe tbody tr th:only-of-type {\n        vertical-align: middle;\n    }\n\n    .dataframe tbody tr th {\n        vertical-align: top;\n    }\n\n    .dataframe thead th {\n        text-align: right;\n    }\n</style>\n<table border=\"1\" class=\"dataframe\">\n  <thead>\n    <tr style=\"text-align: right;\">\n      <th></th>\n      <th>TestFunction</th>\n      <th>OptimalMinimum</th>\n      <th>BestFitness</th>\n      <th>BestDiffFromOpt</th>\n      <th>AverageFitness</th>\n      <th>AverageDiffFromOpt</th>\n      <th>TimePerRun</th>\n      <th>Generations</th>\n      <th>NoDimension</th>\n      <th>PopSize</th>\n      <th>TForTournament</th>\n      <th>CrossoverPerc</th>\n      <th>MutationRate</th>\n      <th>DecreasingMutationRate</th>\n      <th>Elite</th>\n      <th>Bounds</th>\n      <th>AverageOverRange</th>\n    </tr>\n  </thead>\n  <tbody>\n    <tr>\n      <th>710</th>\n      <td>F17</td>\n      <td>120.0</td>\n      <td>262.864028</td>\n      <td>142.864028</td>\n      <td>289.434116</td>\n      <td>169.434116</td>\n      <td>9.537566</td>\n      <td>1000</td>\n      <td>10</td>\n      <td>20</td>\n      <td>4</td>\n      <td>1.00</td>\n      <td>0.2</td>\n      <td>True</td>\n      <td>0</td>\n      <td>[-5, 5]</td>\n      <td>5</td>\n    </tr>\n    <tr>\n      <th>698</th>\n      <td>F17</td>\n      <td>120.0</td>\n      <td>262.759292</td>\n      <td>142.759292</td>\n      <td>293.607191</td>\n      <td>173.607191</td>\n      <td>9.495039</td>\n      <td>1000</td>\n      <td>10</td>\n      <td>20</td>\n      <td>4</td>\n      <td>0.95</td>\n      <td>0.2</td>\n      <td>True</td>\n      <td>0</td>\n      <td>[-5, 5]</td>\n      <td>5</td>\n    </tr>\n    <tr>\n      <th>701</th>\n      <td>F17</td>\n      <td>120.0</td>\n      <td>260.866183</td>\n      <td>140.866183</td>\n      <td>295.572479</td>\n      <td>175.572479</td>\n      <td>9.595452</td>\n      <td>1000</td>\n      <td>10</td>\n      <td>20</td>\n      <td>4</td>\n      <td>0.95</td>\n      <td>0.2</td>\n      <td>True</td>\n      <td>1</td>\n      <td>[-5, 5]</td>\n      <td>5</td>\n    </tr>\n    <tr>\n      <th>712</th>\n      <td>F17</td>\n      <td>120.0</td>\n      <td>263.244977</td>\n      <td>143.244977</td>\n      <td>296.044631</td>\n      <td>176.044631</td>\n      <td>4.710266</td>\n      <td>500</td>\n      <td>10</td>\n      <td>20</td>\n      <td>4</td>\n      <td>1.00</td>\n      <td>0.2</td>\n      <td>True</td>\n      <td>1</td>\n      <td>[-5, 5]</td>\n      <td>5</td>\n    </tr>\n    <tr>\n      <th>617</th>\n      <td>F17</td>\n      <td>120.0</td>\n      <td>263.515907</td>\n      <td>143.515907</td>\n      <td>297.071366</td>\n      <td>177.071366</td>\n      <td>4.491223</td>\n      <td>1000</td>\n      <td>10</td>\n      <td>10</td>\n      <td>4</td>\n      <td>1.00</td>\n      <td>0.2</td>\n      <td>True</td>\n      <td>1</td>\n      <td>[-5, 5]</td>\n      <td>5</td>\n    </tr>\n    <tr>\n      <th>...</th>\n      <td>...</td>\n      <td>...</td>\n      <td>...</td>\n      <td>...</td>\n      <td>...</td>\n      <td>...</td>\n      <td>...</td>\n      <td>...</td>\n      <td>...</td>\n      <td>...</td>\n      <td>...</td>\n      <td>...</td>\n      <td>...</td>\n      <td>...</td>\n      <td>...</td>\n      <td>...</td>\n      <td>...</td>\n    </tr>\n    <tr>\n      <th>643</th>\n      <td>F17</td>\n      <td>120.0</td>\n      <td>426.005718</td>\n      <td>306.005718</td>\n      <td>475.061585</td>\n      <td>355.061585</td>\n      <td>3.313387</td>\n      <td>500</td>\n      <td>10</td>\n      <td>15</td>\n      <td>2</td>\n      <td>1.00</td>\n      <td>0.8</td>\n      <td>True</td>\n      <td>0</td>\n      <td>[-5, 5]</td>\n      <td>5</td>\n    </tr>\n    <tr>\n      <th>606</th>\n      <td>F17</td>\n      <td>120.0</td>\n      <td>388.518597</td>\n      <td>268.518597</td>\n      <td>482.031197</td>\n      <td>362.031197</td>\n      <td>1.077225</td>\n      <td>250</td>\n      <td>10</td>\n      <td>10</td>\n      <td>4</td>\n      <td>0.95</td>\n      <td>0.8</td>\n      <td>True</td>\n      <td>0</td>\n      <td>[-5, 5]</td>\n      <td>5</td>\n    </tr>\n    <tr>\n      <th>594</th>\n      <td>F17</td>\n      <td>120.0</td>\n      <td>460.188353</td>\n      <td>340.188353</td>\n      <td>482.543281</td>\n      <td>362.543281</td>\n      <td>1.063629</td>\n      <td>250</td>\n      <td>10</td>\n      <td>10</td>\n      <td>2</td>\n      <td>1.00</td>\n      <td>0.8</td>\n      <td>True</td>\n      <td>0</td>\n      <td>[-5, 5]</td>\n      <td>5</td>\n    </tr>\n    <tr>\n      <th>678</th>\n      <td>F17</td>\n      <td>120.0</td>\n      <td>390.249467</td>\n      <td>270.249467</td>\n      <td>509.881629</td>\n      <td>389.881629</td>\n      <td>2.205039</td>\n      <td>250</td>\n      <td>10</td>\n      <td>20</td>\n      <td>2</td>\n      <td>0.95</td>\n      <td>0.8</td>\n      <td>True</td>\n      <td>0</td>\n      <td>[-5, 5]</td>\n      <td>5</td>\n    </tr>\n    <tr>\n      <th>582</th>\n      <td>F17</td>\n      <td>120.0</td>\n      <td>468.283855</td>\n      <td>348.283855</td>\n      <td>536.838201</td>\n      <td>416.838201</td>\n      <td>1.065086</td>\n      <td>250</td>\n      <td>10</td>\n      <td>10</td>\n      <td>2</td>\n      <td>0.95</td>\n      <td>0.8</td>\n      <td>True</td>\n      <td>0</td>\n      <td>[-5, 5]</td>\n      <td>5</td>\n    </tr>\n  </tbody>\n</table>\n<p>144 rows × 17 columns</p>\n</div>"
     },
     "execution_count": 33,
     "metadata": {},
     "output_type": "execute_result"
    }
   ],
   "source": [
    "df_II.query(\"TestFunction == 'F17'\").sort_values(by=[\"AverageDiffFromOpt\"])"
   ],
   "metadata": {
    "collapsed": false,
    "pycharm": {
     "name": "#%%\n"
    }
   }
  },
  {
   "cell_type": "markdown",
   "source": [
    "# F24\n",
    "### For 1st Iteration:\n",
    "- Best Diff: 242.76 -> 150 Generation / 10 Dimension / 15 Pop Size / 4 T / 95% CR / 20% MR / DMR False / 1 Elite\n",
    "    - Error: 242.76 / 260 -> 93.36%\n",
    "- Avr. Diff: 351.24 -> 150 Generation / 10 Dimension / 10 Pop Size / 4 T / 95% CR / 20% MR / DMR True / 1 Elite\n",
    "    - Error: 351.24 / 260 -> 135.09%\n",
    "\n",
    "### For 2nd Iteration:\n",
    "- Best Diff: 200.34 -> 150 Generation / 10 Dimension / 15 Pop Size / 4 T / 95% CR / 20% MR / DMR False / 1 Elite\n",
    "    - Error: 200.34 / 260 -> 77.05%\n",
    "- Avr. Diff: 324.58 -> 150 Generation / 10 Dimension / 10 Pop Size / 4 T / 95% CR / 20% MR / DMR True / 1 Elite\n",
    "    - Error: 324.58 / 260 -> 124.83%\n",
    "\n",
    "## Conclusion:\n",
    "- Similar as for F17, some improvement but the results are still off. Seems like the algorithm is stuck in a local minimum.\n",
    "- The algorithm didn’t do well on this test function with the configurations from the 1st and 2nd iteration.\n"
   ],
   "metadata": {
    "collapsed": false,
    "pycharm": {
     "name": "#%% md\n"
    }
   }
  },
  {
   "cell_type": "code",
   "execution_count": 34,
   "outputs": [
    {
     "data": {
      "text/plain": "    TestFunction  OptimalMinimum  BestFitness  BestDiffFromOpt  \\\n857          F24           260.0   460.337168       200.337168   \n761          F24           260.0   460.689128       200.689128   \n797          F24           260.0   460.752705       200.752705   \n856          F24           260.0   460.799368       200.799368   \n833          F24           260.0   460.868514       200.868514   \n..           ...             ...          ...              ...   \n727          F24           260.0  1286.260499      1026.260499   \n822          F24           260.0  1318.956146      1058.956146   \n786          F24           260.0  1350.101610      1090.101610   \n738          F24           260.0  1405.072487      1145.072487   \n726          F24           260.0  1483.708386      1223.708386   \n\n     AverageFitness  AverageDiffFromOpt  TimePerRun  Generations  NoDimension  \\\n857      584.581858          324.581858    7.936573         1000           10   \n761      711.527525          451.527525    4.434302         1000           10   \n797      524.638335          264.638335    6.467229         1000           10   \n856      528.006980          268.006980    3.958159          500           10   \n833      463.509624          203.509624    8.511882         1000           10   \n..              ...                 ...         ...          ...          ...   \n727     1479.115352         1219.115352    2.187214          500           10   \n822     1379.883535         1119.883535    2.159867          250           10   \n786     1498.227576         1238.227576    1.671418          250           10   \n738     1555.680928         1295.680928    1.057235          250           10   \n726     1536.934710         1276.934710    1.068954          250           10   \n\n     PopSize  TForTournament  CrossoverPerc  MutationRate  \\\n857       20               4           1.00           0.2   \n761       10               4           1.00           0.2   \n797       15               4           0.95           0.2   \n856       20               4           1.00           0.2   \n833       20               2           1.00           0.2   \n..       ...             ...            ...           ...   \n727       10               2           0.95           0.8   \n822       20               2           0.95           0.8   \n786       15               2           1.00           0.8   \n738       10               2           1.00           0.8   \n726       10               2           0.95           0.8   \n\n     DecreasingMutationRate  Elite   Bounds  AverageOverRange  \n857                    True      1  [-5, 5]                 5  \n761                    True      1  [-5, 5]                 5  \n797                    True      1  [-5, 5]                 5  \n856                    True      1  [-5, 5]                 5  \n833                    True      1  [-5, 5]                 5  \n..                      ...    ...      ...               ...  \n727                    True      0  [-5, 5]                 5  \n822                    True      0  [-5, 5]                 5  \n786                    True      0  [-5, 5]                 5  \n738                    True      0  [-5, 5]                 5  \n726                    True      0  [-5, 5]                 5  \n\n[144 rows x 17 columns]",
      "text/html": "<div>\n<style scoped>\n    .dataframe tbody tr th:only-of-type {\n        vertical-align: middle;\n    }\n\n    .dataframe tbody tr th {\n        vertical-align: top;\n    }\n\n    .dataframe thead th {\n        text-align: right;\n    }\n</style>\n<table border=\"1\" class=\"dataframe\">\n  <thead>\n    <tr style=\"text-align: right;\">\n      <th></th>\n      <th>TestFunction</th>\n      <th>OptimalMinimum</th>\n      <th>BestFitness</th>\n      <th>BestDiffFromOpt</th>\n      <th>AverageFitness</th>\n      <th>AverageDiffFromOpt</th>\n      <th>TimePerRun</th>\n      <th>Generations</th>\n      <th>NoDimension</th>\n      <th>PopSize</th>\n      <th>TForTournament</th>\n      <th>CrossoverPerc</th>\n      <th>MutationRate</th>\n      <th>DecreasingMutationRate</th>\n      <th>Elite</th>\n      <th>Bounds</th>\n      <th>AverageOverRange</th>\n    </tr>\n  </thead>\n  <tbody>\n    <tr>\n      <th>857</th>\n      <td>F24</td>\n      <td>260.0</td>\n      <td>460.337168</td>\n      <td>200.337168</td>\n      <td>584.581858</td>\n      <td>324.581858</td>\n      <td>7.936573</td>\n      <td>1000</td>\n      <td>10</td>\n      <td>20</td>\n      <td>4</td>\n      <td>1.00</td>\n      <td>0.2</td>\n      <td>True</td>\n      <td>1</td>\n      <td>[-5, 5]</td>\n      <td>5</td>\n    </tr>\n    <tr>\n      <th>761</th>\n      <td>F24</td>\n      <td>260.0</td>\n      <td>460.689128</td>\n      <td>200.689128</td>\n      <td>711.527525</td>\n      <td>451.527525</td>\n      <td>4.434302</td>\n      <td>1000</td>\n      <td>10</td>\n      <td>10</td>\n      <td>4</td>\n      <td>1.00</td>\n      <td>0.2</td>\n      <td>True</td>\n      <td>1</td>\n      <td>[-5, 5]</td>\n      <td>5</td>\n    </tr>\n    <tr>\n      <th>797</th>\n      <td>F24</td>\n      <td>260.0</td>\n      <td>460.752705</td>\n      <td>200.752705</td>\n      <td>524.638335</td>\n      <td>264.638335</td>\n      <td>6.467229</td>\n      <td>1000</td>\n      <td>10</td>\n      <td>15</td>\n      <td>4</td>\n      <td>0.95</td>\n      <td>0.2</td>\n      <td>True</td>\n      <td>1</td>\n      <td>[-5, 5]</td>\n      <td>5</td>\n    </tr>\n    <tr>\n      <th>856</th>\n      <td>F24</td>\n      <td>260.0</td>\n      <td>460.799368</td>\n      <td>200.799368</td>\n      <td>528.006980</td>\n      <td>268.006980</td>\n      <td>3.958159</td>\n      <td>500</td>\n      <td>10</td>\n      <td>20</td>\n      <td>4</td>\n      <td>1.00</td>\n      <td>0.2</td>\n      <td>True</td>\n      <td>1</td>\n      <td>[-5, 5]</td>\n      <td>5</td>\n    </tr>\n    <tr>\n      <th>833</th>\n      <td>F24</td>\n      <td>260.0</td>\n      <td>460.868514</td>\n      <td>200.868514</td>\n      <td>463.509624</td>\n      <td>203.509624</td>\n      <td>8.511882</td>\n      <td>1000</td>\n      <td>10</td>\n      <td>20</td>\n      <td>2</td>\n      <td>1.00</td>\n      <td>0.2</td>\n      <td>True</td>\n      <td>1</td>\n      <td>[-5, 5]</td>\n      <td>5</td>\n    </tr>\n    <tr>\n      <th>...</th>\n      <td>...</td>\n      <td>...</td>\n      <td>...</td>\n      <td>...</td>\n      <td>...</td>\n      <td>...</td>\n      <td>...</td>\n      <td>...</td>\n      <td>...</td>\n      <td>...</td>\n      <td>...</td>\n      <td>...</td>\n      <td>...</td>\n      <td>...</td>\n      <td>...</td>\n      <td>...</td>\n      <td>...</td>\n    </tr>\n    <tr>\n      <th>727</th>\n      <td>F24</td>\n      <td>260.0</td>\n      <td>1286.260499</td>\n      <td>1026.260499</td>\n      <td>1479.115352</td>\n      <td>1219.115352</td>\n      <td>2.187214</td>\n      <td>500</td>\n      <td>10</td>\n      <td>10</td>\n      <td>2</td>\n      <td>0.95</td>\n      <td>0.8</td>\n      <td>True</td>\n      <td>0</td>\n      <td>[-5, 5]</td>\n      <td>5</td>\n    </tr>\n    <tr>\n      <th>822</th>\n      <td>F24</td>\n      <td>260.0</td>\n      <td>1318.956146</td>\n      <td>1058.956146</td>\n      <td>1379.883535</td>\n      <td>1119.883535</td>\n      <td>2.159867</td>\n      <td>250</td>\n      <td>10</td>\n      <td>20</td>\n      <td>2</td>\n      <td>0.95</td>\n      <td>0.8</td>\n      <td>True</td>\n      <td>0</td>\n      <td>[-5, 5]</td>\n      <td>5</td>\n    </tr>\n    <tr>\n      <th>786</th>\n      <td>F24</td>\n      <td>260.0</td>\n      <td>1350.101610</td>\n      <td>1090.101610</td>\n      <td>1498.227576</td>\n      <td>1238.227576</td>\n      <td>1.671418</td>\n      <td>250</td>\n      <td>10</td>\n      <td>15</td>\n      <td>2</td>\n      <td>1.00</td>\n      <td>0.8</td>\n      <td>True</td>\n      <td>0</td>\n      <td>[-5, 5]</td>\n      <td>5</td>\n    </tr>\n    <tr>\n      <th>738</th>\n      <td>F24</td>\n      <td>260.0</td>\n      <td>1405.072487</td>\n      <td>1145.072487</td>\n      <td>1555.680928</td>\n      <td>1295.680928</td>\n      <td>1.057235</td>\n      <td>250</td>\n      <td>10</td>\n      <td>10</td>\n      <td>2</td>\n      <td>1.00</td>\n      <td>0.8</td>\n      <td>True</td>\n      <td>0</td>\n      <td>[-5, 5]</td>\n      <td>5</td>\n    </tr>\n    <tr>\n      <th>726</th>\n      <td>F24</td>\n      <td>260.0</td>\n      <td>1483.708386</td>\n      <td>1223.708386</td>\n      <td>1536.934710</td>\n      <td>1276.934710</td>\n      <td>1.068954</td>\n      <td>250</td>\n      <td>10</td>\n      <td>10</td>\n      <td>2</td>\n      <td>0.95</td>\n      <td>0.8</td>\n      <td>True</td>\n      <td>0</td>\n      <td>[-5, 5]</td>\n      <td>5</td>\n    </tr>\n  </tbody>\n</table>\n<p>144 rows × 17 columns</p>\n</div>"
     },
     "execution_count": 34,
     "metadata": {},
     "output_type": "execute_result"
    }
   ],
   "source": [
    "df_II.query(\"TestFunction == 'F24'\").sort_values(by=[\"BestDiffFromOpt\"])"
   ],
   "metadata": {
    "collapsed": false,
    "pycharm": {
     "name": "#%%\n"
    }
   }
  },
  {
   "cell_type": "code",
   "execution_count": 35,
   "outputs": [
    {
     "data": {
      "text/plain": "    TestFunction  OptimalMinimum  BestFitness  BestDiffFromOpt  \\\n833          F24           260.0   460.868514       200.868514   \n854          F24           260.0   461.477927       201.477927   \n842          F24           260.0   462.827914       202.827914   \n773          F24           260.0   461.940622       201.940622   \n806          F24           260.0   462.411960       202.411960   \n..           ...             ...          ...              ...   \n727          F24           260.0  1286.260499      1026.260499   \n786          F24           260.0  1350.101610      1090.101610   \n774          F24           260.0  1231.169233       971.169233   \n726          F24           260.0  1483.708386      1223.708386   \n738          F24           260.0  1405.072487      1145.072487   \n\n     AverageFitness  AverageDiffFromOpt  TimePerRun  Generations  NoDimension  \\\n833      463.509624          203.509624    8.511882         1000           10   \n854      466.282080          206.282080    7.800911         1000           10   \n842      466.952246          206.952246    7.932765         1000           10   \n773      467.611685          207.611685    6.491704         1000           10   \n806      468.385361          208.385361    6.461562         1000           10   \n..              ...                 ...         ...          ...          ...   \n727     1479.115352         1219.115352    2.187214          500           10   \n786     1498.227576         1238.227576    1.671418          250           10   \n774     1522.416300         1262.416300    1.620513          250           10   \n726     1536.934710         1276.934710    1.068954          250           10   \n738     1555.680928         1295.680928    1.057235          250           10   \n\n     PopSize  TForTournament  CrossoverPerc  MutationRate  \\\n833       20               2           1.00           0.2   \n854       20               4           1.00           0.2   \n842       20               4           0.95           0.2   \n773       15               2           0.95           0.2   \n806       15               4           1.00           0.2   \n..       ...             ...            ...           ...   \n727       10               2           0.95           0.8   \n786       15               2           1.00           0.8   \n774       15               2           0.95           0.8   \n726       10               2           0.95           0.8   \n738       10               2           1.00           0.8   \n\n     DecreasingMutationRate  Elite   Bounds  AverageOverRange  \n833                    True      1  [-5, 5]                 5  \n854                    True      0  [-5, 5]                 5  \n842                    True      0  [-5, 5]                 5  \n773                    True      1  [-5, 5]                 5  \n806                    True      0  [-5, 5]                 5  \n..                      ...    ...      ...               ...  \n727                    True      0  [-5, 5]                 5  \n786                    True      0  [-5, 5]                 5  \n774                    True      0  [-5, 5]                 5  \n726                    True      0  [-5, 5]                 5  \n738                    True      0  [-5, 5]                 5  \n\n[144 rows x 17 columns]",
      "text/html": "<div>\n<style scoped>\n    .dataframe tbody tr th:only-of-type {\n        vertical-align: middle;\n    }\n\n    .dataframe tbody tr th {\n        vertical-align: top;\n    }\n\n    .dataframe thead th {\n        text-align: right;\n    }\n</style>\n<table border=\"1\" class=\"dataframe\">\n  <thead>\n    <tr style=\"text-align: right;\">\n      <th></th>\n      <th>TestFunction</th>\n      <th>OptimalMinimum</th>\n      <th>BestFitness</th>\n      <th>BestDiffFromOpt</th>\n      <th>AverageFitness</th>\n      <th>AverageDiffFromOpt</th>\n      <th>TimePerRun</th>\n      <th>Generations</th>\n      <th>NoDimension</th>\n      <th>PopSize</th>\n      <th>TForTournament</th>\n      <th>CrossoverPerc</th>\n      <th>MutationRate</th>\n      <th>DecreasingMutationRate</th>\n      <th>Elite</th>\n      <th>Bounds</th>\n      <th>AverageOverRange</th>\n    </tr>\n  </thead>\n  <tbody>\n    <tr>\n      <th>833</th>\n      <td>F24</td>\n      <td>260.0</td>\n      <td>460.868514</td>\n      <td>200.868514</td>\n      <td>463.509624</td>\n      <td>203.509624</td>\n      <td>8.511882</td>\n      <td>1000</td>\n      <td>10</td>\n      <td>20</td>\n      <td>2</td>\n      <td>1.00</td>\n      <td>0.2</td>\n      <td>True</td>\n      <td>1</td>\n      <td>[-5, 5]</td>\n      <td>5</td>\n    </tr>\n    <tr>\n      <th>854</th>\n      <td>F24</td>\n      <td>260.0</td>\n      <td>461.477927</td>\n      <td>201.477927</td>\n      <td>466.282080</td>\n      <td>206.282080</td>\n      <td>7.800911</td>\n      <td>1000</td>\n      <td>10</td>\n      <td>20</td>\n      <td>4</td>\n      <td>1.00</td>\n      <td>0.2</td>\n      <td>True</td>\n      <td>0</td>\n      <td>[-5, 5]</td>\n      <td>5</td>\n    </tr>\n    <tr>\n      <th>842</th>\n      <td>F24</td>\n      <td>260.0</td>\n      <td>462.827914</td>\n      <td>202.827914</td>\n      <td>466.952246</td>\n      <td>206.952246</td>\n      <td>7.932765</td>\n      <td>1000</td>\n      <td>10</td>\n      <td>20</td>\n      <td>4</td>\n      <td>0.95</td>\n      <td>0.2</td>\n      <td>True</td>\n      <td>0</td>\n      <td>[-5, 5]</td>\n      <td>5</td>\n    </tr>\n    <tr>\n      <th>773</th>\n      <td>F24</td>\n      <td>260.0</td>\n      <td>461.940622</td>\n      <td>201.940622</td>\n      <td>467.611685</td>\n      <td>207.611685</td>\n      <td>6.491704</td>\n      <td>1000</td>\n      <td>10</td>\n      <td>15</td>\n      <td>2</td>\n      <td>0.95</td>\n      <td>0.2</td>\n      <td>True</td>\n      <td>1</td>\n      <td>[-5, 5]</td>\n      <td>5</td>\n    </tr>\n    <tr>\n      <th>806</th>\n      <td>F24</td>\n      <td>260.0</td>\n      <td>462.411960</td>\n      <td>202.411960</td>\n      <td>468.385361</td>\n      <td>208.385361</td>\n      <td>6.461562</td>\n      <td>1000</td>\n      <td>10</td>\n      <td>15</td>\n      <td>4</td>\n      <td>1.00</td>\n      <td>0.2</td>\n      <td>True</td>\n      <td>0</td>\n      <td>[-5, 5]</td>\n      <td>5</td>\n    </tr>\n    <tr>\n      <th>...</th>\n      <td>...</td>\n      <td>...</td>\n      <td>...</td>\n      <td>...</td>\n      <td>...</td>\n      <td>...</td>\n      <td>...</td>\n      <td>...</td>\n      <td>...</td>\n      <td>...</td>\n      <td>...</td>\n      <td>...</td>\n      <td>...</td>\n      <td>...</td>\n      <td>...</td>\n      <td>...</td>\n      <td>...</td>\n    </tr>\n    <tr>\n      <th>727</th>\n      <td>F24</td>\n      <td>260.0</td>\n      <td>1286.260499</td>\n      <td>1026.260499</td>\n      <td>1479.115352</td>\n      <td>1219.115352</td>\n      <td>2.187214</td>\n      <td>500</td>\n      <td>10</td>\n      <td>10</td>\n      <td>2</td>\n      <td>0.95</td>\n      <td>0.8</td>\n      <td>True</td>\n      <td>0</td>\n      <td>[-5, 5]</td>\n      <td>5</td>\n    </tr>\n    <tr>\n      <th>786</th>\n      <td>F24</td>\n      <td>260.0</td>\n      <td>1350.101610</td>\n      <td>1090.101610</td>\n      <td>1498.227576</td>\n      <td>1238.227576</td>\n      <td>1.671418</td>\n      <td>250</td>\n      <td>10</td>\n      <td>15</td>\n      <td>2</td>\n      <td>1.00</td>\n      <td>0.8</td>\n      <td>True</td>\n      <td>0</td>\n      <td>[-5, 5]</td>\n      <td>5</td>\n    </tr>\n    <tr>\n      <th>774</th>\n      <td>F24</td>\n      <td>260.0</td>\n      <td>1231.169233</td>\n      <td>971.169233</td>\n      <td>1522.416300</td>\n      <td>1262.416300</td>\n      <td>1.620513</td>\n      <td>250</td>\n      <td>10</td>\n      <td>15</td>\n      <td>2</td>\n      <td>0.95</td>\n      <td>0.8</td>\n      <td>True</td>\n      <td>0</td>\n      <td>[-5, 5]</td>\n      <td>5</td>\n    </tr>\n    <tr>\n      <th>726</th>\n      <td>F24</td>\n      <td>260.0</td>\n      <td>1483.708386</td>\n      <td>1223.708386</td>\n      <td>1536.934710</td>\n      <td>1276.934710</td>\n      <td>1.068954</td>\n      <td>250</td>\n      <td>10</td>\n      <td>10</td>\n      <td>2</td>\n      <td>0.95</td>\n      <td>0.8</td>\n      <td>True</td>\n      <td>0</td>\n      <td>[-5, 5]</td>\n      <td>5</td>\n    </tr>\n    <tr>\n      <th>738</th>\n      <td>F24</td>\n      <td>260.0</td>\n      <td>1405.072487</td>\n      <td>1145.072487</td>\n      <td>1555.680928</td>\n      <td>1295.680928</td>\n      <td>1.057235</td>\n      <td>250</td>\n      <td>10</td>\n      <td>10</td>\n      <td>2</td>\n      <td>1.00</td>\n      <td>0.8</td>\n      <td>True</td>\n      <td>0</td>\n      <td>[-5, 5]</td>\n      <td>5</td>\n    </tr>\n  </tbody>\n</table>\n<p>144 rows × 17 columns</p>\n</div>"
     },
     "execution_count": 35,
     "metadata": {},
     "output_type": "execute_result"
    }
   ],
   "source": [
    "df_II.query(\"TestFunction == 'F24'\").sort_values(by=[\"AverageDiffFromOpt\"])"
   ],
   "metadata": {
    "collapsed": false,
    "pycharm": {
     "name": "#%%\n"
    }
   }
  },
  {
   "cell_type": "markdown",
   "source": [
    "# Conclusion\n",
    "Overall, the algorithm improved by increasing the number of generations and size of the population. The greatest improvement happened on the first two uni-modal functions (F2, F4). For the 2nd iteration, there was a notable improvement in the extended multimodal function (F13). However, on this function, the optimizer did well already in the 1st iteration and the change wasn’t as enormous as it was for the two uni-modal functions. The single function (F8) didn’t improve for the 2nd iteration, the best fitness on this test function did decrease slightly. The algorithm achieved a similar result as it did with the lower generation number in the 1st iteration, which implies that we found a good solution with a low error rate and low generations. The composite functions (F17, F24) did improve too, but their error was too high, with these configurations GA couldn’t a suitable solution for the test function. The high number of local optima that these composite functions have suggests that the optimizer algorithm got stuck in a local optimum. This can be avoided by increasing the population number."
   ],
   "metadata": {
    "collapsed": false,
    "pycharm": {
     "name": "#%% md\n"
    }
   }
  }
 ],
 "metadata": {
  "kernelspec": {
   "display_name": "Python 3",
   "language": "python",
   "name": "python3"
  },
  "language_info": {
   "codemirror_mode": {
    "name": "ipython",
    "version": 2
   },
   "file_extension": ".py",
   "mimetype": "text/x-python",
   "name": "python",
   "nbconvert_exporter": "python",
   "pygments_lexer": "ipython2",
   "version": "2.7.6"
  }
 },
 "nbformat": 4,
 "nbformat_minor": 0
}