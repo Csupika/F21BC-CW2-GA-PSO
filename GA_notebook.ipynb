{
 "cells": [
  {
   "cell_type": "code",
   "execution_count": 47,
   "metadata": {
    "collapsed": true,
    "pycharm": {
     "name": "#%%\n"
    }
   },
   "outputs": [],
   "source": [
    "import pandas\n",
    "import pandas as pd\n",
    "\n",
    "from GA import GA\n",
    "import optproblems.cec2005 as optproblems"
   ]
  },
  {
   "cell_type": "markdown",
   "source": [],
   "metadata": {
    "collapsed": false,
    "pycharm": {
     "name": "#%% md\n"
    }
   }
  },
  {
   "cell_type": "markdown",
   "source": [
    "# Test Functions\n",
    "- F2: Shifted Schwefel’s Problem 1.2\n",
    "    - Uni-modal without noise\n",
    "- F4: Shifted Schwefel’s Problem 1.2 with Noise in Fitness\n",
    "    - Uni-modal with noise\n",
    "- F8: Shifted Rotated Ackley’s Function with Global Optimum on Bounds\n",
    "    - Single function\n",
    "    - Global optimum on bounds\n",
    "    - Multi-modal\n",
    "- F13: Shifted Expanded Griewank’s plus Rosenbrock’s Function (F8F2)\n",
    "    - Expanded Function\n",
    "    - Multi-modal\n",
    "- F17: Rotated Version of Hybrid Composition Function with Noise in Fitness\n",
    "    - Gaussian noise in fitness\n",
    "    - Multi-modal\n",
    "    - Huge number of local optima\n",
    "    - In-deterministic\n",
    "- F24: Rotated Hybrid Composition Function\n",
    "    - Composite function\n",
    "    - Huge number of local optima\n",
    "    - Multi-modal"
   ],
   "metadata": {
    "collapsed": false,
    "pycharm": {
     "name": "#%% md\n"
    }
   }
  },
  {
   "cell_type": "markdown",
   "source": [
    "# 1st Iteration of Configurations - Experiment with GA with Different Hyper Parameters\n",
    "First we explore how GA evaluates with a set of configurations using only lower numbers of generations"
   ],
   "metadata": {
    "collapsed": false,
    "pycharm": {
     "name": "#%% md\n"
    }
   }
  },
  {
   "cell_type": "markdown",
   "source": [
    "Hyper parameters"
   ],
   "metadata": {
    "collapsed": false,
    "pycharm": {
     "name": "#%% md\n"
    }
   }
  },
  {
   "cell_type": "code",
   "execution_count": 48,
   "outputs": [],
   "source": [
    "# F2 :   Unimodal without noise\n",
    "# F4 :   Unimodal with noise\n",
    "# F8 :   Single Function, Global Optimum on Bounds, Multi-modal\n",
    "# F13:   Expanded Function, Multi-modal\n",
    "# F17:   Gaussian noise in Fitness, Multi-modal, Huge number of local optima, indeterministic\n",
    "# F24:   Composite Function, Huge number of local optima, Multi-modal\n",
    "\n",
    "benchmarks_and_bounds = [optproblems.F2, [-100,100], \"F2\", optproblems.F4, [-100,100], \"F4\", optproblems.F8, [-32,32], \"F8\", optproblems.F13, [-3,1], \"F13\", optproblems.F17, [-5,5], \"F17\", optproblems.F24, [-5,5], \"F24\"]\n",
    "no_dimensions = [10, 30, 50]\n",
    "pop_sizes = [5, 10, 15]\n",
    "num_generations = [50, 150]\n",
    "tournament_t = [2, 4]\n",
    "crossover_percentage = [0.5, 0.95, 1]\n",
    "mutation_rates = [0.2, 0.8, 1]\n",
    "decreasing_mutation_rate = [True, False]\n",
    "elites = [0, 1]\n",
    "\n",
    "average_over_range = 5"
   ],
   "metadata": {
    "collapsed": false,
    "pycharm": {
     "name": "#%%\n"
    }
   }
  },
  {
   "cell_type": "markdown",
   "source": [
    "Run configuration suite over each configuration combination."
   ],
   "metadata": {
    "collapsed": false,
    "pycharm": {
     "name": "#%% md\n"
    }
   }
  },
  {
   "cell_type": "code",
   "execution_count": 49,
   "outputs": [],
   "source": [
    "run_configuration_suite = False\n",
    "if run_configuration_suite:\n",
    "\n",
    "    list_for_df = []\n",
    "    for i in range(0, len(benchmarks_and_bounds), 3):\n",
    "        number_of_functions = (len(benchmarks_and_bounds)/3)\n",
    "        print(f\"Progress: {i/3} / {number_of_functions}\")\n",
    "        bound = benchmarks_and_bounds[i+1]\n",
    "        benchmark_name = benchmarks_and_bounds[i+2]\n",
    "        for no_dimension in no_dimensions:\n",
    "            print(f\"\\tDimension: {no_dimension}\")\n",
    "            benchmark = benchmarks_and_bounds[i](no_dimension)\n",
    "            optimal_solution = benchmark.get_optimal_solutions()\n",
    "            benchmark.evaluate(optimal_solution[0])\n",
    "            optimal_minimum = optimal_solution[0].objective_values\n",
    "            for pop_size in pop_sizes:\n",
    "                print(f\"\\t\\tPopulation: {pop_size}\")\n",
    "                for t in tournament_t:\n",
    "                    for crossover in crossover_percentage:\n",
    "                        for mutation in mutation_rates:\n",
    "                            for dmr in decreasing_mutation_rate:\n",
    "                                for elite in elites:\n",
    "                                    for generations in num_generations:\n",
    "                                        average_fitness = 0\n",
    "                                        average_difference_from_optimal = 0\n",
    "\n",
    "                                        best_fitness = 0\n",
    "                                        best_time = 0\n",
    "                                        best_difference_from_optimal = 0\n",
    "\n",
    "                                        for j in range(average_over_range):\n",
    "                                            algorithm = GA(benchmark, no_dimension, bound, pop_size, num_generations=generations, t=t, crossover_percentage=crossover, mutation_rate=mutation, decreasing_mutation_rate=dmr, elite=elite)\n",
    "                                            result, time = algorithm.run()\n",
    "                                            fitness = result.fitness\n",
    "                                            diff_from_optimal = fitness - optimal_minimum\n",
    "\n",
    "                                            average_fitness += 1/average_over_range * fitness\n",
    "                                            average_difference_from_optimal += 1/average_over_range * diff_from_optimal\n",
    "\n",
    "                                            if j == 0:\n",
    "                                                best_fitness = fitness\n",
    "                                                best_difference_from_optimal = diff_from_optimal\n",
    "                                                best_time = time\n",
    "                                                continue\n",
    "\n",
    "                                            if fitness < best_fitness:\n",
    "                                                best_fitness = fitness\n",
    "\n",
    "                                            if diff_from_optimal < best_difference_from_optimal:\n",
    "                                                best_difference_from_optimal = diff_from_optimal\n",
    "\n",
    "                                            if time < best_time:\n",
    "                                                best_time = time\n",
    "\n",
    "                                        result_and_configuration = [benchmark_name, optimal_minimum, best_fitness, best_difference_from_optimal, average_fitness, average_difference_from_optimal, best_time, generations, no_dimension, pop_size, t, crossover, mutation, dmr, elite, bound, average_over_range]\n",
    "                                        list_for_df.append(result_and_configuration)\n",
    "\n",
    "    labels = [\"TestFunction\", \"OptimalMinimum\", \"BestFitness\", \"BestDiffFromOpt\", \"AverageFitness\", \"AverageDiffFromOpt\", \"TimePerRun\", \"Generations\", \"NoDimension\", \"PopSize\", \"TForTournament\", \"CrossoverPerc\", \"MutationRate\", \"DecreasingMutationRate\", \"Elite\", \"Bounds\", \"AverageOverRange\"]\n",
    "    df = pandas.DataFrame(data=list_for_df, columns=labels)\n",
    "    df.to_pickle(\"GA_df.pkl\")\n",
    "else:\n",
    "    df = pd.read_pickle(\"GA_df.pkl\")"
   ],
   "metadata": {
    "collapsed": false,
    "pycharm": {
     "name": "#%%\n"
    }
   }
  },
  {
   "cell_type": "markdown",
   "source": [
    "## Results of the 1st Iteration"
   ],
   "metadata": {
    "collapsed": false,
    "pycharm": {
     "name": "#%% md\n"
    }
   }
  },
  {
   "cell_type": "markdown",
   "source": [
    "# F2:\n",
    "\n",
    "- Best Diff: 312.11 -> 150 Generation / 10 Dimension / 15 Pop Size / 2 T / 100% CR / 20% MR / DMR True / 1 Elite\n",
    "    -  Error: 312.11 / 450 -> 69.36%\n",
    "- Avr. Diff: 913.20 -> 150 Generation / 10 Dimension / 15 Pop Size / 4 T / 95%  CR / 20% MR / DMR True / 1 Elite\n",
    "    - Error: 913.20 / 450 -> 202.93%"
   ],
   "metadata": {
    "collapsed": false,
    "pycharm": {
     "name": "#%% md\n"
    }
   }
  },
  {
   "cell_type": "code",
   "execution_count": 50,
   "outputs": [
    {
     "data": {
      "text/plain": "     TestFunction  OptimalMinimum    BestFitness  BestDiffFromOpt  \\\n0              F2          -450.0   17690.525955     18140.525955   \n1              F2          -450.0   14235.020676     14685.020676   \n2              F2          -450.0    6013.072511      6463.072511   \n3              F2          -450.0    1868.742268      2318.742268   \n4              F2          -450.0   21611.965380     22061.965380   \n...           ...             ...            ...              ...   \n1291           F2          -450.0  112341.304928    112791.304928   \n1292           F2          -450.0  590805.599163    591255.599163   \n1293           F2          -450.0  575018.988130    575468.988130   \n1294           F2          -450.0  232243.327721    232693.327721   \n1295           F2          -450.0  260139.410316    260589.410316   \n\n      AverageFitness  AverageDiffFromOpt  TimePerRun  Generations  \\\n0       3.213329e+04        3.258329e+04    0.011128           50   \n1       2.238459e+04        2.283459e+04    0.027806          150   \n2       1.487255e+04        1.532255e+04    0.010348           50   \n3       5.054819e+03        5.504819e+03    0.031108          150   \n4       5.134586e+04        5.179586e+04    0.009959           50   \n...              ...                 ...         ...          ...   \n1291    1.461942e+05        1.466442e+05    0.321514          150   \n1292    9.641332e+05        9.645832e+05    0.171331           50   \n1293    1.290336e+06        1.290786e+06    0.513789          150   \n1294    3.293918e+05        3.298418e+05    0.154155           50   \n1295    2.829519e+05        2.834019e+05    0.470305          150   \n\n      NoDimension  PopSize  TForTournament  CrossoverPerc  MutationRate  \\\n0              10        5               2            0.5           0.2   \n1              10        5               2            0.5           0.2   \n2              10        5               2            0.5           0.2   \n3              10        5               2            0.5           0.2   \n4              10        5               2            0.5           0.2   \n...           ...      ...             ...            ...           ...   \n1291           50       15               4            1.0           1.0   \n1292           50       15               4            1.0           1.0   \n1293           50       15               4            1.0           1.0   \n1294           50       15               4            1.0           1.0   \n1295           50       15               4            1.0           1.0   \n\n      DecreasingMutationRate  Elite       Bounds  AverageOverRange  \n0                       True      0  [-100, 100]                 5  \n1                       True      0  [-100, 100]                 5  \n2                       True      1  [-100, 100]                 5  \n3                       True      1  [-100, 100]                 5  \n4                      False      0  [-100, 100]                 5  \n...                      ...    ...          ...               ...  \n1291                    True      1  [-100, 100]                 5  \n1292                   False      0  [-100, 100]                 5  \n1293                   False      0  [-100, 100]                 5  \n1294                   False      1  [-100, 100]                 5  \n1295                   False      1  [-100, 100]                 5  \n\n[1296 rows x 17 columns]",
      "text/html": "<div>\n<style scoped>\n    .dataframe tbody tr th:only-of-type {\n        vertical-align: middle;\n    }\n\n    .dataframe tbody tr th {\n        vertical-align: top;\n    }\n\n    .dataframe thead th {\n        text-align: right;\n    }\n</style>\n<table border=\"1\" class=\"dataframe\">\n  <thead>\n    <tr style=\"text-align: right;\">\n      <th></th>\n      <th>TestFunction</th>\n      <th>OptimalMinimum</th>\n      <th>BestFitness</th>\n      <th>BestDiffFromOpt</th>\n      <th>AverageFitness</th>\n      <th>AverageDiffFromOpt</th>\n      <th>TimePerRun</th>\n      <th>Generations</th>\n      <th>NoDimension</th>\n      <th>PopSize</th>\n      <th>TForTournament</th>\n      <th>CrossoverPerc</th>\n      <th>MutationRate</th>\n      <th>DecreasingMutationRate</th>\n      <th>Elite</th>\n      <th>Bounds</th>\n      <th>AverageOverRange</th>\n    </tr>\n  </thead>\n  <tbody>\n    <tr>\n      <th>0</th>\n      <td>F2</td>\n      <td>-450.0</td>\n      <td>17690.525955</td>\n      <td>18140.525955</td>\n      <td>3.213329e+04</td>\n      <td>3.258329e+04</td>\n      <td>0.011128</td>\n      <td>50</td>\n      <td>10</td>\n      <td>5</td>\n      <td>2</td>\n      <td>0.5</td>\n      <td>0.2</td>\n      <td>True</td>\n      <td>0</td>\n      <td>[-100, 100]</td>\n      <td>5</td>\n    </tr>\n    <tr>\n      <th>1</th>\n      <td>F2</td>\n      <td>-450.0</td>\n      <td>14235.020676</td>\n      <td>14685.020676</td>\n      <td>2.238459e+04</td>\n      <td>2.283459e+04</td>\n      <td>0.027806</td>\n      <td>150</td>\n      <td>10</td>\n      <td>5</td>\n      <td>2</td>\n      <td>0.5</td>\n      <td>0.2</td>\n      <td>True</td>\n      <td>0</td>\n      <td>[-100, 100]</td>\n      <td>5</td>\n    </tr>\n    <tr>\n      <th>2</th>\n      <td>F2</td>\n      <td>-450.0</td>\n      <td>6013.072511</td>\n      <td>6463.072511</td>\n      <td>1.487255e+04</td>\n      <td>1.532255e+04</td>\n      <td>0.010348</td>\n      <td>50</td>\n      <td>10</td>\n      <td>5</td>\n      <td>2</td>\n      <td>0.5</td>\n      <td>0.2</td>\n      <td>True</td>\n      <td>1</td>\n      <td>[-100, 100]</td>\n      <td>5</td>\n    </tr>\n    <tr>\n      <th>3</th>\n      <td>F2</td>\n      <td>-450.0</td>\n      <td>1868.742268</td>\n      <td>2318.742268</td>\n      <td>5.054819e+03</td>\n      <td>5.504819e+03</td>\n      <td>0.031108</td>\n      <td>150</td>\n      <td>10</td>\n      <td>5</td>\n      <td>2</td>\n      <td>0.5</td>\n      <td>0.2</td>\n      <td>True</td>\n      <td>1</td>\n      <td>[-100, 100]</td>\n      <td>5</td>\n    </tr>\n    <tr>\n      <th>4</th>\n      <td>F2</td>\n      <td>-450.0</td>\n      <td>21611.965380</td>\n      <td>22061.965380</td>\n      <td>5.134586e+04</td>\n      <td>5.179586e+04</td>\n      <td>0.009959</td>\n      <td>50</td>\n      <td>10</td>\n      <td>5</td>\n      <td>2</td>\n      <td>0.5</td>\n      <td>0.2</td>\n      <td>False</td>\n      <td>0</td>\n      <td>[-100, 100]</td>\n      <td>5</td>\n    </tr>\n    <tr>\n      <th>...</th>\n      <td>...</td>\n      <td>...</td>\n      <td>...</td>\n      <td>...</td>\n      <td>...</td>\n      <td>...</td>\n      <td>...</td>\n      <td>...</td>\n      <td>...</td>\n      <td>...</td>\n      <td>...</td>\n      <td>...</td>\n      <td>...</td>\n      <td>...</td>\n      <td>...</td>\n      <td>...</td>\n      <td>...</td>\n    </tr>\n    <tr>\n      <th>1291</th>\n      <td>F2</td>\n      <td>-450.0</td>\n      <td>112341.304928</td>\n      <td>112791.304928</td>\n      <td>1.461942e+05</td>\n      <td>1.466442e+05</td>\n      <td>0.321514</td>\n      <td>150</td>\n      <td>50</td>\n      <td>15</td>\n      <td>4</td>\n      <td>1.0</td>\n      <td>1.0</td>\n      <td>True</td>\n      <td>1</td>\n      <td>[-100, 100]</td>\n      <td>5</td>\n    </tr>\n    <tr>\n      <th>1292</th>\n      <td>F2</td>\n      <td>-450.0</td>\n      <td>590805.599163</td>\n      <td>591255.599163</td>\n      <td>9.641332e+05</td>\n      <td>9.645832e+05</td>\n      <td>0.171331</td>\n      <td>50</td>\n      <td>50</td>\n      <td>15</td>\n      <td>4</td>\n      <td>1.0</td>\n      <td>1.0</td>\n      <td>False</td>\n      <td>0</td>\n      <td>[-100, 100]</td>\n      <td>5</td>\n    </tr>\n    <tr>\n      <th>1293</th>\n      <td>F2</td>\n      <td>-450.0</td>\n      <td>575018.988130</td>\n      <td>575468.988130</td>\n      <td>1.290336e+06</td>\n      <td>1.290786e+06</td>\n      <td>0.513789</td>\n      <td>150</td>\n      <td>50</td>\n      <td>15</td>\n      <td>4</td>\n      <td>1.0</td>\n      <td>1.0</td>\n      <td>False</td>\n      <td>0</td>\n      <td>[-100, 100]</td>\n      <td>5</td>\n    </tr>\n    <tr>\n      <th>1294</th>\n      <td>F2</td>\n      <td>-450.0</td>\n      <td>232243.327721</td>\n      <td>232693.327721</td>\n      <td>3.293918e+05</td>\n      <td>3.298418e+05</td>\n      <td>0.154155</td>\n      <td>50</td>\n      <td>50</td>\n      <td>15</td>\n      <td>4</td>\n      <td>1.0</td>\n      <td>1.0</td>\n      <td>False</td>\n      <td>1</td>\n      <td>[-100, 100]</td>\n      <td>5</td>\n    </tr>\n    <tr>\n      <th>1295</th>\n      <td>F2</td>\n      <td>-450.0</td>\n      <td>260139.410316</td>\n      <td>260589.410316</td>\n      <td>2.829519e+05</td>\n      <td>2.834019e+05</td>\n      <td>0.470305</td>\n      <td>150</td>\n      <td>50</td>\n      <td>15</td>\n      <td>4</td>\n      <td>1.0</td>\n      <td>1.0</td>\n      <td>False</td>\n      <td>1</td>\n      <td>[-100, 100]</td>\n      <td>5</td>\n    </tr>\n  </tbody>\n</table>\n<p>1296 rows × 17 columns</p>\n</div>"
     },
     "execution_count": 50,
     "metadata": {},
     "output_type": "execute_result"
    }
   ],
   "source": [
    "df.query(\"TestFunction == 'F2'\")"
   ],
   "metadata": {
    "collapsed": false,
    "pycharm": {
     "name": "#%%\n"
    }
   }
  },
  {
   "cell_type": "markdown",
   "source": [
    "# F4\n",
    "- Best Diff: 459.44 -> 150 Generation / 10 Dimension / 15 Pop Size / 4 T / 95% CR / 20% MR / DMR False / 1 Elite\n",
    "    - Error: 459.44 / 450 ->  102.09%\n",
    "- Avr. Diff: 1841.4 -> 150 Generation / 10 Dimension / 15 Pop Size / 2 T / 95%  CR / 20% MR / DMR True / 1 Elite\n",
    "    - Error: 1841.4 / 450 ->  409.2%"
   ],
   "metadata": {
    "collapsed": false,
    "pycharm": {
     "name": "#%% md\n"
    }
   }
  },
  {
   "cell_type": "code",
   "execution_count": 51,
   "outputs": [
    {
     "data": {
      "text/plain": "     TestFunction  OptimalMinimum    BestFitness  BestDiffFromOpt  \\\n1296           F4          -450.0   19648.328195     20098.328195   \n1297           F4          -450.0   43889.355029     44339.355029   \n1298           F4          -450.0    3226.647401      3676.647401   \n1299           F4          -450.0    1952.865879      2402.865879   \n1300           F4          -450.0   53798.825239     54248.825239   \n...           ...             ...            ...              ...   \n2587           F4          -450.0  161980.060540    162430.060540   \n2588           F4          -450.0  404325.050245    404775.050245   \n2589           F4          -450.0  474857.028769    475307.028769   \n2590           F4          -450.0  367568.143286    368018.143286   \n2591           F4          -450.0  318431.871318    318881.871318   \n\n      AverageFitness  AverageDiffFromOpt  TimePerRun  Generations  \\\n1296    4.668801e+04        4.713801e+04    0.009338           50   \n1297    5.329062e+04        5.374062e+04    0.028457          150   \n1298    1.438899e+04        1.483899e+04    0.009620           50   \n1299    6.795449e+03        7.245449e+03    0.032871          150   \n1300    1.240192e+05        1.244692e+05    0.011265           50   \n...              ...                 ...         ...          ...   \n2587    2.346768e+05        2.351268e+05    0.328651          150   \n2588    1.207540e+06        1.207990e+06    0.172086           50   \n2589    1.385936e+06        1.386386e+06    0.524369          150   \n2590    5.447924e+05        5.452424e+05    0.155512           50   \n2591    4.299755e+05        4.304255e+05    0.470834          150   \n\n      NoDimension  PopSize  TForTournament  CrossoverPerc  MutationRate  \\\n1296           10        5               2            0.5           0.2   \n1297           10        5               2            0.5           0.2   \n1298           10        5               2            0.5           0.2   \n1299           10        5               2            0.5           0.2   \n1300           10        5               2            0.5           0.2   \n...           ...      ...             ...            ...           ...   \n2587           50       15               4            1.0           1.0   \n2588           50       15               4            1.0           1.0   \n2589           50       15               4            1.0           1.0   \n2590           50       15               4            1.0           1.0   \n2591           50       15               4            1.0           1.0   \n\n      DecreasingMutationRate  Elite       Bounds  AverageOverRange  \n1296                    True      0  [-100, 100]                 5  \n1297                    True      0  [-100, 100]                 5  \n1298                    True      1  [-100, 100]                 5  \n1299                    True      1  [-100, 100]                 5  \n1300                   False      0  [-100, 100]                 5  \n...                      ...    ...          ...               ...  \n2587                    True      1  [-100, 100]                 5  \n2588                   False      0  [-100, 100]                 5  \n2589                   False      0  [-100, 100]                 5  \n2590                   False      1  [-100, 100]                 5  \n2591                   False      1  [-100, 100]                 5  \n\n[1296 rows x 17 columns]",
      "text/html": "<div>\n<style scoped>\n    .dataframe tbody tr th:only-of-type {\n        vertical-align: middle;\n    }\n\n    .dataframe tbody tr th {\n        vertical-align: top;\n    }\n\n    .dataframe thead th {\n        text-align: right;\n    }\n</style>\n<table border=\"1\" class=\"dataframe\">\n  <thead>\n    <tr style=\"text-align: right;\">\n      <th></th>\n      <th>TestFunction</th>\n      <th>OptimalMinimum</th>\n      <th>BestFitness</th>\n      <th>BestDiffFromOpt</th>\n      <th>AverageFitness</th>\n      <th>AverageDiffFromOpt</th>\n      <th>TimePerRun</th>\n      <th>Generations</th>\n      <th>NoDimension</th>\n      <th>PopSize</th>\n      <th>TForTournament</th>\n      <th>CrossoverPerc</th>\n      <th>MutationRate</th>\n      <th>DecreasingMutationRate</th>\n      <th>Elite</th>\n      <th>Bounds</th>\n      <th>AverageOverRange</th>\n    </tr>\n  </thead>\n  <tbody>\n    <tr>\n      <th>1296</th>\n      <td>F4</td>\n      <td>-450.0</td>\n      <td>19648.328195</td>\n      <td>20098.328195</td>\n      <td>4.668801e+04</td>\n      <td>4.713801e+04</td>\n      <td>0.009338</td>\n      <td>50</td>\n      <td>10</td>\n      <td>5</td>\n      <td>2</td>\n      <td>0.5</td>\n      <td>0.2</td>\n      <td>True</td>\n      <td>0</td>\n      <td>[-100, 100]</td>\n      <td>5</td>\n    </tr>\n    <tr>\n      <th>1297</th>\n      <td>F4</td>\n      <td>-450.0</td>\n      <td>43889.355029</td>\n      <td>44339.355029</td>\n      <td>5.329062e+04</td>\n      <td>5.374062e+04</td>\n      <td>0.028457</td>\n      <td>150</td>\n      <td>10</td>\n      <td>5</td>\n      <td>2</td>\n      <td>0.5</td>\n      <td>0.2</td>\n      <td>True</td>\n      <td>0</td>\n      <td>[-100, 100]</td>\n      <td>5</td>\n    </tr>\n    <tr>\n      <th>1298</th>\n      <td>F4</td>\n      <td>-450.0</td>\n      <td>3226.647401</td>\n      <td>3676.647401</td>\n      <td>1.438899e+04</td>\n      <td>1.483899e+04</td>\n      <td>0.009620</td>\n      <td>50</td>\n      <td>10</td>\n      <td>5</td>\n      <td>2</td>\n      <td>0.5</td>\n      <td>0.2</td>\n      <td>True</td>\n      <td>1</td>\n      <td>[-100, 100]</td>\n      <td>5</td>\n    </tr>\n    <tr>\n      <th>1299</th>\n      <td>F4</td>\n      <td>-450.0</td>\n      <td>1952.865879</td>\n      <td>2402.865879</td>\n      <td>6.795449e+03</td>\n      <td>7.245449e+03</td>\n      <td>0.032871</td>\n      <td>150</td>\n      <td>10</td>\n      <td>5</td>\n      <td>2</td>\n      <td>0.5</td>\n      <td>0.2</td>\n      <td>True</td>\n      <td>1</td>\n      <td>[-100, 100]</td>\n      <td>5</td>\n    </tr>\n    <tr>\n      <th>1300</th>\n      <td>F4</td>\n      <td>-450.0</td>\n      <td>53798.825239</td>\n      <td>54248.825239</td>\n      <td>1.240192e+05</td>\n      <td>1.244692e+05</td>\n      <td>0.011265</td>\n      <td>50</td>\n      <td>10</td>\n      <td>5</td>\n      <td>2</td>\n      <td>0.5</td>\n      <td>0.2</td>\n      <td>False</td>\n      <td>0</td>\n      <td>[-100, 100]</td>\n      <td>5</td>\n    </tr>\n    <tr>\n      <th>...</th>\n      <td>...</td>\n      <td>...</td>\n      <td>...</td>\n      <td>...</td>\n      <td>...</td>\n      <td>...</td>\n      <td>...</td>\n      <td>...</td>\n      <td>...</td>\n      <td>...</td>\n      <td>...</td>\n      <td>...</td>\n      <td>...</td>\n      <td>...</td>\n      <td>...</td>\n      <td>...</td>\n      <td>...</td>\n    </tr>\n    <tr>\n      <th>2587</th>\n      <td>F4</td>\n      <td>-450.0</td>\n      <td>161980.060540</td>\n      <td>162430.060540</td>\n      <td>2.346768e+05</td>\n      <td>2.351268e+05</td>\n      <td>0.328651</td>\n      <td>150</td>\n      <td>50</td>\n      <td>15</td>\n      <td>4</td>\n      <td>1.0</td>\n      <td>1.0</td>\n      <td>True</td>\n      <td>1</td>\n      <td>[-100, 100]</td>\n      <td>5</td>\n    </tr>\n    <tr>\n      <th>2588</th>\n      <td>F4</td>\n      <td>-450.0</td>\n      <td>404325.050245</td>\n      <td>404775.050245</td>\n      <td>1.207540e+06</td>\n      <td>1.207990e+06</td>\n      <td>0.172086</td>\n      <td>50</td>\n      <td>50</td>\n      <td>15</td>\n      <td>4</td>\n      <td>1.0</td>\n      <td>1.0</td>\n      <td>False</td>\n      <td>0</td>\n      <td>[-100, 100]</td>\n      <td>5</td>\n    </tr>\n    <tr>\n      <th>2589</th>\n      <td>F4</td>\n      <td>-450.0</td>\n      <td>474857.028769</td>\n      <td>475307.028769</td>\n      <td>1.385936e+06</td>\n      <td>1.386386e+06</td>\n      <td>0.524369</td>\n      <td>150</td>\n      <td>50</td>\n      <td>15</td>\n      <td>4</td>\n      <td>1.0</td>\n      <td>1.0</td>\n      <td>False</td>\n      <td>0</td>\n      <td>[-100, 100]</td>\n      <td>5</td>\n    </tr>\n    <tr>\n      <th>2590</th>\n      <td>F4</td>\n      <td>-450.0</td>\n      <td>367568.143286</td>\n      <td>368018.143286</td>\n      <td>5.447924e+05</td>\n      <td>5.452424e+05</td>\n      <td>0.155512</td>\n      <td>50</td>\n      <td>50</td>\n      <td>15</td>\n      <td>4</td>\n      <td>1.0</td>\n      <td>1.0</td>\n      <td>False</td>\n      <td>1</td>\n      <td>[-100, 100]</td>\n      <td>5</td>\n    </tr>\n    <tr>\n      <th>2591</th>\n      <td>F4</td>\n      <td>-450.0</td>\n      <td>318431.871318</td>\n      <td>318881.871318</td>\n      <td>4.299755e+05</td>\n      <td>4.304255e+05</td>\n      <td>0.470834</td>\n      <td>150</td>\n      <td>50</td>\n      <td>15</td>\n      <td>4</td>\n      <td>1.0</td>\n      <td>1.0</td>\n      <td>False</td>\n      <td>1</td>\n      <td>[-100, 100]</td>\n      <td>5</td>\n    </tr>\n  </tbody>\n</table>\n<p>1296 rows × 17 columns</p>\n</div>"
     },
     "execution_count": 51,
     "metadata": {},
     "output_type": "execute_result"
    }
   ],
   "source": [
    "df.query(\"TestFunction == 'F4'\")"
   ],
   "metadata": {
    "collapsed": false,
    "pycharm": {
     "name": "#%%\n"
    }
   }
  },
  {
   "cell_type": "markdown",
   "source": [
    "# F8\n",
    "- Best Diff: 20.17 -> 150 Generation / 10 Dimension / 15 Pop Size / 4 T / 100% CR / 80% MR / DMR True / 1 Elite\n",
    "    - Error: 20.17 / 140 -> 14.4%\n",
    "- Avr. Diff: 20.47 -> Same\n",
    "    - Error: 20.47 / 140 -> 14.6%"
   ],
   "metadata": {
    "collapsed": false,
    "pycharm": {
     "name": "#%% md\n"
    }
   }
  },
  {
   "cell_type": "code",
   "execution_count": 52,
   "outputs": [
    {
     "data": {
      "text/plain": "     TestFunction  OptimalMinimum  BestFitness  BestDiffFromOpt  \\\n2592           F8          -140.0  -118.828332        21.171668   \n2593           F8          -140.0  -118.780497        21.219503   \n2594           F8          -140.0  -119.053467        20.946533   \n2595           F8          -140.0  -119.263744        20.736256   \n2596           F8          -140.0  -118.832553        21.167447   \n...           ...             ...          ...              ...   \n3883           F8          -140.0  -118.752831        21.247169   \n3884           F8          -140.0  -118.536631        21.463369   \n3885           F8          -140.0  -118.496857        21.503143   \n3886           F8          -140.0  -118.684637        21.315363   \n3887           F8          -140.0  -118.711035        21.288965   \n\n      AverageFitness  AverageDiffFromOpt  TimePerRun  Generations  \\\n2592     -118.601792           21.398208    0.011346           50   \n2593     -118.632335           21.367665    0.034004          150   \n2594     -118.934699           21.065301    0.015518           50   \n2595     -119.165199           20.834801    0.046569          150   \n2596     -118.571401           21.428599    0.017156           50   \n...              ...                 ...         ...          ...   \n3883     -118.683254           21.316746    0.383418          150   \n3884     -118.443720           21.556280    0.194784           50   \n3885     -118.436180           21.563820    0.586340          150   \n3886     -118.661321           21.338679    0.175834           50   \n3887     -118.683613           21.316387    0.532701          150   \n\n      NoDimension  PopSize  TForTournament  CrossoverPerc  MutationRate  \\\n2592           10        5               2            0.5           0.2   \n2593           10        5               2            0.5           0.2   \n2594           10        5               2            0.5           0.2   \n2595           10        5               2            0.5           0.2   \n2596           10        5               2            0.5           0.2   \n...           ...      ...             ...            ...           ...   \n3883           50       15               4            1.0           1.0   \n3884           50       15               4            1.0           1.0   \n3885           50       15               4            1.0           1.0   \n3886           50       15               4            1.0           1.0   \n3887           50       15               4            1.0           1.0   \n\n      DecreasingMutationRate  Elite     Bounds  AverageOverRange  \n2592                    True      0  [-32, 32]                 5  \n2593                    True      0  [-32, 32]                 5  \n2594                    True      1  [-32, 32]                 5  \n2595                    True      1  [-32, 32]                 5  \n2596                   False      0  [-32, 32]                 5  \n...                      ...    ...        ...               ...  \n3883                    True      1  [-32, 32]                 5  \n3884                   False      0  [-32, 32]                 5  \n3885                   False      0  [-32, 32]                 5  \n3886                   False      1  [-32, 32]                 5  \n3887                   False      1  [-32, 32]                 5  \n\n[1296 rows x 17 columns]",
      "text/html": "<div>\n<style scoped>\n    .dataframe tbody tr th:only-of-type {\n        vertical-align: middle;\n    }\n\n    .dataframe tbody tr th {\n        vertical-align: top;\n    }\n\n    .dataframe thead th {\n        text-align: right;\n    }\n</style>\n<table border=\"1\" class=\"dataframe\">\n  <thead>\n    <tr style=\"text-align: right;\">\n      <th></th>\n      <th>TestFunction</th>\n      <th>OptimalMinimum</th>\n      <th>BestFitness</th>\n      <th>BestDiffFromOpt</th>\n      <th>AverageFitness</th>\n      <th>AverageDiffFromOpt</th>\n      <th>TimePerRun</th>\n      <th>Generations</th>\n      <th>NoDimension</th>\n      <th>PopSize</th>\n      <th>TForTournament</th>\n      <th>CrossoverPerc</th>\n      <th>MutationRate</th>\n      <th>DecreasingMutationRate</th>\n      <th>Elite</th>\n      <th>Bounds</th>\n      <th>AverageOverRange</th>\n    </tr>\n  </thead>\n  <tbody>\n    <tr>\n      <th>2592</th>\n      <td>F8</td>\n      <td>-140.0</td>\n      <td>-118.828332</td>\n      <td>21.171668</td>\n      <td>-118.601792</td>\n      <td>21.398208</td>\n      <td>0.011346</td>\n      <td>50</td>\n      <td>10</td>\n      <td>5</td>\n      <td>2</td>\n      <td>0.5</td>\n      <td>0.2</td>\n      <td>True</td>\n      <td>0</td>\n      <td>[-32, 32]</td>\n      <td>5</td>\n    </tr>\n    <tr>\n      <th>2593</th>\n      <td>F8</td>\n      <td>-140.0</td>\n      <td>-118.780497</td>\n      <td>21.219503</td>\n      <td>-118.632335</td>\n      <td>21.367665</td>\n      <td>0.034004</td>\n      <td>150</td>\n      <td>10</td>\n      <td>5</td>\n      <td>2</td>\n      <td>0.5</td>\n      <td>0.2</td>\n      <td>True</td>\n      <td>0</td>\n      <td>[-32, 32]</td>\n      <td>5</td>\n    </tr>\n    <tr>\n      <th>2594</th>\n      <td>F8</td>\n      <td>-140.0</td>\n      <td>-119.053467</td>\n      <td>20.946533</td>\n      <td>-118.934699</td>\n      <td>21.065301</td>\n      <td>0.015518</td>\n      <td>50</td>\n      <td>10</td>\n      <td>5</td>\n      <td>2</td>\n      <td>0.5</td>\n      <td>0.2</td>\n      <td>True</td>\n      <td>1</td>\n      <td>[-32, 32]</td>\n      <td>5</td>\n    </tr>\n    <tr>\n      <th>2595</th>\n      <td>F8</td>\n      <td>-140.0</td>\n      <td>-119.263744</td>\n      <td>20.736256</td>\n      <td>-119.165199</td>\n      <td>20.834801</td>\n      <td>0.046569</td>\n      <td>150</td>\n      <td>10</td>\n      <td>5</td>\n      <td>2</td>\n      <td>0.5</td>\n      <td>0.2</td>\n      <td>True</td>\n      <td>1</td>\n      <td>[-32, 32]</td>\n      <td>5</td>\n    </tr>\n    <tr>\n      <th>2596</th>\n      <td>F8</td>\n      <td>-140.0</td>\n      <td>-118.832553</td>\n      <td>21.167447</td>\n      <td>-118.571401</td>\n      <td>21.428599</td>\n      <td>0.017156</td>\n      <td>50</td>\n      <td>10</td>\n      <td>5</td>\n      <td>2</td>\n      <td>0.5</td>\n      <td>0.2</td>\n      <td>False</td>\n      <td>0</td>\n      <td>[-32, 32]</td>\n      <td>5</td>\n    </tr>\n    <tr>\n      <th>...</th>\n      <td>...</td>\n      <td>...</td>\n      <td>...</td>\n      <td>...</td>\n      <td>...</td>\n      <td>...</td>\n      <td>...</td>\n      <td>...</td>\n      <td>...</td>\n      <td>...</td>\n      <td>...</td>\n      <td>...</td>\n      <td>...</td>\n      <td>...</td>\n      <td>...</td>\n      <td>...</td>\n      <td>...</td>\n    </tr>\n    <tr>\n      <th>3883</th>\n      <td>F8</td>\n      <td>-140.0</td>\n      <td>-118.752831</td>\n      <td>21.247169</td>\n      <td>-118.683254</td>\n      <td>21.316746</td>\n      <td>0.383418</td>\n      <td>150</td>\n      <td>50</td>\n      <td>15</td>\n      <td>4</td>\n      <td>1.0</td>\n      <td>1.0</td>\n      <td>True</td>\n      <td>1</td>\n      <td>[-32, 32]</td>\n      <td>5</td>\n    </tr>\n    <tr>\n      <th>3884</th>\n      <td>F8</td>\n      <td>-140.0</td>\n      <td>-118.536631</td>\n      <td>21.463369</td>\n      <td>-118.443720</td>\n      <td>21.556280</td>\n      <td>0.194784</td>\n      <td>50</td>\n      <td>50</td>\n      <td>15</td>\n      <td>4</td>\n      <td>1.0</td>\n      <td>1.0</td>\n      <td>False</td>\n      <td>0</td>\n      <td>[-32, 32]</td>\n      <td>5</td>\n    </tr>\n    <tr>\n      <th>3885</th>\n      <td>F8</td>\n      <td>-140.0</td>\n      <td>-118.496857</td>\n      <td>21.503143</td>\n      <td>-118.436180</td>\n      <td>21.563820</td>\n      <td>0.586340</td>\n      <td>150</td>\n      <td>50</td>\n      <td>15</td>\n      <td>4</td>\n      <td>1.0</td>\n      <td>1.0</td>\n      <td>False</td>\n      <td>0</td>\n      <td>[-32, 32]</td>\n      <td>5</td>\n    </tr>\n    <tr>\n      <th>3886</th>\n      <td>F8</td>\n      <td>-140.0</td>\n      <td>-118.684637</td>\n      <td>21.315363</td>\n      <td>-118.661321</td>\n      <td>21.338679</td>\n      <td>0.175834</td>\n      <td>50</td>\n      <td>50</td>\n      <td>15</td>\n      <td>4</td>\n      <td>1.0</td>\n      <td>1.0</td>\n      <td>False</td>\n      <td>1</td>\n      <td>[-32, 32]</td>\n      <td>5</td>\n    </tr>\n    <tr>\n      <th>3887</th>\n      <td>F8</td>\n      <td>-140.0</td>\n      <td>-118.711035</td>\n      <td>21.288965</td>\n      <td>-118.683613</td>\n      <td>21.316387</td>\n      <td>0.532701</td>\n      <td>150</td>\n      <td>50</td>\n      <td>15</td>\n      <td>4</td>\n      <td>1.0</td>\n      <td>1.0</td>\n      <td>False</td>\n      <td>1</td>\n      <td>[-32, 32]</td>\n      <td>5</td>\n    </tr>\n  </tbody>\n</table>\n<p>1296 rows × 17 columns</p>\n</div>"
     },
     "execution_count": 52,
     "metadata": {},
     "output_type": "execute_result"
    }
   ],
   "source": [
    "df.query(\"TestFunction == 'F8'\")"
   ],
   "metadata": {
    "collapsed": false,
    "pycharm": {
     "name": "#%%\n"
    }
   }
  },
  {
   "cell_type": "markdown",
   "source": [
    "# F13\n",
    "- Best Diff: 1.8799 -> 150 Generation / 10 Dimension / 15 Pop Size / 4 T / 95% CR / 20% MR / DMR True / 0 Elite\n",
    "    - Error: 1.8799 / 130 ->  1.34%\n",
    "- Avr. Diff: 2.9072 -> 150 Generation / 10 Dimension / 10 Pop Size / 2 T / 95% CR / 20% MR / DMR True / 1 Elite\n",
    "    - Error: 2.9072 / 130 ->  2.28%\n"
   ],
   "metadata": {
    "collapsed": false,
    "pycharm": {
     "name": "#%% md\n"
    }
   }
  },
  {
   "cell_type": "code",
   "execution_count": 53,
   "outputs": [
    {
     "data": {
      "text/plain": "     TestFunction  OptimalMinimum  BestFitness  BestDiffFromOpt  \\\n0             F13          -130.0  -114.747967        15.252033   \n1             F13          -130.0  -112.484813        17.515187   \n2             F13          -130.0  -119.482405        10.517595   \n3             F13          -130.0  -127.111143         2.888857   \n4             F13          -130.0    68.014676       198.014676   \n...           ...             ...          ...              ...   \n1291          F13          -130.0    18.446939       148.446939   \n1292          F13          -130.0  3078.646003      3208.646003   \n1293          F13          -130.0  5464.382972      5594.382972   \n1294          F13          -130.0  1636.088684      1766.088684   \n1295          F13          -130.0  1598.512694      1728.512694   \n\n      AverageFitness  AverageDiffFromOpt  TimePerRun  Generations  \\\n0         123.382008          253.382008    0.015493           50   \n1         -81.314126           48.685874    0.047154          150   \n2        -117.122011           12.877989    0.014168           50   \n3        -122.551732            7.448268    0.043210          150   \n4        1145.731194         1275.731194    0.015538           50   \n...              ...                 ...         ...          ...   \n1291       86.802009          216.802009    0.559082          150   \n1292     5533.162406         5663.162406    0.246466           50   \n1293     9402.327325         9532.327325    0.757659          150   \n1294     2376.984034         2506.984034    0.231453           50   \n1295     2085.922189         2215.922189    0.702414          150   \n\n      NoDimension  PopSize  TForTournament  CrossoverPerc  MutationRate  \\\n0              10        5               2            0.5           0.2   \n1              10        5               2            0.5           0.2   \n2              10        5               2            0.5           0.2   \n3              10        5               2            0.5           0.2   \n4              10        5               2            0.5           0.2   \n...           ...      ...             ...            ...           ...   \n1291           50       15               4            1.0           1.0   \n1292           50       15               4            1.0           1.0   \n1293           50       15               4            1.0           1.0   \n1294           50       15               4            1.0           1.0   \n1295           50       15               4            1.0           1.0   \n\n      DecreasingMutationRate  Elite   Bounds  AverageOverRange  \n0                       True      0  [-3, 1]                 5  \n1                       True      0  [-3, 1]                 5  \n2                       True      1  [-3, 1]                 5  \n3                       True      1  [-3, 1]                 5  \n4                      False      0  [-3, 1]                 5  \n...                      ...    ...      ...               ...  \n1291                    True      1  [-3, 1]                 5  \n1292                   False      0  [-3, 1]                 5  \n1293                   False      0  [-3, 1]                 5  \n1294                   False      1  [-3, 1]                 5  \n1295                   False      1  [-3, 1]                 5  \n\n[1296 rows x 17 columns]",
      "text/html": "<div>\n<style scoped>\n    .dataframe tbody tr th:only-of-type {\n        vertical-align: middle;\n    }\n\n    .dataframe tbody tr th {\n        vertical-align: top;\n    }\n\n    .dataframe thead th {\n        text-align: right;\n    }\n</style>\n<table border=\"1\" class=\"dataframe\">\n  <thead>\n    <tr style=\"text-align: right;\">\n      <th></th>\n      <th>TestFunction</th>\n      <th>OptimalMinimum</th>\n      <th>BestFitness</th>\n      <th>BestDiffFromOpt</th>\n      <th>AverageFitness</th>\n      <th>AverageDiffFromOpt</th>\n      <th>TimePerRun</th>\n      <th>Generations</th>\n      <th>NoDimension</th>\n      <th>PopSize</th>\n      <th>TForTournament</th>\n      <th>CrossoverPerc</th>\n      <th>MutationRate</th>\n      <th>DecreasingMutationRate</th>\n      <th>Elite</th>\n      <th>Bounds</th>\n      <th>AverageOverRange</th>\n    </tr>\n  </thead>\n  <tbody>\n    <tr>\n      <th>0</th>\n      <td>F13</td>\n      <td>-130.0</td>\n      <td>-114.747967</td>\n      <td>15.252033</td>\n      <td>123.382008</td>\n      <td>253.382008</td>\n      <td>0.015493</td>\n      <td>50</td>\n      <td>10</td>\n      <td>5</td>\n      <td>2</td>\n      <td>0.5</td>\n      <td>0.2</td>\n      <td>True</td>\n      <td>0</td>\n      <td>[-3, 1]</td>\n      <td>5</td>\n    </tr>\n    <tr>\n      <th>1</th>\n      <td>F13</td>\n      <td>-130.0</td>\n      <td>-112.484813</td>\n      <td>17.515187</td>\n      <td>-81.314126</td>\n      <td>48.685874</td>\n      <td>0.047154</td>\n      <td>150</td>\n      <td>10</td>\n      <td>5</td>\n      <td>2</td>\n      <td>0.5</td>\n      <td>0.2</td>\n      <td>True</td>\n      <td>0</td>\n      <td>[-3, 1]</td>\n      <td>5</td>\n    </tr>\n    <tr>\n      <th>2</th>\n      <td>F13</td>\n      <td>-130.0</td>\n      <td>-119.482405</td>\n      <td>10.517595</td>\n      <td>-117.122011</td>\n      <td>12.877989</td>\n      <td>0.014168</td>\n      <td>50</td>\n      <td>10</td>\n      <td>5</td>\n      <td>2</td>\n      <td>0.5</td>\n      <td>0.2</td>\n      <td>True</td>\n      <td>1</td>\n      <td>[-3, 1]</td>\n      <td>5</td>\n    </tr>\n    <tr>\n      <th>3</th>\n      <td>F13</td>\n      <td>-130.0</td>\n      <td>-127.111143</td>\n      <td>2.888857</td>\n      <td>-122.551732</td>\n      <td>7.448268</td>\n      <td>0.043210</td>\n      <td>150</td>\n      <td>10</td>\n      <td>5</td>\n      <td>2</td>\n      <td>0.5</td>\n      <td>0.2</td>\n      <td>True</td>\n      <td>1</td>\n      <td>[-3, 1]</td>\n      <td>5</td>\n    </tr>\n    <tr>\n      <th>4</th>\n      <td>F13</td>\n      <td>-130.0</td>\n      <td>68.014676</td>\n      <td>198.014676</td>\n      <td>1145.731194</td>\n      <td>1275.731194</td>\n      <td>0.015538</td>\n      <td>50</td>\n      <td>10</td>\n      <td>5</td>\n      <td>2</td>\n      <td>0.5</td>\n      <td>0.2</td>\n      <td>False</td>\n      <td>0</td>\n      <td>[-3, 1]</td>\n      <td>5</td>\n    </tr>\n    <tr>\n      <th>...</th>\n      <td>...</td>\n      <td>...</td>\n      <td>...</td>\n      <td>...</td>\n      <td>...</td>\n      <td>...</td>\n      <td>...</td>\n      <td>...</td>\n      <td>...</td>\n      <td>...</td>\n      <td>...</td>\n      <td>...</td>\n      <td>...</td>\n      <td>...</td>\n      <td>...</td>\n      <td>...</td>\n      <td>...</td>\n    </tr>\n    <tr>\n      <th>1291</th>\n      <td>F13</td>\n      <td>-130.0</td>\n      <td>18.446939</td>\n      <td>148.446939</td>\n      <td>86.802009</td>\n      <td>216.802009</td>\n      <td>0.559082</td>\n      <td>150</td>\n      <td>50</td>\n      <td>15</td>\n      <td>4</td>\n      <td>1.0</td>\n      <td>1.0</td>\n      <td>True</td>\n      <td>1</td>\n      <td>[-3, 1]</td>\n      <td>5</td>\n    </tr>\n    <tr>\n      <th>1292</th>\n      <td>F13</td>\n      <td>-130.0</td>\n      <td>3078.646003</td>\n      <td>3208.646003</td>\n      <td>5533.162406</td>\n      <td>5663.162406</td>\n      <td>0.246466</td>\n      <td>50</td>\n      <td>50</td>\n      <td>15</td>\n      <td>4</td>\n      <td>1.0</td>\n      <td>1.0</td>\n      <td>False</td>\n      <td>0</td>\n      <td>[-3, 1]</td>\n      <td>5</td>\n    </tr>\n    <tr>\n      <th>1293</th>\n      <td>F13</td>\n      <td>-130.0</td>\n      <td>5464.382972</td>\n      <td>5594.382972</td>\n      <td>9402.327325</td>\n      <td>9532.327325</td>\n      <td>0.757659</td>\n      <td>150</td>\n      <td>50</td>\n      <td>15</td>\n      <td>4</td>\n      <td>1.0</td>\n      <td>1.0</td>\n      <td>False</td>\n      <td>0</td>\n      <td>[-3, 1]</td>\n      <td>5</td>\n    </tr>\n    <tr>\n      <th>1294</th>\n      <td>F13</td>\n      <td>-130.0</td>\n      <td>1636.088684</td>\n      <td>1766.088684</td>\n      <td>2376.984034</td>\n      <td>2506.984034</td>\n      <td>0.231453</td>\n      <td>50</td>\n      <td>50</td>\n      <td>15</td>\n      <td>4</td>\n      <td>1.0</td>\n      <td>1.0</td>\n      <td>False</td>\n      <td>1</td>\n      <td>[-3, 1]</td>\n      <td>5</td>\n    </tr>\n    <tr>\n      <th>1295</th>\n      <td>F13</td>\n      <td>-130.0</td>\n      <td>1598.512694</td>\n      <td>1728.512694</td>\n      <td>2085.922189</td>\n      <td>2215.922189</td>\n      <td>0.702414</td>\n      <td>150</td>\n      <td>50</td>\n      <td>15</td>\n      <td>4</td>\n      <td>1.0</td>\n      <td>1.0</td>\n      <td>False</td>\n      <td>1</td>\n      <td>[-3, 1]</td>\n      <td>5</td>\n    </tr>\n  </tbody>\n</table>\n<p>1296 rows × 17 columns</p>\n</div>"
     },
     "execution_count": 53,
     "metadata": {},
     "output_type": "execute_result"
    }
   ],
   "source": [
    "df.query(\"TestFunction == 'F13'\")"
   ],
   "metadata": {
    "collapsed": false,
    "pycharm": {
     "name": "#%%\n"
    }
   }
  },
  {
   "cell_type": "markdown",
   "source": [
    "# F17\n",
    "- Best Diff: 219.97 -> 150 Generation / 10 Dimension / 10 Pop Size / 4 T / 50% CR / 80% MR / DMR True / 1 Elite\n",
    "    - Error: 219.97 / 120 ->  183.3%\n",
    "- Avr. Diff: 283.42 -> 150 Generation / 10 Dimension / 15 Pop Size / 2 T / 100% CR / 100% MR / DMR True / 1 Elite\n",
    "    - Error: 283.42 / 120 ->  236.2%"
   ],
   "metadata": {
    "collapsed": false,
    "pycharm": {
     "name": "#%% md\n"
    }
   }
  },
  {
   "cell_type": "code",
   "execution_count": 54,
   "outputs": [
    {
     "data": {
      "text/plain": "     TestFunction  OptimalMinimum  BestFitness  BestDiffFromOpt  \\\n1296          F17           120.0   748.766137       628.766137   \n1297          F17           120.0   591.077512       471.077512   \n1298          F17           120.0   454.579857       334.579857   \n1299          F17           120.0   403.606848       283.606848   \n1300          F17           120.0  1369.054293      1249.054293   \n...           ...             ...          ...              ...   \n2587          F17           120.0   692.699934       572.699934   \n2588          F17           120.0  1726.874128      1606.874128   \n2589          F17           120.0  1809.362841      1689.362841   \n2590          F17           120.0  1286.370225      1166.370225   \n2591          F17           120.0  1332.571466      1212.571466   \n\n      AverageFitness  AverageDiffFromOpt  TimePerRun  Generations  \\\n1296     1079.084525          959.084525    0.113645           50   \n1297      951.976583          831.976583    0.335133          150   \n1298      557.498490          437.498490    0.110451           50   \n1299      495.791958          375.791958    0.332959          150   \n1300     1429.394142         1309.394142    0.110137           50   \n...              ...                 ...         ...          ...   \n2587      825.222940          705.222940    4.463455          150   \n2588     1875.775029         1755.775029    1.468171           50   \n2589     1871.932725         1751.932725    4.641679          150   \n2590     1564.226187         1444.226187    1.467616           50   \n2591     1565.618000         1445.618000    4.645089          150   \n\n      NoDimension  PopSize  TForTournament  CrossoverPerc  MutationRate  \\\n1296           10        5               2            0.5           0.2   \n1297           10        5               2            0.5           0.2   \n1298           10        5               2            0.5           0.2   \n1299           10        5               2            0.5           0.2   \n1300           10        5               2            0.5           0.2   \n...           ...      ...             ...            ...           ...   \n2587           50       15               4            1.0           1.0   \n2588           50       15               4            1.0           1.0   \n2589           50       15               4            1.0           1.0   \n2590           50       15               4            1.0           1.0   \n2591           50       15               4            1.0           1.0   \n\n      DecreasingMutationRate  Elite   Bounds  AverageOverRange  \n1296                    True      0  [-5, 5]                 5  \n1297                    True      0  [-5, 5]                 5  \n1298                    True      1  [-5, 5]                 5  \n1299                    True      1  [-5, 5]                 5  \n1300                   False      0  [-5, 5]                 5  \n...                      ...    ...      ...               ...  \n2587                    True      1  [-5, 5]                 5  \n2588                   False      0  [-5, 5]                 5  \n2589                   False      0  [-5, 5]                 5  \n2590                   False      1  [-5, 5]                 5  \n2591                   False      1  [-5, 5]                 5  \n\n[1296 rows x 17 columns]",
      "text/html": "<div>\n<style scoped>\n    .dataframe tbody tr th:only-of-type {\n        vertical-align: middle;\n    }\n\n    .dataframe tbody tr th {\n        vertical-align: top;\n    }\n\n    .dataframe thead th {\n        text-align: right;\n    }\n</style>\n<table border=\"1\" class=\"dataframe\">\n  <thead>\n    <tr style=\"text-align: right;\">\n      <th></th>\n      <th>TestFunction</th>\n      <th>OptimalMinimum</th>\n      <th>BestFitness</th>\n      <th>BestDiffFromOpt</th>\n      <th>AverageFitness</th>\n      <th>AverageDiffFromOpt</th>\n      <th>TimePerRun</th>\n      <th>Generations</th>\n      <th>NoDimension</th>\n      <th>PopSize</th>\n      <th>TForTournament</th>\n      <th>CrossoverPerc</th>\n      <th>MutationRate</th>\n      <th>DecreasingMutationRate</th>\n      <th>Elite</th>\n      <th>Bounds</th>\n      <th>AverageOverRange</th>\n    </tr>\n  </thead>\n  <tbody>\n    <tr>\n      <th>1296</th>\n      <td>F17</td>\n      <td>120.0</td>\n      <td>748.766137</td>\n      <td>628.766137</td>\n      <td>1079.084525</td>\n      <td>959.084525</td>\n      <td>0.113645</td>\n      <td>50</td>\n      <td>10</td>\n      <td>5</td>\n      <td>2</td>\n      <td>0.5</td>\n      <td>0.2</td>\n      <td>True</td>\n      <td>0</td>\n      <td>[-5, 5]</td>\n      <td>5</td>\n    </tr>\n    <tr>\n      <th>1297</th>\n      <td>F17</td>\n      <td>120.0</td>\n      <td>591.077512</td>\n      <td>471.077512</td>\n      <td>951.976583</td>\n      <td>831.976583</td>\n      <td>0.335133</td>\n      <td>150</td>\n      <td>10</td>\n      <td>5</td>\n      <td>2</td>\n      <td>0.5</td>\n      <td>0.2</td>\n      <td>True</td>\n      <td>0</td>\n      <td>[-5, 5]</td>\n      <td>5</td>\n    </tr>\n    <tr>\n      <th>1298</th>\n      <td>F17</td>\n      <td>120.0</td>\n      <td>454.579857</td>\n      <td>334.579857</td>\n      <td>557.498490</td>\n      <td>437.498490</td>\n      <td>0.110451</td>\n      <td>50</td>\n      <td>10</td>\n      <td>5</td>\n      <td>2</td>\n      <td>0.5</td>\n      <td>0.2</td>\n      <td>True</td>\n      <td>1</td>\n      <td>[-5, 5]</td>\n      <td>5</td>\n    </tr>\n    <tr>\n      <th>1299</th>\n      <td>F17</td>\n      <td>120.0</td>\n      <td>403.606848</td>\n      <td>283.606848</td>\n      <td>495.791958</td>\n      <td>375.791958</td>\n      <td>0.332959</td>\n      <td>150</td>\n      <td>10</td>\n      <td>5</td>\n      <td>2</td>\n      <td>0.5</td>\n      <td>0.2</td>\n      <td>True</td>\n      <td>1</td>\n      <td>[-5, 5]</td>\n      <td>5</td>\n    </tr>\n    <tr>\n      <th>1300</th>\n      <td>F17</td>\n      <td>120.0</td>\n      <td>1369.054293</td>\n      <td>1249.054293</td>\n      <td>1429.394142</td>\n      <td>1309.394142</td>\n      <td>0.110137</td>\n      <td>50</td>\n      <td>10</td>\n      <td>5</td>\n      <td>2</td>\n      <td>0.5</td>\n      <td>0.2</td>\n      <td>False</td>\n      <td>0</td>\n      <td>[-5, 5]</td>\n      <td>5</td>\n    </tr>\n    <tr>\n      <th>...</th>\n      <td>...</td>\n      <td>...</td>\n      <td>...</td>\n      <td>...</td>\n      <td>...</td>\n      <td>...</td>\n      <td>...</td>\n      <td>...</td>\n      <td>...</td>\n      <td>...</td>\n      <td>...</td>\n      <td>...</td>\n      <td>...</td>\n      <td>...</td>\n      <td>...</td>\n      <td>...</td>\n      <td>...</td>\n    </tr>\n    <tr>\n      <th>2587</th>\n      <td>F17</td>\n      <td>120.0</td>\n      <td>692.699934</td>\n      <td>572.699934</td>\n      <td>825.222940</td>\n      <td>705.222940</td>\n      <td>4.463455</td>\n      <td>150</td>\n      <td>50</td>\n      <td>15</td>\n      <td>4</td>\n      <td>1.0</td>\n      <td>1.0</td>\n      <td>True</td>\n      <td>1</td>\n      <td>[-5, 5]</td>\n      <td>5</td>\n    </tr>\n    <tr>\n      <th>2588</th>\n      <td>F17</td>\n      <td>120.0</td>\n      <td>1726.874128</td>\n      <td>1606.874128</td>\n      <td>1875.775029</td>\n      <td>1755.775029</td>\n      <td>1.468171</td>\n      <td>50</td>\n      <td>50</td>\n      <td>15</td>\n      <td>4</td>\n      <td>1.0</td>\n      <td>1.0</td>\n      <td>False</td>\n      <td>0</td>\n      <td>[-5, 5]</td>\n      <td>5</td>\n    </tr>\n    <tr>\n      <th>2589</th>\n      <td>F17</td>\n      <td>120.0</td>\n      <td>1809.362841</td>\n      <td>1689.362841</td>\n      <td>1871.932725</td>\n      <td>1751.932725</td>\n      <td>4.641679</td>\n      <td>150</td>\n      <td>50</td>\n      <td>15</td>\n      <td>4</td>\n      <td>1.0</td>\n      <td>1.0</td>\n      <td>False</td>\n      <td>0</td>\n      <td>[-5, 5]</td>\n      <td>5</td>\n    </tr>\n    <tr>\n      <th>2590</th>\n      <td>F17</td>\n      <td>120.0</td>\n      <td>1286.370225</td>\n      <td>1166.370225</td>\n      <td>1564.226187</td>\n      <td>1444.226187</td>\n      <td>1.467616</td>\n      <td>50</td>\n      <td>50</td>\n      <td>15</td>\n      <td>4</td>\n      <td>1.0</td>\n      <td>1.0</td>\n      <td>False</td>\n      <td>1</td>\n      <td>[-5, 5]</td>\n      <td>5</td>\n    </tr>\n    <tr>\n      <th>2591</th>\n      <td>F17</td>\n      <td>120.0</td>\n      <td>1332.571466</td>\n      <td>1212.571466</td>\n      <td>1565.618000</td>\n      <td>1445.618000</td>\n      <td>4.645089</td>\n      <td>150</td>\n      <td>50</td>\n      <td>15</td>\n      <td>4</td>\n      <td>1.0</td>\n      <td>1.0</td>\n      <td>False</td>\n      <td>1</td>\n      <td>[-5, 5]</td>\n      <td>5</td>\n    </tr>\n  </tbody>\n</table>\n<p>1296 rows × 17 columns</p>\n</div>"
     },
     "execution_count": 54,
     "metadata": {},
     "output_type": "execute_result"
    }
   ],
   "source": [
    "df.query(\"TestFunction == 'F17'\")"
   ],
   "metadata": {
    "collapsed": false,
    "pycharm": {
     "name": "#%%\n"
    }
   }
  },
  {
   "cell_type": "markdown",
   "source": [
    "# F24\n",
    "- Best Diff: 500.05 -> 150 Generation / 10 Dimension / 15 Pop Size / 2 T / 100% CR / 20% MR / DMR False / 1 Elite\n",
    "    - Error: 500.05 / 260 -> 192.32%\n",
    "- Avr. Diff: 836.26 -> 150 Generation / 10 Dimension / 10 Pop Size / 4 T / 100% CR / 80% MR / DMR True / 1 Elite\n",
    "    - Error: 835.26 / 260 -> 321.25%"
   ],
   "metadata": {
    "collapsed": false,
    "pycharm": {
     "name": "#%% md\n"
    }
   }
  },
  {
   "cell_type": "code",
   "execution_count": 55,
   "outputs": [
    {
     "data": {
      "text/plain": "     TestFunction  OptimalMinimum  BestFitness  BestDiffFromOpt  \\\n0             F24           260.0  1581.379194      1321.379194   \n1             F24           260.0  1716.297855      1456.297855   \n2             F24           260.0  1257.358857       997.358857   \n3             F24           260.0  1009.196942       749.196942   \n4             F24           260.0  1706.802306      1446.802306   \n...           ...             ...          ...              ...   \n1291          F24           260.0  1604.662489      1344.662489   \n1292          F24           260.0  2013.695892      1753.695892   \n1293          F24           260.0  2022.287128      1762.287128   \n1294          F24           260.0  1880.468349      1620.468349   \n1295          F24           260.0  1851.241865      1591.241865   \n\n      AverageFitness  AverageDiffFromOpt  TimePerRun  Generations  \\\n0        1772.169403         1512.169403    0.115887           50   \n1        1859.331639         1599.331639    0.334574          150   \n2        1496.301694         1236.301694    0.095941           50   \n3        1260.036581         1000.036581    0.290794          150   \n4        1905.026391         1645.026391    0.097299           50   \n...              ...                 ...         ...          ...   \n1291     1633.768568         1373.768568    3.663990          150   \n1292     2032.972450         1772.972450    1.252370           50   \n1293     2078.779992         1818.779992    3.872165          150   \n1294     1907.107345         1647.107345    1.220936           50   \n1295     1866.000102         1606.000102    3.771049          150   \n\n      NoDimension  PopSize  TForTournament  CrossoverPerc  MutationRate  \\\n0              10        5               2            0.5           0.2   \n1              10        5               2            0.5           0.2   \n2              10        5               2            0.5           0.2   \n3              10        5               2            0.5           0.2   \n4              10        5               2            0.5           0.2   \n...           ...      ...             ...            ...           ...   \n1291           50       15               4            1.0           1.0   \n1292           50       15               4            1.0           1.0   \n1293           50       15               4            1.0           1.0   \n1294           50       15               4            1.0           1.0   \n1295           50       15               4            1.0           1.0   \n\n      DecreasingMutationRate  Elite   Bounds  AverageOverRange  \n0                       True      0  [-5, 5]                 5  \n1                       True      0  [-5, 5]                 5  \n2                       True      1  [-5, 5]                 5  \n3                       True      1  [-5, 5]                 5  \n4                      False      0  [-5, 5]                 5  \n...                      ...    ...      ...               ...  \n1291                    True      1  [-5, 5]                 5  \n1292                   False      0  [-5, 5]                 5  \n1293                   False      0  [-5, 5]                 5  \n1294                   False      1  [-5, 5]                 5  \n1295                   False      1  [-5, 5]                 5  \n\n[1296 rows x 17 columns]",
      "text/html": "<div>\n<style scoped>\n    .dataframe tbody tr th:only-of-type {\n        vertical-align: middle;\n    }\n\n    .dataframe tbody tr th {\n        vertical-align: top;\n    }\n\n    .dataframe thead th {\n        text-align: right;\n    }\n</style>\n<table border=\"1\" class=\"dataframe\">\n  <thead>\n    <tr style=\"text-align: right;\">\n      <th></th>\n      <th>TestFunction</th>\n      <th>OptimalMinimum</th>\n      <th>BestFitness</th>\n      <th>BestDiffFromOpt</th>\n      <th>AverageFitness</th>\n      <th>AverageDiffFromOpt</th>\n      <th>TimePerRun</th>\n      <th>Generations</th>\n      <th>NoDimension</th>\n      <th>PopSize</th>\n      <th>TForTournament</th>\n      <th>CrossoverPerc</th>\n      <th>MutationRate</th>\n      <th>DecreasingMutationRate</th>\n      <th>Elite</th>\n      <th>Bounds</th>\n      <th>AverageOverRange</th>\n    </tr>\n  </thead>\n  <tbody>\n    <tr>\n      <th>0</th>\n      <td>F24</td>\n      <td>260.0</td>\n      <td>1581.379194</td>\n      <td>1321.379194</td>\n      <td>1772.169403</td>\n      <td>1512.169403</td>\n      <td>0.115887</td>\n      <td>50</td>\n      <td>10</td>\n      <td>5</td>\n      <td>2</td>\n      <td>0.5</td>\n      <td>0.2</td>\n      <td>True</td>\n      <td>0</td>\n      <td>[-5, 5]</td>\n      <td>5</td>\n    </tr>\n    <tr>\n      <th>1</th>\n      <td>F24</td>\n      <td>260.0</td>\n      <td>1716.297855</td>\n      <td>1456.297855</td>\n      <td>1859.331639</td>\n      <td>1599.331639</td>\n      <td>0.334574</td>\n      <td>150</td>\n      <td>10</td>\n      <td>5</td>\n      <td>2</td>\n      <td>0.5</td>\n      <td>0.2</td>\n      <td>True</td>\n      <td>0</td>\n      <td>[-5, 5]</td>\n      <td>5</td>\n    </tr>\n    <tr>\n      <th>2</th>\n      <td>F24</td>\n      <td>260.0</td>\n      <td>1257.358857</td>\n      <td>997.358857</td>\n      <td>1496.301694</td>\n      <td>1236.301694</td>\n      <td>0.095941</td>\n      <td>50</td>\n      <td>10</td>\n      <td>5</td>\n      <td>2</td>\n      <td>0.5</td>\n      <td>0.2</td>\n      <td>True</td>\n      <td>1</td>\n      <td>[-5, 5]</td>\n      <td>5</td>\n    </tr>\n    <tr>\n      <th>3</th>\n      <td>F24</td>\n      <td>260.0</td>\n      <td>1009.196942</td>\n      <td>749.196942</td>\n      <td>1260.036581</td>\n      <td>1000.036581</td>\n      <td>0.290794</td>\n      <td>150</td>\n      <td>10</td>\n      <td>5</td>\n      <td>2</td>\n      <td>0.5</td>\n      <td>0.2</td>\n      <td>True</td>\n      <td>1</td>\n      <td>[-5, 5]</td>\n      <td>5</td>\n    </tr>\n    <tr>\n      <th>4</th>\n      <td>F24</td>\n      <td>260.0</td>\n      <td>1706.802306</td>\n      <td>1446.802306</td>\n      <td>1905.026391</td>\n      <td>1645.026391</td>\n      <td>0.097299</td>\n      <td>50</td>\n      <td>10</td>\n      <td>5</td>\n      <td>2</td>\n      <td>0.5</td>\n      <td>0.2</td>\n      <td>False</td>\n      <td>0</td>\n      <td>[-5, 5]</td>\n      <td>5</td>\n    </tr>\n    <tr>\n      <th>...</th>\n      <td>...</td>\n      <td>...</td>\n      <td>...</td>\n      <td>...</td>\n      <td>...</td>\n      <td>...</td>\n      <td>...</td>\n      <td>...</td>\n      <td>...</td>\n      <td>...</td>\n      <td>...</td>\n      <td>...</td>\n      <td>...</td>\n      <td>...</td>\n      <td>...</td>\n      <td>...</td>\n      <td>...</td>\n    </tr>\n    <tr>\n      <th>1291</th>\n      <td>F24</td>\n      <td>260.0</td>\n      <td>1604.662489</td>\n      <td>1344.662489</td>\n      <td>1633.768568</td>\n      <td>1373.768568</td>\n      <td>3.663990</td>\n      <td>150</td>\n      <td>50</td>\n      <td>15</td>\n      <td>4</td>\n      <td>1.0</td>\n      <td>1.0</td>\n      <td>True</td>\n      <td>1</td>\n      <td>[-5, 5]</td>\n      <td>5</td>\n    </tr>\n    <tr>\n      <th>1292</th>\n      <td>F24</td>\n      <td>260.0</td>\n      <td>2013.695892</td>\n      <td>1753.695892</td>\n      <td>2032.972450</td>\n      <td>1772.972450</td>\n      <td>1.252370</td>\n      <td>50</td>\n      <td>50</td>\n      <td>15</td>\n      <td>4</td>\n      <td>1.0</td>\n      <td>1.0</td>\n      <td>False</td>\n      <td>0</td>\n      <td>[-5, 5]</td>\n      <td>5</td>\n    </tr>\n    <tr>\n      <th>1293</th>\n      <td>F24</td>\n      <td>260.0</td>\n      <td>2022.287128</td>\n      <td>1762.287128</td>\n      <td>2078.779992</td>\n      <td>1818.779992</td>\n      <td>3.872165</td>\n      <td>150</td>\n      <td>50</td>\n      <td>15</td>\n      <td>4</td>\n      <td>1.0</td>\n      <td>1.0</td>\n      <td>False</td>\n      <td>0</td>\n      <td>[-5, 5]</td>\n      <td>5</td>\n    </tr>\n    <tr>\n      <th>1294</th>\n      <td>F24</td>\n      <td>260.0</td>\n      <td>1880.468349</td>\n      <td>1620.468349</td>\n      <td>1907.107345</td>\n      <td>1647.107345</td>\n      <td>1.220936</td>\n      <td>50</td>\n      <td>50</td>\n      <td>15</td>\n      <td>4</td>\n      <td>1.0</td>\n      <td>1.0</td>\n      <td>False</td>\n      <td>1</td>\n      <td>[-5, 5]</td>\n      <td>5</td>\n    </tr>\n    <tr>\n      <th>1295</th>\n      <td>F24</td>\n      <td>260.0</td>\n      <td>1851.241865</td>\n      <td>1591.241865</td>\n      <td>1866.000102</td>\n      <td>1606.000102</td>\n      <td>3.771049</td>\n      <td>150</td>\n      <td>50</td>\n      <td>15</td>\n      <td>4</td>\n      <td>1.0</td>\n      <td>1.0</td>\n      <td>False</td>\n      <td>1</td>\n      <td>[-5, 5]</td>\n      <td>5</td>\n    </tr>\n  </tbody>\n</table>\n<p>1296 rows × 17 columns</p>\n</div>"
     },
     "execution_count": 55,
     "metadata": {},
     "output_type": "execute_result"
    }
   ],
   "source": [
    "df.query(\"TestFunction == 'F24'\")"
   ],
   "metadata": {
    "collapsed": false,
    "pycharm": {
     "name": "#%%\n"
    }
   }
  },
  {
   "cell_type": "markdown",
   "source": [
    "# Conclusion:\n",
    "\n",
    "The optimizer performed the best on F8 and F13. F13 error was the lowest with the best fitness 1.34% away from the optimal. F8's best fitness was 14.4% away from the optimal. While the F13 error is good F8 is a significantly larger from the optimal and can be approved. The GA performed poorly on the rest of the test functions. The best fitness errors are as follows:\n",
    "- F2:  69.36%\n",
    "- F4: 102.09%\n",
    "- F17: 183.3%\n",
    "- F24: 192.32%\n",
    "\n",
    "Each test function scored the best after 150 generations, so we decided to increase the number of generations to see how they improve. For the 2nd iteration we kept the configuration of the best algorithm settings. The configurations with low frequency from the bests weren't carried on to the 2nd iteration for the algorithms where the error was huge. However, F13 scored the best fitness without elitism and this was the only configuration among the best configurations to not use elitism. For this configuration option was carried on to the 2nd iteration.\n",
    "\n",
    "Frequency of configuration among best difference and average difference from optimal:\n",
    "- Generation:\n",
    "    - 50 -> 0\n",
    "    - 150 -> 12\n",
    "- Dimension:\n",
    "    - 10 -> 12\n",
    "    - 30 -> 0\n",
    "    - 50 -> 0\n",
    "- Population Size:\n",
    "    - 5 -> 0\n",
    "    - 10 -> 3\n",
    "    - 15 -> 9\n",
    "- Tournament Size:\n",
    "    - 2 -> 5\n",
    "    - 4 -> 7\n",
    "- Crossover Rate:\n",
    "    - 50% -> 1\n",
    "    - 95% -> 5\n",
    "    - 100% -> 6\n",
    "- Mutation Rate:\n",
    "    - 50% -> 1\n",
    "    - 95% -> 5\n",
    "    - 100% -> 6\n",
    "- Decreasing Mutation Rate:\n",
    "    - True -> 10\n",
    "    - False -> 2\n",
    "- Elites:\n",
    "    - 0 -> 1\n",
    "    - 1 -> 11"
   ],
   "metadata": {
    "collapsed": false,
    "pycharm": {
     "name": "#%% md\n"
    }
   }
  },
  {
   "cell_type": "markdown",
   "source": [
    "# 2nd Iteration of Configurations\n",
    "Same algorithm was used as for the 1st iteration but different hyper-parameters. Increased the number of generations to 250, 500, 1000. The population size was increased too and some configurations weren't carried over from iteration 1, i.e. the number of dimension was reduced to only 10."
   ],
   "metadata": {
    "collapsed": false,
    "pycharm": {
     "name": "#%% md\n"
    }
   }
  },
  {
   "cell_type": "code",
   "execution_count": 56,
   "outputs": [],
   "source": [
    "benchmarks_and_bounds = [optproblems.F2, [-100,100], \"F2\", optproblems.F4, [-100,100], \"F4\", optproblems.F8, [-32,32], \"F8\", optproblems.F13, [-3,1], \"F13\", optproblems.F17, [-5,5], \"F17\", optproblems.F24, [-5,5], \"F24\"]\n",
    "no_dimensions = [10]\n",
    "num_generations = [250, 500, 1000]\n",
    "pop_sizes = [10, 15, 20]\n",
    "tournament_t = [2, 4]\n",
    "crossover_percentage = [0.95, 1]\n",
    "mutation_rates = [0.2, 0.8]\n",
    "decreasing_mutation_rate = [True]\n",
    "elites = [0, 1]\n",
    "\n",
    "average_over_range = 5"
   ],
   "metadata": {
    "collapsed": false,
    "pycharm": {
     "name": "#%%\n"
    }
   }
  },
  {
   "cell_type": "code",
   "execution_count": 57,
   "outputs": [],
   "source": [
    "run_configuration_suite = False\n",
    "if run_configuration_suite:\n",
    "\n",
    "    list_for_df = []\n",
    "    for i in range(0, len(benchmarks_and_bounds), 3):\n",
    "        number_of_functions = (len(benchmarks_and_bounds)/3)\n",
    "        print(f\"Progress: {i/3} / {number_of_functions}\")\n",
    "        bound = benchmarks_and_bounds[i+1]\n",
    "        benchmark_name = benchmarks_and_bounds[i+2]\n",
    "        for no_dimension in no_dimensions:\n",
    "            print(f\"\\tDimension: {no_dimension}\")\n",
    "            benchmark = benchmarks_and_bounds[i](no_dimension)\n",
    "            optimal_solution = benchmark.get_optimal_solutions()\n",
    "            benchmark.evaluate(optimal_solution[0])\n",
    "            optimal_minimum = optimal_solution[0].objective_values\n",
    "            for pop_size in pop_sizes:\n",
    "                print(f\"\\t\\tPopulation: {pop_size}\")\n",
    "                for t in tournament_t:\n",
    "                    for crossover in crossover_percentage:\n",
    "                        for mutation in mutation_rates:\n",
    "                            for dmr in decreasing_mutation_rate:\n",
    "                                for elite in elites:\n",
    "                                    for generations in num_generations:\n",
    "                                        average_fitness = 0\n",
    "                                        average_difference_from_optimal = 0\n",
    "\n",
    "                                        best_fitness = 0\n",
    "                                        best_time = 0\n",
    "                                        best_difference_from_optimal = 0\n",
    "\n",
    "                                        for j in range(average_over_range):\n",
    "                                            algorithm = GA(benchmark, no_dimension, bound, pop_size, num_generations=generations, t=t, crossover_percentage=crossover, mutation_rate=mutation, decreasing_mutation_rate=dmr, elite=elite)\n",
    "                                            result, time = algorithm.run()\n",
    "                                            fitness = result.fitness\n",
    "                                            diff_from_optimal = fitness - optimal_minimum\n",
    "\n",
    "                                            average_fitness += 1/average_over_range * fitness\n",
    "                                            average_difference_from_optimal += 1/average_over_range * diff_from_optimal\n",
    "\n",
    "                                            if j == 0:\n",
    "                                                best_fitness = fitness\n",
    "                                                best_difference_from_optimal = diff_from_optimal\n",
    "                                                best_time = time\n",
    "                                                continue\n",
    "\n",
    "                                            if fitness < best_fitness:\n",
    "                                                best_fitness = fitness\n",
    "\n",
    "                                            if diff_from_optimal < best_difference_from_optimal:\n",
    "                                                best_difference_from_optimal = diff_from_optimal\n",
    "\n",
    "                                            if time < best_time:\n",
    "                                                best_time = time\n",
    "\n",
    "                                        result_and_configuration = [benchmark_name, optimal_minimum, best_fitness, best_difference_from_optimal, average_fitness, average_difference_from_optimal, best_time, generations, no_dimension, pop_size, t, crossover, mutation, dmr, elite, bound, average_over_range]\n",
    "                                        list_for_df.append(result_and_configuration)\n",
    "\n",
    "    labels = [\"TestFunction\", \"OptimalMinimum\", \"BestFitness\", \"BestDiffFromOpt\", \"AverageFitness\", \"AverageDiffFromOpt\", \"TimePerRun\", \"Generations\", \"NoDimension\", \"PopSize\", \"TForTournament\", \"CrossoverPerc\", \"MutationRate\", \"DecreasingMutationRate\", \"Elite\", \"Bounds\", \"AverageOverRange\"]\n",
    "    df_II = pandas.DataFrame(data=list_for_df, columns=labels)\n",
    "    df_II.to_pickle(\"GA_df_specific.pkl\")\n",
    "else:\n",
    "    df_II = pd.read_pickle(\"GA_df_specific.pkl\")"
   ],
   "metadata": {
    "collapsed": false,
    "pycharm": {
     "name": "#%%\n"
    }
   }
  },
  {
   "cell_type": "markdown",
   "source": [
    "# Results of the 2nd Iteration"
   ],
   "metadata": {
    "collapsed": false,
    "pycharm": {
     "name": "#%% md\n"
    }
   }
  },
  {
   "cell_type": "markdown",
   "source": [
    "# F2\n",
    "### For 1st Iteration:\n",
    "- Best Diff: 312.11 -> 150 Generation / 10 Dimension / 15 Pop Size / 2 T / 100% CR / 20% MR / DMR True / 1 Elite\n",
    "    -  Error: 312.11 / 450 -> 69.36%\n",
    "- Avr. Diff: 913.20 -> 150 Generation / 10 Dimension / 15 Pop Size / 4 T / 95%  CR / 20% MR / DMR True / 1 Elite\n",
    "    - Error: 913.20 / 450 -> 202.93%\n",
    "\n",
    "### For 2nd Iteration:\n",
    "- Best Diff: 33.482 -> 1000 Generation / 10 Dimension / 20 Pop Size / 4 T / 95% CR / 20% MR / DMR True / 0 Elite\n",
    "    -  Error: 33.482 / 450 -> 7.4%\n",
    "- Avr. Diff: 113.75 -> 1000 Generation / 10 Dimension / 20 Pop Size / 4 T / 95% CR / 20% MR / DMR True / 1 Elite\n",
    "    - Error: 113.75 / 450 -> 25.27%\n",
    "\n",
    "## Conclusion for F2:\n",
    "- Significant improvement by increasing the generations from 150 -> 1000 and the population from 15 -> 20.\n",
    "- Best diff error is ~10× less\n",
    "- Avg diff error is ~8× less\n",
    "- In the 2nd iteration the best fitness was achieved by 4 as tournament size and 95% for crossover rate instead of 2 and 100%."
   ],
   "metadata": {
    "collapsed": false,
    "pycharm": {
     "name": "#%% md\n"
    }
   }
  },
  {
   "cell_type": "code",
   "execution_count": 66,
   "outputs": [
    {
     "data": {
      "text/plain": "    TestFunction  OptimalMinimum  BestFitness  BestDiffFromOpt  \\\n0             F2          -450.0  3553.283953      4003.283953   \n1             F2          -450.0  3355.970747      3805.970747   \n2             F2          -450.0  1849.765035      2299.765035   \n3             F2          -450.0   369.467035       819.467035   \n4             F2          -450.0    -5.245785       444.754215   \n..           ...             ...          ...              ...   \n139           F2          -450.0   651.537894      1101.537894   \n140           F2          -450.0    43.057849       493.057849   \n141           F2          -450.0   216.965097       666.965097   \n142           F2          -450.0   215.840259       665.840259   \n143           F2          -450.0  -236.174726       213.825274   \n\n     AverageFitness  AverageDiffFromOpt  TimePerRun  Generations  NoDimension  \\\n0      10513.100009        10963.100009    0.099280          250           10   \n1       6196.958038         6646.958038    0.173902          500           10   \n2       4120.509517         4570.509517    0.334554         1000           10   \n3       1330.410519         1780.410519    0.097897          250           10   \n4        855.020040         1305.020040    0.183190          500           10   \n..              ...                 ...         ...          ...          ...   \n139     1653.836877         2103.836877    0.419007          500           10   \n140      843.527527         1293.527527    0.848008         1000           10   \n141      630.764040         1080.764040    0.218464          250           10   \n142      647.389035         1097.389035    0.439477          500           10   \n143       29.712954          479.712954    0.885361         1000           10   \n\n     PopSize  TForTournament  CrossoverPerc  MutationRate  \\\n0         10               2           0.95           0.2   \n1         10               2           0.95           0.2   \n2         10               2           0.95           0.2   \n3         10               2           0.95           0.2   \n4         10               2           0.95           0.2   \n..       ...             ...            ...           ...   \n139       20               4           1.00           0.8   \n140       20               4           1.00           0.8   \n141       20               4           1.00           0.8   \n142       20               4           1.00           0.8   \n143       20               4           1.00           0.8   \n\n     DecreasingMutationRate  Elite       Bounds  AverageOverRange  \n0                      True      0  [-100, 100]                 5  \n1                      True      0  [-100, 100]                 5  \n2                      True      0  [-100, 100]                 5  \n3                      True      1  [-100, 100]                 5  \n4                      True      1  [-100, 100]                 5  \n..                      ...    ...          ...               ...  \n139                    True      0  [-100, 100]                 5  \n140                    True      0  [-100, 100]                 5  \n141                    True      1  [-100, 100]                 5  \n142                    True      1  [-100, 100]                 5  \n143                    True      1  [-100, 100]                 5  \n\n[144 rows x 17 columns]",
      "text/html": "<div>\n<style scoped>\n    .dataframe tbody tr th:only-of-type {\n        vertical-align: middle;\n    }\n\n    .dataframe tbody tr th {\n        vertical-align: top;\n    }\n\n    .dataframe thead th {\n        text-align: right;\n    }\n</style>\n<table border=\"1\" class=\"dataframe\">\n  <thead>\n    <tr style=\"text-align: right;\">\n      <th></th>\n      <th>TestFunction</th>\n      <th>OptimalMinimum</th>\n      <th>BestFitness</th>\n      <th>BestDiffFromOpt</th>\n      <th>AverageFitness</th>\n      <th>AverageDiffFromOpt</th>\n      <th>TimePerRun</th>\n      <th>Generations</th>\n      <th>NoDimension</th>\n      <th>PopSize</th>\n      <th>TForTournament</th>\n      <th>CrossoverPerc</th>\n      <th>MutationRate</th>\n      <th>DecreasingMutationRate</th>\n      <th>Elite</th>\n      <th>Bounds</th>\n      <th>AverageOverRange</th>\n    </tr>\n  </thead>\n  <tbody>\n    <tr>\n      <th>0</th>\n      <td>F2</td>\n      <td>-450.0</td>\n      <td>3553.283953</td>\n      <td>4003.283953</td>\n      <td>10513.100009</td>\n      <td>10963.100009</td>\n      <td>0.099280</td>\n      <td>250</td>\n      <td>10</td>\n      <td>10</td>\n      <td>2</td>\n      <td>0.95</td>\n      <td>0.2</td>\n      <td>True</td>\n      <td>0</td>\n      <td>[-100, 100]</td>\n      <td>5</td>\n    </tr>\n    <tr>\n      <th>1</th>\n      <td>F2</td>\n      <td>-450.0</td>\n      <td>3355.970747</td>\n      <td>3805.970747</td>\n      <td>6196.958038</td>\n      <td>6646.958038</td>\n      <td>0.173902</td>\n      <td>500</td>\n      <td>10</td>\n      <td>10</td>\n      <td>2</td>\n      <td>0.95</td>\n      <td>0.2</td>\n      <td>True</td>\n      <td>0</td>\n      <td>[-100, 100]</td>\n      <td>5</td>\n    </tr>\n    <tr>\n      <th>2</th>\n      <td>F2</td>\n      <td>-450.0</td>\n      <td>1849.765035</td>\n      <td>2299.765035</td>\n      <td>4120.509517</td>\n      <td>4570.509517</td>\n      <td>0.334554</td>\n      <td>1000</td>\n      <td>10</td>\n      <td>10</td>\n      <td>2</td>\n      <td>0.95</td>\n      <td>0.2</td>\n      <td>True</td>\n      <td>0</td>\n      <td>[-100, 100]</td>\n      <td>5</td>\n    </tr>\n    <tr>\n      <th>3</th>\n      <td>F2</td>\n      <td>-450.0</td>\n      <td>369.467035</td>\n      <td>819.467035</td>\n      <td>1330.410519</td>\n      <td>1780.410519</td>\n      <td>0.097897</td>\n      <td>250</td>\n      <td>10</td>\n      <td>10</td>\n      <td>2</td>\n      <td>0.95</td>\n      <td>0.2</td>\n      <td>True</td>\n      <td>1</td>\n      <td>[-100, 100]</td>\n      <td>5</td>\n    </tr>\n    <tr>\n      <th>4</th>\n      <td>F2</td>\n      <td>-450.0</td>\n      <td>-5.245785</td>\n      <td>444.754215</td>\n      <td>855.020040</td>\n      <td>1305.020040</td>\n      <td>0.183190</td>\n      <td>500</td>\n      <td>10</td>\n      <td>10</td>\n      <td>2</td>\n      <td>0.95</td>\n      <td>0.2</td>\n      <td>True</td>\n      <td>1</td>\n      <td>[-100, 100]</td>\n      <td>5</td>\n    </tr>\n    <tr>\n      <th>...</th>\n      <td>...</td>\n      <td>...</td>\n      <td>...</td>\n      <td>...</td>\n      <td>...</td>\n      <td>...</td>\n      <td>...</td>\n      <td>...</td>\n      <td>...</td>\n      <td>...</td>\n      <td>...</td>\n      <td>...</td>\n      <td>...</td>\n      <td>...</td>\n      <td>...</td>\n      <td>...</td>\n      <td>...</td>\n    </tr>\n    <tr>\n      <th>139</th>\n      <td>F2</td>\n      <td>-450.0</td>\n      <td>651.537894</td>\n      <td>1101.537894</td>\n      <td>1653.836877</td>\n      <td>2103.836877</td>\n      <td>0.419007</td>\n      <td>500</td>\n      <td>10</td>\n      <td>20</td>\n      <td>4</td>\n      <td>1.00</td>\n      <td>0.8</td>\n      <td>True</td>\n      <td>0</td>\n      <td>[-100, 100]</td>\n      <td>5</td>\n    </tr>\n    <tr>\n      <th>140</th>\n      <td>F2</td>\n      <td>-450.0</td>\n      <td>43.057849</td>\n      <td>493.057849</td>\n      <td>843.527527</td>\n      <td>1293.527527</td>\n      <td>0.848008</td>\n      <td>1000</td>\n      <td>10</td>\n      <td>20</td>\n      <td>4</td>\n      <td>1.00</td>\n      <td>0.8</td>\n      <td>True</td>\n      <td>0</td>\n      <td>[-100, 100]</td>\n      <td>5</td>\n    </tr>\n    <tr>\n      <th>141</th>\n      <td>F2</td>\n      <td>-450.0</td>\n      <td>216.965097</td>\n      <td>666.965097</td>\n      <td>630.764040</td>\n      <td>1080.764040</td>\n      <td>0.218464</td>\n      <td>250</td>\n      <td>10</td>\n      <td>20</td>\n      <td>4</td>\n      <td>1.00</td>\n      <td>0.8</td>\n      <td>True</td>\n      <td>1</td>\n      <td>[-100, 100]</td>\n      <td>5</td>\n    </tr>\n    <tr>\n      <th>142</th>\n      <td>F2</td>\n      <td>-450.0</td>\n      <td>215.840259</td>\n      <td>665.840259</td>\n      <td>647.389035</td>\n      <td>1097.389035</td>\n      <td>0.439477</td>\n      <td>500</td>\n      <td>10</td>\n      <td>20</td>\n      <td>4</td>\n      <td>1.00</td>\n      <td>0.8</td>\n      <td>True</td>\n      <td>1</td>\n      <td>[-100, 100]</td>\n      <td>5</td>\n    </tr>\n    <tr>\n      <th>143</th>\n      <td>F2</td>\n      <td>-450.0</td>\n      <td>-236.174726</td>\n      <td>213.825274</td>\n      <td>29.712954</td>\n      <td>479.712954</td>\n      <td>0.885361</td>\n      <td>1000</td>\n      <td>10</td>\n      <td>20</td>\n      <td>4</td>\n      <td>1.00</td>\n      <td>0.8</td>\n      <td>True</td>\n      <td>1</td>\n      <td>[-100, 100]</td>\n      <td>5</td>\n    </tr>\n  </tbody>\n</table>\n<p>144 rows × 17 columns</p>\n</div>"
     },
     "execution_count": 66,
     "metadata": {},
     "output_type": "execute_result"
    }
   ],
   "source": [
    "df_II.query(\"TestFunction == 'F2'\")"
   ],
   "metadata": {
    "collapsed": false,
    "pycharm": {
     "name": "#%%\n"
    }
   }
  },
  {
   "cell_type": "markdown",
   "source": [
    "# F4\n",
    "### For 1st Iteration\n",
    "- Best Diff: 459.44 -> 150 Generation / 10 Dimension / 15 Pop Size / 4 T / 95% CR / 20% MR / DMR False / 1 Elite\n",
    "    - Error: 459.44 / 450 ->  102.09%\n",
    "- Avr. Diff: 1841.4 -> 150 Generation / 10 Dimension / 15 Pop Size / 2 T / 95%  CR / 20% MR / DMR True / 1 Elite\n",
    "    - Error: 1841.4 / 450 ->  409.2%\n",
    "\n",
    "### For 2nd Iteration:\n",
    "- Best Diff: 56.65 -> 500 Generation / 10 Dimension / 15 Pop Size / 4 T / 95% CR / 20% MR / DMR True / 1 Elite\n",
    "    - Error: 56.65 / 450 -> 12.58%\n",
    "- Avr. Diff: 190.78 -> 1000 Generation / 10 Dimension / 20 Pop Size / 4 T / 100% CR / 20% MR / DMR True / 1 Elite\n",
    "    - Error: 190.78 / 450 -> 42.39%\n",
    "\n",
    "## Conclusion for F4:\n",
    "- Significant change by increasing the generation.\n",
    "- The best fitness was achieved with 500 generation instead of 1000 and the population size was same for both iterations.\n",
    "- The best fitness parameters didn't change much. Decreasing MR was used and the generation was increased from 150 to 500. However, for the average fitness the parameters changed. Higher population (20), generation (1000), tournament size (4) and crossover rate (100%) was used."
   ],
   "metadata": {
    "collapsed": false,
    "pycharm": {
     "name": "#%% md\n"
    }
   }
  },
  {
   "cell_type": "code",
   "execution_count": 59,
   "outputs": [
    {
     "data": {
      "text/plain": "    TestFunction  OptimalMinimum  BestFitness  BestDiffFromOpt  \\\n144           F4          -450.0  5466.510035      5916.510035   \n145           F4          -450.0  2410.322413      2860.322413   \n146           F4          -450.0  1527.051754      1977.051754   \n147           F4          -450.0   255.286860       705.286860   \n148           F4          -450.0   326.773764       776.773764   \n..           ...             ...          ...              ...   \n283           F4          -450.0  1038.801267      1488.801267   \n284           F4          -450.0  -292.184969       157.815031   \n285           F4          -450.0   171.422477       621.422477   \n286           F4          -450.0  -270.407459       179.592541   \n287           F4          -450.0  -349.955701       100.044299   \n\n     AverageFitness  AverageDiffFromOpt  TimePerRun  Generations  NoDimension  \\\n144    10096.430857        10546.430857    0.088707          250           10   \n145     5507.949389         5957.949389    0.178253          500           10   \n146     3311.220261         3761.220261    0.371345         1000           10   \n147     1985.977053         2435.977053    0.094318          250           10   \n148     1059.221200         1509.221200    0.192249          500           10   \n..              ...                 ...         ...          ...          ...   \n283     2028.070794         2478.070794    0.447136          500           10   \n284     1072.513053         1522.513053    0.890534         1000           10   \n285     1092.690191         1542.690191    0.230837          250           10   \n286      412.955613          862.955613    0.456779          500           10   \n287     -130.511791          319.488209    0.918671         1000           10   \n\n     PopSize  TForTournament  CrossoverPerc  MutationRate  \\\n144       10               2           0.95           0.2   \n145       10               2           0.95           0.2   \n146       10               2           0.95           0.2   \n147       10               2           0.95           0.2   \n148       10               2           0.95           0.2   \n..       ...             ...            ...           ...   \n283       20               4           1.00           0.8   \n284       20               4           1.00           0.8   \n285       20               4           1.00           0.8   \n286       20               4           1.00           0.8   \n287       20               4           1.00           0.8   \n\n     DecreasingMutationRate  Elite       Bounds  AverageOverRange  \n144                    True      0  [-100, 100]                 5  \n145                    True      0  [-100, 100]                 5  \n146                    True      0  [-100, 100]                 5  \n147                    True      1  [-100, 100]                 5  \n148                    True      1  [-100, 100]                 5  \n..                      ...    ...          ...               ...  \n283                    True      0  [-100, 100]                 5  \n284                    True      0  [-100, 100]                 5  \n285                    True      1  [-100, 100]                 5  \n286                    True      1  [-100, 100]                 5  \n287                    True      1  [-100, 100]                 5  \n\n[144 rows x 17 columns]",
      "text/html": "<div>\n<style scoped>\n    .dataframe tbody tr th:only-of-type {\n        vertical-align: middle;\n    }\n\n    .dataframe tbody tr th {\n        vertical-align: top;\n    }\n\n    .dataframe thead th {\n        text-align: right;\n    }\n</style>\n<table border=\"1\" class=\"dataframe\">\n  <thead>\n    <tr style=\"text-align: right;\">\n      <th></th>\n      <th>TestFunction</th>\n      <th>OptimalMinimum</th>\n      <th>BestFitness</th>\n      <th>BestDiffFromOpt</th>\n      <th>AverageFitness</th>\n      <th>AverageDiffFromOpt</th>\n      <th>TimePerRun</th>\n      <th>Generations</th>\n      <th>NoDimension</th>\n      <th>PopSize</th>\n      <th>TForTournament</th>\n      <th>CrossoverPerc</th>\n      <th>MutationRate</th>\n      <th>DecreasingMutationRate</th>\n      <th>Elite</th>\n      <th>Bounds</th>\n      <th>AverageOverRange</th>\n    </tr>\n  </thead>\n  <tbody>\n    <tr>\n      <th>144</th>\n      <td>F4</td>\n      <td>-450.0</td>\n      <td>5466.510035</td>\n      <td>5916.510035</td>\n      <td>10096.430857</td>\n      <td>10546.430857</td>\n      <td>0.088707</td>\n      <td>250</td>\n      <td>10</td>\n      <td>10</td>\n      <td>2</td>\n      <td>0.95</td>\n      <td>0.2</td>\n      <td>True</td>\n      <td>0</td>\n      <td>[-100, 100]</td>\n      <td>5</td>\n    </tr>\n    <tr>\n      <th>145</th>\n      <td>F4</td>\n      <td>-450.0</td>\n      <td>2410.322413</td>\n      <td>2860.322413</td>\n      <td>5507.949389</td>\n      <td>5957.949389</td>\n      <td>0.178253</td>\n      <td>500</td>\n      <td>10</td>\n      <td>10</td>\n      <td>2</td>\n      <td>0.95</td>\n      <td>0.2</td>\n      <td>True</td>\n      <td>0</td>\n      <td>[-100, 100]</td>\n      <td>5</td>\n    </tr>\n    <tr>\n      <th>146</th>\n      <td>F4</td>\n      <td>-450.0</td>\n      <td>1527.051754</td>\n      <td>1977.051754</td>\n      <td>3311.220261</td>\n      <td>3761.220261</td>\n      <td>0.371345</td>\n      <td>1000</td>\n      <td>10</td>\n      <td>10</td>\n      <td>2</td>\n      <td>0.95</td>\n      <td>0.2</td>\n      <td>True</td>\n      <td>0</td>\n      <td>[-100, 100]</td>\n      <td>5</td>\n    </tr>\n    <tr>\n      <th>147</th>\n      <td>F4</td>\n      <td>-450.0</td>\n      <td>255.286860</td>\n      <td>705.286860</td>\n      <td>1985.977053</td>\n      <td>2435.977053</td>\n      <td>0.094318</td>\n      <td>250</td>\n      <td>10</td>\n      <td>10</td>\n      <td>2</td>\n      <td>0.95</td>\n      <td>0.2</td>\n      <td>True</td>\n      <td>1</td>\n      <td>[-100, 100]</td>\n      <td>5</td>\n    </tr>\n    <tr>\n      <th>148</th>\n      <td>F4</td>\n      <td>-450.0</td>\n      <td>326.773764</td>\n      <td>776.773764</td>\n      <td>1059.221200</td>\n      <td>1509.221200</td>\n      <td>0.192249</td>\n      <td>500</td>\n      <td>10</td>\n      <td>10</td>\n      <td>2</td>\n      <td>0.95</td>\n      <td>0.2</td>\n      <td>True</td>\n      <td>1</td>\n      <td>[-100, 100]</td>\n      <td>5</td>\n    </tr>\n    <tr>\n      <th>...</th>\n      <td>...</td>\n      <td>...</td>\n      <td>...</td>\n      <td>...</td>\n      <td>...</td>\n      <td>...</td>\n      <td>...</td>\n      <td>...</td>\n      <td>...</td>\n      <td>...</td>\n      <td>...</td>\n      <td>...</td>\n      <td>...</td>\n      <td>...</td>\n      <td>...</td>\n      <td>...</td>\n      <td>...</td>\n    </tr>\n    <tr>\n      <th>283</th>\n      <td>F4</td>\n      <td>-450.0</td>\n      <td>1038.801267</td>\n      <td>1488.801267</td>\n      <td>2028.070794</td>\n      <td>2478.070794</td>\n      <td>0.447136</td>\n      <td>500</td>\n      <td>10</td>\n      <td>20</td>\n      <td>4</td>\n      <td>1.00</td>\n      <td>0.8</td>\n      <td>True</td>\n      <td>0</td>\n      <td>[-100, 100]</td>\n      <td>5</td>\n    </tr>\n    <tr>\n      <th>284</th>\n      <td>F4</td>\n      <td>-450.0</td>\n      <td>-292.184969</td>\n      <td>157.815031</td>\n      <td>1072.513053</td>\n      <td>1522.513053</td>\n      <td>0.890534</td>\n      <td>1000</td>\n      <td>10</td>\n      <td>20</td>\n      <td>4</td>\n      <td>1.00</td>\n      <td>0.8</td>\n      <td>True</td>\n      <td>0</td>\n      <td>[-100, 100]</td>\n      <td>5</td>\n    </tr>\n    <tr>\n      <th>285</th>\n      <td>F4</td>\n      <td>-450.0</td>\n      <td>171.422477</td>\n      <td>621.422477</td>\n      <td>1092.690191</td>\n      <td>1542.690191</td>\n      <td>0.230837</td>\n      <td>250</td>\n      <td>10</td>\n      <td>20</td>\n      <td>4</td>\n      <td>1.00</td>\n      <td>0.8</td>\n      <td>True</td>\n      <td>1</td>\n      <td>[-100, 100]</td>\n      <td>5</td>\n    </tr>\n    <tr>\n      <th>286</th>\n      <td>F4</td>\n      <td>-450.0</td>\n      <td>-270.407459</td>\n      <td>179.592541</td>\n      <td>412.955613</td>\n      <td>862.955613</td>\n      <td>0.456779</td>\n      <td>500</td>\n      <td>10</td>\n      <td>20</td>\n      <td>4</td>\n      <td>1.00</td>\n      <td>0.8</td>\n      <td>True</td>\n      <td>1</td>\n      <td>[-100, 100]</td>\n      <td>5</td>\n    </tr>\n    <tr>\n      <th>287</th>\n      <td>F4</td>\n      <td>-450.0</td>\n      <td>-349.955701</td>\n      <td>100.044299</td>\n      <td>-130.511791</td>\n      <td>319.488209</td>\n      <td>0.918671</td>\n      <td>1000</td>\n      <td>10</td>\n      <td>20</td>\n      <td>4</td>\n      <td>1.00</td>\n      <td>0.8</td>\n      <td>True</td>\n      <td>1</td>\n      <td>[-100, 100]</td>\n      <td>5</td>\n    </tr>\n  </tbody>\n</table>\n<p>144 rows × 17 columns</p>\n</div>"
     },
     "execution_count": 59,
     "metadata": {},
     "output_type": "execute_result"
    }
   ],
   "source": [
    "df_II.query(\"TestFunction == 'F4'\")"
   ],
   "metadata": {
    "collapsed": false,
    "pycharm": {
     "name": "#%%\n"
    }
   }
  },
  {
   "cell_type": "code",
   "execution_count": 60,
   "outputs": [
    {
     "data": {
      "text/plain": "    TestFunction  OptimalMinimum  BestFitness  BestDiffFromOpt  \\\n288           F8          -140.0  -118.968130        21.031870   \n289           F8          -140.0  -119.185708        20.814292   \n290           F8          -140.0  -119.033946        20.966054   \n291           F8          -140.0  -119.338976        20.661024   \n292           F8          -140.0  -119.498635        20.501365   \n..           ...             ...          ...              ...   \n427           F8          -140.0  -119.153839        20.846161   \n428           F8          -140.0  -119.413861        20.586139   \n429           F8          -140.0  -119.408291        20.591709   \n430           F8          -140.0  -119.603558        20.396442   \n431           F8          -140.0  -119.529505        20.470495   \n\n     AverageFitness  AverageDiffFromOpt  TimePerRun  Generations  NoDimension  \\\n288     -118.857024           21.142976    0.114117          250           10   \n289     -119.029558           20.970442    0.210737          500           10   \n290     -118.975702           21.024298    0.422029         1000           10   \n291     -119.256871           20.743129    0.109634          250           10   \n292     -119.373761           20.626239    0.222074          500           10   \n..              ...                 ...         ...          ...          ...   \n427     -119.093613           20.906387    0.506419          500           10   \n428     -119.317191           20.682809    1.023721         1000           10   \n429     -119.360298           20.639702    0.258451          250           10   \n430     -119.500387           20.499613    0.519927          500           10   \n431     -119.502021           20.497979    1.122171         1000           10   \n\n     PopSize  TForTournament  CrossoverPerc  MutationRate  \\\n288       10               2           0.95           0.2   \n289       10               2           0.95           0.2   \n290       10               2           0.95           0.2   \n291       10               2           0.95           0.2   \n292       10               2           0.95           0.2   \n..       ...             ...            ...           ...   \n427       20               4           1.00           0.8   \n428       20               4           1.00           0.8   \n429       20               4           1.00           0.8   \n430       20               4           1.00           0.8   \n431       20               4           1.00           0.8   \n\n     DecreasingMutationRate  Elite     Bounds  AverageOverRange  \n288                    True      0  [-32, 32]                 5  \n289                    True      0  [-32, 32]                 5  \n290                    True      0  [-32, 32]                 5  \n291                    True      1  [-32, 32]                 5  \n292                    True      1  [-32, 32]                 5  \n..                      ...    ...        ...               ...  \n427                    True      0  [-32, 32]                 5  \n428                    True      0  [-32, 32]                 5  \n429                    True      1  [-32, 32]                 5  \n430                    True      1  [-32, 32]                 5  \n431                    True      1  [-32, 32]                 5  \n\n[144 rows x 17 columns]",
      "text/html": "<div>\n<style scoped>\n    .dataframe tbody tr th:only-of-type {\n        vertical-align: middle;\n    }\n\n    .dataframe tbody tr th {\n        vertical-align: top;\n    }\n\n    .dataframe thead th {\n        text-align: right;\n    }\n</style>\n<table border=\"1\" class=\"dataframe\">\n  <thead>\n    <tr style=\"text-align: right;\">\n      <th></th>\n      <th>TestFunction</th>\n      <th>OptimalMinimum</th>\n      <th>BestFitness</th>\n      <th>BestDiffFromOpt</th>\n      <th>AverageFitness</th>\n      <th>AverageDiffFromOpt</th>\n      <th>TimePerRun</th>\n      <th>Generations</th>\n      <th>NoDimension</th>\n      <th>PopSize</th>\n      <th>TForTournament</th>\n      <th>CrossoverPerc</th>\n      <th>MutationRate</th>\n      <th>DecreasingMutationRate</th>\n      <th>Elite</th>\n      <th>Bounds</th>\n      <th>AverageOverRange</th>\n    </tr>\n  </thead>\n  <tbody>\n    <tr>\n      <th>288</th>\n      <td>F8</td>\n      <td>-140.0</td>\n      <td>-118.968130</td>\n      <td>21.031870</td>\n      <td>-118.857024</td>\n      <td>21.142976</td>\n      <td>0.114117</td>\n      <td>250</td>\n      <td>10</td>\n      <td>10</td>\n      <td>2</td>\n      <td>0.95</td>\n      <td>0.2</td>\n      <td>True</td>\n      <td>0</td>\n      <td>[-32, 32]</td>\n      <td>5</td>\n    </tr>\n    <tr>\n      <th>289</th>\n      <td>F8</td>\n      <td>-140.0</td>\n      <td>-119.185708</td>\n      <td>20.814292</td>\n      <td>-119.029558</td>\n      <td>20.970442</td>\n      <td>0.210737</td>\n      <td>500</td>\n      <td>10</td>\n      <td>10</td>\n      <td>2</td>\n      <td>0.95</td>\n      <td>0.2</td>\n      <td>True</td>\n      <td>0</td>\n      <td>[-32, 32]</td>\n      <td>5</td>\n    </tr>\n    <tr>\n      <th>290</th>\n      <td>F8</td>\n      <td>-140.0</td>\n      <td>-119.033946</td>\n      <td>20.966054</td>\n      <td>-118.975702</td>\n      <td>21.024298</td>\n      <td>0.422029</td>\n      <td>1000</td>\n      <td>10</td>\n      <td>10</td>\n      <td>2</td>\n      <td>0.95</td>\n      <td>0.2</td>\n      <td>True</td>\n      <td>0</td>\n      <td>[-32, 32]</td>\n      <td>5</td>\n    </tr>\n    <tr>\n      <th>291</th>\n      <td>F8</td>\n      <td>-140.0</td>\n      <td>-119.338976</td>\n      <td>20.661024</td>\n      <td>-119.256871</td>\n      <td>20.743129</td>\n      <td>0.109634</td>\n      <td>250</td>\n      <td>10</td>\n      <td>10</td>\n      <td>2</td>\n      <td>0.95</td>\n      <td>0.2</td>\n      <td>True</td>\n      <td>1</td>\n      <td>[-32, 32]</td>\n      <td>5</td>\n    </tr>\n    <tr>\n      <th>292</th>\n      <td>F8</td>\n      <td>-140.0</td>\n      <td>-119.498635</td>\n      <td>20.501365</td>\n      <td>-119.373761</td>\n      <td>20.626239</td>\n      <td>0.222074</td>\n      <td>500</td>\n      <td>10</td>\n      <td>10</td>\n      <td>2</td>\n      <td>0.95</td>\n      <td>0.2</td>\n      <td>True</td>\n      <td>1</td>\n      <td>[-32, 32]</td>\n      <td>5</td>\n    </tr>\n    <tr>\n      <th>...</th>\n      <td>...</td>\n      <td>...</td>\n      <td>...</td>\n      <td>...</td>\n      <td>...</td>\n      <td>...</td>\n      <td>...</td>\n      <td>...</td>\n      <td>...</td>\n      <td>...</td>\n      <td>...</td>\n      <td>...</td>\n      <td>...</td>\n      <td>...</td>\n      <td>...</td>\n      <td>...</td>\n      <td>...</td>\n    </tr>\n    <tr>\n      <th>427</th>\n      <td>F8</td>\n      <td>-140.0</td>\n      <td>-119.153839</td>\n      <td>20.846161</td>\n      <td>-119.093613</td>\n      <td>20.906387</td>\n      <td>0.506419</td>\n      <td>500</td>\n      <td>10</td>\n      <td>20</td>\n      <td>4</td>\n      <td>1.00</td>\n      <td>0.8</td>\n      <td>True</td>\n      <td>0</td>\n      <td>[-32, 32]</td>\n      <td>5</td>\n    </tr>\n    <tr>\n      <th>428</th>\n      <td>F8</td>\n      <td>-140.0</td>\n      <td>-119.413861</td>\n      <td>20.586139</td>\n      <td>-119.317191</td>\n      <td>20.682809</td>\n      <td>1.023721</td>\n      <td>1000</td>\n      <td>10</td>\n      <td>20</td>\n      <td>4</td>\n      <td>1.00</td>\n      <td>0.8</td>\n      <td>True</td>\n      <td>0</td>\n      <td>[-32, 32]</td>\n      <td>5</td>\n    </tr>\n    <tr>\n      <th>429</th>\n      <td>F8</td>\n      <td>-140.0</td>\n      <td>-119.408291</td>\n      <td>20.591709</td>\n      <td>-119.360298</td>\n      <td>20.639702</td>\n      <td>0.258451</td>\n      <td>250</td>\n      <td>10</td>\n      <td>20</td>\n      <td>4</td>\n      <td>1.00</td>\n      <td>0.8</td>\n      <td>True</td>\n      <td>1</td>\n      <td>[-32, 32]</td>\n      <td>5</td>\n    </tr>\n    <tr>\n      <th>430</th>\n      <td>F8</td>\n      <td>-140.0</td>\n      <td>-119.603558</td>\n      <td>20.396442</td>\n      <td>-119.500387</td>\n      <td>20.499613</td>\n      <td>0.519927</td>\n      <td>500</td>\n      <td>10</td>\n      <td>20</td>\n      <td>4</td>\n      <td>1.00</td>\n      <td>0.8</td>\n      <td>True</td>\n      <td>1</td>\n      <td>[-32, 32]</td>\n      <td>5</td>\n    </tr>\n    <tr>\n      <th>431</th>\n      <td>F8</td>\n      <td>-140.0</td>\n      <td>-119.529505</td>\n      <td>20.470495</td>\n      <td>-119.502021</td>\n      <td>20.497979</td>\n      <td>1.122171</td>\n      <td>1000</td>\n      <td>10</td>\n      <td>20</td>\n      <td>4</td>\n      <td>1.00</td>\n      <td>0.8</td>\n      <td>True</td>\n      <td>1</td>\n      <td>[-32, 32]</td>\n      <td>5</td>\n    </tr>\n  </tbody>\n</table>\n<p>144 rows × 17 columns</p>\n</div>"
     },
     "execution_count": 60,
     "metadata": {},
     "output_type": "execute_result"
    }
   ],
   "source": [
    "df_II.query(\"TestFunction == 'F8'\")"
   ],
   "metadata": {
    "collapsed": false,
    "pycharm": {
     "name": "#%%\n"
    }
   }
  },
  {
   "cell_type": "code",
   "execution_count": 61,
   "outputs": [
    {
     "data": {
      "text/plain": "    TestFunction  OptimalMinimum  BestFitness  BestDiffFromOpt  \\\n432          F13          -130.0  -126.943426         3.056574   \n433          F13          -130.0  -128.085228         1.914772   \n434          F13          -130.0  -127.980574         2.019426   \n435          F13          -130.0  -128.705467         1.294533   \n436          F13          -130.0  -129.053033         0.946967   \n..           ...             ...          ...              ...   \n571          F13          -130.0  -128.483333         1.516667   \n572          F13          -130.0  -128.965239         1.034761   \n573          F13          -130.0  -128.494934         1.505066   \n574          F13          -130.0  -128.648579         1.351421   \n575          F13          -130.0  -129.173028         0.826972   \n\n     AverageFitness  AverageDiffFromOpt  TimePerRun  Generations  NoDimension  \\\n432     -124.507586            5.492414    0.138476          250           10   \n433     -126.321452            3.678548    0.279909          500           10   \n434     -126.913084            3.086916    0.579804         1000           10   \n435     -127.684387            2.315613    0.144806          250           10   \n436     -128.648096            1.351904    0.289962          500           10   \n..              ...                 ...         ...          ...          ...   \n571     -126.959070            3.040930    0.681661          500           10   \n572     -128.415565            1.584435    1.372176         1000           10   \n573     -127.519317            2.480683    0.334248          250           10   \n574     -128.374870            1.625130    0.679362          500           10   \n575     -128.957316            1.042684    1.401727         1000           10   \n\n     PopSize  TForTournament  CrossoverPerc  MutationRate  \\\n432       10               2           0.95           0.2   \n433       10               2           0.95           0.2   \n434       10               2           0.95           0.2   \n435       10               2           0.95           0.2   \n436       10               2           0.95           0.2   \n..       ...             ...            ...           ...   \n571       20               4           1.00           0.8   \n572       20               4           1.00           0.8   \n573       20               4           1.00           0.8   \n574       20               4           1.00           0.8   \n575       20               4           1.00           0.8   \n\n     DecreasingMutationRate  Elite   Bounds  AverageOverRange  \n432                    True      0  [-3, 1]                 5  \n433                    True      0  [-3, 1]                 5  \n434                    True      0  [-3, 1]                 5  \n435                    True      1  [-3, 1]                 5  \n436                    True      1  [-3, 1]                 5  \n..                      ...    ...      ...               ...  \n571                    True      0  [-3, 1]                 5  \n572                    True      0  [-3, 1]                 5  \n573                    True      1  [-3, 1]                 5  \n574                    True      1  [-3, 1]                 5  \n575                    True      1  [-3, 1]                 5  \n\n[144 rows x 17 columns]",
      "text/html": "<div>\n<style scoped>\n    .dataframe tbody tr th:only-of-type {\n        vertical-align: middle;\n    }\n\n    .dataframe tbody tr th {\n        vertical-align: top;\n    }\n\n    .dataframe thead th {\n        text-align: right;\n    }\n</style>\n<table border=\"1\" class=\"dataframe\">\n  <thead>\n    <tr style=\"text-align: right;\">\n      <th></th>\n      <th>TestFunction</th>\n      <th>OptimalMinimum</th>\n      <th>BestFitness</th>\n      <th>BestDiffFromOpt</th>\n      <th>AverageFitness</th>\n      <th>AverageDiffFromOpt</th>\n      <th>TimePerRun</th>\n      <th>Generations</th>\n      <th>NoDimension</th>\n      <th>PopSize</th>\n      <th>TForTournament</th>\n      <th>CrossoverPerc</th>\n      <th>MutationRate</th>\n      <th>DecreasingMutationRate</th>\n      <th>Elite</th>\n      <th>Bounds</th>\n      <th>AverageOverRange</th>\n    </tr>\n  </thead>\n  <tbody>\n    <tr>\n      <th>432</th>\n      <td>F13</td>\n      <td>-130.0</td>\n      <td>-126.943426</td>\n      <td>3.056574</td>\n      <td>-124.507586</td>\n      <td>5.492414</td>\n      <td>0.138476</td>\n      <td>250</td>\n      <td>10</td>\n      <td>10</td>\n      <td>2</td>\n      <td>0.95</td>\n      <td>0.2</td>\n      <td>True</td>\n      <td>0</td>\n      <td>[-3, 1]</td>\n      <td>5</td>\n    </tr>\n    <tr>\n      <th>433</th>\n      <td>F13</td>\n      <td>-130.0</td>\n      <td>-128.085228</td>\n      <td>1.914772</td>\n      <td>-126.321452</td>\n      <td>3.678548</td>\n      <td>0.279909</td>\n      <td>500</td>\n      <td>10</td>\n      <td>10</td>\n      <td>2</td>\n      <td>0.95</td>\n      <td>0.2</td>\n      <td>True</td>\n      <td>0</td>\n      <td>[-3, 1]</td>\n      <td>5</td>\n    </tr>\n    <tr>\n      <th>434</th>\n      <td>F13</td>\n      <td>-130.0</td>\n      <td>-127.980574</td>\n      <td>2.019426</td>\n      <td>-126.913084</td>\n      <td>3.086916</td>\n      <td>0.579804</td>\n      <td>1000</td>\n      <td>10</td>\n      <td>10</td>\n      <td>2</td>\n      <td>0.95</td>\n      <td>0.2</td>\n      <td>True</td>\n      <td>0</td>\n      <td>[-3, 1]</td>\n      <td>5</td>\n    </tr>\n    <tr>\n      <th>435</th>\n      <td>F13</td>\n      <td>-130.0</td>\n      <td>-128.705467</td>\n      <td>1.294533</td>\n      <td>-127.684387</td>\n      <td>2.315613</td>\n      <td>0.144806</td>\n      <td>250</td>\n      <td>10</td>\n      <td>10</td>\n      <td>2</td>\n      <td>0.95</td>\n      <td>0.2</td>\n      <td>True</td>\n      <td>1</td>\n      <td>[-3, 1]</td>\n      <td>5</td>\n    </tr>\n    <tr>\n      <th>436</th>\n      <td>F13</td>\n      <td>-130.0</td>\n      <td>-129.053033</td>\n      <td>0.946967</td>\n      <td>-128.648096</td>\n      <td>1.351904</td>\n      <td>0.289962</td>\n      <td>500</td>\n      <td>10</td>\n      <td>10</td>\n      <td>2</td>\n      <td>0.95</td>\n      <td>0.2</td>\n      <td>True</td>\n      <td>1</td>\n      <td>[-3, 1]</td>\n      <td>5</td>\n    </tr>\n    <tr>\n      <th>...</th>\n      <td>...</td>\n      <td>...</td>\n      <td>...</td>\n      <td>...</td>\n      <td>...</td>\n      <td>...</td>\n      <td>...</td>\n      <td>...</td>\n      <td>...</td>\n      <td>...</td>\n      <td>...</td>\n      <td>...</td>\n      <td>...</td>\n      <td>...</td>\n      <td>...</td>\n      <td>...</td>\n      <td>...</td>\n    </tr>\n    <tr>\n      <th>571</th>\n      <td>F13</td>\n      <td>-130.0</td>\n      <td>-128.483333</td>\n      <td>1.516667</td>\n      <td>-126.959070</td>\n      <td>3.040930</td>\n      <td>0.681661</td>\n      <td>500</td>\n      <td>10</td>\n      <td>20</td>\n      <td>4</td>\n      <td>1.00</td>\n      <td>0.8</td>\n      <td>True</td>\n      <td>0</td>\n      <td>[-3, 1]</td>\n      <td>5</td>\n    </tr>\n    <tr>\n      <th>572</th>\n      <td>F13</td>\n      <td>-130.0</td>\n      <td>-128.965239</td>\n      <td>1.034761</td>\n      <td>-128.415565</td>\n      <td>1.584435</td>\n      <td>1.372176</td>\n      <td>1000</td>\n      <td>10</td>\n      <td>20</td>\n      <td>4</td>\n      <td>1.00</td>\n      <td>0.8</td>\n      <td>True</td>\n      <td>0</td>\n      <td>[-3, 1]</td>\n      <td>5</td>\n    </tr>\n    <tr>\n      <th>573</th>\n      <td>F13</td>\n      <td>-130.0</td>\n      <td>-128.494934</td>\n      <td>1.505066</td>\n      <td>-127.519317</td>\n      <td>2.480683</td>\n      <td>0.334248</td>\n      <td>250</td>\n      <td>10</td>\n      <td>20</td>\n      <td>4</td>\n      <td>1.00</td>\n      <td>0.8</td>\n      <td>True</td>\n      <td>1</td>\n      <td>[-3, 1]</td>\n      <td>5</td>\n    </tr>\n    <tr>\n      <th>574</th>\n      <td>F13</td>\n      <td>-130.0</td>\n      <td>-128.648579</td>\n      <td>1.351421</td>\n      <td>-128.374870</td>\n      <td>1.625130</td>\n      <td>0.679362</td>\n      <td>500</td>\n      <td>10</td>\n      <td>20</td>\n      <td>4</td>\n      <td>1.00</td>\n      <td>0.8</td>\n      <td>True</td>\n      <td>1</td>\n      <td>[-3, 1]</td>\n      <td>5</td>\n    </tr>\n    <tr>\n      <th>575</th>\n      <td>F13</td>\n      <td>-130.0</td>\n      <td>-129.173028</td>\n      <td>0.826972</td>\n      <td>-128.957316</td>\n      <td>1.042684</td>\n      <td>1.401727</td>\n      <td>1000</td>\n      <td>10</td>\n      <td>20</td>\n      <td>4</td>\n      <td>1.00</td>\n      <td>0.8</td>\n      <td>True</td>\n      <td>1</td>\n      <td>[-3, 1]</td>\n      <td>5</td>\n    </tr>\n  </tbody>\n</table>\n<p>144 rows × 17 columns</p>\n</div>"
     },
     "execution_count": 61,
     "metadata": {},
     "output_type": "execute_result"
    }
   ],
   "source": [
    "df_II.query(\"TestFunction == 'F13'\")"
   ],
   "metadata": {
    "collapsed": false,
    "pycharm": {
     "name": "#%%\n"
    }
   }
  },
  {
   "cell_type": "code",
   "execution_count": 62,
   "outputs": [
    {
     "data": {
      "text/plain": "    TestFunction  OptimalMinimum  BestFitness  BestDiffFromOpt  \\\n576          F17           120.0   371.916036       251.916036   \n577          F17           120.0   413.938939       293.938939   \n578          F17           120.0   364.981052       244.981052   \n579          F17           120.0   351.178913       231.178913   \n580          F17           120.0   373.734621       253.734621   \n..           ...             ...          ...              ...   \n715          F17           120.0   280.068122       160.068122   \n716          F17           120.0   325.023540       205.023540   \n717          F17           120.0   350.001728       230.001728   \n718          F17           120.0   303.276890       183.276890   \n719          F17           120.0   282.861125       162.861125   \n\n     AverageFitness  AverageDiffFromOpt  TimePerRun  Generations  NoDimension  \\\n576      425.477220          305.477220    1.087346          250           10   \n577      436.805606          316.805606    2.141470          500           10   \n578      380.661387          260.661387    4.319710         1000           10   \n579      378.818352          258.818352    1.050830          250           10   \n580      406.427029          286.427029    2.155800          500           10   \n..              ...                 ...         ...          ...          ...   \n715      347.955552          227.955552    4.757954          500           10   \n716      353.633431          233.633431    9.791381         1000           10   \n717      367.151403          247.151403    2.336803          250           10   \n718      336.273628          216.273628    4.840253          500           10   \n719      325.350139          205.350139    9.707718         1000           10   \n\n     PopSize  TForTournament  CrossoverPerc  MutationRate  \\\n576       10               2           0.95           0.2   \n577       10               2           0.95           0.2   \n578       10               2           0.95           0.2   \n579       10               2           0.95           0.2   \n580       10               2           0.95           0.2   \n..       ...             ...            ...           ...   \n715       20               4           1.00           0.8   \n716       20               4           1.00           0.8   \n717       20               4           1.00           0.8   \n718       20               4           1.00           0.8   \n719       20               4           1.00           0.8   \n\n     DecreasingMutationRate  Elite   Bounds  AverageOverRange  \n576                    True      0  [-5, 5]                 5  \n577                    True      0  [-5, 5]                 5  \n578                    True      0  [-5, 5]                 5  \n579                    True      1  [-5, 5]                 5  \n580                    True      1  [-5, 5]                 5  \n..                      ...    ...      ...               ...  \n715                    True      0  [-5, 5]                 5  \n716                    True      0  [-5, 5]                 5  \n717                    True      1  [-5, 5]                 5  \n718                    True      1  [-5, 5]                 5  \n719                    True      1  [-5, 5]                 5  \n\n[144 rows x 17 columns]",
      "text/html": "<div>\n<style scoped>\n    .dataframe tbody tr th:only-of-type {\n        vertical-align: middle;\n    }\n\n    .dataframe tbody tr th {\n        vertical-align: top;\n    }\n\n    .dataframe thead th {\n        text-align: right;\n    }\n</style>\n<table border=\"1\" class=\"dataframe\">\n  <thead>\n    <tr style=\"text-align: right;\">\n      <th></th>\n      <th>TestFunction</th>\n      <th>OptimalMinimum</th>\n      <th>BestFitness</th>\n      <th>BestDiffFromOpt</th>\n      <th>AverageFitness</th>\n      <th>AverageDiffFromOpt</th>\n      <th>TimePerRun</th>\n      <th>Generations</th>\n      <th>NoDimension</th>\n      <th>PopSize</th>\n      <th>TForTournament</th>\n      <th>CrossoverPerc</th>\n      <th>MutationRate</th>\n      <th>DecreasingMutationRate</th>\n      <th>Elite</th>\n      <th>Bounds</th>\n      <th>AverageOverRange</th>\n    </tr>\n  </thead>\n  <tbody>\n    <tr>\n      <th>576</th>\n      <td>F17</td>\n      <td>120.0</td>\n      <td>371.916036</td>\n      <td>251.916036</td>\n      <td>425.477220</td>\n      <td>305.477220</td>\n      <td>1.087346</td>\n      <td>250</td>\n      <td>10</td>\n      <td>10</td>\n      <td>2</td>\n      <td>0.95</td>\n      <td>0.2</td>\n      <td>True</td>\n      <td>0</td>\n      <td>[-5, 5]</td>\n      <td>5</td>\n    </tr>\n    <tr>\n      <th>577</th>\n      <td>F17</td>\n      <td>120.0</td>\n      <td>413.938939</td>\n      <td>293.938939</td>\n      <td>436.805606</td>\n      <td>316.805606</td>\n      <td>2.141470</td>\n      <td>500</td>\n      <td>10</td>\n      <td>10</td>\n      <td>2</td>\n      <td>0.95</td>\n      <td>0.2</td>\n      <td>True</td>\n      <td>0</td>\n      <td>[-5, 5]</td>\n      <td>5</td>\n    </tr>\n    <tr>\n      <th>578</th>\n      <td>F17</td>\n      <td>120.0</td>\n      <td>364.981052</td>\n      <td>244.981052</td>\n      <td>380.661387</td>\n      <td>260.661387</td>\n      <td>4.319710</td>\n      <td>1000</td>\n      <td>10</td>\n      <td>10</td>\n      <td>2</td>\n      <td>0.95</td>\n      <td>0.2</td>\n      <td>True</td>\n      <td>0</td>\n      <td>[-5, 5]</td>\n      <td>5</td>\n    </tr>\n    <tr>\n      <th>579</th>\n      <td>F17</td>\n      <td>120.0</td>\n      <td>351.178913</td>\n      <td>231.178913</td>\n      <td>378.818352</td>\n      <td>258.818352</td>\n      <td>1.050830</td>\n      <td>250</td>\n      <td>10</td>\n      <td>10</td>\n      <td>2</td>\n      <td>0.95</td>\n      <td>0.2</td>\n      <td>True</td>\n      <td>1</td>\n      <td>[-5, 5]</td>\n      <td>5</td>\n    </tr>\n    <tr>\n      <th>580</th>\n      <td>F17</td>\n      <td>120.0</td>\n      <td>373.734621</td>\n      <td>253.734621</td>\n      <td>406.427029</td>\n      <td>286.427029</td>\n      <td>2.155800</td>\n      <td>500</td>\n      <td>10</td>\n      <td>10</td>\n      <td>2</td>\n      <td>0.95</td>\n      <td>0.2</td>\n      <td>True</td>\n      <td>1</td>\n      <td>[-5, 5]</td>\n      <td>5</td>\n    </tr>\n    <tr>\n      <th>...</th>\n      <td>...</td>\n      <td>...</td>\n      <td>...</td>\n      <td>...</td>\n      <td>...</td>\n      <td>...</td>\n      <td>...</td>\n      <td>...</td>\n      <td>...</td>\n      <td>...</td>\n      <td>...</td>\n      <td>...</td>\n      <td>...</td>\n      <td>...</td>\n      <td>...</td>\n      <td>...</td>\n      <td>...</td>\n    </tr>\n    <tr>\n      <th>715</th>\n      <td>F17</td>\n      <td>120.0</td>\n      <td>280.068122</td>\n      <td>160.068122</td>\n      <td>347.955552</td>\n      <td>227.955552</td>\n      <td>4.757954</td>\n      <td>500</td>\n      <td>10</td>\n      <td>20</td>\n      <td>4</td>\n      <td>1.00</td>\n      <td>0.8</td>\n      <td>True</td>\n      <td>0</td>\n      <td>[-5, 5]</td>\n      <td>5</td>\n    </tr>\n    <tr>\n      <th>716</th>\n      <td>F17</td>\n      <td>120.0</td>\n      <td>325.023540</td>\n      <td>205.023540</td>\n      <td>353.633431</td>\n      <td>233.633431</td>\n      <td>9.791381</td>\n      <td>1000</td>\n      <td>10</td>\n      <td>20</td>\n      <td>4</td>\n      <td>1.00</td>\n      <td>0.8</td>\n      <td>True</td>\n      <td>0</td>\n      <td>[-5, 5]</td>\n      <td>5</td>\n    </tr>\n    <tr>\n      <th>717</th>\n      <td>F17</td>\n      <td>120.0</td>\n      <td>350.001728</td>\n      <td>230.001728</td>\n      <td>367.151403</td>\n      <td>247.151403</td>\n      <td>2.336803</td>\n      <td>250</td>\n      <td>10</td>\n      <td>20</td>\n      <td>4</td>\n      <td>1.00</td>\n      <td>0.8</td>\n      <td>True</td>\n      <td>1</td>\n      <td>[-5, 5]</td>\n      <td>5</td>\n    </tr>\n    <tr>\n      <th>718</th>\n      <td>F17</td>\n      <td>120.0</td>\n      <td>303.276890</td>\n      <td>183.276890</td>\n      <td>336.273628</td>\n      <td>216.273628</td>\n      <td>4.840253</td>\n      <td>500</td>\n      <td>10</td>\n      <td>20</td>\n      <td>4</td>\n      <td>1.00</td>\n      <td>0.8</td>\n      <td>True</td>\n      <td>1</td>\n      <td>[-5, 5]</td>\n      <td>5</td>\n    </tr>\n    <tr>\n      <th>719</th>\n      <td>F17</td>\n      <td>120.0</td>\n      <td>282.861125</td>\n      <td>162.861125</td>\n      <td>325.350139</td>\n      <td>205.350139</td>\n      <td>9.707718</td>\n      <td>1000</td>\n      <td>10</td>\n      <td>20</td>\n      <td>4</td>\n      <td>1.00</td>\n      <td>0.8</td>\n      <td>True</td>\n      <td>1</td>\n      <td>[-5, 5]</td>\n      <td>5</td>\n    </tr>\n  </tbody>\n</table>\n<p>144 rows × 17 columns</p>\n</div>"
     },
     "execution_count": 62,
     "metadata": {},
     "output_type": "execute_result"
    }
   ],
   "source": [
    "df_II.query(\"TestFunction == 'F17'\")"
   ],
   "metadata": {
    "collapsed": false,
    "pycharm": {
     "name": "#%%\n"
    }
   }
  },
  {
   "cell_type": "code",
   "execution_count": 63,
   "outputs": [
    {
     "data": {
      "text/plain": "    TestFunction  OptimalMinimum  BestFitness  BestDiffFromOpt  \\\n720          F24           260.0   991.810296       731.810296   \n721          F24           260.0   753.377338       493.377338   \n722          F24           260.0   624.964571       364.964571   \n723          F24           260.0   495.428966       235.428966   \n724          F24           260.0   470.913009       210.913009   \n..           ...             ...          ...              ...   \n859          F24           260.0   624.117583       364.117583   \n860          F24           260.0   497.332193       237.332193   \n861          F24           260.0   569.282428       309.282428   \n862          F24           260.0   500.733891       240.733891   \n863          F24           260.0   465.527584       205.527584   \n\n     AverageFitness  AverageDiffFromOpt  TimePerRun  Generations  NoDimension  \\\n720     1311.970832         1051.970832    1.042491          250           10   \n721     1033.482308          773.482308    2.107731          500           10   \n722      725.697857          465.697857    4.346395         1000           10   \n723      694.793545          434.793545    1.051611          250           10   \n724      571.767420          311.767420    2.198264          500           10   \n..              ...                 ...         ...          ...          ...   \n859      860.867563          600.867563    3.955479          500           10   \n860      590.451815          330.451815    8.117383         1000           10   \n861      639.205060          379.205060    2.063875          250           10   \n862      515.011661          255.011661    4.066582          500           10   \n863      474.907265          214.907265    8.131919         1000           10   \n\n     PopSize  TForTournament  CrossoverPerc  MutationRate  \\\n720       10               2           0.95           0.2   \n721       10               2           0.95           0.2   \n722       10               2           0.95           0.2   \n723       10               2           0.95           0.2   \n724       10               2           0.95           0.2   \n..       ...             ...            ...           ...   \n859       20               4           1.00           0.8   \n860       20               4           1.00           0.8   \n861       20               4           1.00           0.8   \n862       20               4           1.00           0.8   \n863       20               4           1.00           0.8   \n\n     DecreasingMutationRate  Elite   Bounds  AverageOverRange  \n720                    True      0  [-5, 5]                 5  \n721                    True      0  [-5, 5]                 5  \n722                    True      0  [-5, 5]                 5  \n723                    True      1  [-5, 5]                 5  \n724                    True      1  [-5, 5]                 5  \n..                      ...    ...      ...               ...  \n859                    True      0  [-5, 5]                 5  \n860                    True      0  [-5, 5]                 5  \n861                    True      1  [-5, 5]                 5  \n862                    True      1  [-5, 5]                 5  \n863                    True      1  [-5, 5]                 5  \n\n[144 rows x 17 columns]",
      "text/html": "<div>\n<style scoped>\n    .dataframe tbody tr th:only-of-type {\n        vertical-align: middle;\n    }\n\n    .dataframe tbody tr th {\n        vertical-align: top;\n    }\n\n    .dataframe thead th {\n        text-align: right;\n    }\n</style>\n<table border=\"1\" class=\"dataframe\">\n  <thead>\n    <tr style=\"text-align: right;\">\n      <th></th>\n      <th>TestFunction</th>\n      <th>OptimalMinimum</th>\n      <th>BestFitness</th>\n      <th>BestDiffFromOpt</th>\n      <th>AverageFitness</th>\n      <th>AverageDiffFromOpt</th>\n      <th>TimePerRun</th>\n      <th>Generations</th>\n      <th>NoDimension</th>\n      <th>PopSize</th>\n      <th>TForTournament</th>\n      <th>CrossoverPerc</th>\n      <th>MutationRate</th>\n      <th>DecreasingMutationRate</th>\n      <th>Elite</th>\n      <th>Bounds</th>\n      <th>AverageOverRange</th>\n    </tr>\n  </thead>\n  <tbody>\n    <tr>\n      <th>720</th>\n      <td>F24</td>\n      <td>260.0</td>\n      <td>991.810296</td>\n      <td>731.810296</td>\n      <td>1311.970832</td>\n      <td>1051.970832</td>\n      <td>1.042491</td>\n      <td>250</td>\n      <td>10</td>\n      <td>10</td>\n      <td>2</td>\n      <td>0.95</td>\n      <td>0.2</td>\n      <td>True</td>\n      <td>0</td>\n      <td>[-5, 5]</td>\n      <td>5</td>\n    </tr>\n    <tr>\n      <th>721</th>\n      <td>F24</td>\n      <td>260.0</td>\n      <td>753.377338</td>\n      <td>493.377338</td>\n      <td>1033.482308</td>\n      <td>773.482308</td>\n      <td>2.107731</td>\n      <td>500</td>\n      <td>10</td>\n      <td>10</td>\n      <td>2</td>\n      <td>0.95</td>\n      <td>0.2</td>\n      <td>True</td>\n      <td>0</td>\n      <td>[-5, 5]</td>\n      <td>5</td>\n    </tr>\n    <tr>\n      <th>722</th>\n      <td>F24</td>\n      <td>260.0</td>\n      <td>624.964571</td>\n      <td>364.964571</td>\n      <td>725.697857</td>\n      <td>465.697857</td>\n      <td>4.346395</td>\n      <td>1000</td>\n      <td>10</td>\n      <td>10</td>\n      <td>2</td>\n      <td>0.95</td>\n      <td>0.2</td>\n      <td>True</td>\n      <td>0</td>\n      <td>[-5, 5]</td>\n      <td>5</td>\n    </tr>\n    <tr>\n      <th>723</th>\n      <td>F24</td>\n      <td>260.0</td>\n      <td>495.428966</td>\n      <td>235.428966</td>\n      <td>694.793545</td>\n      <td>434.793545</td>\n      <td>1.051611</td>\n      <td>250</td>\n      <td>10</td>\n      <td>10</td>\n      <td>2</td>\n      <td>0.95</td>\n      <td>0.2</td>\n      <td>True</td>\n      <td>1</td>\n      <td>[-5, 5]</td>\n      <td>5</td>\n    </tr>\n    <tr>\n      <th>724</th>\n      <td>F24</td>\n      <td>260.0</td>\n      <td>470.913009</td>\n      <td>210.913009</td>\n      <td>571.767420</td>\n      <td>311.767420</td>\n      <td>2.198264</td>\n      <td>500</td>\n      <td>10</td>\n      <td>10</td>\n      <td>2</td>\n      <td>0.95</td>\n      <td>0.2</td>\n      <td>True</td>\n      <td>1</td>\n      <td>[-5, 5]</td>\n      <td>5</td>\n    </tr>\n    <tr>\n      <th>...</th>\n      <td>...</td>\n      <td>...</td>\n      <td>...</td>\n      <td>...</td>\n      <td>...</td>\n      <td>...</td>\n      <td>...</td>\n      <td>...</td>\n      <td>...</td>\n      <td>...</td>\n      <td>...</td>\n      <td>...</td>\n      <td>...</td>\n      <td>...</td>\n      <td>...</td>\n      <td>...</td>\n      <td>...</td>\n    </tr>\n    <tr>\n      <th>859</th>\n      <td>F24</td>\n      <td>260.0</td>\n      <td>624.117583</td>\n      <td>364.117583</td>\n      <td>860.867563</td>\n      <td>600.867563</td>\n      <td>3.955479</td>\n      <td>500</td>\n      <td>10</td>\n      <td>20</td>\n      <td>4</td>\n      <td>1.00</td>\n      <td>0.8</td>\n      <td>True</td>\n      <td>0</td>\n      <td>[-5, 5]</td>\n      <td>5</td>\n    </tr>\n    <tr>\n      <th>860</th>\n      <td>F24</td>\n      <td>260.0</td>\n      <td>497.332193</td>\n      <td>237.332193</td>\n      <td>590.451815</td>\n      <td>330.451815</td>\n      <td>8.117383</td>\n      <td>1000</td>\n      <td>10</td>\n      <td>20</td>\n      <td>4</td>\n      <td>1.00</td>\n      <td>0.8</td>\n      <td>True</td>\n      <td>0</td>\n      <td>[-5, 5]</td>\n      <td>5</td>\n    </tr>\n    <tr>\n      <th>861</th>\n      <td>F24</td>\n      <td>260.0</td>\n      <td>569.282428</td>\n      <td>309.282428</td>\n      <td>639.205060</td>\n      <td>379.205060</td>\n      <td>2.063875</td>\n      <td>250</td>\n      <td>10</td>\n      <td>20</td>\n      <td>4</td>\n      <td>1.00</td>\n      <td>0.8</td>\n      <td>True</td>\n      <td>1</td>\n      <td>[-5, 5]</td>\n      <td>5</td>\n    </tr>\n    <tr>\n      <th>862</th>\n      <td>F24</td>\n      <td>260.0</td>\n      <td>500.733891</td>\n      <td>240.733891</td>\n      <td>515.011661</td>\n      <td>255.011661</td>\n      <td>4.066582</td>\n      <td>500</td>\n      <td>10</td>\n      <td>20</td>\n      <td>4</td>\n      <td>1.00</td>\n      <td>0.8</td>\n      <td>True</td>\n      <td>1</td>\n      <td>[-5, 5]</td>\n      <td>5</td>\n    </tr>\n    <tr>\n      <th>863</th>\n      <td>F24</td>\n      <td>260.0</td>\n      <td>465.527584</td>\n      <td>205.527584</td>\n      <td>474.907265</td>\n      <td>214.907265</td>\n      <td>8.131919</td>\n      <td>1000</td>\n      <td>10</td>\n      <td>20</td>\n      <td>4</td>\n      <td>1.00</td>\n      <td>0.8</td>\n      <td>True</td>\n      <td>1</td>\n      <td>[-5, 5]</td>\n      <td>5</td>\n    </tr>\n  </tbody>\n</table>\n<p>144 rows × 17 columns</p>\n</div>"
     },
     "execution_count": 63,
     "metadata": {},
     "output_type": "execute_result"
    }
   ],
   "source": [
    "df_II.query(\"TestFunction == 'F24'\")"
   ],
   "metadata": {
    "collapsed": false,
    "pycharm": {
     "name": "#%%\n"
    }
   }
  }
 ],
 "metadata": {
  "kernelspec": {
   "display_name": "Python 3",
   "language": "python",
   "name": "python3"
  },
  "language_info": {
   "codemirror_mode": {
    "name": "ipython",
    "version": 2
   },
   "file_extension": ".py",
   "mimetype": "text/x-python",
   "name": "python",
   "nbconvert_exporter": "python",
   "pygments_lexer": "ipython2",
   "version": "2.7.6"
  }
 },
 "nbformat": 4,
 "nbformat_minor": 0
}