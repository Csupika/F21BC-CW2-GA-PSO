{
 "cells": [
  {
   "cell_type": "code",
   "execution_count": 1,
   "metadata": {
    "collapsed": true,
    "pycharm": {
     "name": "#%%\n"
    }
   },
   "outputs": [],
   "source": [
    "import pandas\n",
    "import pandas as pd\n",
    "\n",
    "from GA import GA\n",
    "import optproblems.cec2005 as optproblems"
   ]
  },
  {
   "cell_type": "markdown",
   "source": [],
   "metadata": {
    "collapsed": false,
    "pycharm": {
     "name": "#%% md\n"
    }
   }
  },
  {
   "cell_type": "markdown",
   "source": [
    "# Test Functions\n",
    "- F2: Shifted Schwefel’s Problem 1.2\n",
    "    - Uni-modal without noise\n",
    "- F4: Shifted Schwefel’s Problem 1.2 with Noise in Fitness\n",
    "    - Uni-modal with noise\n",
    "- F8: Shifted Rotated Ackley’s Function with Global Optimum on Bounds\n",
    "    - Single function\n",
    "    - Global optimum on bounds\n",
    "    - Multi-modal\n",
    "- F13: Shifted Expanded Griewank’s plus Rosenbrock’s Function (F8F2)\n",
    "    - Expanded Function\n",
    "    - Multi-modal\n",
    "- F17: Rotated Version of Hybrid Composition Function with Noise in Fitness\n",
    "    - Gaussian noise in fitness\n",
    "    - Multi-modal\n",
    "    - Huge number of local optima\n",
    "    - In-deterministic\n",
    "- F24: Rotated Hybrid Composition Function\n",
    "    - Composite function\n",
    "    - Huge number of local optima\n",
    "    - Multi-modal"
   ],
   "metadata": {
    "collapsed": false,
    "pycharm": {
     "name": "#%% md\n"
    }
   }
  },
  {
   "cell_type": "markdown",
   "source": [
    "Hyper parameters"
   ],
   "metadata": {
    "collapsed": false,
    "pycharm": {
     "name": "#%% md\n"
    }
   }
  },
  {
   "cell_type": "code",
   "execution_count": 2,
   "outputs": [],
   "source": [
    "# F2 :   Unimodal without noise\n",
    "# F4 :   Unimodal with noise\n",
    "# F8 :   Single Function, Global Optimum on Bounds, Multi-modal\n",
    "# F13:   Expanded Function, Multi-modal\n",
    "# F17:   Gaussian noise in Fitness, Multi-modal, Huge number of local optima, indeterministic\n",
    "# F24:   Composite Function, Huge number of local optima, Multi-modal\n",
    "\n",
    "run_configuration_suite = False\n",
    "if run_configuration_suite:\n",
    "    benchmarks_and_bounds = [optproblems.F2, [-100,100], \"F2\", optproblems.F4, [-100,100], \"F4\", optproblems.F8, [-32,32], \"F8\", optproblems.F13, [-3,1], \"F13\", optproblems.F17, [-5,5], \"F17\", optproblems.F24, [-5,5], \"F24\"]\n",
    "    no_dimensions = [10, 30, 50]\n",
    "    pop_sizes = [5, 10, 15]\n",
    "    num_generations = [50, 150]\n",
    "    tournament_t = [2, 4]\n",
    "    crossover_percentage = [0.5, 0.95, 1]\n",
    "    mutation_rates = [0.2, 0.8, 1]\n",
    "    decreasing_mutation_rate = [True, False]\n",
    "    elites = [0, 1]\n",
    "\n",
    "    average_over_range = 5\n",
    "\n",
    "    list_for_df = []\n",
    "    for i in range(0, len(benchmarks_and_bounds), 3):\n",
    "        number_of_functions = (len(benchmarks_and_bounds)/3)\n",
    "        print(f\"Progress: {i/3} / {number_of_functions}\")\n",
    "        bound = benchmarks_and_bounds[i+1]\n",
    "        benchmark_name = benchmarks_and_bounds[i+2]\n",
    "        for no_dimension in no_dimensions:\n",
    "            print(f\"\\tDimension: {no_dimension}\")\n",
    "            benchmark = benchmarks_and_bounds[i](no_dimension)\n",
    "            optimal_solution = benchmark.get_optimal_solutions()\n",
    "            benchmark.evaluate(optimal_solution[0])\n",
    "            optimal_minimum = optimal_solution[0].objective_values\n",
    "            for pop_size in pop_sizes:\n",
    "                print(f\"\\t\\tPopulation: {pop_size}\")\n",
    "                for t in tournament_t:\n",
    "                    for crossover in crossover_percentage:\n",
    "                        for mutation in mutation_rates:\n",
    "                            for dmr in decreasing_mutation_rate:\n",
    "                                for elite in elites:\n",
    "                                    for generations in num_generations:\n",
    "                                        average_fitness = 0\n",
    "                                        average_difference_from_optimal = 0\n",
    "\n",
    "                                        best_fitness = 0\n",
    "                                        best_time = 0\n",
    "                                        best_difference_from_optimal = 0\n",
    "\n",
    "                                        for j in range(average_over_range):\n",
    "                                            algorithm = GA(benchmark, no_dimension, bound, pop_size, num_generations=generations, t=t, crossover_percentage=crossover, mutation_rate=mutation, decreasing_mutation_rate=dmr, elite=elite)\n",
    "                                            result, time = algorithm.run()\n",
    "                                            fitness = result.fitness\n",
    "                                            diff_from_optimal = fitness - optimal_minimum\n",
    "\n",
    "                                            average_fitness += 1/average_over_range * fitness\n",
    "                                            average_difference_from_optimal += 1/average_over_range * diff_from_optimal\n",
    "\n",
    "                                            if j == 0:\n",
    "                                                best_fitness = fitness\n",
    "                                                best_difference_from_optimal = diff_from_optimal\n",
    "                                                best_time = time\n",
    "                                                continue\n",
    "\n",
    "                                            if fitness < best_fitness:\n",
    "                                                best_fitness = fitness\n",
    "\n",
    "                                            if diff_from_optimal < best_difference_from_optimal:\n",
    "                                                best_difference_from_optimal = diff_from_optimal\n",
    "\n",
    "                                            if time < best_time:\n",
    "                                                best_time = time\n",
    "\n",
    "                                        result_and_configuration = [benchmark_name, optimal_minimum, best_fitness, best_difference_from_optimal, average_fitness, average_difference_from_optimal, best_time, generations, no_dimension, pop_size, t, crossover, mutation, dmr, elite, bound, average_over_range]\n",
    "                                        list_for_df.append(result_and_configuration)\n",
    "\n",
    "    labels = [\"TestFunction\", \"OptimalMinimum\", \"BestFitness\", \"BestDiffFromOpt\", \"AverageFitness\", \"AverageDiffFromOpt\", \"TimePerRun\", \"Generations\", \"NoDimension\", \"PopSize\", \"TForTournament\", \"CrossoverPerc\", \"MutationRate\", \"DecreasingMutationRate\", \"Elite\", \"Bounds\", \"AverageOverRange\"]\n",
    "    df = pandas.DataFrame(data=list_for_df, columns=labels)\n",
    "    df.to_pickle(\"GA_df.pkl\")\n",
    "else:\n",
    "    df = pd.read_pickle(\"GA_df.pkl\")"
   ],
   "metadata": {
    "collapsed": false,
    "pycharm": {
     "name": "#%%\n"
    }
   }
  },
  {
   "cell_type": "code",
   "execution_count": 3,
   "outputs": [
    {
     "data": {
      "text/plain": "     TestFunction  OptimalMinimum   BestFitness  BestDiffFromOpt  \\\n0              F2          -450.0  17690.525955     18140.525955   \n1              F2          -450.0  14235.020676     14685.020676   \n2              F2          -450.0   6013.072511      6463.072511   \n3              F2          -450.0   1868.742268      2318.742268   \n4              F2          -450.0  21611.965380     22061.965380   \n...           ...             ...           ...              ...   \n1291          F24           260.0   1604.662489      1344.662489   \n1292          F24           260.0   2013.695892      1753.695892   \n1293          F24           260.0   2022.287128      1762.287128   \n1294          F24           260.0   1880.468349      1620.468349   \n1295          F24           260.0   1851.241865      1591.241865   \n\n      AverageFitness  AverageDiffFromOpt  TimePerRun  Generations  \\\n0       32133.289645        32583.289645    0.011128           50   \n1       22384.591201        22834.591201    0.027806          150   \n2       14872.551135        15322.551135    0.010348           50   \n3        5054.818636         5504.818636    0.031108          150   \n4       51345.862343        51795.862343    0.009959           50   \n...              ...                 ...         ...          ...   \n1291     1633.768568         1373.768568    3.663990          150   \n1292     2032.972450         1772.972450    1.252370           50   \n1293     2078.779992         1818.779992    3.872165          150   \n1294     1907.107345         1647.107345    1.220936           50   \n1295     1866.000102         1606.000102    3.771049          150   \n\n      NoDimension  PopSize  TForTournament  CrossoverPerc  MutationRate  \\\n0              10        5               2            0.5           0.2   \n1              10        5               2            0.5           0.2   \n2              10        5               2            0.5           0.2   \n3              10        5               2            0.5           0.2   \n4              10        5               2            0.5           0.2   \n...           ...      ...             ...            ...           ...   \n1291           50       15               4            1.0           1.0   \n1292           50       15               4            1.0           1.0   \n1293           50       15               4            1.0           1.0   \n1294           50       15               4            1.0           1.0   \n1295           50       15               4            1.0           1.0   \n\n      DecreasingMutationRate  Elite       Bounds  AverageOverRange  \n0                       True      0  [-100, 100]                 5  \n1                       True      0  [-100, 100]                 5  \n2                       True      1  [-100, 100]                 5  \n3                       True      1  [-100, 100]                 5  \n4                      False      0  [-100, 100]                 5  \n...                      ...    ...          ...               ...  \n1291                    True      1      [-5, 5]                 5  \n1292                   False      0      [-5, 5]                 5  \n1293                   False      0      [-5, 5]                 5  \n1294                   False      1      [-5, 5]                 5  \n1295                   False      1      [-5, 5]                 5  \n\n[7776 rows x 17 columns]",
      "text/html": "<div>\n<style scoped>\n    .dataframe tbody tr th:only-of-type {\n        vertical-align: middle;\n    }\n\n    .dataframe tbody tr th {\n        vertical-align: top;\n    }\n\n    .dataframe thead th {\n        text-align: right;\n    }\n</style>\n<table border=\"1\" class=\"dataframe\">\n  <thead>\n    <tr style=\"text-align: right;\">\n      <th></th>\n      <th>TestFunction</th>\n      <th>OptimalMinimum</th>\n      <th>BestFitness</th>\n      <th>BestDiffFromOpt</th>\n      <th>AverageFitness</th>\n      <th>AverageDiffFromOpt</th>\n      <th>TimePerRun</th>\n      <th>Generations</th>\n      <th>NoDimension</th>\n      <th>PopSize</th>\n      <th>TForTournament</th>\n      <th>CrossoverPerc</th>\n      <th>MutationRate</th>\n      <th>DecreasingMutationRate</th>\n      <th>Elite</th>\n      <th>Bounds</th>\n      <th>AverageOverRange</th>\n    </tr>\n  </thead>\n  <tbody>\n    <tr>\n      <th>0</th>\n      <td>F2</td>\n      <td>-450.0</td>\n      <td>17690.525955</td>\n      <td>18140.525955</td>\n      <td>32133.289645</td>\n      <td>32583.289645</td>\n      <td>0.011128</td>\n      <td>50</td>\n      <td>10</td>\n      <td>5</td>\n      <td>2</td>\n      <td>0.5</td>\n      <td>0.2</td>\n      <td>True</td>\n      <td>0</td>\n      <td>[-100, 100]</td>\n      <td>5</td>\n    </tr>\n    <tr>\n      <th>1</th>\n      <td>F2</td>\n      <td>-450.0</td>\n      <td>14235.020676</td>\n      <td>14685.020676</td>\n      <td>22384.591201</td>\n      <td>22834.591201</td>\n      <td>0.027806</td>\n      <td>150</td>\n      <td>10</td>\n      <td>5</td>\n      <td>2</td>\n      <td>0.5</td>\n      <td>0.2</td>\n      <td>True</td>\n      <td>0</td>\n      <td>[-100, 100]</td>\n      <td>5</td>\n    </tr>\n    <tr>\n      <th>2</th>\n      <td>F2</td>\n      <td>-450.0</td>\n      <td>6013.072511</td>\n      <td>6463.072511</td>\n      <td>14872.551135</td>\n      <td>15322.551135</td>\n      <td>0.010348</td>\n      <td>50</td>\n      <td>10</td>\n      <td>5</td>\n      <td>2</td>\n      <td>0.5</td>\n      <td>0.2</td>\n      <td>True</td>\n      <td>1</td>\n      <td>[-100, 100]</td>\n      <td>5</td>\n    </tr>\n    <tr>\n      <th>3</th>\n      <td>F2</td>\n      <td>-450.0</td>\n      <td>1868.742268</td>\n      <td>2318.742268</td>\n      <td>5054.818636</td>\n      <td>5504.818636</td>\n      <td>0.031108</td>\n      <td>150</td>\n      <td>10</td>\n      <td>5</td>\n      <td>2</td>\n      <td>0.5</td>\n      <td>0.2</td>\n      <td>True</td>\n      <td>1</td>\n      <td>[-100, 100]</td>\n      <td>5</td>\n    </tr>\n    <tr>\n      <th>4</th>\n      <td>F2</td>\n      <td>-450.0</td>\n      <td>21611.965380</td>\n      <td>22061.965380</td>\n      <td>51345.862343</td>\n      <td>51795.862343</td>\n      <td>0.009959</td>\n      <td>50</td>\n      <td>10</td>\n      <td>5</td>\n      <td>2</td>\n      <td>0.5</td>\n      <td>0.2</td>\n      <td>False</td>\n      <td>0</td>\n      <td>[-100, 100]</td>\n      <td>5</td>\n    </tr>\n    <tr>\n      <th>...</th>\n      <td>...</td>\n      <td>...</td>\n      <td>...</td>\n      <td>...</td>\n      <td>...</td>\n      <td>...</td>\n      <td>...</td>\n      <td>...</td>\n      <td>...</td>\n      <td>...</td>\n      <td>...</td>\n      <td>...</td>\n      <td>...</td>\n      <td>...</td>\n      <td>...</td>\n      <td>...</td>\n      <td>...</td>\n    </tr>\n    <tr>\n      <th>1291</th>\n      <td>F24</td>\n      <td>260.0</td>\n      <td>1604.662489</td>\n      <td>1344.662489</td>\n      <td>1633.768568</td>\n      <td>1373.768568</td>\n      <td>3.663990</td>\n      <td>150</td>\n      <td>50</td>\n      <td>15</td>\n      <td>4</td>\n      <td>1.0</td>\n      <td>1.0</td>\n      <td>True</td>\n      <td>1</td>\n      <td>[-5, 5]</td>\n      <td>5</td>\n    </tr>\n    <tr>\n      <th>1292</th>\n      <td>F24</td>\n      <td>260.0</td>\n      <td>2013.695892</td>\n      <td>1753.695892</td>\n      <td>2032.972450</td>\n      <td>1772.972450</td>\n      <td>1.252370</td>\n      <td>50</td>\n      <td>50</td>\n      <td>15</td>\n      <td>4</td>\n      <td>1.0</td>\n      <td>1.0</td>\n      <td>False</td>\n      <td>0</td>\n      <td>[-5, 5]</td>\n      <td>5</td>\n    </tr>\n    <tr>\n      <th>1293</th>\n      <td>F24</td>\n      <td>260.0</td>\n      <td>2022.287128</td>\n      <td>1762.287128</td>\n      <td>2078.779992</td>\n      <td>1818.779992</td>\n      <td>3.872165</td>\n      <td>150</td>\n      <td>50</td>\n      <td>15</td>\n      <td>4</td>\n      <td>1.0</td>\n      <td>1.0</td>\n      <td>False</td>\n      <td>0</td>\n      <td>[-5, 5]</td>\n      <td>5</td>\n    </tr>\n    <tr>\n      <th>1294</th>\n      <td>F24</td>\n      <td>260.0</td>\n      <td>1880.468349</td>\n      <td>1620.468349</td>\n      <td>1907.107345</td>\n      <td>1647.107345</td>\n      <td>1.220936</td>\n      <td>50</td>\n      <td>50</td>\n      <td>15</td>\n      <td>4</td>\n      <td>1.0</td>\n      <td>1.0</td>\n      <td>False</td>\n      <td>1</td>\n      <td>[-5, 5]</td>\n      <td>5</td>\n    </tr>\n    <tr>\n      <th>1295</th>\n      <td>F24</td>\n      <td>260.0</td>\n      <td>1851.241865</td>\n      <td>1591.241865</td>\n      <td>1866.000102</td>\n      <td>1606.000102</td>\n      <td>3.771049</td>\n      <td>150</td>\n      <td>50</td>\n      <td>15</td>\n      <td>4</td>\n      <td>1.0</td>\n      <td>1.0</td>\n      <td>False</td>\n      <td>1</td>\n      <td>[-5, 5]</td>\n      <td>5</td>\n    </tr>\n  </tbody>\n</table>\n<p>7776 rows × 17 columns</p>\n</div>"
     },
     "execution_count": 3,
     "metadata": {},
     "output_type": "execute_result"
    }
   ],
   "source": [
    "df"
   ],
   "metadata": {
    "collapsed": false,
    "pycharm": {
     "name": "#%%\n"
    }
   }
  }
 ],
 "metadata": {
  "kernelspec": {
   "display_name": "Python 3",
   "language": "python",
   "name": "python3"
  },
  "language_info": {
   "codemirror_mode": {
    "name": "ipython",
    "version": 2
   },
   "file_extension": ".py",
   "mimetype": "text/x-python",
   "name": "python",
   "nbconvert_exporter": "python",
   "pygments_lexer": "ipython2",
   "version": "2.7.6"
  }
 },
 "nbformat": 4,
 "nbformat_minor": 0
}