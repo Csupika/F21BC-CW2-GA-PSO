{
 "cells": [
  {
   "cell_type": "code",
   "execution_count": null,
   "metadata": {
    "collapsed": true,
    "pycharm": {
     "name": "#%%\n"
    }
   },
   "outputs": [],
   "source": [
    "import pandas\n",
    "\n",
    "from GA import GA\n",
    "import optproblems.cec2005 as optproblems"
   ]
  },
  {
   "cell_type": "markdown",
   "source": [],
   "metadata": {
    "collapsed": false,
    "pycharm": {
     "name": "#%% md\n"
    }
   }
  },
  {
   "cell_type": "markdown",
   "source": [
    "# Test Functions\n",
    "- F2: Shifted Schwefel’s Problem 1.2\n",
    "    - Uni-modal without noise\n",
    "- F4: Shifted Schwefel’s Problem 1.2 with Noise in Fitness\n",
    "    - Uni-modal with noise\n",
    "- F8: Shifted Rotated Ackley’s Function with Global Optimum on Bounds\n",
    "    - Single function\n",
    "    - Global optimum on bounds\n",
    "    - Multi-modal\n",
    "- F13: Shifted Expanded Griewank’s plus Rosenbrock’s Function (F8F2)\n",
    "    - Expanded Function\n",
    "    - Multi-modal\n",
    "- F17: Rotated Version of Hybrid Composition Function with Noise in Fitness\n",
    "    - Gaussian noise in fitness\n",
    "    - Multi-modal\n",
    "    - Huge number of local optima\n",
    "    - In-deterministic\n",
    "- F24: Rotated Hybrid Composition Function\n",
    "    - Composite function\n",
    "    - Huge number of local optima\n",
    "    - Multi-modal"
   ],
   "metadata": {
    "collapsed": false,
    "pycharm": {
     "name": "#%% md\n"
    }
   }
  },
  {
   "cell_type": "markdown",
   "source": [
    "Hyper parameters"
   ],
   "metadata": {
    "collapsed": false,
    "pycharm": {
     "name": "#%% md\n"
    }
   }
  },
  {
   "cell_type": "code",
   "execution_count": null,
   "outputs": [],
   "source": [
    "# F2 :   Unimodal without noise\n",
    "# F4 :   Unimodal with noise\n",
    "# F8 :   Single Function, Global Optimum on Bounds, Multi-modal\n",
    "# F13:   Expanded Function, Multi-modal\n",
    "# F17:   Gaussian noise in Fitness, Multi-modal, Huge number of local optima, indeterministic\n",
    "# F24:   Composite Function, Huge number of local optima, Multi-modal\n",
    "\n",
    "benchmarks_and_bounds = [optproblems.F2, [-100,100], \"F2\", optproblems.F4, [-100,100], \"F4\", optproblems.F8, [-32,32], \"F8\", optproblems.F13, [-3,1], \"F13\", optproblems.F17, [-5,5], \"F17\", optproblems.F24, [-5,5], \"F24\"]\n",
    "no_dimensions = [10, 30, 50]\n",
    "pop_sizes = [5, 10, 15]\n",
    "num_generations = [50, 150]\n",
    "tournament_t = [2, 4]\n",
    "crossover_percentage = [0.5, 0.95, 1]\n",
    "mutation_rates = [0.2, 0.8, 1]\n",
    "decreasing_mutation_rate = [True, False]\n",
    "elites = [0, 1]\n",
    "\n",
    "average_over_range = 5\n",
    "\n",
    "list_for_df = []\n",
    "for i in range(0, len(benchmarks_and_bounds), 3):\n",
    "    number_of_functions = (len(benchmarks_and_bounds)/3)\n",
    "    print(f\"Progress: {i/3} / {number_of_functions}\")\n",
    "    bound = benchmarks_and_bounds[i+1]\n",
    "    benchmark_name = benchmarks_and_bounds[i+2]\n",
    "    for no_dimension in no_dimensions:\n",
    "        print(f\"\\tDimension: {no_dimension}\")\n",
    "        benchmark = benchmarks_and_bounds[i](no_dimension)\n",
    "        optimal_solution = benchmark.get_optimal_solutions()\n",
    "        benchmark.evaluate(optimal_solution[0])\n",
    "        optimal_minimum = optimal_solution[0].objective_values\n",
    "        for pop_size in pop_sizes:\n",
    "            print(f\"\\t\\tPopulation: {pop_size}\")\n",
    "            for t in tournament_t:\n",
    "                for crossover in crossover_percentage:\n",
    "                    for mutation in mutation_rates:\n",
    "                        for dmr in decreasing_mutation_rate:\n",
    "                            for elite in elites:\n",
    "                                for generations in num_generations:\n",
    "                                    average_fitness = 0\n",
    "                                    average_difference_from_optimal = 0\n",
    "\n",
    "                                    best_fitness = 0\n",
    "                                    best_time = 0\n",
    "                                    best_difference_from_optimal = 0\n",
    "\n",
    "                                    for j in range(average_over_range):\n",
    "                                        algorithm = GA(benchmark, no_dimension, bound, pop_size, num_generations=generations, t=t, crossover_percentage=crossover, mutation_rate=mutation, decreasing_mutation_rate=dmr, elite=elite)\n",
    "                                        result, time = algorithm.run()\n",
    "                                        fitness = result.fitness\n",
    "                                        diff_from_optimal = fitness - optimal_minimum\n",
    "\n",
    "                                        average_fitness += 1/average_over_range * fitness\n",
    "                                        average_difference_from_optimal += 1/average_over_range * diff_from_optimal\n",
    "\n",
    "                                        if j == 0:\n",
    "                                            best_fitness = fitness\n",
    "                                            best_difference_from_optimal = diff_from_optimal\n",
    "                                            best_time = time\n",
    "                                            continue\n",
    "\n",
    "                                        if fitness < best_fitness:\n",
    "                                            best_fitness = fitness\n",
    "\n",
    "                                        if diff_from_optimal < best_difference_from_optimal:\n",
    "                                            best_difference_from_optimal = diff_from_optimal\n",
    "\n",
    "                                        if time < best_time:\n",
    "                                            best_time = time\n",
    "\n",
    "                                    result_and_configuration = [benchmark_name, optimal_minimum, best_fitness, best_difference_from_optimal, average_fitness, average_difference_from_optimal, best_time, generations, no_dimension, pop_size, t, crossover, mutation, dmr, elite, bound, average_over_range]\n",
    "                                    list_for_df.append(result_and_configuration)\n",
    "\n",
    "labels = [\"TestFunction\", \"OptimalMinimum\", \"BestFitness\", \"BestDiffFromOpt\", \"AverageFitness\", \"AverageDiffFromOpt\", \"TimePerRun\", \"Generations\", \"NoDimension\", \"PopSize\", \"TForTournament\", \"CrossoverPerc\", \"MutationRate\", \"DecreasingMutationRate\", \"Elite\", \"Bounds\", \"AverageOverRange\"]\n",
    "df = pandas.DataFrame(data=list_for_df, columns=labels)\n",
    "df.to_pickle(\"df.pkl\")"
   ],
   "metadata": {
    "collapsed": false,
    "pycharm": {
     "name": "#%%\n"
    }
   }
  }
 ],
 "metadata": {
  "kernelspec": {
   "display_name": "Python 3",
   "language": "python",
   "name": "python3"
  },
  "language_info": {
   "codemirror_mode": {
    "name": "ipython",
    "version": 2
   },
   "file_extension": ".py",
   "mimetype": "text/x-python",
   "name": "python",
   "nbconvert_exporter": "python",
   "pygments_lexer": "ipython2",
   "version": "2.7.6"
  }
 },
 "nbformat": 4,
 "nbformat_minor": 0
}