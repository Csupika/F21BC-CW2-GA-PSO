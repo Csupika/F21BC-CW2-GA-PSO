{
 "cells": [
  {
   "cell_type": "code",
   "execution_count": 1,
   "metadata": {
    "collapsed": true,
    "pycharm": {
     "name": "#%%\n"
    }
   },
   "outputs": [],
   "source": [
    "import pandas\n",
    "\n",
    "from GA import GA\n",
    "import optproblems.cec2005 as optproblems"
   ]
  },
  {
   "cell_type": "markdown",
   "source": [],
   "metadata": {
    "collapsed": false,
    "pycharm": {
     "name": "#%% md\n"
    }
   }
  },
  {
   "cell_type": "markdown",
   "source": [
    "# Test Functions\n",
    "- F2: Shifted Schwefel’s Problem 1.2\n",
    "    - Uni-modal without noise\n",
    "- F4: Shifted Schwefel’s Problem 1.2 with Noise in Fitness\n",
    "    - Uni-modal with noise\n",
    "- F8: Shifted Rotated Ackley’s Function with Global Optimum on Bounds\n",
    "    - Single function\n",
    "    - Global optimum on bounds\n",
    "    - Multi-modal\n",
    "- F13: Shifted Expanded Griewank’s plus Rosenbrock’s Function (F8F2)\n",
    "    - Expanded Function\n",
    "    - Multi-modal\n",
    "- F17: Rotated Version of Hybrid Composition Function with Noise in Fitness\n",
    "    - Gaussian noise in fitness\n",
    "    - Multi-modal\n",
    "    - Huge number of local optima\n",
    "    - In-deterministic\n",
    "- F24: Rotated Hybrid Composition Function\n",
    "    - Composite function\n",
    "    - Huge number of local optima\n",
    "    - Multi-modal"
   ],
   "metadata": {
    "collapsed": false,
    "pycharm": {
     "name": "#%% md\n"
    }
   }
  },
  {
   "cell_type": "markdown",
   "source": [
    "Hyper parameters"
   ],
   "metadata": {
    "collapsed": false,
    "pycharm": {
     "name": "#%% md\n"
    }
   }
  },
  {
   "cell_type": "code",
   "execution_count": 4,
   "outputs": [
    {
     "ename": "KeyboardInterrupt",
     "evalue": "",
     "output_type": "error",
     "traceback": [
      "\u001B[1;31m---------------------------------------------------------------------------\u001B[0m",
      "\u001B[1;31mKeyboardInterrupt\u001B[0m                         Traceback (most recent call last)",
      "Cell \u001B[1;32mIn [4], line 46\u001B[0m\n\u001B[0;32m     44\u001B[0m \u001B[38;5;28;01mfor\u001B[39;00m generations \u001B[38;5;129;01min\u001B[39;00m num_generations:\n\u001B[0;32m     45\u001B[0m     best_fitness \u001B[38;5;241m=\u001B[39m \u001B[38;5;241m0\u001B[39m\n\u001B[1;32m---> 46\u001B[0m     average_fitness \u001B[38;5;241m=\u001B[39m \u001B[38;5;241m0\u001B[39m\n\u001B[0;32m     47\u001B[0m     best_time \u001B[38;5;241m=\u001B[39m \u001B[38;5;241m0\u001B[39m\n\u001B[0;32m     49\u001B[0m     \u001B[38;5;28;01mfor\u001B[39;00m j \u001B[38;5;129;01min\u001B[39;00m average_range:\n",
      "Cell \u001B[1;32mIn [4], line 46\u001B[0m\n\u001B[0;32m     44\u001B[0m \u001B[38;5;28;01mfor\u001B[39;00m generations \u001B[38;5;129;01min\u001B[39;00m num_generations:\n\u001B[0;32m     45\u001B[0m     best_fitness \u001B[38;5;241m=\u001B[39m \u001B[38;5;241m0\u001B[39m\n\u001B[1;32m---> 46\u001B[0m     average_fitness \u001B[38;5;241m=\u001B[39m \u001B[38;5;241m0\u001B[39m\n\u001B[0;32m     47\u001B[0m     best_time \u001B[38;5;241m=\u001B[39m \u001B[38;5;241m0\u001B[39m\n\u001B[0;32m     49\u001B[0m     \u001B[38;5;28;01mfor\u001B[39;00m j \u001B[38;5;129;01min\u001B[39;00m average_range:\n",
      "File \u001B[1;32m_pydevd_bundle\\pydevd_cython_win32_310_64.pyx:1179\u001B[0m, in \u001B[0;36m_pydevd_bundle.pydevd_cython_win32_310_64.SafeCallWrapper.__call__\u001B[1;34m()\u001B[0m\n",
      "File \u001B[1;32m_pydevd_bundle\\pydevd_cython_win32_310_64.pyx:620\u001B[0m, in \u001B[0;36m_pydevd_bundle.pydevd_cython_win32_310_64.PyDBFrame.trace_dispatch\u001B[1;34m()\u001B[0m\n",
      "File \u001B[1;32m_pydevd_bundle\\pydevd_cython_win32_310_64.pyx:929\u001B[0m, in \u001B[0;36m_pydevd_bundle.pydevd_cython_win32_310_64.PyDBFrame.trace_dispatch\u001B[1;34m()\u001B[0m\n",
      "File \u001B[1;32m_pydevd_bundle\\pydevd_cython_win32_310_64.pyx:920\u001B[0m, in \u001B[0;36m_pydevd_bundle.pydevd_cython_win32_310_64.PyDBFrame.trace_dispatch\u001B[1;34m()\u001B[0m\n",
      "File \u001B[1;32m_pydevd_bundle\\pydevd_cython_win32_310_64.pyx:317\u001B[0m, in \u001B[0;36m_pydevd_bundle.pydevd_cython_win32_310_64.PyDBFrame.do_wait_suspend\u001B[1;34m()\u001B[0m\n",
      "File \u001B[1;32mC:\\Program Files\\JetBrains\\PyCharm 2020.2.2\\plugins\\python\\helpers\\pydev\\pydevd.py:1155\u001B[0m, in \u001B[0;36mPyDB.do_wait_suspend\u001B[1;34m(self, thread, frame, event, arg, send_suspend_message, is_unhandled_exception)\u001B[0m\n\u001B[0;32m   1152\u001B[0m         from_this_thread\u001B[38;5;241m.\u001B[39mappend(frame_id)\n\u001B[0;32m   1154\u001B[0m \u001B[38;5;28;01mwith\u001B[39;00m \u001B[38;5;28mself\u001B[39m\u001B[38;5;241m.\u001B[39m_threads_suspended_single_notification\u001B[38;5;241m.\u001B[39mnotify_thread_suspended(thread_id, stop_reason):\n\u001B[1;32m-> 1155\u001B[0m     \u001B[38;5;28;43mself\u001B[39;49m\u001B[38;5;241;43m.\u001B[39;49m\u001B[43m_do_wait_suspend\u001B[49m\u001B[43m(\u001B[49m\u001B[43mthread\u001B[49m\u001B[43m,\u001B[49m\u001B[43m \u001B[49m\u001B[43mframe\u001B[49m\u001B[43m,\u001B[49m\u001B[43m \u001B[49m\u001B[43mevent\u001B[49m\u001B[43m,\u001B[49m\u001B[43m \u001B[49m\u001B[43marg\u001B[49m\u001B[43m,\u001B[49m\u001B[43m \u001B[49m\u001B[43msuspend_type\u001B[49m\u001B[43m,\u001B[49m\u001B[43m \u001B[49m\u001B[43mfrom_this_thread\u001B[49m\u001B[43m)\u001B[49m\n",
      "File \u001B[1;32mC:\\Program Files\\JetBrains\\PyCharm 2020.2.2\\plugins\\python\\helpers\\pydev\\pydevd.py:1170\u001B[0m, in \u001B[0;36mPyDB._do_wait_suspend\u001B[1;34m(self, thread, frame, event, arg, suspend_type, from_this_thread)\u001B[0m\n\u001B[0;32m   1167\u001B[0m             \u001B[38;5;28mself\u001B[39m\u001B[38;5;241m.\u001B[39m_call_mpl_hook()\n\u001B[0;32m   1169\u001B[0m         \u001B[38;5;28mself\u001B[39m\u001B[38;5;241m.\u001B[39mprocess_internal_commands()\n\u001B[1;32m-> 1170\u001B[0m         \u001B[43mtime\u001B[49m\u001B[38;5;241;43m.\u001B[39;49m\u001B[43msleep\u001B[49m\u001B[43m(\u001B[49m\u001B[38;5;241;43m0.01\u001B[39;49m\u001B[43m)\u001B[49m\n\u001B[0;32m   1172\u001B[0m \u001B[38;5;28mself\u001B[39m\u001B[38;5;241m.\u001B[39mcancel_async_evaluation(get_current_thread_id(thread), \u001B[38;5;28mstr\u001B[39m(\u001B[38;5;28mid\u001B[39m(frame)))\n\u001B[0;32m   1174\u001B[0m \u001B[38;5;66;03m# process any stepping instructions\u001B[39;00m\n",
      "\u001B[1;31mKeyboardInterrupt\u001B[0m: "
     ]
    }
   ],
   "source": [
    "# F2 :   Unimodal without noise\n",
    "# F4 :   Unimodal with noise\n",
    "# F8 :   Single Function, Global Optimum on Bounds, Multi-modal\n",
    "# F13:   Expanded Function, Multi-modal\n",
    "# F17:   Gaussian noise in Fitness, Multi-modal, Huge number of local optima, indeterministic\n",
    "# F24:   Composite Function, Huge number of local optima, Multi-modal\n",
    "\n",
    "# benchmarks_and_bounds = [optproblems.F2, [-100,100], optproblems.F4, [-100,100], optproblems.F8, [-32,32], optproblems.F13, [-3,1], optproblems.F17, [-5,5], optproblems.F24, [-5,5]]\n",
    "# no_dimensions = [10, 30, 50]\n",
    "# pop_sizes = [5, 10, 12, 15]\n",
    "# num_generations = [10, 50, 100, 150, 1000, 2000]\n",
    "# tournament_t = [2, 3, 4]\n",
    "# crossover_percentage = [0.5, 0.95, 1]\n",
    "# mutation_rates = [0.2, 0.8, 1]\n",
    "# decreasing_mutation_rate = [True, False]\n",
    "# elites = [0, 1]\n",
    "\n",
    "benchmarks_and_bounds = [optproblems.F2, [-100,100], optproblems.F4, [-100,100]]\n",
    "no_dimensions = [10, 30]\n",
    "pop_sizes = [5, 10]\n",
    "num_generations = [10, 50]\n",
    "tournament_t = [2, 3]\n",
    "crossover_percentage = [0.5]\n",
    "mutation_rates = [0.2, 1]\n",
    "decreasing_mutation_rate = [True, False]\n",
    "elites = [0, 1]\n",
    "\n",
    "average_range = 5\n",
    "\n",
    "result = []\n",
    "for i in range(0, len(benchmarks_and_bounds), 2):\n",
    "    bound = benchmarks_and_bounds[i+1]\n",
    "    for no_dimensions in no_dimensions:\n",
    "        benchmark = benchmarks_and_bounds[i](no_dimensions)\n",
    "        optimal_solution = benchmark.get_optimal_solutions()\n",
    "        benchmark.evaluate(optimal_solution[0])\n",
    "        optimal_minimum = optimal_solution[0].objective_values\n",
    "        for pop_size in pop_sizes:\n",
    "            for t in tournament_t:\n",
    "                for crossover in crossover_percentage:\n",
    "                    for mutation in mutation_rates:\n",
    "                        for dmr in decreasing_mutation_rate:\n",
    "                            for elite in elites:\n",
    "                                for generations in num_generations:\n",
    "                                    best_fitness = 0\n",
    "                                    average_fitness = 0\n",
    "                                    best_time = 0\n",
    "                                    average_difference_from_optimal = 0\n",
    "                                    best_difference_from_optimal = 0\n",
    "                                    for j in average_range:\n",
    "                                        algorithm = GA(benchmark, no_dimensions, bound, pop_size, num_generations=generations, t=t, crossover_percentage=crossover, mutation_rate=mutation, decreasing_mutation_rate=dmr, elite=elite)\n",
    "                                        result, time = algorithm.run()\n",
    "                                        fitness = result.fitness\n",
    "                                        diff_from_optimal = fitness - optimal_minimum\n",
    "\n",
    "                                        average_fitness += 1/average_range * fitness\n",
    "                                        average_difference_from_optimal += 1/average_range * diff_from_optimal\n",
    "\n",
    "                                        if j == 0:\n",
    "                                            best_fitness = fitness\n",
    "                                            best_difference_from_optimal = diff_from_optimal\n",
    "                                            best_time = time\n",
    "                                            continue\n",
    "\n",
    "                                        if fitness < best_fitness:\n",
    "                                            best_fitness = fitness\n",
    "\n",
    "                                        if diff_from_optimal < best_difference_from_optimal:\n",
    "                                            best_difference_from_optimal = diff_from_optimal\n",
    "\n",
    "\n",
    "\n",
    "\n",
    "df = pandas.DataFrame(result)\n",
    "df.to_pickle(\"df.pkl\")\n",
    "# bound = (-100, 100)\n",
    "# pop_size = 3\n",
    "# benchmarks = {optproblems.cec2005.F14(NO_dimensions)}\n",
    "# opt = benchmark.get_optimal_solutions()\n",
    "#\n",
    "# algorithm1 = GA(benchmark, NO_dimensions, bound, pop_size, num_generations=100, elite=1)\n",
    "# algorithm1.run()"
   ],
   "metadata": {
    "collapsed": false,
    "pycharm": {
     "name": "#%%\n"
    }
   }
  }
 ],
 "metadata": {
  "kernelspec": {
   "display_name": "Python 3",
   "language": "python",
   "name": "python3"
  },
  "language_info": {
   "codemirror_mode": {
    "name": "ipython",
    "version": 2
   },
   "file_extension": ".py",
   "mimetype": "text/x-python",
   "name": "python",
   "nbconvert_exporter": "python",
   "pygments_lexer": "ipython2",
   "version": "2.7.6"
  }
 },
 "nbformat": 4,
 "nbformat_minor": 0
}