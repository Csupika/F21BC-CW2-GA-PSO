{
 "cells": [
  {
   "cell_type": "code",
   "execution_count": null,
   "metadata": {
    "collapsed": true,
    "pycharm": {
     "is_executing": true
    }
   },
   "outputs": [],
   "source": [
    "import PSO\n",
    "import optproblems.cec2005\n",
    "import math"
   ]
  },
  {
   "cell_type": "code",
   "execution_count": null,
   "outputs": [],
   "source": [
    "DimensionList = [10]\n",
    "\n",
    "BenchmarkList = []\n",
    "BoundsList = []\n",
    "TestProblemList = [optproblems.cec2005.F1,optproblems.cec2005.F2,optproblems.cec2005.F3,optproblems.cec2005.F4,optproblems.cec2005.F5,optproblems.cec2005.F6,optproblems.cec2005.F7,optproblems.cec2005.F8,optproblems.cec2005.F9,optproblems.cec2005.F10,optproblems.cec2005.F11,optproblems.cec2005.F12,optproblems.cec2005.F13,optproblems.cec2005.F14,optproblems.cec2005.F15,optproblems.cec2005.F16,optproblems.cec2005.F17,optproblems.cec2005.F18,optproblems.cec2005.F19,optproblems.cec2005.F20,optproblems.cec2005.F21,optproblems.cec2005.F22,optproblems.cec2005.F23,optproblems.cec2005.F24,optproblems.cec2005.F25]\n",
    "\n",
    "for dimension in DimensionList:\n",
    "    i = 0\n",
    "    for testproblem in TestProblemList:\n",
    "        i += 1\n",
    "        BenchmarkList.append(testproblem)\n",
    "        if(i < 7 or i == 14):\n",
    "            BoundsList.append([-100,100])\n",
    "        elif(i == 7):\n",
    "            BoundsList.append([0, 600])\n",
    "        elif(i == 8):\n",
    "            BoundsList.append([-32, 32])\n",
    "        elif (i == 25):\n",
    "            BoundsList.append([2, 5])\n",
    "        elif(i > 13 or i == 9 or i == 10):\n",
    "            BoundsList.append([-5, 5])\n",
    "        elif(i == 11):\n",
    "            BoundsList.append([-0.5, 0.5])\n",
    "        elif(i == 12):\n",
    "            BoundsList.append([-math.pi,math.pi])\n",
    "        elif(i == 13):\n",
    "            BoundsList.append([-3, 1])"
   ],
   "metadata": {
    "collapsed": false
   }
  },
  {
   "cell_type": "code",
   "execution_count": null,
   "outputs": [],
   "source": [
    "#HyperParameters\n",
    "swarmsize = 1000\n",
    "α = 0.5 #how much of the original velocity is retained\n",
    "β = 0.4 #how much of the personal best is mixed in. If β is large, particles tend to move more towards their own personal bests rather than towards global bests. This breaks the swarm into a lot of separate hill-climbers rather than a joint searcher.\n",
    "γ = 0.6 #how much of the informants’ best is mixed in. The effect here may be a mid-ground between β and δ. The number of informants is also a factor (assuming they’re picked at random): more informants is more like the global best and less like the particle’s local best.\n",
    "δ = 0 #how much of the global best is mixed in. If δ is large, particles tend to move more towards the best known region. This converts the algorithm into one large hill-climber rather than separate hill-climbers. Perhaps because this threatens to make the system highly exploitative, δ is often set to 0 in modern implementations\n",
    "e = 1 #e how fast the particle moves. If e is large, the particles make big jumps towards the better areas— and can jump over them by accident. Thus a big e allows the system to move quickly to best-known regions, but makes it hard to do fine-grained optimization. Just like in hill-climbing. Most commonly, e is set to 1.\n",
    "numberofiterations = 150\n",
    "precisionwanted = 0.1\n",
    "numberofinformantsperparticle = 7"
   ],
   "metadata": {
    "collapsed": false
   }
  },
  {
   "cell_type": "code",
   "execution_count": null,
   "outputs": [],
   "source": [
    "#Create algorithms\n",
    "\n",
    "PSOList = []\n",
    "for i in range(len(BenchmarkList)):\n",
    "    if(i == 6 or i == 24 or i == 31 or i == 49):\n",
    "        bounded = False\n",
    "    else:\n",
    "        bounded = True\n",
    "    if i < 25:\n",
    "        PSOList.append(PSO(BenchmarkList[i], DimensionList[0], BoundsList[i], bounded,swarmsize, numberofinformantsperparticle, α, β, γ, δ, e))\n",
    "    else:\n",
    "        PSOList.append(PSO(BenchmarkList[i], DimensionList[1], BoundsList[i], bounded,swarmsize, numberofinformantsperparticle, α, β, γ, δ, e))"
   ],
   "metadata": {
    "collapsed": false
   }
  },
  {
   "cell_type": "code",
   "execution_count": null,
   "outputs": [],
   "source": [
    "#Try each test function of optproblems.cec2005 with dimension 2 10 and 50 and appropriate bounds\n",
    "Results = []\n",
    "Resutlsbool = []\n",
    "for i in PSOList:\n",
    "    result = i.run(numberofiterations, precisionwanted)\n",
    "    print(result[0])\n",
    "    Results.append(result[0])\n",
    "    Resutlsbool.append(result[1])\n",
    "\n",
    "Percentagesuccess = (sum(Resutlsbool)/len(PSOList))*100\n",
    "print(\"Configuration: Max number of iterations: \",numberofiterations,\" Precision wanted: \",precisionwanted,\" Swarm size: \",swarmsize,\" Number of informants per particle: \",numberofinformantsperparticle,\" α: \",α,\" β: \",β,\" γ: \",γ,\" δ: \",δ,\" e: \",e)\n",
    "print(\"Success rate on 24 tests functions for 10 and 30 dimensions: \",Percentagesuccess)"
   ],
   "metadata": {
    "collapsed": false
   }
  },
  {
   "cell_type": "code",
   "execution_count": null,
   "outputs": [],
   "source": [
    "#Lets see with an increased number of particle and an increased number of informants per particle\n",
    "\n",
    "# HyperParameters\n",
    "swarmsize = 2000\n",
    "α = 0.5  # how much of the original velocity is retained\n",
    "β = 0.4  # how much of the personal best is mixed in. If β is large, particles tend to move more towards their own personal bests rather than towards global bests. This breaks the swarm into a lot of separate hill-climbers rather than a joint searcher.\n",
    "γ = 0.6  # how much of the informants’ best is mixed in. The effect here may be a mid-ground between β and δ. The number of informants is also a factor (assuming they’re picked at random): more informants is more like the global best and less like the particle’s local best.\n",
    "δ = 0  # how much of the global best is mixed in. If δ is large, particles tend to move more towards the best known region. This converts the algorithm into one large hill-climber rather than separate hill-climbers. Perhaps because this threatens to make the system highly exploitative, δ is often set to 0 in modern implementations\n",
    "e = 1  # e how fast the particle moves. If e is large, the particles make big jumps towards the better areas— and can jump over them by accident. Thus a big e allows the system to move quickly to best-known regions, but makes it hard to do fine-grained optimization. Just like in hill-climbing. Most commonly, e is set to 1.\n",
    "numberofiterations = 150\n",
    "precisionwanted = 0.1\n",
    "numberofinformantsperparticle = 10"
   ],
   "metadata": {
    "collapsed": false,
    "pycharm": {
     "is_executing": true
    }
   }
  },
  {
   "cell_type": "code",
   "execution_count": null,
   "outputs": [],
   "source": [
    "#Create algorithms\n",
    "\n",
    "PSOList = []\n",
    "for i in range(len(BenchmarkList)):\n",
    "    if(i == 6 or i == 24 or i == 31 or i == 49):\n",
    "        bounded = False\n",
    "    else:\n",
    "        bounded = True\n",
    "    if i < 25:\n",
    "        PSOList.append(PSO(BenchmarkList[i], DimensionList[0], BoundsList[i], bounded,swarmsize, numberofinformantsperparticle, α, β, γ, δ, e))\n",
    "    else:\n",
    "        PSOList.append(PSO(BenchmarkList[i], DimensionList[1], BoundsList[i], bounded,swarmsize, numberofinformantsperparticle, α, β, γ, δ, e))\n"
   ],
   "metadata": {
    "collapsed": false
   }
  },
  {
   "cell_type": "code",
   "execution_count": null,
   "outputs": [],
   "source": [
    "#Try each test function of optproblems.cec2005 with dimension 2 10 and 30 and appropriate bounds\n",
    "Results = []\n",
    "Resutlsbool = []\n",
    "for i in PSOList:\n",
    "    result = i.run(numberofiterations, precisionwanted)\n",
    "    print(result[0])\n",
    "    Results.append(result[0])\n",
    "    Resutlsbool.append(result[1])\n",
    "\n",
    "Percentagesuccess2 = (sum(Resutlsbool)/len(PSOList))*100\n",
    "print(Percentagesuccess2)\n",
    "\n",
    "print(\"Configuration: Max number of iterations: \",numberofiterations,\" Precision wanted : \", precisionwanted,\n",
    "          \" Swarm size: \",swarmsize,\" Number of informants per particle: \",numberofinformantsperparticle,\" α: \", α,\n",
    "          \" β: \",β,\" γ: \",γ,\" δ: \",δ,\" e: \", e)\n",
    "print(\"Success rate on 24 tests functions for 10 and 30 dimensions: \", Percentagesuccess2)\n",
    "#Success rate on 24 tests functions for 10 and 30 dimensions:  28.985507246376812\n",
    "\n",
    "print(\"Success percentage for first experiment \",Percentagesuccess,\" and for second one \",Percentagesuccess2)\n",
    "#The success rates are the same despite the change in hyperparameters (insufficient change or solution not adaptated)"
   ],
   "metadata": {
    "collapsed": false
   }
  }
 ],
 "metadata": {
  "kernelspec": {
   "display_name": "Python 3",
   "language": "python",
   "name": "python3"
  },
  "language_info": {
   "codemirror_mode": {
    "name": "ipython",
    "version": 2
   },
   "file_extension": ".py",
   "mimetype": "text/x-python",
   "name": "python",
   "nbconvert_exporter": "python",
   "pygments_lexer": "ipython2",
   "version": "2.7.6"
  }
 },
 "nbformat": 4,
 "nbformat_minor": 0
}
