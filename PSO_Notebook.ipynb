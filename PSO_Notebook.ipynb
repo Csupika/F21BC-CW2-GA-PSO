{
 "cells": [
  {
   "cell_type": "code",
   "execution_count": 69,
   "metadata": {
    "collapsed": true
   },
   "outputs": [],
   "source": [
    "import matplotlib.pyplot as plt\n",
    "\n",
    "import PSO\n",
    "import optproblems.cec2005\n",
    "import math\n",
    "import pandas"
   ]
  },
  {
   "cell_type": "markdown",
   "source": [
    "# Additional test on the 24 functions"
   ],
   "metadata": {
    "collapsed": false
   }
  },
  {
   "cell_type": "markdown",
   "source": [
    "Set AdditionalTest to True if tou want to run those tests.\n",
    "\n",
    "The main function is to check that the PSO algorithm works on every problem of the CEC 2005 benchmarks and have a first look at his performance"
   ],
   "metadata": {
    "collapsed": false
   }
  },
  {
   "cell_type": "code",
   "execution_count": 70,
   "outputs": [],
   "source": [
    "AdditionalTest = False"
   ],
   "metadata": {
    "collapsed": false
   }
  },
  {
   "cell_type": "markdown",
   "source": [
    "Creation of benchmark and bounds lists used"
   ],
   "metadata": {
    "collapsed": false
   }
  },
  {
   "cell_type": "code",
   "execution_count": 71,
   "outputs": [],
   "source": [
    "if AdditionalTest:\n",
    "    DimensionList = [2,10,30,50]\n",
    "    BenchmarkList = []\n",
    "    BoundsList = []\n",
    "    TestProblemList = [optproblems.cec2005.F1,optproblems.cec2005.F2,optproblems.cec2005.F3,optproblems.cec2005.F4,optproblems.cec2005.F5,optproblems.cec2005.F6,optproblems.cec2005.F7,optproblems.cec2005.F8,optproblems.cec2005.F9,optproblems.cec2005.F10,optproblems.cec2005.F11,optproblems.cec2005.F12,optproblems.cec2005.F13,optproblems.cec2005.F14,optproblems.cec2005.F15,optproblems.cec2005.F16,optproblems.cec2005.F17,optproblems.cec2005.F18,optproblems.cec2005.F19,optproblems.cec2005.F20,optproblems.cec2005.F21,optproblems.cec2005.F22,optproblems.cec2005.F23,optproblems.cec2005.F24,optproblems.cec2005.F25]\n",
    "\n",
    "    for dimension in DimensionList:\n",
    "        i = 0\n",
    "        for testproblem in TestProblemList:\n",
    "            i += 1\n",
    "            BenchmarkList.append(testproblem)\n",
    "            if(i < 7 or i == 14):\n",
    "                BoundsList.append([-100,100])\n",
    "            elif(i == 7):\n",
    "                BoundsList.append([0, 600])\n",
    "            elif(i == 8):\n",
    "                BoundsList.append([-32, 32])\n",
    "            elif (i == 25):\n",
    "                BoundsList.append([2, 5])\n",
    "            elif(i == 11):\n",
    "                BoundsList.append([-0.5, 0.5])\n",
    "            elif(i == 12):\n",
    "                BoundsList.append([-math.pi,math.pi])\n",
    "            elif(i == 13):\n",
    "                BoundsList.append([-3, 1])\n",
    "            elif(i > 13 or i == 9 or i == 10):\n",
    "                BoundsList.append([-5, 5])"
   ],
   "metadata": {
    "collapsed": false
   }
  },
  {
   "cell_type": "markdown",
   "source": [
    "Setting of the hyperparameters"
   ],
   "metadata": {
    "collapsed": false
   }
  },
  {
   "cell_type": "code",
   "execution_count": 72,
   "outputs": [],
   "source": [
    "if AdditionalTest:\n",
    "    #HyperParameters\n",
    "    swarmsize = 300\n",
    "    α = 0.4 #how much of the original velocity is retained\n",
    "    β = 0.6 #how much of the personal best is mixed in.\n",
    "    γ = 0.6 #how much of the informants’ best is mixed in.\n",
    "    δ = 0 #how much of the global best is mixed in. δ is often set to 0 in modern implementations\n",
    "    e = 1 #e how fast the particle moves. Most commonly, e is set to 1.\n",
    "    numberofiterations = 150\n",
    "    precisionwanted = 0.1\n",
    "    numberofinformantsperparticle = 6 #Most commonly set to 6"
   ],
   "metadata": {
    "collapsed": false
   }
  },
  {
   "cell_type": "markdown",
   "source": [
    "Creation of the PSO alogrithms"
   ],
   "metadata": {
    "collapsed": false
   }
  },
  {
   "cell_type": "code",
   "execution_count": 73,
   "outputs": [],
   "source": [
    "if AdditionalTest:\n",
    "    #Create algorithms\n",
    "\n",
    "    PSOList = []\n",
    "    for i in range(len(BenchmarkList)):\n",
    "        if(i == 6 or i == 24 or i == 31 or i == 49):\n",
    "            bounded = False\n",
    "        else:\n",
    "            bounded = True\n",
    "        if i < 25:\n",
    "            PSOList.append(PSO.PSO(BenchmarkList[i], DimensionList[0], BoundsList[i], bounded,swarmsize, numberofinformantsperparticle, α, β, γ, δ, e))\n",
    "        else:\n",
    "            PSOList.append(PSO.PSO(BenchmarkList[i], DimensionList[1], BoundsList[i], bounded,swarmsize, numberofinformantsperparticle, α, β, γ, δ, e))"
   ],
   "metadata": {
    "collapsed": false
   }
  },
  {
   "cell_type": "markdown",
   "source": [
    "Recording of the results"
   ],
   "metadata": {
    "collapsed": false
   }
  },
  {
   "cell_type": "code",
   "execution_count": 74,
   "outputs": [],
   "source": [
    "if AdditionalTest:\n",
    "    #Try each test function of optproblems.cec2005 with dimension 2 10 and 50 and appropriate bounds\n",
    "    Results = []\n",
    "    Resutlsbool = []\n",
    "    Times = []\n",
    "    for i in PSOList:\n",
    "        result = i.run(numberofiterations, precisionwanted)\n",
    "        Results.append(result[0])\n",
    "        Times.append(result[1])\n",
    "        Resutlsbool.append(result[2])\n",
    "\n",
    "    Percentagesuccess = (sum(Resutlsbool)/len(PSOList))*100\n",
    "    print(\"Configuration: Max number of iterations: \",numberofiterations,\" Precision wanted: \",precisionwanted,\" Swarm size: \",swarmsize,\" Number of informants per particle: \",numberofinformantsperparticle,\" α: \",α,\" β: \",β,\" γ: \",γ,\" δ: \",δ,\" e: \",e)\n",
    "    print(\"Success rate on 24 tests functions for 10 and 30 dimensions: \",Percentagesuccess)"
   ],
   "metadata": {
    "collapsed": false
   }
  },
  {
   "cell_type": "markdown",
   "source": [
    "# Hyperparameter exploration\n",
    "\n",
    "Set Hyperparameter_exploration_swarmsize to True if you want to experiment on swarm size"
   ],
   "metadata": {
    "collapsed": false
   }
  },
  {
   "cell_type": "code",
   "execution_count": 75,
   "outputs": [],
   "source": [
    "    Hyperparameter_exploration_swarmsize = False"
   ],
   "metadata": {
    "collapsed": false
   }
  },
  {
   "cell_type": "code",
   "execution_count": 76,
   "outputs": [],
   "source": [
    "if(Hyperparameter_exploration_swarmsize):\n",
    "    SwarmsizeList = [10,25,35,50,80,100,300,500,800]\n",
    "    numberofinformantsperparticle = 6\n",
    "    α = 0.4\n",
    "    β = 0.6\n",
    "    γ = 0.6\n",
    "    δ = 0\n",
    "    e = 1\n",
    "    numberofiterations = 140\n",
    "    precisionwanted = 0.1\n",
    "\n",
    "    AverageOverRange = 5\n",
    "\n",
    "    ListFitnessResult = []\n",
    "    ListTimeProcess = []\n",
    "    for swarmsize in SwarmsizeList:\n",
    "        fitness = 0.0\n",
    "        time = 0.0\n",
    "        for i in range(AverageOverRange):\n",
    "            F = PSO.PSO(optproblems.cec2005.F17, 10, [-5,5], True, swarmsize, numberofinformantsperparticle, α, β, γ, δ, e)\n",
    "            result = F.run(numberofiterations, precisionwanted)\n",
    "            fitness += result[0].fitness\n",
    "            time += result[1]\n",
    "        fitness = fitness/AverageOverRange\n",
    "        time = time/AverageOverRange\n",
    "        ListFitnessResult.append(fitness)\n",
    "        ListTimeProcess.append(time)\n",
    "\n",
    "    plt.plot(SwarmsizeList,ListTimeProcess)\n",
    "    plt.plot(SwarmsizeList, ListFitnessResult)\n",
    "    plt.axhline(y=optproblems.cec2005.F17.bias)\n",
    "    plt.legend([\"Process time\", \"Fitness reached\", \"Best fitness for this problem\"], loc =\"lower right\")\n",
    "    plt.title(\"Study of process time and best result, depending on swarm size for PSO, \\n hyperparameters are: Problem: F17, Numberofinformantsperparticle: 6, \\n α: 0.4, β: 0.6, γ: 0.6, δ: 0, e: 1, maxnumberofiterations: 140, precisionwantedtostop: 0.1\")\n",
    "    plt.show()\n",
    "\n",
    "    plt.plot(SwarmsizeList, ListFitnessResult)\n",
    "    plt.axhline(y=optproblems.cec2005.F17.bias)\n",
    "    plt.legend([\"Fitness reached\", \"Best fitness for this problem\"], loc =\"lower right\")\n",
    "    plt.title(\"Study of best result, depending on swarm size for PSO, \\n hyperparameters are: Problem: F17, Number of informants per particle: 6, \\n α: 0.4, β: 0.6, γ: 0.6, δ: 0, e: 1, maxnumberofiterations: 300, precisionwantedtostop: 0.1\")\n",
    "    plt.show()\n",
    "\n",
    "    plt.plot(SwarmsizeList,ListTimeProcess)\n",
    "    plt.title(\"Study of process time , depending on swarm size for PSO, \\n hyperparameters are: Problem: F17, Number of informants per particle: 6, \\n α: 0.4, β: 0.6, γ: 0.6, δ: 0, e: 1, maxnumberofiterations: 140, precisionwantedtostop: 0.1\")\n",
    "    plt.show()\n"
   ],
   "metadata": {
    "collapsed": false
   }
  },
  {
   "cell_type": "markdown",
   "source": [
    "Resulting graphs:"
   ],
   "metadata": {
    "collapsed": false
   }
  },
  {
   "cell_type": "markdown",
   "source": [
    "![](Graph1.png)\n",
    "\n",
    "\n",
    "![](Graph2.png)\n",
    "\n",
    "\n",
    "![](Graph3.png)"
   ],
   "metadata": {
    "collapsed": false
   }
  },
  {
   "cell_type": "markdown",
   "source": [
    "Conclusion: For this problem augmenting the swarm size over 500 doesn't improve the result or only slightly while augmenting process time in a linear way. A good tradeoff between performance and process time would be a swarm size of around 80 where whe observe a pick in the fitness reached. Same experiment realised with F8 F4 or F2 shows that for some problems the optimal swarm size is lower (around 35)"
   ],
   "metadata": {
    "collapsed": false
   }
  },
  {
   "cell_type": "markdown",
   "source": [
    "Set Hyperparameter_exploration_inertia to True if you want to experiment on inertia hyperparameters"
   ],
   "metadata": {
    "collapsed": false
   }
  },
  {
   "cell_type": "code",
   "execution_count": 77,
   "outputs": [],
   "source": [
    "Hyperparameter_exploration_inertia = False"
   ],
   "metadata": {
    "collapsed": false
   }
  },
  {
   "cell_type": "code",
   "execution_count": 78,
   "outputs": [],
   "source": [
    "if(Hyperparameter_exploration_inertia):\n",
    "    swarmsize = 500\n",
    "    numberofinformantsperparticle = 6\n",
    "    αList = [0.2,0.4,0.5,0.6]\n",
    "    βList = [0.4,0.5,0.6,0.8]\n",
    "    γList = [0.4,0.5,0.6,0.8]\n",
    "    δ = 0.0\n",
    "    e = 1\n",
    "    numberofiterations = 140\n",
    "    precisionwanted = 0.1\n",
    "\n",
    "    AverageOverRange = 5\n",
    "\n",
    "    Initialise = True\n",
    "    NumberIteration=0.0\n",
    "    for α in αList:\n",
    "        for β in βList:\n",
    "            for γ in γList:\n",
    "                fitness = 0.0\n",
    "                for i in range(AverageOverRange):\n",
    "                    NumberIteration+=1.0\n",
    "                    F = PSO.PSO(optproblems.cec2005.F17, 10, [-5,5], True, swarmsize, numberofinformantsperparticle, α, β, γ, δ, e)\n",
    "                    result = F.run(numberofiterations, precisionwanted)\n",
    "                    fitness += result[0].fitness\n",
    "                fitness = fitness/AverageOverRange\n",
    "                if(Initialise):\n",
    "                    Initialise = False\n",
    "                    bestfitness = fitness\n",
    "                elif(bestfitness > fitness):\n",
    "                    bestfitness = fitness\n",
    "                    bestconfig = [α, β, γ]\n",
    "                print(f\"Progress: {(NumberIteration/320.0)*100.0}%\")\n",
    "\n",
    "    print(\"Best config parameter α: \",bestconfig[0],\" β: \",bestconfig[1],\" γ: \",bestconfig[2])"
   ],
   "metadata": {
    "collapsed": false
   }
  },
  {
   "cell_type": "markdown",
   "source": [
    "Best config parameter found: α:  0.4  β:  0.6  γ:  0.6\n",
    "\n",
    "# Conlusion of exploration\n",
    "\n",
    "More research into the optimal parameters for each different problem would be appropriate as the optimal swarm size for example can be different from a problem to another, time constraints didn't let us the possibility to do so.\n",
    "\n"
   ],
   "metadata": {
    "collapsed": false
   }
  },
  {
   "cell_type": "markdown",
   "source": [
    "# Final test for comparison\n",
    "\n",
    " Set Write to True only if you dont have a dfPSO.pkl file\n",
    "\n",
    "# Test Functions\n",
    "- F2: Shifted Schwefel’s Problem 1.2\n",
    "    - Uni-modal without noise\n",
    "- F4: Shifted Schwefel’s Problem 1.2 with Noise in Fitness\n",
    "    - Uni-modal with noise\n",
    "- F8: Shifted Rotated Ackley’s Function with Global Optimum on Bounds\n",
    "    - Single function\n",
    "    - Global optimum on bounds\n",
    "    - Multi-modal\n",
    "- F13: Shifted Expanded Griewank’s plus Rosenbrock’s Function (F8F2)\n",
    "    - Expanded Function\n",
    "    - Multi-modal\n",
    "- F17: Rotated Version of Hybrid Composition Function with Noise in Fitness\n",
    "    - Gaussian noise in fitness\n",
    "    - Multi-modal\n",
    "    - Huge number of local optima\n",
    "    - In-deterministic\n",
    "- F24: Rotated Hybrid Composition Function\n",
    "    - Composite function\n",
    "    - Huge number of local optima\n",
    "    - Multi-modal"
   ],
   "metadata": {
    "collapsed": false
   }
  },
  {
   "cell_type": "code",
   "execution_count": 79,
   "outputs": [],
   "source": [
    "Write = False"
   ],
   "metadata": {
    "collapsed": false
   }
  },
  {
   "cell_type": "code",
   "execution_count": 80,
   "outputs": [],
   "source": [
    "#Swarm size as been lmited to 350 to reduce computation time\n",
    "swarmsize = 350\n",
    "numberofinformantsperparticle = 6\n",
    "α = 0.4\n",
    "β = 0.6\n",
    "γ = 0.6\n",
    "δ = 0\n",
    "e = 1\n",
    "numberofiterationsList = [250,500,1000]\n",
    "DimensionList = [10,30,50]\n",
    "precisionwanted = 0.1\n",
    "benchmarks_and_bounds = [[optproblems.cec2005.F2, [-100,100],\"F2\"], [optproblems.cec2005.F4,[-100,100],\"F4\"], [optproblems.cec2005.F8, [-32,32],\"F8\"], [ optproblems.cec2005.F13, [-3,1],\"F13\"], [optproblems.cec2005.F17, [-5,5],\"F17\"], [optproblems.cec2005.F24, [-5,5],\"F24\"]]\n",
    "AverageOverRange = 5\n",
    "\n",
    "list_for_df = []\n",
    "\n",
    "if(Write):\n",
    "    NumberIteration=0.0\n",
    "    for i in range(len(benchmarks_and_bounds)):\n",
    "        print(f\"\\t\\tFunction: {benchmarks_and_bounds[i][2]}\")\n",
    "        for numberofiterations in numberofiterationsList:\n",
    "            print(f\"\\t\\tIterations: {numberofiterations}\")\n",
    "            for dimension in DimensionList:\n",
    "                print(f\"\\t\\tDimension: {dimension}\")\n",
    "                averagefitness = 0\n",
    "                time = 0\n",
    "                for a in range(AverageOverRange):\n",
    "                    NumberIteration+=1.0\n",
    "                    F = PSO.PSO(benchmarks_and_bounds[i][0], dimension, benchmarks_and_bounds[i][1], True, swarmsize, numberofinformantsperparticle, α, β, γ, δ, e)\n",
    "                    result = F.run(numberofiterations, precisionwanted)\n",
    "                    averagefitness += result[0].fitness\n",
    "                    fitness = result[0].fitness\n",
    "                    time += result[1]\n",
    "                    print(f\"Progress: {(NumberIteration/270)*100.0}%\")\n",
    "                    if(a == 0):\n",
    "                        bestfitness = fitness\n",
    "                    elif(fitness<bestfitness):\n",
    "                        bestfitness = fitness\n",
    "                averagefitness = averagefitness/5.0\n",
    "                time = time/5.0\n",
    "                result_and_configuration = [dimension,benchmarks_and_bounds[i][2],benchmarks_and_bounds[i][0].bias,averagefitness,abs(benchmarks_and_bounds[i][0].bias-averagefitness),time,bestfitness,abs(benchmarks_and_bounds[i][0].bias-bestfitness),numberofiterations,dimension,swarmsize,numberofinformantsperparticle,α, β, γ, δ, e,AverageOverRange]\n",
    "                list_for_df.append(result_and_configuration)\n",
    "\n",
    "    labels = [\"Dimension\", \"TestFunction\", \"OptimalMinimum\", \"AverageBestFitness\", \"AverageBestFitnessDiffFromOpt\",\"Time\",\"BestBestFitness\",\"BestBestFitnessDiffFromOpt\", \"Iterations\", \"Dimensions\", \"SwarmSize\", \"NumbeInformantsPerParticle\", \"α\", \"β\", \"γ\", \"δ\", \"e\",\"AverageOverRange\"]\n",
    "    dfPSO = pandas.DataFrame(data=list_for_df, columns=labels)\n",
    "    dfPSO.to_pickle(\"dfPSO.pkl\")\n",
    "\n",
    "else:\n",
    "    dfPSO = pandas.read_pickle('dfPSO.pkl')"
   ],
   "metadata": {
    "collapsed": false
   }
  },
  {
   "cell_type": "code",
   "execution_count": 81,
   "outputs": [
    {
     "data": {
      "text/plain": "    Dimension TestFunction  OptimalMinimum  AverageBestFitness  \\\n0          10           F2          -450.0         1349.277489   \n1          30           F2          -450.0       176875.627666   \n2          50           F2          -450.0       478391.106707   \n3          10           F2          -450.0         1548.915918   \n4          30           F2          -450.0       180368.052150   \n5          50           F2          -450.0       535087.424428   \n6          10           F2          -450.0         1727.416162   \n7          30           F2          -450.0       180598.548843   \n8          50           F2          -450.0       579107.952665   \n9          10           F4          -450.0         3318.031928   \n10         30           F4          -450.0       150637.338937   \n11         50           F4          -450.0       634679.937289   \n12         10           F4          -450.0         2400.700671   \n13         30           F4          -450.0       181172.293821   \n14         50           F4          -450.0       571940.182952   \n15         10           F4          -450.0         3014.000187   \n16         30           F4          -450.0       207011.104985   \n17         50           F4          -450.0       626126.542820   \n18         10           F8          -140.0         -119.240789   \n19         30           F8          -140.0         -118.948455   \n20         50           F8          -140.0         -118.738049   \n21         10           F8          -140.0         -118.510784   \n22         30           F8          -140.0         -118.983226   \n23         50           F8          -140.0         -118.823952   \n24         10           F8          -140.0         -119.414019   \n25         30           F8          -140.0         -118.954023   \n26         50           F8          -140.0         -118.932675   \n27         10          F13          -130.0         -128.767771   \n28         30          F13          -130.0         -115.977292   \n29         50          F13          -130.0         -103.296913   \n30         10          F13          -130.0         -128.212716   \n31         30          F13          -130.0         -116.471890   \n32         50          F13          -130.0         -101.337794   \n33         10          F13          -130.0         -128.626699   \n34         30          F13          -130.0         -114.760453   \n35         50          F13          -130.0         -101.877134   \n36         10          F17           120.0          310.983656   \n37         30          F17           120.0          687.799100   \n38         50          F17           120.0          852.254970   \n39         10          F17           120.0          284.870831   \n40         30          F17           120.0          691.785661   \n41         50          F17           120.0          954.503277   \n42         10          F17           120.0          276.310133   \n43         30          F17           120.0          725.252419   \n44         50          F17           120.0          807.088982   \n45         10          F24           260.0          962.758387   \n46         30          F24           260.0         1562.086510   \n47         50          F24           260.0         1597.579555   \n48         10          F24           260.0         1174.564756   \n49         30          F24           260.0         1560.174719   \n50         50          F24           260.0         1596.628766   \n51         10          F24           260.0         1152.988019   \n52         30          F24           260.0         1559.697927   \n53         50          F24           260.0         1597.926843   \n\n    AverageBestFitnessDiffFromOpt        Time  BestBestFitness  \\\n0                     1799.277489    0.785878        51.426083   \n1                   177325.627666    2.680550    156430.307241   \n2                   478841.106707    4.293332    229154.168523   \n3                     1998.915918    2.005395       916.847329   \n4                   180818.052150    4.431452    148851.398767   \n5                   535537.424428    8.257269    291589.590101   \n6                     2177.416162    3.382538       164.693130   \n7                   181048.548843    8.974950    133997.090949   \n8                   579557.952665   13.798051    314305.417491   \n9                     3768.031928    1.549669       674.513647   \n10                  151087.338937    3.410182     63333.188688   \n11                  635129.937289    4.322272    269678.208590   \n12                    2850.700671    1.654915      1585.593229   \n13                  181622.293821    3.754598    118394.755059   \n14                  572390.182952    5.915147    239398.923014   \n15                    3464.000187    2.907531      1468.869579   \n16                  207461.104985    7.646576    122883.161691   \n17                  626576.542820   12.135651    383831.999580   \n18                      20.759211    1.024208      -119.888388   \n19                      21.051545    2.497391      -119.224315   \n20                      21.261951    4.584911      -119.050872   \n21                      21.489216    2.577447      -119.454765   \n22                      21.016774    4.917438      -119.316816   \n23                      21.176048    7.584366      -119.260354   \n24                      20.585981    3.913751      -119.771211   \n25                      21.045977    9.639734      -119.107405   \n26                      21.067325   15.528468      -119.185673   \n27                       1.232229    1.202112      -129.507476   \n28                      14.022708    3.291638      -120.363349   \n29                      26.703087    5.358822      -107.010266   \n30                       1.787284    2.584851      -128.751453   \n31                      13.528110    6.680486      -119.944423   \n32                      28.662206   10.851631      -109.399469   \n33                       1.373301    5.162204      -129.238871   \n34                      15.239547   13.231737      -121.392668   \n35                      28.122866   21.041665      -103.131866   \n36                     190.983656   18.159345       254.940749   \n37                     567.799100   39.034226       516.999051   \n38                     732.254970   85.057480       662.193032   \n39                     164.870831   39.344609       243.922072   \n40                     571.785661  102.005484       508.774551   \n41                     834.503277  143.121261       851.554611   \n42                     156.310133   57.330861       246.529259   \n43                     605.252419  151.881582       548.612137   \n44                     687.088982  237.861278       650.506796   \n45                     702.758387   12.306600       470.919152   \n46                    1302.086510   31.254680      1516.207944   \n47                    1337.579555   50.527641      1574.819926   \n48                     914.564756   25.629413       848.086299   \n49                    1300.174719   65.389857      1550.227778   \n50                    1336.628766  104.907383      1582.220678   \n51                     892.988019   50.890760       932.271895   \n52                    1299.697927  129.658169      1533.489783   \n53                    1337.926843  237.581708      1580.694039   \n\n    BestBestFitnessDiffFromOpt  Iterations  Dimensions  SwarmSize  \\\n0                  -501.426083         250          10        100   \n1               -156880.307241         250          30        100   \n2               -229604.168523         250          50        100   \n3                 -1366.847329         500          10        100   \n4               -149301.398767         500          30        100   \n5               -292039.590101         500          50        100   \n6                  -614.693130        1000          10        100   \n7               -134447.090949        1000          30        100   \n8               -314755.417491        1000          50        100   \n9                 -1124.513647         250          10        100   \n10               -63783.188688         250          30        100   \n11              -270128.208590         250          50        100   \n12                -2035.593229         500          10        100   \n13              -118844.755059         500          30        100   \n14              -239848.923014         500          50        100   \n15                -1918.869579        1000          10        100   \n16              -123333.161691        1000          30        100   \n17              -384281.999580        1000          50        100   \n18                  -20.111612         250          10        100   \n19                  -20.775685         250          30        100   \n20                  -20.949128         250          50        100   \n21                  -20.545235         500          10        100   \n22                  -20.683184         500          30        100   \n23                  -20.739646         500          50        100   \n24                  -20.228789        1000          10        100   \n25                  -20.892595        1000          30        100   \n26                  -20.814327        1000          50        100   \n27                   -0.492524         250          10        100   \n28                   -9.636651         250          30        100   \n29                  -22.989734         250          50        100   \n30                   -1.248547         500          10        100   \n31                  -10.055577         500          30        100   \n32                  -20.600531         500          50        100   \n33                   -0.761129        1000          10        100   \n34                   -8.607332        1000          30        100   \n35                  -26.868134        1000          50        100   \n36                 -134.940749         250          10        100   \n37                 -396.999051         250          30        100   \n38                 -542.193032         250          50        100   \n39                 -123.922072         500          10        100   \n40                 -388.774551         500          30        100   \n41                 -731.554611         500          50        100   \n42                 -126.529259        1000          10        100   \n43                 -428.612137        1000          30        100   \n44                 -530.506796        1000          50        100   \n45                 -210.919152         250          10        100   \n46                -1256.207944         250          30        100   \n47                -1314.819926         250          50        100   \n48                 -588.086299         500          10        100   \n49                -1290.227778         500          30        100   \n50                -1322.220678         500          50        100   \n51                 -672.271895        1000          10        100   \n52                -1273.489783        1000          30        100   \n53                -1320.694039        1000          50        100   \n\n    NumbeInformantsPerParticle    α    β    γ  δ  e  AverageOverRange  \n0                            6  0.4  0.6  0.6  0  1                 5  \n1                            6  0.4  0.6  0.6  0  1                 5  \n2                            6  0.4  0.6  0.6  0  1                 5  \n3                            6  0.4  0.6  0.6  0  1                 5  \n4                            6  0.4  0.6  0.6  0  1                 5  \n5                            6  0.4  0.6  0.6  0  1                 5  \n6                            6  0.4  0.6  0.6  0  1                 5  \n7                            6  0.4  0.6  0.6  0  1                 5  \n8                            6  0.4  0.6  0.6  0  1                 5  \n9                            6  0.4  0.6  0.6  0  1                 5  \n10                           6  0.4  0.6  0.6  0  1                 5  \n11                           6  0.4  0.6  0.6  0  1                 5  \n12                           6  0.4  0.6  0.6  0  1                 5  \n13                           6  0.4  0.6  0.6  0  1                 5  \n14                           6  0.4  0.6  0.6  0  1                 5  \n15                           6  0.4  0.6  0.6  0  1                 5  \n16                           6  0.4  0.6  0.6  0  1                 5  \n17                           6  0.4  0.6  0.6  0  1                 5  \n18                           6  0.4  0.6  0.6  0  1                 5  \n19                           6  0.4  0.6  0.6  0  1                 5  \n20                           6  0.4  0.6  0.6  0  1                 5  \n21                           6  0.4  0.6  0.6  0  1                 5  \n22                           6  0.4  0.6  0.6  0  1                 5  \n23                           6  0.4  0.6  0.6  0  1                 5  \n24                           6  0.4  0.6  0.6  0  1                 5  \n25                           6  0.4  0.6  0.6  0  1                 5  \n26                           6  0.4  0.6  0.6  0  1                 5  \n27                           6  0.4  0.6  0.6  0  1                 5  \n28                           6  0.4  0.6  0.6  0  1                 5  \n29                           6  0.4  0.6  0.6  0  1                 5  \n30                           6  0.4  0.6  0.6  0  1                 5  \n31                           6  0.4  0.6  0.6  0  1                 5  \n32                           6  0.4  0.6  0.6  0  1                 5  \n33                           6  0.4  0.6  0.6  0  1                 5  \n34                           6  0.4  0.6  0.6  0  1                 5  \n35                           6  0.4  0.6  0.6  0  1                 5  \n36                           6  0.4  0.6  0.6  0  1                 5  \n37                           6  0.4  0.6  0.6  0  1                 5  \n38                           6  0.4  0.6  0.6  0  1                 5  \n39                           6  0.4  0.6  0.6  0  1                 5  \n40                           6  0.4  0.6  0.6  0  1                 5  \n41                           6  0.4  0.6  0.6  0  1                 5  \n42                           6  0.4  0.6  0.6  0  1                 5  \n43                           6  0.4  0.6  0.6  0  1                 5  \n44                           6  0.4  0.6  0.6  0  1                 5  \n45                           6  0.4  0.6  0.6  0  1                 5  \n46                           6  0.4  0.6  0.6  0  1                 5  \n47                           6  0.4  0.6  0.6  0  1                 5  \n48                           6  0.4  0.6  0.6  0  1                 5  \n49                           6  0.4  0.6  0.6  0  1                 5  \n50                           6  0.4  0.6  0.6  0  1                 5  \n51                           6  0.4  0.6  0.6  0  1                 5  \n52                           6  0.4  0.6  0.6  0  1                 5  \n53                           6  0.4  0.6  0.6  0  1                 5  ",
      "text/html": "<div>\n<style scoped>\n    .dataframe tbody tr th:only-of-type {\n        vertical-align: middle;\n    }\n\n    .dataframe tbody tr th {\n        vertical-align: top;\n    }\n\n    .dataframe thead th {\n        text-align: right;\n    }\n</style>\n<table border=\"1\" class=\"dataframe\">\n  <thead>\n    <tr style=\"text-align: right;\">\n      <th></th>\n      <th>Dimension</th>\n      <th>TestFunction</th>\n      <th>OptimalMinimum</th>\n      <th>AverageBestFitness</th>\n      <th>AverageBestFitnessDiffFromOpt</th>\n      <th>Time</th>\n      <th>BestBestFitness</th>\n      <th>BestBestFitnessDiffFromOpt</th>\n      <th>Iterations</th>\n      <th>Dimensions</th>\n      <th>SwarmSize</th>\n      <th>NumbeInformantsPerParticle</th>\n      <th>α</th>\n      <th>β</th>\n      <th>γ</th>\n      <th>δ</th>\n      <th>e</th>\n      <th>AverageOverRange</th>\n    </tr>\n  </thead>\n  <tbody>\n    <tr>\n      <th>0</th>\n      <td>10</td>\n      <td>F2</td>\n      <td>-450.0</td>\n      <td>1349.277489</td>\n      <td>1799.277489</td>\n      <td>0.785878</td>\n      <td>51.426083</td>\n      <td>-501.426083</td>\n      <td>250</td>\n      <td>10</td>\n      <td>100</td>\n      <td>6</td>\n      <td>0.4</td>\n      <td>0.6</td>\n      <td>0.6</td>\n      <td>0</td>\n      <td>1</td>\n      <td>5</td>\n    </tr>\n    <tr>\n      <th>1</th>\n      <td>30</td>\n      <td>F2</td>\n      <td>-450.0</td>\n      <td>176875.627666</td>\n      <td>177325.627666</td>\n      <td>2.680550</td>\n      <td>156430.307241</td>\n      <td>-156880.307241</td>\n      <td>250</td>\n      <td>30</td>\n      <td>100</td>\n      <td>6</td>\n      <td>0.4</td>\n      <td>0.6</td>\n      <td>0.6</td>\n      <td>0</td>\n      <td>1</td>\n      <td>5</td>\n    </tr>\n    <tr>\n      <th>2</th>\n      <td>50</td>\n      <td>F2</td>\n      <td>-450.0</td>\n      <td>478391.106707</td>\n      <td>478841.106707</td>\n      <td>4.293332</td>\n      <td>229154.168523</td>\n      <td>-229604.168523</td>\n      <td>250</td>\n      <td>50</td>\n      <td>100</td>\n      <td>6</td>\n      <td>0.4</td>\n      <td>0.6</td>\n      <td>0.6</td>\n      <td>0</td>\n      <td>1</td>\n      <td>5</td>\n    </tr>\n    <tr>\n      <th>3</th>\n      <td>10</td>\n      <td>F2</td>\n      <td>-450.0</td>\n      <td>1548.915918</td>\n      <td>1998.915918</td>\n      <td>2.005395</td>\n      <td>916.847329</td>\n      <td>-1366.847329</td>\n      <td>500</td>\n      <td>10</td>\n      <td>100</td>\n      <td>6</td>\n      <td>0.4</td>\n      <td>0.6</td>\n      <td>0.6</td>\n      <td>0</td>\n      <td>1</td>\n      <td>5</td>\n    </tr>\n    <tr>\n      <th>4</th>\n      <td>30</td>\n      <td>F2</td>\n      <td>-450.0</td>\n      <td>180368.052150</td>\n      <td>180818.052150</td>\n      <td>4.431452</td>\n      <td>148851.398767</td>\n      <td>-149301.398767</td>\n      <td>500</td>\n      <td>30</td>\n      <td>100</td>\n      <td>6</td>\n      <td>0.4</td>\n      <td>0.6</td>\n      <td>0.6</td>\n      <td>0</td>\n      <td>1</td>\n      <td>5</td>\n    </tr>\n    <tr>\n      <th>5</th>\n      <td>50</td>\n      <td>F2</td>\n      <td>-450.0</td>\n      <td>535087.424428</td>\n      <td>535537.424428</td>\n      <td>8.257269</td>\n      <td>291589.590101</td>\n      <td>-292039.590101</td>\n      <td>500</td>\n      <td>50</td>\n      <td>100</td>\n      <td>6</td>\n      <td>0.4</td>\n      <td>0.6</td>\n      <td>0.6</td>\n      <td>0</td>\n      <td>1</td>\n      <td>5</td>\n    </tr>\n    <tr>\n      <th>6</th>\n      <td>10</td>\n      <td>F2</td>\n      <td>-450.0</td>\n      <td>1727.416162</td>\n      <td>2177.416162</td>\n      <td>3.382538</td>\n      <td>164.693130</td>\n      <td>-614.693130</td>\n      <td>1000</td>\n      <td>10</td>\n      <td>100</td>\n      <td>6</td>\n      <td>0.4</td>\n      <td>0.6</td>\n      <td>0.6</td>\n      <td>0</td>\n      <td>1</td>\n      <td>5</td>\n    </tr>\n    <tr>\n      <th>7</th>\n      <td>30</td>\n      <td>F2</td>\n      <td>-450.0</td>\n      <td>180598.548843</td>\n      <td>181048.548843</td>\n      <td>8.974950</td>\n      <td>133997.090949</td>\n      <td>-134447.090949</td>\n      <td>1000</td>\n      <td>30</td>\n      <td>100</td>\n      <td>6</td>\n      <td>0.4</td>\n      <td>0.6</td>\n      <td>0.6</td>\n      <td>0</td>\n      <td>1</td>\n      <td>5</td>\n    </tr>\n    <tr>\n      <th>8</th>\n      <td>50</td>\n      <td>F2</td>\n      <td>-450.0</td>\n      <td>579107.952665</td>\n      <td>579557.952665</td>\n      <td>13.798051</td>\n      <td>314305.417491</td>\n      <td>-314755.417491</td>\n      <td>1000</td>\n      <td>50</td>\n      <td>100</td>\n      <td>6</td>\n      <td>0.4</td>\n      <td>0.6</td>\n      <td>0.6</td>\n      <td>0</td>\n      <td>1</td>\n      <td>5</td>\n    </tr>\n    <tr>\n      <th>9</th>\n      <td>10</td>\n      <td>F4</td>\n      <td>-450.0</td>\n      <td>3318.031928</td>\n      <td>3768.031928</td>\n      <td>1.549669</td>\n      <td>674.513647</td>\n      <td>-1124.513647</td>\n      <td>250</td>\n      <td>10</td>\n      <td>100</td>\n      <td>6</td>\n      <td>0.4</td>\n      <td>0.6</td>\n      <td>0.6</td>\n      <td>0</td>\n      <td>1</td>\n      <td>5</td>\n    </tr>\n    <tr>\n      <th>10</th>\n      <td>30</td>\n      <td>F4</td>\n      <td>-450.0</td>\n      <td>150637.338937</td>\n      <td>151087.338937</td>\n      <td>3.410182</td>\n      <td>63333.188688</td>\n      <td>-63783.188688</td>\n      <td>250</td>\n      <td>30</td>\n      <td>100</td>\n      <td>6</td>\n      <td>0.4</td>\n      <td>0.6</td>\n      <td>0.6</td>\n      <td>0</td>\n      <td>1</td>\n      <td>5</td>\n    </tr>\n    <tr>\n      <th>11</th>\n      <td>50</td>\n      <td>F4</td>\n      <td>-450.0</td>\n      <td>634679.937289</td>\n      <td>635129.937289</td>\n      <td>4.322272</td>\n      <td>269678.208590</td>\n      <td>-270128.208590</td>\n      <td>250</td>\n      <td>50</td>\n      <td>100</td>\n      <td>6</td>\n      <td>0.4</td>\n      <td>0.6</td>\n      <td>0.6</td>\n      <td>0</td>\n      <td>1</td>\n      <td>5</td>\n    </tr>\n    <tr>\n      <th>12</th>\n      <td>10</td>\n      <td>F4</td>\n      <td>-450.0</td>\n      <td>2400.700671</td>\n      <td>2850.700671</td>\n      <td>1.654915</td>\n      <td>1585.593229</td>\n      <td>-2035.593229</td>\n      <td>500</td>\n      <td>10</td>\n      <td>100</td>\n      <td>6</td>\n      <td>0.4</td>\n      <td>0.6</td>\n      <td>0.6</td>\n      <td>0</td>\n      <td>1</td>\n      <td>5</td>\n    </tr>\n    <tr>\n      <th>13</th>\n      <td>30</td>\n      <td>F4</td>\n      <td>-450.0</td>\n      <td>181172.293821</td>\n      <td>181622.293821</td>\n      <td>3.754598</td>\n      <td>118394.755059</td>\n      <td>-118844.755059</td>\n      <td>500</td>\n      <td>30</td>\n      <td>100</td>\n      <td>6</td>\n      <td>0.4</td>\n      <td>0.6</td>\n      <td>0.6</td>\n      <td>0</td>\n      <td>1</td>\n      <td>5</td>\n    </tr>\n    <tr>\n      <th>14</th>\n      <td>50</td>\n      <td>F4</td>\n      <td>-450.0</td>\n      <td>571940.182952</td>\n      <td>572390.182952</td>\n      <td>5.915147</td>\n      <td>239398.923014</td>\n      <td>-239848.923014</td>\n      <td>500</td>\n      <td>50</td>\n      <td>100</td>\n      <td>6</td>\n      <td>0.4</td>\n      <td>0.6</td>\n      <td>0.6</td>\n      <td>0</td>\n      <td>1</td>\n      <td>5</td>\n    </tr>\n    <tr>\n      <th>15</th>\n      <td>10</td>\n      <td>F4</td>\n      <td>-450.0</td>\n      <td>3014.000187</td>\n      <td>3464.000187</td>\n      <td>2.907531</td>\n      <td>1468.869579</td>\n      <td>-1918.869579</td>\n      <td>1000</td>\n      <td>10</td>\n      <td>100</td>\n      <td>6</td>\n      <td>0.4</td>\n      <td>0.6</td>\n      <td>0.6</td>\n      <td>0</td>\n      <td>1</td>\n      <td>5</td>\n    </tr>\n    <tr>\n      <th>16</th>\n      <td>30</td>\n      <td>F4</td>\n      <td>-450.0</td>\n      <td>207011.104985</td>\n      <td>207461.104985</td>\n      <td>7.646576</td>\n      <td>122883.161691</td>\n      <td>-123333.161691</td>\n      <td>1000</td>\n      <td>30</td>\n      <td>100</td>\n      <td>6</td>\n      <td>0.4</td>\n      <td>0.6</td>\n      <td>0.6</td>\n      <td>0</td>\n      <td>1</td>\n      <td>5</td>\n    </tr>\n    <tr>\n      <th>17</th>\n      <td>50</td>\n      <td>F4</td>\n      <td>-450.0</td>\n      <td>626126.542820</td>\n      <td>626576.542820</td>\n      <td>12.135651</td>\n      <td>383831.999580</td>\n      <td>-384281.999580</td>\n      <td>1000</td>\n      <td>50</td>\n      <td>100</td>\n      <td>6</td>\n      <td>0.4</td>\n      <td>0.6</td>\n      <td>0.6</td>\n      <td>0</td>\n      <td>1</td>\n      <td>5</td>\n    </tr>\n    <tr>\n      <th>18</th>\n      <td>10</td>\n      <td>F8</td>\n      <td>-140.0</td>\n      <td>-119.240789</td>\n      <td>20.759211</td>\n      <td>1.024208</td>\n      <td>-119.888388</td>\n      <td>-20.111612</td>\n      <td>250</td>\n      <td>10</td>\n      <td>100</td>\n      <td>6</td>\n      <td>0.4</td>\n      <td>0.6</td>\n      <td>0.6</td>\n      <td>0</td>\n      <td>1</td>\n      <td>5</td>\n    </tr>\n    <tr>\n      <th>19</th>\n      <td>30</td>\n      <td>F8</td>\n      <td>-140.0</td>\n      <td>-118.948455</td>\n      <td>21.051545</td>\n      <td>2.497391</td>\n      <td>-119.224315</td>\n      <td>-20.775685</td>\n      <td>250</td>\n      <td>30</td>\n      <td>100</td>\n      <td>6</td>\n      <td>0.4</td>\n      <td>0.6</td>\n      <td>0.6</td>\n      <td>0</td>\n      <td>1</td>\n      <td>5</td>\n    </tr>\n    <tr>\n      <th>20</th>\n      <td>50</td>\n      <td>F8</td>\n      <td>-140.0</td>\n      <td>-118.738049</td>\n      <td>21.261951</td>\n      <td>4.584911</td>\n      <td>-119.050872</td>\n      <td>-20.949128</td>\n      <td>250</td>\n      <td>50</td>\n      <td>100</td>\n      <td>6</td>\n      <td>0.4</td>\n      <td>0.6</td>\n      <td>0.6</td>\n      <td>0</td>\n      <td>1</td>\n      <td>5</td>\n    </tr>\n    <tr>\n      <th>21</th>\n      <td>10</td>\n      <td>F8</td>\n      <td>-140.0</td>\n      <td>-118.510784</td>\n      <td>21.489216</td>\n      <td>2.577447</td>\n      <td>-119.454765</td>\n      <td>-20.545235</td>\n      <td>500</td>\n      <td>10</td>\n      <td>100</td>\n      <td>6</td>\n      <td>0.4</td>\n      <td>0.6</td>\n      <td>0.6</td>\n      <td>0</td>\n      <td>1</td>\n      <td>5</td>\n    </tr>\n    <tr>\n      <th>22</th>\n      <td>30</td>\n      <td>F8</td>\n      <td>-140.0</td>\n      <td>-118.983226</td>\n      <td>21.016774</td>\n      <td>4.917438</td>\n      <td>-119.316816</td>\n      <td>-20.683184</td>\n      <td>500</td>\n      <td>30</td>\n      <td>100</td>\n      <td>6</td>\n      <td>0.4</td>\n      <td>0.6</td>\n      <td>0.6</td>\n      <td>0</td>\n      <td>1</td>\n      <td>5</td>\n    </tr>\n    <tr>\n      <th>23</th>\n      <td>50</td>\n      <td>F8</td>\n      <td>-140.0</td>\n      <td>-118.823952</td>\n      <td>21.176048</td>\n      <td>7.584366</td>\n      <td>-119.260354</td>\n      <td>-20.739646</td>\n      <td>500</td>\n      <td>50</td>\n      <td>100</td>\n      <td>6</td>\n      <td>0.4</td>\n      <td>0.6</td>\n      <td>0.6</td>\n      <td>0</td>\n      <td>1</td>\n      <td>5</td>\n    </tr>\n    <tr>\n      <th>24</th>\n      <td>10</td>\n      <td>F8</td>\n      <td>-140.0</td>\n      <td>-119.414019</td>\n      <td>20.585981</td>\n      <td>3.913751</td>\n      <td>-119.771211</td>\n      <td>-20.228789</td>\n      <td>1000</td>\n      <td>10</td>\n      <td>100</td>\n      <td>6</td>\n      <td>0.4</td>\n      <td>0.6</td>\n      <td>0.6</td>\n      <td>0</td>\n      <td>1</td>\n      <td>5</td>\n    </tr>\n    <tr>\n      <th>25</th>\n      <td>30</td>\n      <td>F8</td>\n      <td>-140.0</td>\n      <td>-118.954023</td>\n      <td>21.045977</td>\n      <td>9.639734</td>\n      <td>-119.107405</td>\n      <td>-20.892595</td>\n      <td>1000</td>\n      <td>30</td>\n      <td>100</td>\n      <td>6</td>\n      <td>0.4</td>\n      <td>0.6</td>\n      <td>0.6</td>\n      <td>0</td>\n      <td>1</td>\n      <td>5</td>\n    </tr>\n    <tr>\n      <th>26</th>\n      <td>50</td>\n      <td>F8</td>\n      <td>-140.0</td>\n      <td>-118.932675</td>\n      <td>21.067325</td>\n      <td>15.528468</td>\n      <td>-119.185673</td>\n      <td>-20.814327</td>\n      <td>1000</td>\n      <td>50</td>\n      <td>100</td>\n      <td>6</td>\n      <td>0.4</td>\n      <td>0.6</td>\n      <td>0.6</td>\n      <td>0</td>\n      <td>1</td>\n      <td>5</td>\n    </tr>\n    <tr>\n      <th>27</th>\n      <td>10</td>\n      <td>F13</td>\n      <td>-130.0</td>\n      <td>-128.767771</td>\n      <td>1.232229</td>\n      <td>1.202112</td>\n      <td>-129.507476</td>\n      <td>-0.492524</td>\n      <td>250</td>\n      <td>10</td>\n      <td>100</td>\n      <td>6</td>\n      <td>0.4</td>\n      <td>0.6</td>\n      <td>0.6</td>\n      <td>0</td>\n      <td>1</td>\n      <td>5</td>\n    </tr>\n    <tr>\n      <th>28</th>\n      <td>30</td>\n      <td>F13</td>\n      <td>-130.0</td>\n      <td>-115.977292</td>\n      <td>14.022708</td>\n      <td>3.291638</td>\n      <td>-120.363349</td>\n      <td>-9.636651</td>\n      <td>250</td>\n      <td>30</td>\n      <td>100</td>\n      <td>6</td>\n      <td>0.4</td>\n      <td>0.6</td>\n      <td>0.6</td>\n      <td>0</td>\n      <td>1</td>\n      <td>5</td>\n    </tr>\n    <tr>\n      <th>29</th>\n      <td>50</td>\n      <td>F13</td>\n      <td>-130.0</td>\n      <td>-103.296913</td>\n      <td>26.703087</td>\n      <td>5.358822</td>\n      <td>-107.010266</td>\n      <td>-22.989734</td>\n      <td>250</td>\n      <td>50</td>\n      <td>100</td>\n      <td>6</td>\n      <td>0.4</td>\n      <td>0.6</td>\n      <td>0.6</td>\n      <td>0</td>\n      <td>1</td>\n      <td>5</td>\n    </tr>\n    <tr>\n      <th>30</th>\n      <td>10</td>\n      <td>F13</td>\n      <td>-130.0</td>\n      <td>-128.212716</td>\n      <td>1.787284</td>\n      <td>2.584851</td>\n      <td>-128.751453</td>\n      <td>-1.248547</td>\n      <td>500</td>\n      <td>10</td>\n      <td>100</td>\n      <td>6</td>\n      <td>0.4</td>\n      <td>0.6</td>\n      <td>0.6</td>\n      <td>0</td>\n      <td>1</td>\n      <td>5</td>\n    </tr>\n    <tr>\n      <th>31</th>\n      <td>30</td>\n      <td>F13</td>\n      <td>-130.0</td>\n      <td>-116.471890</td>\n      <td>13.528110</td>\n      <td>6.680486</td>\n      <td>-119.944423</td>\n      <td>-10.055577</td>\n      <td>500</td>\n      <td>30</td>\n      <td>100</td>\n      <td>6</td>\n      <td>0.4</td>\n      <td>0.6</td>\n      <td>0.6</td>\n      <td>0</td>\n      <td>1</td>\n      <td>5</td>\n    </tr>\n    <tr>\n      <th>32</th>\n      <td>50</td>\n      <td>F13</td>\n      <td>-130.0</td>\n      <td>-101.337794</td>\n      <td>28.662206</td>\n      <td>10.851631</td>\n      <td>-109.399469</td>\n      <td>-20.600531</td>\n      <td>500</td>\n      <td>50</td>\n      <td>100</td>\n      <td>6</td>\n      <td>0.4</td>\n      <td>0.6</td>\n      <td>0.6</td>\n      <td>0</td>\n      <td>1</td>\n      <td>5</td>\n    </tr>\n    <tr>\n      <th>33</th>\n      <td>10</td>\n      <td>F13</td>\n      <td>-130.0</td>\n      <td>-128.626699</td>\n      <td>1.373301</td>\n      <td>5.162204</td>\n      <td>-129.238871</td>\n      <td>-0.761129</td>\n      <td>1000</td>\n      <td>10</td>\n      <td>100</td>\n      <td>6</td>\n      <td>0.4</td>\n      <td>0.6</td>\n      <td>0.6</td>\n      <td>0</td>\n      <td>1</td>\n      <td>5</td>\n    </tr>\n    <tr>\n      <th>34</th>\n      <td>30</td>\n      <td>F13</td>\n      <td>-130.0</td>\n      <td>-114.760453</td>\n      <td>15.239547</td>\n      <td>13.231737</td>\n      <td>-121.392668</td>\n      <td>-8.607332</td>\n      <td>1000</td>\n      <td>30</td>\n      <td>100</td>\n      <td>6</td>\n      <td>0.4</td>\n      <td>0.6</td>\n      <td>0.6</td>\n      <td>0</td>\n      <td>1</td>\n      <td>5</td>\n    </tr>\n    <tr>\n      <th>35</th>\n      <td>50</td>\n      <td>F13</td>\n      <td>-130.0</td>\n      <td>-101.877134</td>\n      <td>28.122866</td>\n      <td>21.041665</td>\n      <td>-103.131866</td>\n      <td>-26.868134</td>\n      <td>1000</td>\n      <td>50</td>\n      <td>100</td>\n      <td>6</td>\n      <td>0.4</td>\n      <td>0.6</td>\n      <td>0.6</td>\n      <td>0</td>\n      <td>1</td>\n      <td>5</td>\n    </tr>\n    <tr>\n      <th>36</th>\n      <td>10</td>\n      <td>F17</td>\n      <td>120.0</td>\n      <td>310.983656</td>\n      <td>190.983656</td>\n      <td>18.159345</td>\n      <td>254.940749</td>\n      <td>-134.940749</td>\n      <td>250</td>\n      <td>10</td>\n      <td>100</td>\n      <td>6</td>\n      <td>0.4</td>\n      <td>0.6</td>\n      <td>0.6</td>\n      <td>0</td>\n      <td>1</td>\n      <td>5</td>\n    </tr>\n    <tr>\n      <th>37</th>\n      <td>30</td>\n      <td>F17</td>\n      <td>120.0</td>\n      <td>687.799100</td>\n      <td>567.799100</td>\n      <td>39.034226</td>\n      <td>516.999051</td>\n      <td>-396.999051</td>\n      <td>250</td>\n      <td>30</td>\n      <td>100</td>\n      <td>6</td>\n      <td>0.4</td>\n      <td>0.6</td>\n      <td>0.6</td>\n      <td>0</td>\n      <td>1</td>\n      <td>5</td>\n    </tr>\n    <tr>\n      <th>38</th>\n      <td>50</td>\n      <td>F17</td>\n      <td>120.0</td>\n      <td>852.254970</td>\n      <td>732.254970</td>\n      <td>85.057480</td>\n      <td>662.193032</td>\n      <td>-542.193032</td>\n      <td>250</td>\n      <td>50</td>\n      <td>100</td>\n      <td>6</td>\n      <td>0.4</td>\n      <td>0.6</td>\n      <td>0.6</td>\n      <td>0</td>\n      <td>1</td>\n      <td>5</td>\n    </tr>\n    <tr>\n      <th>39</th>\n      <td>10</td>\n      <td>F17</td>\n      <td>120.0</td>\n      <td>284.870831</td>\n      <td>164.870831</td>\n      <td>39.344609</td>\n      <td>243.922072</td>\n      <td>-123.922072</td>\n      <td>500</td>\n      <td>10</td>\n      <td>100</td>\n      <td>6</td>\n      <td>0.4</td>\n      <td>0.6</td>\n      <td>0.6</td>\n      <td>0</td>\n      <td>1</td>\n      <td>5</td>\n    </tr>\n    <tr>\n      <th>40</th>\n      <td>30</td>\n      <td>F17</td>\n      <td>120.0</td>\n      <td>691.785661</td>\n      <td>571.785661</td>\n      <td>102.005484</td>\n      <td>508.774551</td>\n      <td>-388.774551</td>\n      <td>500</td>\n      <td>30</td>\n      <td>100</td>\n      <td>6</td>\n      <td>0.4</td>\n      <td>0.6</td>\n      <td>0.6</td>\n      <td>0</td>\n      <td>1</td>\n      <td>5</td>\n    </tr>\n    <tr>\n      <th>41</th>\n      <td>50</td>\n      <td>F17</td>\n      <td>120.0</td>\n      <td>954.503277</td>\n      <td>834.503277</td>\n      <td>143.121261</td>\n      <td>851.554611</td>\n      <td>-731.554611</td>\n      <td>500</td>\n      <td>50</td>\n      <td>100</td>\n      <td>6</td>\n      <td>0.4</td>\n      <td>0.6</td>\n      <td>0.6</td>\n      <td>0</td>\n      <td>1</td>\n      <td>5</td>\n    </tr>\n    <tr>\n      <th>42</th>\n      <td>10</td>\n      <td>F17</td>\n      <td>120.0</td>\n      <td>276.310133</td>\n      <td>156.310133</td>\n      <td>57.330861</td>\n      <td>246.529259</td>\n      <td>-126.529259</td>\n      <td>1000</td>\n      <td>10</td>\n      <td>100</td>\n      <td>6</td>\n      <td>0.4</td>\n      <td>0.6</td>\n      <td>0.6</td>\n      <td>0</td>\n      <td>1</td>\n      <td>5</td>\n    </tr>\n    <tr>\n      <th>43</th>\n      <td>30</td>\n      <td>F17</td>\n      <td>120.0</td>\n      <td>725.252419</td>\n      <td>605.252419</td>\n      <td>151.881582</td>\n      <td>548.612137</td>\n      <td>-428.612137</td>\n      <td>1000</td>\n      <td>30</td>\n      <td>100</td>\n      <td>6</td>\n      <td>0.4</td>\n      <td>0.6</td>\n      <td>0.6</td>\n      <td>0</td>\n      <td>1</td>\n      <td>5</td>\n    </tr>\n    <tr>\n      <th>44</th>\n      <td>50</td>\n      <td>F17</td>\n      <td>120.0</td>\n      <td>807.088982</td>\n      <td>687.088982</td>\n      <td>237.861278</td>\n      <td>650.506796</td>\n      <td>-530.506796</td>\n      <td>1000</td>\n      <td>50</td>\n      <td>100</td>\n      <td>6</td>\n      <td>0.4</td>\n      <td>0.6</td>\n      <td>0.6</td>\n      <td>0</td>\n      <td>1</td>\n      <td>5</td>\n    </tr>\n    <tr>\n      <th>45</th>\n      <td>10</td>\n      <td>F24</td>\n      <td>260.0</td>\n      <td>962.758387</td>\n      <td>702.758387</td>\n      <td>12.306600</td>\n      <td>470.919152</td>\n      <td>-210.919152</td>\n      <td>250</td>\n      <td>10</td>\n      <td>100</td>\n      <td>6</td>\n      <td>0.4</td>\n      <td>0.6</td>\n      <td>0.6</td>\n      <td>0</td>\n      <td>1</td>\n      <td>5</td>\n    </tr>\n    <tr>\n      <th>46</th>\n      <td>30</td>\n      <td>F24</td>\n      <td>260.0</td>\n      <td>1562.086510</td>\n      <td>1302.086510</td>\n      <td>31.254680</td>\n      <td>1516.207944</td>\n      <td>-1256.207944</td>\n      <td>250</td>\n      <td>30</td>\n      <td>100</td>\n      <td>6</td>\n      <td>0.4</td>\n      <td>0.6</td>\n      <td>0.6</td>\n      <td>0</td>\n      <td>1</td>\n      <td>5</td>\n    </tr>\n    <tr>\n      <th>47</th>\n      <td>50</td>\n      <td>F24</td>\n      <td>260.0</td>\n      <td>1597.579555</td>\n      <td>1337.579555</td>\n      <td>50.527641</td>\n      <td>1574.819926</td>\n      <td>-1314.819926</td>\n      <td>250</td>\n      <td>50</td>\n      <td>100</td>\n      <td>6</td>\n      <td>0.4</td>\n      <td>0.6</td>\n      <td>0.6</td>\n      <td>0</td>\n      <td>1</td>\n      <td>5</td>\n    </tr>\n    <tr>\n      <th>48</th>\n      <td>10</td>\n      <td>F24</td>\n      <td>260.0</td>\n      <td>1174.564756</td>\n      <td>914.564756</td>\n      <td>25.629413</td>\n      <td>848.086299</td>\n      <td>-588.086299</td>\n      <td>500</td>\n      <td>10</td>\n      <td>100</td>\n      <td>6</td>\n      <td>0.4</td>\n      <td>0.6</td>\n      <td>0.6</td>\n      <td>0</td>\n      <td>1</td>\n      <td>5</td>\n    </tr>\n    <tr>\n      <th>49</th>\n      <td>30</td>\n      <td>F24</td>\n      <td>260.0</td>\n      <td>1560.174719</td>\n      <td>1300.174719</td>\n      <td>65.389857</td>\n      <td>1550.227778</td>\n      <td>-1290.227778</td>\n      <td>500</td>\n      <td>30</td>\n      <td>100</td>\n      <td>6</td>\n      <td>0.4</td>\n      <td>0.6</td>\n      <td>0.6</td>\n      <td>0</td>\n      <td>1</td>\n      <td>5</td>\n    </tr>\n    <tr>\n      <th>50</th>\n      <td>50</td>\n      <td>F24</td>\n      <td>260.0</td>\n      <td>1596.628766</td>\n      <td>1336.628766</td>\n      <td>104.907383</td>\n      <td>1582.220678</td>\n      <td>-1322.220678</td>\n      <td>500</td>\n      <td>50</td>\n      <td>100</td>\n      <td>6</td>\n      <td>0.4</td>\n      <td>0.6</td>\n      <td>0.6</td>\n      <td>0</td>\n      <td>1</td>\n      <td>5</td>\n    </tr>\n    <tr>\n      <th>51</th>\n      <td>10</td>\n      <td>F24</td>\n      <td>260.0</td>\n      <td>1152.988019</td>\n      <td>892.988019</td>\n      <td>50.890760</td>\n      <td>932.271895</td>\n      <td>-672.271895</td>\n      <td>1000</td>\n      <td>10</td>\n      <td>100</td>\n      <td>6</td>\n      <td>0.4</td>\n      <td>0.6</td>\n      <td>0.6</td>\n      <td>0</td>\n      <td>1</td>\n      <td>5</td>\n    </tr>\n    <tr>\n      <th>52</th>\n      <td>30</td>\n      <td>F24</td>\n      <td>260.0</td>\n      <td>1559.697927</td>\n      <td>1299.697927</td>\n      <td>129.658169</td>\n      <td>1533.489783</td>\n      <td>-1273.489783</td>\n      <td>1000</td>\n      <td>30</td>\n      <td>100</td>\n      <td>6</td>\n      <td>0.4</td>\n      <td>0.6</td>\n      <td>0.6</td>\n      <td>0</td>\n      <td>1</td>\n      <td>5</td>\n    </tr>\n    <tr>\n      <th>53</th>\n      <td>50</td>\n      <td>F24</td>\n      <td>260.0</td>\n      <td>1597.926843</td>\n      <td>1337.926843</td>\n      <td>237.581708</td>\n      <td>1580.694039</td>\n      <td>-1320.694039</td>\n      <td>1000</td>\n      <td>50</td>\n      <td>100</td>\n      <td>6</td>\n      <td>0.4</td>\n      <td>0.6</td>\n      <td>0.6</td>\n      <td>0</td>\n      <td>1</td>\n      <td>5</td>\n    </tr>\n  </tbody>\n</table>\n</div>"
     },
     "execution_count": 81,
     "metadata": {},
     "output_type": "execute_result"
    }
   ],
   "source": [
    "dfPSO"
   ],
   "metadata": {
    "collapsed": false
   }
  },
  {
   "cell_type": "code",
   "execution_count": 82,
   "outputs": [],
   "source": [
    "dfPSO['BestBestFitnessDiffFromOpt'] = dfPSO['BestBestFitnessDiffFromOpt'].abs()"
   ],
   "metadata": {
    "collapsed": false
   }
  },
  {
   "cell_type": "markdown",
   "source": [
    "# F2\n",
    "\n",
    "- Best Diff: 501.43 -> 250 iterations / 10 Dimension / 100 swarm size / 6 informants per particle / α 0.4 / β 0.6 / γ 0.6 / δ 0 / e 1\n",
    "    - Error: 501.43 / 450 ->  111.43%\n",
    "    - Time: 0.79\n",
    "- Avr. Diff: 1799.28 -> 250 iterations / 10 Dimension / 100 swarm size / 6 informants per particle / α 0.4 / β 0.6 / γ 0.6 / δ 0 / e 1\n",
    "    - Error: 1799.28 / 450 ->  399.84%\n",
    "    - Time: 0.79\n"
   ],
   "metadata": {
    "collapsed": false
   }
  },
  {
   "cell_type": "code",
   "execution_count": 83,
   "outputs": [
    {
     "data": {
      "text/plain": "   Dimension TestFunction  OptimalMinimum  AverageBestFitness  \\\n0         10           F2          -450.0         1349.277489   \n\n   AverageBestFitnessDiffFromOpt      Time  BestBestFitness  \\\n0                    1799.277489  0.785878        51.426083   \n\n   BestBestFitnessDiffFromOpt  Iterations  Dimensions  SwarmSize  \\\n0                  501.426083         250          10        100   \n\n   NumbeInformantsPerParticle    α    β    γ  δ  e  AverageOverRange  \n0                           6  0.4  0.6  0.6  0  1                 5  ",
      "text/html": "<div>\n<style scoped>\n    .dataframe tbody tr th:only-of-type {\n        vertical-align: middle;\n    }\n\n    .dataframe tbody tr th {\n        vertical-align: top;\n    }\n\n    .dataframe thead th {\n        text-align: right;\n    }\n</style>\n<table border=\"1\" class=\"dataframe\">\n  <thead>\n    <tr style=\"text-align: right;\">\n      <th></th>\n      <th>Dimension</th>\n      <th>TestFunction</th>\n      <th>OptimalMinimum</th>\n      <th>AverageBestFitness</th>\n      <th>AverageBestFitnessDiffFromOpt</th>\n      <th>Time</th>\n      <th>BestBestFitness</th>\n      <th>BestBestFitnessDiffFromOpt</th>\n      <th>Iterations</th>\n      <th>Dimensions</th>\n      <th>SwarmSize</th>\n      <th>NumbeInformantsPerParticle</th>\n      <th>α</th>\n      <th>β</th>\n      <th>γ</th>\n      <th>δ</th>\n      <th>e</th>\n      <th>AverageOverRange</th>\n    </tr>\n  </thead>\n  <tbody>\n    <tr>\n      <th>0</th>\n      <td>10</td>\n      <td>F2</td>\n      <td>-450.0</td>\n      <td>1349.277489</td>\n      <td>1799.277489</td>\n      <td>0.785878</td>\n      <td>51.426083</td>\n      <td>501.426083</td>\n      <td>250</td>\n      <td>10</td>\n      <td>100</td>\n      <td>6</td>\n      <td>0.4</td>\n      <td>0.6</td>\n      <td>0.6</td>\n      <td>0</td>\n      <td>1</td>\n      <td>5</td>\n    </tr>\n  </tbody>\n</table>\n</div>"
     },
     "execution_count": 83,
     "metadata": {},
     "output_type": "execute_result"
    }
   ],
   "source": [
    "df_F2 = dfPSO.query(\"TestFunction == 'F2'\")\n",
    "df_F2[df_F2.BestBestFitnessDiffFromOpt == df_F2.BestBestFitnessDiffFromOpt.min()]"
   ],
   "metadata": {
    "collapsed": false
   }
  },
  {
   "cell_type": "code",
   "execution_count": 84,
   "outputs": [
    {
     "data": {
      "text/plain": "   Dimension TestFunction  OptimalMinimum  AverageBestFitness  \\\n0         10           F2          -450.0         1349.277489   \n\n   AverageBestFitnessDiffFromOpt      Time  BestBestFitness  \\\n0                    1799.277489  0.785878        51.426083   \n\n   BestBestFitnessDiffFromOpt  Iterations  Dimensions  SwarmSize  \\\n0                  501.426083         250          10        100   \n\n   NumbeInformantsPerParticle    α    β    γ  δ  e  AverageOverRange  \n0                           6  0.4  0.6  0.6  0  1                 5  ",
      "text/html": "<div>\n<style scoped>\n    .dataframe tbody tr th:only-of-type {\n        vertical-align: middle;\n    }\n\n    .dataframe tbody tr th {\n        vertical-align: top;\n    }\n\n    .dataframe thead th {\n        text-align: right;\n    }\n</style>\n<table border=\"1\" class=\"dataframe\">\n  <thead>\n    <tr style=\"text-align: right;\">\n      <th></th>\n      <th>Dimension</th>\n      <th>TestFunction</th>\n      <th>OptimalMinimum</th>\n      <th>AverageBestFitness</th>\n      <th>AverageBestFitnessDiffFromOpt</th>\n      <th>Time</th>\n      <th>BestBestFitness</th>\n      <th>BestBestFitnessDiffFromOpt</th>\n      <th>Iterations</th>\n      <th>Dimensions</th>\n      <th>SwarmSize</th>\n      <th>NumbeInformantsPerParticle</th>\n      <th>α</th>\n      <th>β</th>\n      <th>γ</th>\n      <th>δ</th>\n      <th>e</th>\n      <th>AverageOverRange</th>\n    </tr>\n  </thead>\n  <tbody>\n    <tr>\n      <th>0</th>\n      <td>10</td>\n      <td>F2</td>\n      <td>-450.0</td>\n      <td>1349.277489</td>\n      <td>1799.277489</td>\n      <td>0.785878</td>\n      <td>51.426083</td>\n      <td>501.426083</td>\n      <td>250</td>\n      <td>10</td>\n      <td>100</td>\n      <td>6</td>\n      <td>0.4</td>\n      <td>0.6</td>\n      <td>0.6</td>\n      <td>0</td>\n      <td>1</td>\n      <td>5</td>\n    </tr>\n  </tbody>\n</table>\n</div>"
     },
     "execution_count": 84,
     "metadata": {},
     "output_type": "execute_result"
    }
   ],
   "source": [
    "df_F2[df_F2.AverageBestFitnessDiffFromOpt == df_F2.AverageBestFitnessDiffFromOpt.min()]"
   ],
   "metadata": {
    "collapsed": false
   }
  },
  {
   "cell_type": "markdown",
   "source": [
    "# F4\n",
    "\n",
    "- Best Diff: 1124.51 -> 250 iterations / 10 Dimension / 100 swarm size / 6 informants per particle / α 0.4 / β 0.6 / γ 0.6 / δ 0 / e 1\n",
    "    - Error: 1124.51 / 450 ->  249.89%\n",
    "    - Time: 1.55\n",
    "- Avr. Diff: 2850.7 -> 500 iterations / 10 Dimension / 100 swarm size / 6 informants per particle / α 0.4 / β 0.6 / γ 0.6 / δ 0 / e 1\n",
    "    - Error: 2850.7 / 450 ->  633.49%\n",
    "    - Time: 1.65"
   ],
   "metadata": {
    "collapsed": false
   }
  },
  {
   "cell_type": "code",
   "execution_count": 85,
   "outputs": [
    {
     "data": {
      "text/plain": "   Dimension TestFunction  OptimalMinimum  AverageBestFitness  \\\n9         10           F4          -450.0         3318.031928   \n\n   AverageBestFitnessDiffFromOpt      Time  BestBestFitness  \\\n9                    3768.031928  1.549669       674.513647   \n\n   BestBestFitnessDiffFromOpt  Iterations  Dimensions  SwarmSize  \\\n9                 1124.513647         250          10        100   \n\n   NumbeInformantsPerParticle    α    β    γ  δ  e  AverageOverRange  \n9                           6  0.4  0.6  0.6  0  1                 5  ",
      "text/html": "<div>\n<style scoped>\n    .dataframe tbody tr th:only-of-type {\n        vertical-align: middle;\n    }\n\n    .dataframe tbody tr th {\n        vertical-align: top;\n    }\n\n    .dataframe thead th {\n        text-align: right;\n    }\n</style>\n<table border=\"1\" class=\"dataframe\">\n  <thead>\n    <tr style=\"text-align: right;\">\n      <th></th>\n      <th>Dimension</th>\n      <th>TestFunction</th>\n      <th>OptimalMinimum</th>\n      <th>AverageBestFitness</th>\n      <th>AverageBestFitnessDiffFromOpt</th>\n      <th>Time</th>\n      <th>BestBestFitness</th>\n      <th>BestBestFitnessDiffFromOpt</th>\n      <th>Iterations</th>\n      <th>Dimensions</th>\n      <th>SwarmSize</th>\n      <th>NumbeInformantsPerParticle</th>\n      <th>α</th>\n      <th>β</th>\n      <th>γ</th>\n      <th>δ</th>\n      <th>e</th>\n      <th>AverageOverRange</th>\n    </tr>\n  </thead>\n  <tbody>\n    <tr>\n      <th>9</th>\n      <td>10</td>\n      <td>F4</td>\n      <td>-450.0</td>\n      <td>3318.031928</td>\n      <td>3768.031928</td>\n      <td>1.549669</td>\n      <td>674.513647</td>\n      <td>1124.513647</td>\n      <td>250</td>\n      <td>10</td>\n      <td>100</td>\n      <td>6</td>\n      <td>0.4</td>\n      <td>0.6</td>\n      <td>0.6</td>\n      <td>0</td>\n      <td>1</td>\n      <td>5</td>\n    </tr>\n  </tbody>\n</table>\n</div>"
     },
     "execution_count": 85,
     "metadata": {},
     "output_type": "execute_result"
    }
   ],
   "source": [
    "df_F4 = dfPSO.query(\"TestFunction == 'F4'\")\n",
    "df_F4[df_F4.BestBestFitnessDiffFromOpt == df_F4.BestBestFitnessDiffFromOpt.min()]"
   ],
   "metadata": {
    "collapsed": false
   }
  },
  {
   "cell_type": "code",
   "execution_count": 86,
   "outputs": [
    {
     "data": {
      "text/plain": "    Dimension TestFunction  OptimalMinimum  AverageBestFitness  \\\n12         10           F4          -450.0         2400.700671   \n\n    AverageBestFitnessDiffFromOpt      Time  BestBestFitness  \\\n12                    2850.700671  1.654915      1585.593229   \n\n    BestBestFitnessDiffFromOpt  Iterations  Dimensions  SwarmSize  \\\n12                 2035.593229         500          10        100   \n\n    NumbeInformantsPerParticle    α    β    γ  δ  e  AverageOverRange  \n12                           6  0.4  0.6  0.6  0  1                 5  ",
      "text/html": "<div>\n<style scoped>\n    .dataframe tbody tr th:only-of-type {\n        vertical-align: middle;\n    }\n\n    .dataframe tbody tr th {\n        vertical-align: top;\n    }\n\n    .dataframe thead th {\n        text-align: right;\n    }\n</style>\n<table border=\"1\" class=\"dataframe\">\n  <thead>\n    <tr style=\"text-align: right;\">\n      <th></th>\n      <th>Dimension</th>\n      <th>TestFunction</th>\n      <th>OptimalMinimum</th>\n      <th>AverageBestFitness</th>\n      <th>AverageBestFitnessDiffFromOpt</th>\n      <th>Time</th>\n      <th>BestBestFitness</th>\n      <th>BestBestFitnessDiffFromOpt</th>\n      <th>Iterations</th>\n      <th>Dimensions</th>\n      <th>SwarmSize</th>\n      <th>NumbeInformantsPerParticle</th>\n      <th>α</th>\n      <th>β</th>\n      <th>γ</th>\n      <th>δ</th>\n      <th>e</th>\n      <th>AverageOverRange</th>\n    </tr>\n  </thead>\n  <tbody>\n    <tr>\n      <th>12</th>\n      <td>10</td>\n      <td>F4</td>\n      <td>-450.0</td>\n      <td>2400.700671</td>\n      <td>2850.700671</td>\n      <td>1.654915</td>\n      <td>1585.593229</td>\n      <td>2035.593229</td>\n      <td>500</td>\n      <td>10</td>\n      <td>100</td>\n      <td>6</td>\n      <td>0.4</td>\n      <td>0.6</td>\n      <td>0.6</td>\n      <td>0</td>\n      <td>1</td>\n      <td>5</td>\n    </tr>\n  </tbody>\n</table>\n</div>"
     },
     "execution_count": 86,
     "metadata": {},
     "output_type": "execute_result"
    }
   ],
   "source": [
    "df_F4[df_F4.AverageBestFitnessDiffFromOpt == df_F4.AverageBestFitnessDiffFromOpt.min()]"
   ],
   "metadata": {
    "collapsed": false
   }
  },
  {
   "cell_type": "markdown",
   "source": [
    "# F8\n",
    "- Best Diff: 20.11 -> 250 iterations / 10 Dimension / 100 swarm size / 6 informants per particle / α 0.4 / β 0.6 / γ 0.6 / δ 0 / e 1\n",
    "    - Error: 20.11 / 140 ->  14.36%\n",
    "    - Time: 1.024\n",
    "- Avr. Diff: 20.58 -> 1000 iterations / 10 Dimension / 100 swarm size / 6 informants per particle / α 0.4 / β 0.6 / γ 0.6 / δ 0 / e 1\n",
    "    - Error: 20.58 / 140 ->  14.7%\n",
    "    - Time: 3.9"
   ],
   "metadata": {
    "collapsed": false
   }
  },
  {
   "cell_type": "code",
   "execution_count": 87,
   "outputs": [
    {
     "data": {
      "text/plain": "    Dimension TestFunction  OptimalMinimum  AverageBestFitness  \\\n18         10           F8          -140.0         -119.240789   \n\n    AverageBestFitnessDiffFromOpt      Time  BestBestFitness  \\\n18                      20.759211  1.024208      -119.888388   \n\n    BestBestFitnessDiffFromOpt  Iterations  Dimensions  SwarmSize  \\\n18                   20.111612         250          10        100   \n\n    NumbeInformantsPerParticle    α    β    γ  δ  e  AverageOverRange  \n18                           6  0.4  0.6  0.6  0  1                 5  ",
      "text/html": "<div>\n<style scoped>\n    .dataframe tbody tr th:only-of-type {\n        vertical-align: middle;\n    }\n\n    .dataframe tbody tr th {\n        vertical-align: top;\n    }\n\n    .dataframe thead th {\n        text-align: right;\n    }\n</style>\n<table border=\"1\" class=\"dataframe\">\n  <thead>\n    <tr style=\"text-align: right;\">\n      <th></th>\n      <th>Dimension</th>\n      <th>TestFunction</th>\n      <th>OptimalMinimum</th>\n      <th>AverageBestFitness</th>\n      <th>AverageBestFitnessDiffFromOpt</th>\n      <th>Time</th>\n      <th>BestBestFitness</th>\n      <th>BestBestFitnessDiffFromOpt</th>\n      <th>Iterations</th>\n      <th>Dimensions</th>\n      <th>SwarmSize</th>\n      <th>NumbeInformantsPerParticle</th>\n      <th>α</th>\n      <th>β</th>\n      <th>γ</th>\n      <th>δ</th>\n      <th>e</th>\n      <th>AverageOverRange</th>\n    </tr>\n  </thead>\n  <tbody>\n    <tr>\n      <th>18</th>\n      <td>10</td>\n      <td>F8</td>\n      <td>-140.0</td>\n      <td>-119.240789</td>\n      <td>20.759211</td>\n      <td>1.024208</td>\n      <td>-119.888388</td>\n      <td>20.111612</td>\n      <td>250</td>\n      <td>10</td>\n      <td>100</td>\n      <td>6</td>\n      <td>0.4</td>\n      <td>0.6</td>\n      <td>0.6</td>\n      <td>0</td>\n      <td>1</td>\n      <td>5</td>\n    </tr>\n  </tbody>\n</table>\n</div>"
     },
     "execution_count": 87,
     "metadata": {},
     "output_type": "execute_result"
    }
   ],
   "source": [
    "df_F8 = dfPSO.query(\"TestFunction == 'F8'\")\n",
    "df_F8[df_F8.BestBestFitnessDiffFromOpt == df_F8.BestBestFitnessDiffFromOpt.min()]"
   ],
   "metadata": {
    "collapsed": false
   }
  },
  {
   "cell_type": "code",
   "execution_count": 88,
   "outputs": [
    {
     "data": {
      "text/plain": "    Dimension TestFunction  OptimalMinimum  AverageBestFitness  \\\n24         10           F8          -140.0         -119.414019   \n\n    AverageBestFitnessDiffFromOpt      Time  BestBestFitness  \\\n24                      20.585981  3.913751      -119.771211   \n\n    BestBestFitnessDiffFromOpt  Iterations  Dimensions  SwarmSize  \\\n24                   20.228789        1000          10        100   \n\n    NumbeInformantsPerParticle    α    β    γ  δ  e  AverageOverRange  \n24                           6  0.4  0.6  0.6  0  1                 5  ",
      "text/html": "<div>\n<style scoped>\n    .dataframe tbody tr th:only-of-type {\n        vertical-align: middle;\n    }\n\n    .dataframe tbody tr th {\n        vertical-align: top;\n    }\n\n    .dataframe thead th {\n        text-align: right;\n    }\n</style>\n<table border=\"1\" class=\"dataframe\">\n  <thead>\n    <tr style=\"text-align: right;\">\n      <th></th>\n      <th>Dimension</th>\n      <th>TestFunction</th>\n      <th>OptimalMinimum</th>\n      <th>AverageBestFitness</th>\n      <th>AverageBestFitnessDiffFromOpt</th>\n      <th>Time</th>\n      <th>BestBestFitness</th>\n      <th>BestBestFitnessDiffFromOpt</th>\n      <th>Iterations</th>\n      <th>Dimensions</th>\n      <th>SwarmSize</th>\n      <th>NumbeInformantsPerParticle</th>\n      <th>α</th>\n      <th>β</th>\n      <th>γ</th>\n      <th>δ</th>\n      <th>e</th>\n      <th>AverageOverRange</th>\n    </tr>\n  </thead>\n  <tbody>\n    <tr>\n      <th>24</th>\n      <td>10</td>\n      <td>F8</td>\n      <td>-140.0</td>\n      <td>-119.414019</td>\n      <td>20.585981</td>\n      <td>3.913751</td>\n      <td>-119.771211</td>\n      <td>20.228789</td>\n      <td>1000</td>\n      <td>10</td>\n      <td>100</td>\n      <td>6</td>\n      <td>0.4</td>\n      <td>0.6</td>\n      <td>0.6</td>\n      <td>0</td>\n      <td>1</td>\n      <td>5</td>\n    </tr>\n  </tbody>\n</table>\n</div>"
     },
     "execution_count": 88,
     "metadata": {},
     "output_type": "execute_result"
    }
   ],
   "source": [
    "df_F8[df_F8.AverageBestFitnessDiffFromOpt == df_F8.AverageBestFitnessDiffFromOpt.min()]"
   ],
   "metadata": {
    "collapsed": false
   }
  },
  {
   "cell_type": "markdown",
   "source": [
    "# F13\n",
    "- Best Diff: 0.49 -> 250 iterations / 10 Dimension / 100 swarm size / 6 informants per particle / α 0.4 / β 0.6 / γ 0.6 / δ 0 / e 1\n",
    "    - Error: 0.49 / 130 ->  0.38%\n",
    "    - Time : 1.2\n",
    "- Avr. Diff: 1.23 -> 250 iterations / 10 Dimension / 100 swarm size / 6 informants per particle / α 0.4 / β 0.6 / γ 0.6 / δ 0 / e 1\n",
    "    - Error: 1.23 / 130 ->  0.95%\n",
    "    - Time : 1.2"
   ],
   "metadata": {
    "collapsed": false
   }
  },
  {
   "cell_type": "code",
   "execution_count": 89,
   "outputs": [
    {
     "data": {
      "text/plain": "    Dimension TestFunction  OptimalMinimum  AverageBestFitness  \\\n27         10          F13          -130.0         -128.767771   \n\n    AverageBestFitnessDiffFromOpt      Time  BestBestFitness  \\\n27                       1.232229  1.202112      -129.507476   \n\n    BestBestFitnessDiffFromOpt  Iterations  Dimensions  SwarmSize  \\\n27                    0.492524         250          10        100   \n\n    NumbeInformantsPerParticle    α    β    γ  δ  e  AverageOverRange  \n27                           6  0.4  0.6  0.6  0  1                 5  ",
      "text/html": "<div>\n<style scoped>\n    .dataframe tbody tr th:only-of-type {\n        vertical-align: middle;\n    }\n\n    .dataframe tbody tr th {\n        vertical-align: top;\n    }\n\n    .dataframe thead th {\n        text-align: right;\n    }\n</style>\n<table border=\"1\" class=\"dataframe\">\n  <thead>\n    <tr style=\"text-align: right;\">\n      <th></th>\n      <th>Dimension</th>\n      <th>TestFunction</th>\n      <th>OptimalMinimum</th>\n      <th>AverageBestFitness</th>\n      <th>AverageBestFitnessDiffFromOpt</th>\n      <th>Time</th>\n      <th>BestBestFitness</th>\n      <th>BestBestFitnessDiffFromOpt</th>\n      <th>Iterations</th>\n      <th>Dimensions</th>\n      <th>SwarmSize</th>\n      <th>NumbeInformantsPerParticle</th>\n      <th>α</th>\n      <th>β</th>\n      <th>γ</th>\n      <th>δ</th>\n      <th>e</th>\n      <th>AverageOverRange</th>\n    </tr>\n  </thead>\n  <tbody>\n    <tr>\n      <th>27</th>\n      <td>10</td>\n      <td>F13</td>\n      <td>-130.0</td>\n      <td>-128.767771</td>\n      <td>1.232229</td>\n      <td>1.202112</td>\n      <td>-129.507476</td>\n      <td>0.492524</td>\n      <td>250</td>\n      <td>10</td>\n      <td>100</td>\n      <td>6</td>\n      <td>0.4</td>\n      <td>0.6</td>\n      <td>0.6</td>\n      <td>0</td>\n      <td>1</td>\n      <td>5</td>\n    </tr>\n  </tbody>\n</table>\n</div>"
     },
     "execution_count": 89,
     "metadata": {},
     "output_type": "execute_result"
    }
   ],
   "source": [
    "df_F13 = dfPSO.query(\"TestFunction == 'F13'\")\n",
    "df_F13[df_F13.BestBestFitnessDiffFromOpt == df_F13.BestBestFitnessDiffFromOpt.min()]"
   ],
   "metadata": {
    "collapsed": false
   }
  },
  {
   "cell_type": "code",
   "execution_count": 90,
   "outputs": [
    {
     "data": {
      "text/plain": "    Dimension TestFunction  OptimalMinimum  AverageBestFitness  \\\n27         10          F13          -130.0         -128.767771   \n\n    AverageBestFitnessDiffFromOpt      Time  BestBestFitness  \\\n27                       1.232229  1.202112      -129.507476   \n\n    BestBestFitnessDiffFromOpt  Iterations  Dimensions  SwarmSize  \\\n27                    0.492524         250          10        100   \n\n    NumbeInformantsPerParticle    α    β    γ  δ  e  AverageOverRange  \n27                           6  0.4  0.6  0.6  0  1                 5  ",
      "text/html": "<div>\n<style scoped>\n    .dataframe tbody tr th:only-of-type {\n        vertical-align: middle;\n    }\n\n    .dataframe tbody tr th {\n        vertical-align: top;\n    }\n\n    .dataframe thead th {\n        text-align: right;\n    }\n</style>\n<table border=\"1\" class=\"dataframe\">\n  <thead>\n    <tr style=\"text-align: right;\">\n      <th></th>\n      <th>Dimension</th>\n      <th>TestFunction</th>\n      <th>OptimalMinimum</th>\n      <th>AverageBestFitness</th>\n      <th>AverageBestFitnessDiffFromOpt</th>\n      <th>Time</th>\n      <th>BestBestFitness</th>\n      <th>BestBestFitnessDiffFromOpt</th>\n      <th>Iterations</th>\n      <th>Dimensions</th>\n      <th>SwarmSize</th>\n      <th>NumbeInformantsPerParticle</th>\n      <th>α</th>\n      <th>β</th>\n      <th>γ</th>\n      <th>δ</th>\n      <th>e</th>\n      <th>AverageOverRange</th>\n    </tr>\n  </thead>\n  <tbody>\n    <tr>\n      <th>27</th>\n      <td>10</td>\n      <td>F13</td>\n      <td>-130.0</td>\n      <td>-128.767771</td>\n      <td>1.232229</td>\n      <td>1.202112</td>\n      <td>-129.507476</td>\n      <td>0.492524</td>\n      <td>250</td>\n      <td>10</td>\n      <td>100</td>\n      <td>6</td>\n      <td>0.4</td>\n      <td>0.6</td>\n      <td>0.6</td>\n      <td>0</td>\n      <td>1</td>\n      <td>5</td>\n    </tr>\n  </tbody>\n</table>\n</div>"
     },
     "execution_count": 90,
     "metadata": {},
     "output_type": "execute_result"
    }
   ],
   "source": [
    "df_F13[df_F13.AverageBestFitnessDiffFromOpt == df_F13.AverageBestFitnessDiffFromOpt.min()]"
   ],
   "metadata": {
    "collapsed": false
   }
  },
  {
   "cell_type": "markdown",
   "source": [
    "# F17\n",
    "- Best Diff: 123.92 -> 500 iterations / 10 Dimension / 100 swarm size / 6 informants per particle / α 0.4 / β 0.6 / γ 0.6 / δ 0 / e 1\n",
    "    - Error: 123.92 / 120 ->  103.27%\n",
    "    - Time: 39.34\n",
    "- Avr. Diff: 156.31 -> 1000 iterations / 10 Dimension / 100 swarm size / 6 informants per particle / α 0.4 / β 0.6 / γ 0.6 / δ 0 / e 1\n",
    "    - Error: 156.31 / 120 ->  130.26%\n",
    "    - Time: 57.33"
   ],
   "metadata": {
    "collapsed": false
   }
  },
  {
   "cell_type": "code",
   "execution_count": 91,
   "outputs": [
    {
     "data": {
      "text/plain": "    Dimension TestFunction  OptimalMinimum  AverageBestFitness  \\\n39         10          F17           120.0          284.870831   \n\n    AverageBestFitnessDiffFromOpt       Time  BestBestFitness  \\\n39                     164.870831  39.344609       243.922072   \n\n    BestBestFitnessDiffFromOpt  Iterations  Dimensions  SwarmSize  \\\n39                  123.922072         500          10        100   \n\n    NumbeInformantsPerParticle    α    β    γ  δ  e  AverageOverRange  \n39                           6  0.4  0.6  0.6  0  1                 5  ",
      "text/html": "<div>\n<style scoped>\n    .dataframe tbody tr th:only-of-type {\n        vertical-align: middle;\n    }\n\n    .dataframe tbody tr th {\n        vertical-align: top;\n    }\n\n    .dataframe thead th {\n        text-align: right;\n    }\n</style>\n<table border=\"1\" class=\"dataframe\">\n  <thead>\n    <tr style=\"text-align: right;\">\n      <th></th>\n      <th>Dimension</th>\n      <th>TestFunction</th>\n      <th>OptimalMinimum</th>\n      <th>AverageBestFitness</th>\n      <th>AverageBestFitnessDiffFromOpt</th>\n      <th>Time</th>\n      <th>BestBestFitness</th>\n      <th>BestBestFitnessDiffFromOpt</th>\n      <th>Iterations</th>\n      <th>Dimensions</th>\n      <th>SwarmSize</th>\n      <th>NumbeInformantsPerParticle</th>\n      <th>α</th>\n      <th>β</th>\n      <th>γ</th>\n      <th>δ</th>\n      <th>e</th>\n      <th>AverageOverRange</th>\n    </tr>\n  </thead>\n  <tbody>\n    <tr>\n      <th>39</th>\n      <td>10</td>\n      <td>F17</td>\n      <td>120.0</td>\n      <td>284.870831</td>\n      <td>164.870831</td>\n      <td>39.344609</td>\n      <td>243.922072</td>\n      <td>123.922072</td>\n      <td>500</td>\n      <td>10</td>\n      <td>100</td>\n      <td>6</td>\n      <td>0.4</td>\n      <td>0.6</td>\n      <td>0.6</td>\n      <td>0</td>\n      <td>1</td>\n      <td>5</td>\n    </tr>\n  </tbody>\n</table>\n</div>"
     },
     "execution_count": 91,
     "metadata": {},
     "output_type": "execute_result"
    }
   ],
   "source": [
    "df_F17 = dfPSO.query(\"TestFunction == 'F17'\")\n",
    "df_F17[df_F17.BestBestFitnessDiffFromOpt == df_F17.BestBestFitnessDiffFromOpt.min()]"
   ],
   "metadata": {
    "collapsed": false
   }
  },
  {
   "cell_type": "code",
   "execution_count": 92,
   "outputs": [
    {
     "data": {
      "text/plain": "    Dimension TestFunction  OptimalMinimum  AverageBestFitness  \\\n42         10          F17           120.0          276.310133   \n\n    AverageBestFitnessDiffFromOpt       Time  BestBestFitness  \\\n42                     156.310133  57.330861       246.529259   \n\n    BestBestFitnessDiffFromOpt  Iterations  Dimensions  SwarmSize  \\\n42                  126.529259        1000          10        100   \n\n    NumbeInformantsPerParticle    α    β    γ  δ  e  AverageOverRange  \n42                           6  0.4  0.6  0.6  0  1                 5  ",
      "text/html": "<div>\n<style scoped>\n    .dataframe tbody tr th:only-of-type {\n        vertical-align: middle;\n    }\n\n    .dataframe tbody tr th {\n        vertical-align: top;\n    }\n\n    .dataframe thead th {\n        text-align: right;\n    }\n</style>\n<table border=\"1\" class=\"dataframe\">\n  <thead>\n    <tr style=\"text-align: right;\">\n      <th></th>\n      <th>Dimension</th>\n      <th>TestFunction</th>\n      <th>OptimalMinimum</th>\n      <th>AverageBestFitness</th>\n      <th>AverageBestFitnessDiffFromOpt</th>\n      <th>Time</th>\n      <th>BestBestFitness</th>\n      <th>BestBestFitnessDiffFromOpt</th>\n      <th>Iterations</th>\n      <th>Dimensions</th>\n      <th>SwarmSize</th>\n      <th>NumbeInformantsPerParticle</th>\n      <th>α</th>\n      <th>β</th>\n      <th>γ</th>\n      <th>δ</th>\n      <th>e</th>\n      <th>AverageOverRange</th>\n    </tr>\n  </thead>\n  <tbody>\n    <tr>\n      <th>42</th>\n      <td>10</td>\n      <td>F17</td>\n      <td>120.0</td>\n      <td>276.310133</td>\n      <td>156.310133</td>\n      <td>57.330861</td>\n      <td>246.529259</td>\n      <td>126.529259</td>\n      <td>1000</td>\n      <td>10</td>\n      <td>100</td>\n      <td>6</td>\n      <td>0.4</td>\n      <td>0.6</td>\n      <td>0.6</td>\n      <td>0</td>\n      <td>1</td>\n      <td>5</td>\n    </tr>\n  </tbody>\n</table>\n</div>"
     },
     "execution_count": 92,
     "metadata": {},
     "output_type": "execute_result"
    }
   ],
   "source": [
    "df_F17[df_F17.AverageBestFitnessDiffFromOpt == df_F17.AverageBestFitnessDiffFromOpt.min()]"
   ],
   "metadata": {
    "collapsed": false
   }
  },
  {
   "cell_type": "markdown",
   "source": [
    "# F24\n",
    "- Best Diff: 210.92 -> 250 iterations / 10 Dimension / 100 swarm size / 6 informants per particle / α 0.4 / β 0.6 / γ 0.6 / δ 0 / e 1\n",
    "    - Error: 210.92 / 260 ->  81.12%\n",
    "    - Time: 12.31\n",
    "- Avr. Diff: 702.76 -> 250 iterations / 10 Dimension / 100 swarm size / 6 informants per particle / α 0.4 / β 0.6 / γ 0.6 / δ 0 / e 1\n",
    "    - Error: 702.76 / 260 ->  27O.29%\n",
    "    - Time: 12.31"
   ],
   "metadata": {
    "collapsed": false
   }
  },
  {
   "cell_type": "code",
   "execution_count": 93,
   "outputs": [
    {
     "data": {
      "text/plain": "    Dimension TestFunction  OptimalMinimum  AverageBestFitness  \\\n45         10          F24           260.0          962.758387   \n\n    AverageBestFitnessDiffFromOpt     Time  BestBestFitness  \\\n45                     702.758387  12.3066       470.919152   \n\n    BestBestFitnessDiffFromOpt  Iterations  Dimensions  SwarmSize  \\\n45                  210.919152         250          10        100   \n\n    NumbeInformantsPerParticle    α    β    γ  δ  e  AverageOverRange  \n45                           6  0.4  0.6  0.6  0  1                 5  ",
      "text/html": "<div>\n<style scoped>\n    .dataframe tbody tr th:only-of-type {\n        vertical-align: middle;\n    }\n\n    .dataframe tbody tr th {\n        vertical-align: top;\n    }\n\n    .dataframe thead th {\n        text-align: right;\n    }\n</style>\n<table border=\"1\" class=\"dataframe\">\n  <thead>\n    <tr style=\"text-align: right;\">\n      <th></th>\n      <th>Dimension</th>\n      <th>TestFunction</th>\n      <th>OptimalMinimum</th>\n      <th>AverageBestFitness</th>\n      <th>AverageBestFitnessDiffFromOpt</th>\n      <th>Time</th>\n      <th>BestBestFitness</th>\n      <th>BestBestFitnessDiffFromOpt</th>\n      <th>Iterations</th>\n      <th>Dimensions</th>\n      <th>SwarmSize</th>\n      <th>NumbeInformantsPerParticle</th>\n      <th>α</th>\n      <th>β</th>\n      <th>γ</th>\n      <th>δ</th>\n      <th>e</th>\n      <th>AverageOverRange</th>\n    </tr>\n  </thead>\n  <tbody>\n    <tr>\n      <th>45</th>\n      <td>10</td>\n      <td>F24</td>\n      <td>260.0</td>\n      <td>962.758387</td>\n      <td>702.758387</td>\n      <td>12.3066</td>\n      <td>470.919152</td>\n      <td>210.919152</td>\n      <td>250</td>\n      <td>10</td>\n      <td>100</td>\n      <td>6</td>\n      <td>0.4</td>\n      <td>0.6</td>\n      <td>0.6</td>\n      <td>0</td>\n      <td>1</td>\n      <td>5</td>\n    </tr>\n  </tbody>\n</table>\n</div>"
     },
     "execution_count": 93,
     "metadata": {},
     "output_type": "execute_result"
    }
   ],
   "source": [
    "df_F24 = dfPSO.query(\"TestFunction == 'F24'\")\n",
    "df_F24[df_F24.BestBestFitnessDiffFromOpt == df_F24.BestBestFitnessDiffFromOpt.min()]"
   ],
   "metadata": {
    "collapsed": false
   }
  },
  {
   "cell_type": "code",
   "execution_count": 94,
   "outputs": [
    {
     "data": {
      "text/plain": "    Dimension TestFunction  OptimalMinimum  AverageBestFitness  \\\n45         10          F24           260.0          962.758387   \n\n    AverageBestFitnessDiffFromOpt     Time  BestBestFitness  \\\n45                     702.758387  12.3066       470.919152   \n\n    BestBestFitnessDiffFromOpt  Iterations  Dimensions  SwarmSize  \\\n45                  210.919152         250          10        100   \n\n    NumbeInformantsPerParticle    α    β    γ  δ  e  AverageOverRange  \n45                           6  0.4  0.6  0.6  0  1                 5  ",
      "text/html": "<div>\n<style scoped>\n    .dataframe tbody tr th:only-of-type {\n        vertical-align: middle;\n    }\n\n    .dataframe tbody tr th {\n        vertical-align: top;\n    }\n\n    .dataframe thead th {\n        text-align: right;\n    }\n</style>\n<table border=\"1\" class=\"dataframe\">\n  <thead>\n    <tr style=\"text-align: right;\">\n      <th></th>\n      <th>Dimension</th>\n      <th>TestFunction</th>\n      <th>OptimalMinimum</th>\n      <th>AverageBestFitness</th>\n      <th>AverageBestFitnessDiffFromOpt</th>\n      <th>Time</th>\n      <th>BestBestFitness</th>\n      <th>BestBestFitnessDiffFromOpt</th>\n      <th>Iterations</th>\n      <th>Dimensions</th>\n      <th>SwarmSize</th>\n      <th>NumbeInformantsPerParticle</th>\n      <th>α</th>\n      <th>β</th>\n      <th>γ</th>\n      <th>δ</th>\n      <th>e</th>\n      <th>AverageOverRange</th>\n    </tr>\n  </thead>\n  <tbody>\n    <tr>\n      <th>45</th>\n      <td>10</td>\n      <td>F24</td>\n      <td>260.0</td>\n      <td>962.758387</td>\n      <td>702.758387</td>\n      <td>12.3066</td>\n      <td>470.919152</td>\n      <td>210.919152</td>\n      <td>250</td>\n      <td>10</td>\n      <td>100</td>\n      <td>6</td>\n      <td>0.4</td>\n      <td>0.6</td>\n      <td>0.6</td>\n      <td>0</td>\n      <td>1</td>\n      <td>5</td>\n    </tr>\n  </tbody>\n</table>\n</div>"
     },
     "execution_count": 94,
     "metadata": {},
     "output_type": "execute_result"
    }
   ],
   "source": [
    "df_F24[df_F24.AverageBestFitnessDiffFromOpt == df_F24.AverageBestFitnessDiffFromOpt.min()]"
   ],
   "metadata": {
    "collapsed": false
   }
  },
  {
   "cell_type": "markdown",
   "source": [
    "# Conclusion\n",
    "\n",
    "Augmenting the number of iterations seems to improve in some case the average difference from the optimal solution but the best individual solution seems to be found when running fewer iterations. This could be explained by the swarm getting more trapped into local optima when running more iterations.\n",
    "\n",
    "The PSO algorithm seems to be working the best on the F13 problem using those parameters.\n",
    "\n",
    "A ranking would be:\n",
    "   - AverageBestFitnessDiffFromOpt:\n",
    "      - F13: 0.95% time: 1.2\n",
    "      - F8: 14.7%  time: 3.9\n",
    "      - F17: 130.26% time: 57.33\n",
    "      - F24: 270.29% time: 12.31\n",
    "      - F2: 399.84% time: 0.79\n",
    "      - F4: 633.49% time: 1.55\n",
    "\n",
    "\n",
    "   - BestBestFitnessDiffFromOpt:\n",
    "      - F13: 0.38% time: 1.2\n",
    "      - F8: 14.36% time: 1.024\n",
    "      - F24: 81.12% time: 39.34\n",
    "      - F17: 103.27% time: 12.31\n",
    "      - F2: 111.4% time: 0.79\n",
    "      - F4: 249.89% time: 1.65\n",
    "\n",
    "Problem F13 and F8 seems to work well with PSO with low error and a fast computation time\n",
    "\n",
    "\n",
    "By analysing only the best results we only see the results on the 10 dimension problems as those are the less complex one, doing more analysis and comparison on the performances of the algorithm on 30 and 50 dimension would be interesting.\n",
    "\n",
    "\n",
    "\n",
    "\n",
    "\n",
    "\n"
   ],
   "metadata": {
    "collapsed": false
   }
  }
 ],
 "metadata": {
  "kernelspec": {
   "display_name": "Python 3",
   "language": "python",
   "name": "python3"
  },
  "language_info": {
   "codemirror_mode": {
    "name": "ipython",
    "version": 2
   },
   "file_extension": ".py",
   "mimetype": "text/x-python",
   "name": "python",
   "nbconvert_exporter": "python",
   "pygments_lexer": "ipython2",
   "version": "2.7.6"
  }
 },
 "nbformat": 4,
 "nbformat_minor": 0
}
