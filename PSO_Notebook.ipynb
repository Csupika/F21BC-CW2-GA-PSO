{
 "cells": [
  {
   "cell_type": "code",
   "execution_count": 27,
   "metadata": {
    "collapsed": true
   },
   "outputs": [],
   "source": [
    "import matplotlib.pyplot as plt\n",
    "\n",
    "import PSO\n",
    "import optproblems.cec2005\n",
    "import math\n",
    "import pandas"
   ]
  },
  {
   "cell_type": "markdown",
   "source": [
    "# Additional test on the 24 functions"
   ],
   "metadata": {
    "collapsed": false
   }
  },
  {
   "cell_type": "markdown",
   "source": [
    "Set AdditionalTest to True if tou want to run those tests.\n",
    "\n",
    "The main function is to check that the PSO algorithm works on every problem of the CEC 2005 benchmarks and have a first look at his performance"
   ],
   "metadata": {
    "collapsed": false
   }
  },
  {
   "cell_type": "code",
   "execution_count": 28,
   "outputs": [],
   "source": [
    "AdditionalTest = False"
   ],
   "metadata": {
    "collapsed": false
   }
  },
  {
   "cell_type": "markdown",
   "source": [
    "Creation of benchmark and bounds lists used"
   ],
   "metadata": {
    "collapsed": false
   }
  },
  {
   "cell_type": "code",
   "execution_count": 29,
   "outputs": [],
   "source": [
    "if AdditionalTest:\n",
    "    DimensionList = [2,10,30,50]\n",
    "    BenchmarkList = []\n",
    "    BoundsList = []\n",
    "    TestProblemList = [optproblems.cec2005.F1,optproblems.cec2005.F2,optproblems.cec2005.F3,optproblems.cec2005.F4,optproblems.cec2005.F5,optproblems.cec2005.F6,optproblems.cec2005.F7,optproblems.cec2005.F8,optproblems.cec2005.F9,optproblems.cec2005.F10,optproblems.cec2005.F11,optproblems.cec2005.F12,optproblems.cec2005.F13,optproblems.cec2005.F14,optproblems.cec2005.F15,optproblems.cec2005.F16,optproblems.cec2005.F17,optproblems.cec2005.F18,optproblems.cec2005.F19,optproblems.cec2005.F20,optproblems.cec2005.F21,optproblems.cec2005.F22,optproblems.cec2005.F23,optproblems.cec2005.F24,optproblems.cec2005.F25]\n",
    "\n",
    "    for dimension in DimensionList:\n",
    "        i = 0\n",
    "        for testproblem in TestProblemList:\n",
    "            i += 1\n",
    "            BenchmarkList.append(testproblem)\n",
    "            if(i < 7 or i == 14):\n",
    "                BoundsList.append([-100,100])\n",
    "            elif(i == 7):\n",
    "                BoundsList.append([0, 600])\n",
    "            elif(i == 8):\n",
    "                BoundsList.append([-32, 32])\n",
    "            elif (i == 25):\n",
    "                BoundsList.append([2, 5])\n",
    "            elif(i == 11):\n",
    "                BoundsList.append([-0.5, 0.5])\n",
    "            elif(i == 12):\n",
    "                BoundsList.append([-math.pi,math.pi])\n",
    "            elif(i == 13):\n",
    "                BoundsList.append([-3, 1])\n",
    "            elif(i > 13 or i == 9 or i == 10):\n",
    "                BoundsList.append([-5, 5])"
   ],
   "metadata": {
    "collapsed": false
   }
  },
  {
   "cell_type": "markdown",
   "source": [
    "Setting of the hyperparameters"
   ],
   "metadata": {
    "collapsed": false
   }
  },
  {
   "cell_type": "code",
   "execution_count": 30,
   "outputs": [],
   "source": [
    "if AdditionalTest:\n",
    "    #HyperParameters\n",
    "    swarmsize = 300\n",
    "    α = 0.4 #how much of the original velocity is retained\n",
    "    β = 0.6 #how much of the personal best is mixed in.\n",
    "    γ = 0.6 #how much of the informants’ best is mixed in.\n",
    "    δ = 0 #how much of the global best is mixed in. δ is often set to 0 in modern implementations\n",
    "    e = 1 #e how fast the particle moves. Most commonly, e is set to 1.\n",
    "    numberofiterations = 150\n",
    "    precisionwanted = 0.1\n",
    "    numberofinformantsperparticle = 6 #Most commonly set to 6"
   ],
   "metadata": {
    "collapsed": false
   }
  },
  {
   "cell_type": "markdown",
   "source": [
    "Creation of the PSO alogrithms"
   ],
   "metadata": {
    "collapsed": false
   }
  },
  {
   "cell_type": "code",
   "execution_count": 31,
   "outputs": [],
   "source": [
    "if AdditionalTest:\n",
    "    #Create algorithms\n",
    "\n",
    "    PSOList = []\n",
    "    for i in range(len(BenchmarkList)):\n",
    "        if(i == 6 or i == 24 or i == 31 or i == 49):\n",
    "            bounded = False\n",
    "        else:\n",
    "            bounded = True\n",
    "        if i < 25:\n",
    "            PSOList.append(PSO.PSO(BenchmarkList[i], DimensionList[0], BoundsList[i], bounded,swarmsize, numberofinformantsperparticle, α, β, γ, δ, e))\n",
    "        else:\n",
    "            PSOList.append(PSO.PSO(BenchmarkList[i], DimensionList[1], BoundsList[i], bounded,swarmsize, numberofinformantsperparticle, α, β, γ, δ, e))"
   ],
   "metadata": {
    "collapsed": false
   }
  },
  {
   "cell_type": "markdown",
   "source": [
    "Recording of the results"
   ],
   "metadata": {
    "collapsed": false
   }
  },
  {
   "cell_type": "code",
   "execution_count": 32,
   "outputs": [],
   "source": [
    "if AdditionalTest:\n",
    "    #Try each test function of optproblems.cec2005 with dimension 2 10 and 50 and appropriate bounds\n",
    "    Results = []\n",
    "    Resutlsbool = []\n",
    "    Times = []\n",
    "    for i in PSOList:\n",
    "        result = i.run(numberofiterations, precisionwanted)\n",
    "        Results.append(result[0])\n",
    "        Times.append(result[1])\n",
    "        Resutlsbool.append(result[2])\n",
    "\n",
    "    Percentagesuccess = (sum(Resutlsbool)/len(PSOList))*100\n",
    "    print(\"Configuration: Max number of iterations: \",numberofiterations,\" Precision wanted: \",precisionwanted,\" Swarm size: \",swarmsize,\" Number of informants per particle: \",numberofinformantsperparticle,\" α: \",α,\" β: \",β,\" γ: \",γ,\" δ: \",δ,\" e: \",e)\n",
    "    print(\"Success rate on 24 tests functions for 10 and 30 dimensions: \",Percentagesuccess)"
   ],
   "metadata": {
    "collapsed": false
   }
  },
  {
   "cell_type": "markdown",
   "source": [
    "# Hyperparameter exploration\n",
    "\n",
    "Set Hyperparameter_exploration_swarmsize to True if you want to experiment on swarm size"
   ],
   "metadata": {
    "collapsed": false
   }
  },
  {
   "cell_type": "code",
   "execution_count": 33,
   "outputs": [],
   "source": [
    "Hyperparameter_exploration_swarmsize = False"
   ],
   "metadata": {
    "collapsed": false
   }
  },
  {
   "cell_type": "code",
   "execution_count": 34,
   "outputs": [],
   "source": [
    "if(Hyperparameter_exploration_swarmsize):\n",
    "    SwarmsizeList = [10,25,50,200,500,700,1000,1200]\n",
    "    numberofinformantsperparticle = 6\n",
    "    α = 0.4\n",
    "    β = 0.6\n",
    "    γ = 0.6\n",
    "    δ = 0\n",
    "    e = 1\n",
    "    numberofiterations = 500\n",
    "    precisionwanted = 0.1\n",
    "\n",
    "    ListFitnessResult = []\n",
    "    ListTimeProcess = []\n",
    "    for swarmsize in SwarmsizeList:\n",
    "        print(swarmsize)\n",
    "        F = PSO.PSO(optproblems.cec2005.F17, 10, [-5,5], True, swarmsize, numberofinformantsperparticle, α, β, γ, δ, e)\n",
    "        result = F.run(numberofiterations, precisionwanted)\n",
    "        ListFitnessResult.append(result[0].fitness)\n",
    "        ListTimeProcess.append(result[1])\n",
    "\n",
    "    plt.plot(SwarmsizeList,ListTimeProcess)\n",
    "    plt.plot(SwarmsizeList, ListFitnessResult)\n",
    "    plt.axhline(y=optproblems.cec2005.F17.bias)\n",
    "    plt.legend([\"Process time\", \"Fitness reached\", \"Best fitness for this problem\"], loc =\"lower right\")\n",
    "    plt.title(\"Study of process time and best result, depending on swarm size for PSO, hyperparameters are: Problem: F17, Numberofinformantsperparticle: 6, α: 0.4, β: 0.7, γ: 0.4, δ: 0, e: 1, maxnumberofiterations: 500, precisionwantedtostop: 0.1\")\n",
    "    plt.show()\n",
    "\n",
    "    plt.plot(SwarmsizeList, ListFitnessResult)\n",
    "    plt.axhline(y=optproblems.cec2005.F17.bias)\n",
    "    plt.legend([\"Fitness reached\", \"Best fitness for this problem\"], loc =\"lower right\")\n",
    "    plt.title(\"Study of best result, depending on swarm size for PSO, hyperparameters are: Problem: F17, Numberofinformantsperparticle: 6, α: 0.4, β: 0.7, γ: 0.4, δ: 0, e: 1, maxnumberofiterations: 500, precisionwantedtostop: 0.1\")\n",
    "    plt.show()\n",
    "\n",
    "    plt.plot(SwarmsizeList,ListTimeProcess)\n",
    "    plt.title(\"Study of process time , depending on swarm size for PSO, hyperparameters are: Problem: F17, Numberofinformantsperparticle: 6, α: 0.4, β: 0.7, γ: 0.4, δ: 0, e: 1, maxnumberofiterations: 500, precisionwantedtostop: 0.1\")\n",
    "    plt.show()\n"
   ],
   "metadata": {
    "collapsed": false
   }
  },
  {
   "cell_type": "markdown",
   "source": [
    "Conclusion: Augmenting the swarmsize over 500 doenst improve the result or only slightly while augmenting process time"
   ],
   "metadata": {
    "collapsed": false
   }
  },
  {
   "cell_type": "markdown",
   "source": [
    "Set Hyperparameter_exploration_inertia to True if you want to experiment on inertia hyperparameters"
   ],
   "metadata": {
    "collapsed": false
   }
  },
  {
   "cell_type": "code",
   "execution_count": 35,
   "outputs": [],
   "source": [
    "Hyperparameter_exploration_inertia = False"
   ],
   "metadata": {
    "collapsed": false
   }
  },
  {
   "cell_type": "code",
   "execution_count": 36,
   "outputs": [],
   "source": [
    "if(Hyperparameter_exploration_inertia):\n",
    "    swarmsize = 500\n",
    "    numberofinformantsperparticle = 6\n",
    "    αList = [0.2,0.4,0.5,0.6]\n",
    "    βList = [0.4,0.5,0.6,0.8]\n",
    "    γList = [0.4,0.5,0.6,0.8]\n",
    "    δ = 0.0\n",
    "    e = 1\n",
    "    numberofiterations = 200\n",
    "    precisionwanted = 0.1\n",
    "\n",
    "    Initialise = True\n",
    "    NumberIteration=0.0\n",
    "    for α in αList:\n",
    "        for β in βList:\n",
    "            for γ in γList:\n",
    "                fitness = 0.0\n",
    "                for i in range(5):\n",
    "                    NumberIteration+=1.0\n",
    "                    F = PSO.PSO(optproblems.cec2005.F17, 10, [-5,5], True, swarmsize, numberofinformantsperparticle, α, β, γ, δ, e)\n",
    "                    result = F.run(numberofiterations, precisionwanted)\n",
    "                    fitness += result[0].fitness\n",
    "                fitness = fitness/5.0\n",
    "                if(Initialise):\n",
    "                    Initialise = False\n",
    "                    bestfitness = fitness\n",
    "                elif(bestfitness > fitness):\n",
    "                    bestfitness = fitness\n",
    "                    bestconfig = [α, β, γ]\n",
    "                print(f\"Progress: {(NumberIteration/320.0)*100.0}%\")\n",
    "\n",
    "    print(\"Best config parameter α: \",bestconfig[0],\" β: \",bestconfig[1],\" γ: \",bestconfig[2])"
   ],
   "metadata": {
    "collapsed": false
   }
  },
  {
   "cell_type": "markdown",
   "source": [
    "Best config parameter found: α:  0.4  β:  0.6  γ:  0.6"
   ],
   "metadata": {
    "collapsed": false
   }
  },
  {
   "cell_type": "markdown",
   "source": [
    "# Final test for comparison\n",
    "\n",
    " Set Write to True only if you dont have a dfPSO.pkl file"
   ],
   "metadata": {
    "collapsed": false
   }
  },
  {
   "cell_type": "code",
   "execution_count": 37,
   "outputs": [],
   "source": [
    "Write = True"
   ],
   "metadata": {
    "collapsed": false
   }
  },
  {
   "cell_type": "code",
   "execution_count": null,
   "outputs": [
    {
     "name": "stdout",
     "output_type": "stream",
     "text": [
      "\t\tFunction: F2\n",
      "\t\tIterations: 250\n",
      "\t\tDimension: 10\n",
      "Progress: 0.3703703703703704%\n",
      "Progress: 0.7407407407407408%\n",
      "Progress: 1.1111111111111112%\n",
      "Progress: 1.4814814814814816%\n",
      "Progress: 1.8518518518518516%\n",
      "\t\tDimension: 30\n",
      "Progress: 2.2222222222222223%\n",
      "Progress: 2.5925925925925926%\n",
      "Progress: 2.9629629629629632%\n",
      "Progress: 3.3333333333333335%\n",
      "Progress: 3.7037037037037033%\n",
      "\t\tDimension: 50\n",
      "Progress: 4.074074074074074%\n",
      "Progress: 4.444444444444445%\n",
      "Progress: 4.814814814814815%\n",
      "Progress: 5.185185185185185%\n",
      "Progress: 5.555555555555555%\n",
      "\t\tIterations: 500\n",
      "\t\tDimension: 10\n",
      "Progress: 5.9259259259259265%\n",
      "Progress: 6.296296296296296%\n",
      "Progress: 6.666666666666667%\n"
     ]
    }
   ],
   "source": [
    "#Swarm size as been lmited to 350 to reduce computation time\n",
    "swarmsize = 350\n",
    "numberofinformantsperparticle = 6\n",
    "α = 0.4\n",
    "β = 0.6\n",
    "γ = 0.6\n",
    "δ = 0\n",
    "e = 1\n",
    "numberofiterationsList = [250,500,1000]\n",
    "DimensionList = [10,30,50]\n",
    "precisionwanted = 0.1\n",
    "benchmarks_and_bounds = [[optproblems.cec2005.F2, [-100,100],\"F2\"], [optproblems.cec2005.F4,[-100,100],\"F4\"], [optproblems.cec2005.F8, [-32,32],\"F8\"], [ optproblems.cec2005.F13, [-3,1],\"F13\"], [optproblems.cec2005.F17, [-5,5],\"F17\"], [optproblems.cec2005.F24, [-5,5],\"F24\"]]\n",
    "AverageOverRange = 5\n",
    "\n",
    "list_for_df = []\n",
    "\n",
    "if(Write):\n",
    "    NumberIteration=0.0\n",
    "    for i in range(len(benchmarks_and_bounds)):\n",
    "        print(f\"\\t\\tFunction: {benchmarks_and_bounds[i][2]}\")\n",
    "        for numberofiterations in numberofiterationsList:\n",
    "            print(f\"\\t\\tIterations: {numberofiterations}\")\n",
    "            for dimension in DimensionList:\n",
    "                print(f\"\\t\\tDimension: {dimension}\")\n",
    "                averagefitness = 0\n",
    "                time = 0\n",
    "                for a in range(AverageOverRange):\n",
    "                    NumberIteration+=1.0\n",
    "                    F = PSO.PSO(benchmarks_and_bounds[i][0], dimension, benchmarks_and_bounds[i][1], True, swarmsize, numberofinformantsperparticle, α, β, γ, δ, e)\n",
    "                    result = F.run(numberofiterations, precisionwanted)\n",
    "                    averagefitness += result[0].fitness\n",
    "                    fitness = result[0].fitness\n",
    "                    time += result[1]\n",
    "                    print(f\"Progress: {(NumberIteration/270)*100.0}%\")\n",
    "                    if(a == 0):\n",
    "                        bestfitness = fitness\n",
    "                    elif(fitness<bestfitness):\n",
    "                        bestfitness = fitness\n",
    "                averagefitness = averagefitness/5.0\n",
    "                time = time/5.0\n",
    "                result_and_configuration = [dimension,benchmarks_and_bounds[i][2],benchmarks_and_bounds[i][0].bias,averagefitness,abs(benchmarks_and_bounds[i][0].bias-averagefitness),time,bestfitness,benchmarks_and_bounds[i][0].bias-bestfitness,numberofiterations,dimension,swarmsize,numberofinformantsperparticle,α, β, γ, δ, e,AverageOverRange]\n",
    "                list_for_df.append(result_and_configuration)\n",
    "\n",
    "    labels = [\"Dimension\", \"TestFunction\", \"OptimalMinimum\", \"AverageBestFitness\", \"AverageBestFitnessDiffFromOpt\",\"Time\",\"BestBestFitness\",\"BestBestFitnessDiffFromOpt\", \"Iterations\", \"Dimensions\", \"SwarmSize\", \"NumbeInformantsPerParticle\", \"α\", \"β\", \"γ\", \"δ\", \"e\",\"AverageOverRange\"]\n",
    "    dfPSO = pandas.DataFrame(data=list_for_df, columns=labels)\n",
    "    dfPSO.to_pickle(\"dfPSO.pkl\")\n",
    "\n",
    "else:\n",
    "    dfPSO = pandas.read_pickle('dfPSO.pkl')"
   ],
   "metadata": {
    "collapsed": false,
    "pycharm": {
     "is_executing": true
    }
   }
  },
  {
   "cell_type": "code",
   "execution_count": null,
   "outputs": [],
   "source": [
    "dfPSO"
   ],
   "metadata": {
    "collapsed": false
   }
  }
 ],
 "metadata": {
  "kernelspec": {
   "display_name": "Python 3",
   "language": "python",
   "name": "python3"
  },
  "language_info": {
   "codemirror_mode": {
    "name": "ipython",
    "version": 2
   },
   "file_extension": ".py",
   "mimetype": "text/x-python",
   "name": "python",
   "nbconvert_exporter": "python",
   "pygments_lexer": "ipython2",
   "version": "2.7.6"
  }
 },
 "nbformat": 4,
 "nbformat_minor": 0
}
